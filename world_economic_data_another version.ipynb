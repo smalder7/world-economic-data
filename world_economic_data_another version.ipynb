{
 "cells": [
  {
   "cell_type": "code",
   "execution_count": 1,
   "id": "b5daac78",
   "metadata": {},
   "outputs": [
    {
     "name": "stdout",
     "output_type": "stream",
     "text": [
      "World Economic Data Analysis - Machine Learning Edition\n",
      "============================================================\n"
     ]
    }
   ],
   "source": [
    "# Cell 1\n",
    "import pandas as pd\n",
    "import numpy as np\n",
    "import plotly.express as px\n",
    "import plotly.graph_objects as go\n",
    "from plotly.subplots import make_subplots\n",
    "import plotly.figure_factory as ff\n",
    "from scipy import stats\n",
    "from scipy.spatial.distance import cdist\n",
    "import random\n",
    "import warnings\n",
    "warnings.filterwarnings('ignore')\n",
    "\n",
    "print(\"World Economic Data Analysis - Machine Learning Edition\")\n",
    "print(\"=\" * 60)"
   ]
  },
  {
   "cell_type": "code",
   "execution_count": 2,
   "id": "e6ac42dc",
   "metadata": {},
   "outputs": [
    {
     "name": "stdout",
     "output_type": "stream",
     "text": [
      "Dataset shape: (167, 6)\n",
      "Columns: ['country', 'unemployment_rate', 'tourism_millions', 'gdp_per_capita', 'cost_of_living', 'corruption_index']\n",
      "\n",
      "First few rows:\n",
      "          country  unemployment_rate  tourism_millions  gdp_per_capita  \\\n",
      "0     Afghanistan                NaN               NaN             NaN   \n",
      "1         Albania                NaN               2.7             NaN   \n",
      "2         Algeria                NaN               NaN             NaN   \n",
      "3  American Samoa               29.8               NaN             NaN   \n",
      "4          Angola                NaN               NaN             NaN   \n",
      "\n",
      "   cost_of_living  corruption_index  \n",
      "0             NaN              84.0  \n",
      "1            52.0               NaN  \n",
      "2            29.9              67.0  \n",
      "3             NaN               NaN  \n",
      "4            23.0              71.0  \n",
      "\n",
      "Missing values:\n",
      "country                0\n",
      "unemployment_rate    103\n",
      "tourism_millions     126\n",
      "gdp_per_capita       117\n",
      "cost_of_living        60\n",
      "corruption_index      57\n",
      "dtype: int64\n",
      "\n",
      "==================================================\n",
      "DATA PREPROCESSING\n",
      "==================================================\n"
     ]
    }
   ],
   "source": [
    "# Cell 2\n",
    "df = pd.read_csv('all_countries_data.csv')\n",
    "\n",
    "print(f\"Dataset shape: {df.shape}\")\n",
    "print(f\"Columns: {list(df.columns)}\")\n",
    "print(\"\\nFirst few rows:\")\n",
    "print(df.head())\n",
    "\n",
    "print(\"\\nMissing values:\")\n",
    "print(df.isnull().sum())\n",
    "\n",
    "# Cell 3\n",
    "print(\"\\n\" + \"=\"*50)\n",
    "print(\"DATA PREPROCESSING\")\n",
    "print(\"=\"*50)"
   ]
  },
  {
   "cell_type": "code",
   "execution_count": 3,
   "id": "e6b70040",
   "metadata": {},
   "outputs": [
    {
     "name": "stdout",
     "output_type": "stream",
     "text": [
      "\n",
      "==================================================\n",
      "DATA PREPROCESSING\n",
      "==================================================\n",
      "Missing values handled using median imputation\n",
      "Complete cases now: 167\n",
      "\n",
      "Basic Statistics:\n",
      "       unemployment_rate  tourism_millions  gdp_per_capita  cost_of_living  \\\n",
      "count         167.000000        167.000000      167.000000      167.000000   \n",
      "mean            6.082036          5.845509    49343.598802       57.649102   \n",
      "std             5.597335         10.670739    12724.110219       27.756742   \n",
      "min             0.100000          0.000000    30422.000000       22.800000   \n",
      "25%             5.000000          4.100000    47316.000000       41.900000   \n",
      "50%             5.000000          4.100000    47316.000000       48.900000   \n",
      "75%             5.000000          4.100000    47316.000000       60.450000   \n",
      "max            36.000000        117.100000   134754.000000      157.600000   \n",
      "\n",
      "       corruption_index  \n",
      "count        167.000000  \n",
      "mean          62.544910  \n",
      "std           18.559805  \n",
      "min           12.000000  \n",
      "25%           62.500000  \n",
      "50%           69.000000  \n",
      "75%           71.000000  \n",
      "max           89.000000  \n"
     ]
    }
   ],
   "source": [
    "# Cell 3\n",
    "print(\"\\n\" + \"=\"*50)\n",
    "print(\"DATA PREPROCESSING\")\n",
    "print(\"=\"*50)\n",
    "\n",
    "df_analysis = df.copy()\n",
    "\n",
    "numerical_cols = ['unemployment_rate', 'tourism_millions', 'gdp_per_capita', \n",
    "                  'cost_of_living', 'corruption_index']\n",
    "\n",
    "for col in numerical_cols:\n",
    "    median_val = df_analysis[col].median()\n",
    "    df_analysis[col] = df_analysis[col].fillna(median_val)\n",
    "\n",
    "print(\"Missing values handled using median imputation\")\n",
    "print(f\"Complete cases now: {df_analysis.dropna().shape[0]}\")\n",
    "\n",
    "print(\"\\nBasic Statistics:\")\n",
    "print(df_analysis[numerical_cols].describe())"
   ]
  },
  {
   "cell_type": "code",
   "execution_count": 4,
   "id": "d1466ac4",
   "metadata": {},
   "outputs": [
    {
     "name": "stdout",
     "output_type": "stream",
     "text": [
      "\n",
      "==================================================\n",
      "EXPLORATORY DATA ANALYSIS\n",
      "==================================================\n"
     ]
    },
    {
     "data": {
      "application/vnd.plotly.v1+json": {
       "config": {
        "plotlyServerURL": "https://plot.ly"
       },
       "data": [
        {
         "coloraxis": "coloraxis",
         "hovertemplate": "x: %{x}<br>y: %{y}<br>color: %{z}<extra></extra>",
         "name": "0",
         "texttemplate": "%{z}",
         "type": "heatmap",
         "x": [
          "unemployment_rate",
          "tourism_millions",
          "gdp_per_capita",
          "cost_of_living",
          "corruption_index"
         ],
         "xaxis": "x",
         "y": [
          "unemployment_rate",
          "tourism_millions",
          "gdp_per_capita",
          "cost_of_living",
          "corruption_index"
         ],
         "yaxis": "y",
         "z": {
          "bdata": "AAAAAAAA8D8+wEyFmtegP2EtHqSE0bG/TSSVbfhIn79+a8HHwWRUvz7ATIWa16A/AAAAAAAA8D/vE2Gse4Gcv9qR8gz8rME/c5mRdccLxr9hLR6khNGxv+8TYax7gZy/AAAAAAAA8D8TrU2jEO7cP2oziNATcN6/TSSVbfhIn7/akfIM/KzBPxOtTaMQ7tw/AAAAAAAA8D+uundx0ublv35rwcfBZFS/c5mRdccLxr9qM4jQE3Dev666d3HS5uW/AAAAAAAA8D8=",
          "dtype": "f8",
          "shape": "5, 5"
         }
        }
       ],
       "layout": {
        "coloraxis": {
         "colorscale": [
          [
           0,
           "rgb(103,0,31)"
          ],
          [
           0.1,
           "rgb(178,24,43)"
          ],
          [
           0.2,
           "rgb(214,96,77)"
          ],
          [
           0.3,
           "rgb(244,165,130)"
          ],
          [
           0.4,
           "rgb(253,219,199)"
          ],
          [
           0.5,
           "rgb(247,247,247)"
          ],
          [
           0.6,
           "rgb(209,229,240)"
          ],
          [
           0.7,
           "rgb(146,197,222)"
          ],
          [
           0.8,
           "rgb(67,147,195)"
          ],
          [
           0.9,
           "rgb(33,102,172)"
          ],
          [
           1,
           "rgb(5,48,97)"
          ]
         ]
        },
        "template": {
         "data": {
          "bar": [
           {
            "error_x": {
             "color": "#2a3f5f"
            },
            "error_y": {
             "color": "#2a3f5f"
            },
            "marker": {
             "line": {
              "color": "#E5ECF6",
              "width": 0.5
             },
             "pattern": {
              "fillmode": "overlay",
              "size": 10,
              "solidity": 0.2
             }
            },
            "type": "bar"
           }
          ],
          "barpolar": [
           {
            "marker": {
             "line": {
              "color": "#E5ECF6",
              "width": 0.5
             },
             "pattern": {
              "fillmode": "overlay",
              "size": 10,
              "solidity": 0.2
             }
            },
            "type": "barpolar"
           }
          ],
          "carpet": [
           {
            "aaxis": {
             "endlinecolor": "#2a3f5f",
             "gridcolor": "white",
             "linecolor": "white",
             "minorgridcolor": "white",
             "startlinecolor": "#2a3f5f"
            },
            "baxis": {
             "endlinecolor": "#2a3f5f",
             "gridcolor": "white",
             "linecolor": "white",
             "minorgridcolor": "white",
             "startlinecolor": "#2a3f5f"
            },
            "type": "carpet"
           }
          ],
          "choropleth": [
           {
            "colorbar": {
             "outlinewidth": 0,
             "ticks": ""
            },
            "type": "choropleth"
           }
          ],
          "contour": [
           {
            "colorbar": {
             "outlinewidth": 0,
             "ticks": ""
            },
            "colorscale": [
             [
              0,
              "#0d0887"
             ],
             [
              0.1111111111111111,
              "#46039f"
             ],
             [
              0.2222222222222222,
              "#7201a8"
             ],
             [
              0.3333333333333333,
              "#9c179e"
             ],
             [
              0.4444444444444444,
              "#bd3786"
             ],
             [
              0.5555555555555556,
              "#d8576b"
             ],
             [
              0.6666666666666666,
              "#ed7953"
             ],
             [
              0.7777777777777778,
              "#fb9f3a"
             ],
             [
              0.8888888888888888,
              "#fdca26"
             ],
             [
              1,
              "#f0f921"
             ]
            ],
            "type": "contour"
           }
          ],
          "contourcarpet": [
           {
            "colorbar": {
             "outlinewidth": 0,
             "ticks": ""
            },
            "type": "contourcarpet"
           }
          ],
          "heatmap": [
           {
            "colorbar": {
             "outlinewidth": 0,
             "ticks": ""
            },
            "colorscale": [
             [
              0,
              "#0d0887"
             ],
             [
              0.1111111111111111,
              "#46039f"
             ],
             [
              0.2222222222222222,
              "#7201a8"
             ],
             [
              0.3333333333333333,
              "#9c179e"
             ],
             [
              0.4444444444444444,
              "#bd3786"
             ],
             [
              0.5555555555555556,
              "#d8576b"
             ],
             [
              0.6666666666666666,
              "#ed7953"
             ],
             [
              0.7777777777777778,
              "#fb9f3a"
             ],
             [
              0.8888888888888888,
              "#fdca26"
             ],
             [
              1,
              "#f0f921"
             ]
            ],
            "type": "heatmap"
           }
          ],
          "histogram": [
           {
            "marker": {
             "pattern": {
              "fillmode": "overlay",
              "size": 10,
              "solidity": 0.2
             }
            },
            "type": "histogram"
           }
          ],
          "histogram2d": [
           {
            "colorbar": {
             "outlinewidth": 0,
             "ticks": ""
            },
            "colorscale": [
             [
              0,
              "#0d0887"
             ],
             [
              0.1111111111111111,
              "#46039f"
             ],
             [
              0.2222222222222222,
              "#7201a8"
             ],
             [
              0.3333333333333333,
              "#9c179e"
             ],
             [
              0.4444444444444444,
              "#bd3786"
             ],
             [
              0.5555555555555556,
              "#d8576b"
             ],
             [
              0.6666666666666666,
              "#ed7953"
             ],
             [
              0.7777777777777778,
              "#fb9f3a"
             ],
             [
              0.8888888888888888,
              "#fdca26"
             ],
             [
              1,
              "#f0f921"
             ]
            ],
            "type": "histogram2d"
           }
          ],
          "histogram2dcontour": [
           {
            "colorbar": {
             "outlinewidth": 0,
             "ticks": ""
            },
            "colorscale": [
             [
              0,
              "#0d0887"
             ],
             [
              0.1111111111111111,
              "#46039f"
             ],
             [
              0.2222222222222222,
              "#7201a8"
             ],
             [
              0.3333333333333333,
              "#9c179e"
             ],
             [
              0.4444444444444444,
              "#bd3786"
             ],
             [
              0.5555555555555556,
              "#d8576b"
             ],
             [
              0.6666666666666666,
              "#ed7953"
             ],
             [
              0.7777777777777778,
              "#fb9f3a"
             ],
             [
              0.8888888888888888,
              "#fdca26"
             ],
             [
              1,
              "#f0f921"
             ]
            ],
            "type": "histogram2dcontour"
           }
          ],
          "mesh3d": [
           {
            "colorbar": {
             "outlinewidth": 0,
             "ticks": ""
            },
            "type": "mesh3d"
           }
          ],
          "parcoords": [
           {
            "line": {
             "colorbar": {
              "outlinewidth": 0,
              "ticks": ""
             }
            },
            "type": "parcoords"
           }
          ],
          "pie": [
           {
            "automargin": true,
            "type": "pie"
           }
          ],
          "scatter": [
           {
            "fillpattern": {
             "fillmode": "overlay",
             "size": 10,
             "solidity": 0.2
            },
            "type": "scatter"
           }
          ],
          "scatter3d": [
           {
            "line": {
             "colorbar": {
              "outlinewidth": 0,
              "ticks": ""
             }
            },
            "marker": {
             "colorbar": {
              "outlinewidth": 0,
              "ticks": ""
             }
            },
            "type": "scatter3d"
           }
          ],
          "scattercarpet": [
           {
            "marker": {
             "colorbar": {
              "outlinewidth": 0,
              "ticks": ""
             }
            },
            "type": "scattercarpet"
           }
          ],
          "scattergeo": [
           {
            "marker": {
             "colorbar": {
              "outlinewidth": 0,
              "ticks": ""
             }
            },
            "type": "scattergeo"
           }
          ],
          "scattergl": [
           {
            "marker": {
             "colorbar": {
              "outlinewidth": 0,
              "ticks": ""
             }
            },
            "type": "scattergl"
           }
          ],
          "scattermap": [
           {
            "marker": {
             "colorbar": {
              "outlinewidth": 0,
              "ticks": ""
             }
            },
            "type": "scattermap"
           }
          ],
          "scattermapbox": [
           {
            "marker": {
             "colorbar": {
              "outlinewidth": 0,
              "ticks": ""
             }
            },
            "type": "scattermapbox"
           }
          ],
          "scatterpolar": [
           {
            "marker": {
             "colorbar": {
              "outlinewidth": 0,
              "ticks": ""
             }
            },
            "type": "scatterpolar"
           }
          ],
          "scatterpolargl": [
           {
            "marker": {
             "colorbar": {
              "outlinewidth": 0,
              "ticks": ""
             }
            },
            "type": "scatterpolargl"
           }
          ],
          "scatterternary": [
           {
            "marker": {
             "colorbar": {
              "outlinewidth": 0,
              "ticks": ""
             }
            },
            "type": "scatterternary"
           }
          ],
          "surface": [
           {
            "colorbar": {
             "outlinewidth": 0,
             "ticks": ""
            },
            "colorscale": [
             [
              0,
              "#0d0887"
             ],
             [
              0.1111111111111111,
              "#46039f"
             ],
             [
              0.2222222222222222,
              "#7201a8"
             ],
             [
              0.3333333333333333,
              "#9c179e"
             ],
             [
              0.4444444444444444,
              "#bd3786"
             ],
             [
              0.5555555555555556,
              "#d8576b"
             ],
             [
              0.6666666666666666,
              "#ed7953"
             ],
             [
              0.7777777777777778,
              "#fb9f3a"
             ],
             [
              0.8888888888888888,
              "#fdca26"
             ],
             [
              1,
              "#f0f921"
             ]
            ],
            "type": "surface"
           }
          ],
          "table": [
           {
            "cells": {
             "fill": {
              "color": "#EBF0F8"
             },
             "line": {
              "color": "white"
             }
            },
            "header": {
             "fill": {
              "color": "#C8D4E3"
             },
             "line": {
              "color": "white"
             }
            },
            "type": "table"
           }
          ]
         },
         "layout": {
          "annotationdefaults": {
           "arrowcolor": "#2a3f5f",
           "arrowhead": 0,
           "arrowwidth": 1
          },
          "autotypenumbers": "strict",
          "coloraxis": {
           "colorbar": {
            "outlinewidth": 0,
            "ticks": ""
           }
          },
          "colorscale": {
           "diverging": [
            [
             0,
             "#8e0152"
            ],
            [
             0.1,
             "#c51b7d"
            ],
            [
             0.2,
             "#de77ae"
            ],
            [
             0.3,
             "#f1b6da"
            ],
            [
             0.4,
             "#fde0ef"
            ],
            [
             0.5,
             "#f7f7f7"
            ],
            [
             0.6,
             "#e6f5d0"
            ],
            [
             0.7,
             "#b8e186"
            ],
            [
             0.8,
             "#7fbc41"
            ],
            [
             0.9,
             "#4d9221"
            ],
            [
             1,
             "#276419"
            ]
           ],
           "sequential": [
            [
             0,
             "#0d0887"
            ],
            [
             0.1111111111111111,
             "#46039f"
            ],
            [
             0.2222222222222222,
             "#7201a8"
            ],
            [
             0.3333333333333333,
             "#9c179e"
            ],
            [
             0.4444444444444444,
             "#bd3786"
            ],
            [
             0.5555555555555556,
             "#d8576b"
            ],
            [
             0.6666666666666666,
             "#ed7953"
            ],
            [
             0.7777777777777778,
             "#fb9f3a"
            ],
            [
             0.8888888888888888,
             "#fdca26"
            ],
            [
             1,
             "#f0f921"
            ]
           ],
           "sequentialminus": [
            [
             0,
             "#0d0887"
            ],
            [
             0.1111111111111111,
             "#46039f"
            ],
            [
             0.2222222222222222,
             "#7201a8"
            ],
            [
             0.3333333333333333,
             "#9c179e"
            ],
            [
             0.4444444444444444,
             "#bd3786"
            ],
            [
             0.5555555555555556,
             "#d8576b"
            ],
            [
             0.6666666666666666,
             "#ed7953"
            ],
            [
             0.7777777777777778,
             "#fb9f3a"
            ],
            [
             0.8888888888888888,
             "#fdca26"
            ],
            [
             1,
             "#f0f921"
            ]
           ]
          },
          "colorway": [
           "#636efa",
           "#EF553B",
           "#00cc96",
           "#ab63fa",
           "#FFA15A",
           "#19d3f3",
           "#FF6692",
           "#B6E880",
           "#FF97FF",
           "#FECB52"
          ],
          "font": {
           "color": "#2a3f5f"
          },
          "geo": {
           "bgcolor": "white",
           "lakecolor": "white",
           "landcolor": "#E5ECF6",
           "showlakes": true,
           "showland": true,
           "subunitcolor": "white"
          },
          "hoverlabel": {
           "align": "left"
          },
          "hovermode": "closest",
          "mapbox": {
           "style": "light"
          },
          "paper_bgcolor": "white",
          "plot_bgcolor": "#E5ECF6",
          "polar": {
           "angularaxis": {
            "gridcolor": "white",
            "linecolor": "white",
            "ticks": ""
           },
           "bgcolor": "#E5ECF6",
           "radialaxis": {
            "gridcolor": "white",
            "linecolor": "white",
            "ticks": ""
           }
          },
          "scene": {
           "xaxis": {
            "backgroundcolor": "#E5ECF6",
            "gridcolor": "white",
            "gridwidth": 2,
            "linecolor": "white",
            "showbackground": true,
            "ticks": "",
            "zerolinecolor": "white"
           },
           "yaxis": {
            "backgroundcolor": "#E5ECF6",
            "gridcolor": "white",
            "gridwidth": 2,
            "linecolor": "white",
            "showbackground": true,
            "ticks": "",
            "zerolinecolor": "white"
           },
           "zaxis": {
            "backgroundcolor": "#E5ECF6",
            "gridcolor": "white",
            "gridwidth": 2,
            "linecolor": "white",
            "showbackground": true,
            "ticks": "",
            "zerolinecolor": "white"
           }
          },
          "shapedefaults": {
           "line": {
            "color": "#2a3f5f"
           }
          },
          "ternary": {
           "aaxis": {
            "gridcolor": "white",
            "linecolor": "white",
            "ticks": ""
           },
           "baxis": {
            "gridcolor": "white",
            "linecolor": "white",
            "ticks": ""
           },
           "bgcolor": "#E5ECF6",
           "caxis": {
            "gridcolor": "white",
            "linecolor": "white",
            "ticks": ""
           }
          },
          "title": {
           "x": 0.05
          },
          "xaxis": {
           "automargin": true,
           "gridcolor": "white",
           "linecolor": "white",
           "ticks": "",
           "title": {
            "standoff": 15
           },
           "zerolinecolor": "white",
           "zerolinewidth": 2
          },
          "yaxis": {
           "automargin": true,
           "gridcolor": "white",
           "linecolor": "white",
           "ticks": "",
           "title": {
            "standoff": 15
           },
           "zerolinecolor": "white",
           "zerolinewidth": 2
          }
         }
        },
        "title": {
         "text": "Economic Indicators Correlation Matrix"
        },
        "xaxis": {
         "anchor": "y",
         "domain": [
          0,
          1
         ]
        },
        "yaxis": {
         "anchor": "x",
         "autorange": "reversed",
         "domain": [
          0,
          1
         ]
        }
       }
      }
     },
     "metadata": {},
     "output_type": "display_data"
    }
   ],
   "source": [
    "# Cell 4\n",
    "print(\"\\n\" + \"=\"*50)\n",
    "print(\"EXPLORATORY DATA ANALYSIS\")\n",
    "print(\"=\"*50)\n",
    "\n",
    "correlation_matrix = df_analysis[numerical_cols].corr()\n",
    "\n",
    "fig_corr = px.imshow(correlation_matrix, \n",
    "                     text_auto=True, \n",
    "                     aspect=\"auto\",\n",
    "                     title=\"Economic Indicators Correlation Matrix\",\n",
    "                     color_continuous_scale='RdBu')\n",
    "fig_corr.show()"
   ]
  },
  {
   "cell_type": "code",
   "execution_count": 5,
   "id": "adbadda0",
   "metadata": {},
   "outputs": [
    {
     "data": {
      "application/vnd.plotly.v1+json": {
       "config": {
        "plotlyServerURL": "https://plot.ly"
       },
       "data": [
        {
         "name": "GDP per Capita",
         "type": "histogram",
         "x": {
          "bdata": "AAAAAIAa50AAAAAAgBrnQAAAAACAGudAAAAAAIAa50AAAAAAgBrnQAAAAACAGudAAAAAAIAa50AAAAAA4D/rQAAAAABgh+xAAAAAAIAa50AAAAAAgKfgQAAAAABgLOZAAAAAAIAa50AAAAAAgBrnQAAAAACAGudAAAAAAGDG7EAAAAAAgBrnQAAAAACAzPRAAAAAAIAa50AAAAAAgBrnQAAAAACAGudAAAAAAMBD8EAAAAAAgBrnQAAAAACAGudAAAAAAIAa50AAAAAAgBrnQAAAAACAGudAAAAAAKBu6UAAAAAAgBrnQAAAAACAGudAAAAAAIAa50AAAAAAgBrnQAAAAACAGudAAAAAAIAa50AAAAAAgBrnQAAAAACAGudAAAAAAIAa50AAAAAAgBrnQAAAAACAGudAAAAAAIAa50AAAAAAIIHgQAAAAABAxd5AAAAAAKCc5UAAAAAAYJHvQAAAAACAGudAAAAAAIAa50AAAAAAgBrnQAAAAACAGudAAAAAAIAa50AAAAAAgBrnQAAAAACAGudAAAAAAACa5EAAAAAAgBrnQAAAAACAGudAAAAAAODb6kAAAAAAIMXoQAAAAACAGudAAAAAAIAa50AAAAAAAEnsQAAAAACAGudAAAAAAIAa50AAAAAAwI/eQAAAAACAGudAAAAAAIAa50AAAAAAgBrnQAAAAACAGudAAAAAAIAa50AAAAAAUBvwQAAAAAAg8uFAAAAAAMAl7EAAAAAAgBrnQAAAAACAGudAAAAAAIAa50AAAAAAgBrnQAAAAACA/flAAAAAAIAa50AAAAAAQFnlQAAAAAAAbuZAAAAAAIAa50AAAAAAgPfkQAAAAACAGudAAAAAAIAa50AAAAAAgBrnQAAAAACAGudAAAAAAIAa50AAAAAAgBrnQAAAAACg1OBAAAAAAIAa50AAAAAAgBrnQAAAAACAGudAAAAAAIAa50AAAAAAINXkQAAAAAAQcwBBAAAAAKAE8kAAAAAAgBrnQAAAAACAGudAAAAAAIAa50AAAAAAQEznQAAAAACAGudAAAAAAIAa50AAAAAAgBrnQAAAAACAGudAAAAAAIAa50AAAAAAgBrnQAAAAACAGudAAAAAAIAa50AAAAAAgBrnQAAAAACAGudAAAAAAOAi70AAAAAAgBrnQAAAAACAquZAAAAAAIAa50AAAAAAgBrnQAAAAACAGudAAAAAABBW80AAAAAAgLXdQAAAAACAGudAAAAAAADw3kAAAAAAgBrnQAAAAACAGudAAAAAAIAa50AAAAAA4E/iQAAAAAAAhuFAAAAAAIAa50AAAAAAgBrnQAAAAAAQ1fZAAAAAAMBK4UAAAAAAIErgQAAAAADgMehAAAAAAIAa50AAAAAAgBrnQAAAAABgcPxAAAAAAEAe4EAAAAAAIE3lQAAAAACAGudAAAAAAIAa50AAAAAAwOjmQAAAAACAGudAAAAAAODo40AAAAAAgBrnQAAAAACAGudAAAAAAIAa50AAAAAAgPfsQAAAAADA4PJAAAAAAIAa50AAAAAAgBrnQAAAAACAGudAAAAAAIAa50AAAAAAgBrnQAAAAACAGudAAAAAAIAa50AAAAAAgBrnQAAAAAAAwt1AAAAAAIAa50AAAAAAgBrnQAAAAACAGudAAAAAAIAa50AAAAAAgBrnQAAAAABgQehAAAAAAIDq8EAAAAAAgBrnQAAAAACAGudAAAAAAIAa50AAAAAAgBrnQAAAAACAGudAAAAAAIAa50AAAAAAgBrnQA==",
          "dtype": "f8"
         },
         "xaxis": "x",
         "yaxis": "y"
        },
        {
         "name": "Cost of Living",
         "type": "histogram",
         "x": {
          "bdata": "MzMzMzNzSEAAAAAAAABKQGZmZmZm5j1AMzMzMzNzSEAAAAAAAAA3QDMzMzMzc0hAZmZmZmbmQEAAAAAAAIBdQJqZmZmZ+VdAzczMzMzMPUAzMzMzM3NIQAAAAAAAgEhAAAAAAACAQ0AAAAAAAGBeQDMzMzMzc0hAAAAAAABAWEAAAAAAAMBCQDMzMzMzs2NAAAAAAAAAPkCamZmZmRlCQDMzMzMzc0dAMzMzMzNzSEAAAAAAAMBHQAAAAAAAADtAMzMzMzNzSEDNzMzMzExCQDMzMzMz80RAZmZmZmZmWkAzMzMzM3NIQM3MzMzMPGFAMzMzMzNzSEAzMzMzM3NIQDMzMzMzc09AmpmZmZmZT0AzMzMzM3NIQDMzMzMz80RAMzMzMzNzSEAzMzMzM3NIQDMzMzMzc0hAmpmZmZnZTEBmZmZmZmZOQDMzMzMzc0hAZmZmZmYGUUCamZmZmfldQDMzMzMzc0hAMzMzMzNzSEAzMzMzM/NJQDMzMzMzMztAMzMzMzNzSEAzMzMzM/NLQDMzMzMzc0hAAAAAAACAUkAzMzMzM3NIQDMzMzMzc0hAAAAAAAAAW0DNzMzMzAxYQDMzMzMzc0hAmpmZmZkZQEAzMzMzMxNXQGZmZmZmpkJAMzMzMzNzSEDNzMzMzKxSQDMzMzMzc0hAMzMzMzNzSEAzMzMzM3NIQM3MzMzMDE5AMzMzMzNzSECamZmZmXlTQGZmZmZmpkxAAAAAAAAAYEDNzMzMzMw8QDMzMzMzs0FAZmZmZmbmUEBmZmZmZmZCQDMzMzMz811AMzMzMzNzSEBmZmZmZkZgQM3MzMzMjFVAmpmZmZlZRUCamZmZmXlZQM3MzMzMjEBAZmZmZmYmRUAzMzMzM3NIQAAAAAAAgERAzczMzMxMOUAAAAAAAMBAQDMzMzMzc0hAMzMzMzNzSEBmZmZmZqZDQDMzMzMzc0hAMzMzMzNzSEAzMzMzM3NIQGZmZmZmRlxAAAAAAADAUkAzMzMzM3NIQGZmZmZmZkNAMzMzMzNzSEDNzMzMzOxSQDMzMzMzc0hAMzMzMzNzSEBmZmZmZqZFQJqZmZmZWUtAAAAAAABAQ0BmZmZmZqZBQJqZmZmZmUlAAAAAAACARkAzMzMzM3NIQJqZmZmZGTxAAAAAAADAWEAzMzMzM3NfQM3MzMzMTF1AZmZmZmbmQUAzMzMzM3NIQGZmZmZm5kRAZmZmZmYmX0AzMzMzM3NIQM3MzMzMzDlAMzMzMzNzSEAzMzMzM3NIQM3MzMzMTENAMzMzMzNzREDNzMzMzIxJQJqZmZmZGVNAMzMzMzNzSEAzMzMzM3NIQJqZmZmZ2VFAMzMzMzOzR0AzMzMzM3NCQAAAAAAAQEZAmpmZmZmZSUAzMzMzM3NIQAAAAAAAwFJAMzMzMzNzSEAzMzMzM3NIQDMzMzMzc0hAzczMzMyMR0AAAAAAAMBVQDMzMzMzc0hAmpmZmZm5VEBmZmZmZmY+QDMzMzMzc0hAAAAAAACAQUAzMzMzM1NbQM3MzMzMzGFAMzMzMzNzSEAzMzMzM3NIQM3MzMzMzDZAzczMzMwMQUAzMzMzMzNDQDMzMzMz80RAMzMzMzNzSEBmZmZmZuY+QDMzMzMzM0FAMzMzMzNzSEBmZmZmZiZfQDMzMzMzc0hAZmZmZmbmPUAzMzMzMxNSQJqZmZmZ+VpAAAAAAAAAWUAzMzMzM3NIQDMzMzMzc0hAMzMzMzMzQUAzMzMzM3NIQDMzMzMzc0hAMzMzMzOzP0AzMzMzM3NIQA==",
          "dtype": "f8"
         },
         "xaxis": "x2",
         "yaxis": "y2"
        },
        {
         "name": "Corruption Index",
         "type": "histogram",
         "x": {
          "bdata": "AAAAAAAAVUAAAAAAAEBRQAAAAAAAwFBAAAAAAABAUUAAAAAAAMBRQAAAAAAAAE9AAAAAAABAUUAAAAAAAAA7QAAAAAAAADpAAAAAAACAUUAAAAAAAEBRQAAAAAAAQFFAAAAAAACAUkAAAAAAAEBRQAAAAAAAQFFAAAAAAAAAO0AAAAAAAEBRQAAAAAAAQFFAAAAAAABAUUAAAAAAAIBRQAAAAAAAAE9AAAAAAABAUUAAAAAAAEBRQAAAAAAAAFJAAAAAAABAVEAAAAAAAEBTQAAAAAAAQFJAAAAAAAAAOkAAAAAAAMBTQAAAAAAAQFFAAAAAAAAAU0AAAAAAAABUQAAAAAAAQFFAAAAAAACAS0AAAAAAAEBRQAAAAAAAQFFAAAAAAAAAVEAAAAAAAMBTQAAAAAAAQFRAAAAAAABAUUAAAAAAAEBRQAAAAAAAQFFAAAAAAABAUUAAAAAAAAAoQAAAAAAAgFFAAAAAAACAUUAAAAAAAABQQAAAAAAAwFBAAAAAAACAUEAAAAAAAMBUQAAAAAAAgFNAAAAAAAAAOkAAAAAAAABRQAAAAAAAQFFAAAAAAAAAKEAAAAAAAAA9QAAAAAAAQFFAAAAAAABAUUAAAAAAAAA0QAAAAAAAQFFAAAAAAABAUUAAAAAAAIBJQAAAAAAAwFJAAAAAAABAUUAAAAAAAMBSQAAAAAAAAFRAAAAAAABAU0AAAAAAAAA4QAAAAAAAQFFAAAAAAAAAOkAAAAAAAABOQAAAAAAAAE9AAAAAAADAUkAAAAAAAEBTQAAAAAAAADpAAAAAAABAUUAAAAAAAIBEQAAAAAAAAEZAAAAAAABAUUAAAAAAAAA7QAAAAAAAQFFAAAAAAACAUUAAAAAAAEBRQAAAAAAAQFFAAAAAAABAUkAAAAAAAIBRQAAAAAAAQFFAAAAAAAAAU0AAAAAAAEBRQAAAAAAAwFFAAAAAAADAVEAAAAAAAEBRQAAAAAAAADNAAAAAAABAUUAAAAAAAIBSQAAAAAAAAEpAAAAAAADAUUAAAAAAAEBRQAAAAAAAQFFAAAAAAAAAUkAAAAAAAEBRQAAAAAAAQFFAAAAAAABAUUAAAAAAAEBRQAAAAAAAQFFAAAAAAABAUUAAAAAAAIBSQAAAAAAAwFBAAAAAAAAAMkAAAAAAAEBRQAAAAAAAAChAAAAAAAAAVEAAAAAAAEBRQAAAAAAAAFNAAAAAAAAALkAAAAAAAEBRQAAAAAAAAFJAAAAAAABAUUAAAAAAAEBRQAAAAAAAgFFAAAAAAADAUEAAAAAAAABGQAAAAAAAAENAAAAAAABAUUAAAAAAAEBRQAAAAAAAgEJAAAAAAACAS0AAAAAAAMBRQAAAAAAAgEdAAAAAAABAUUAAAAAAAIBQQAAAAAAAAC5AAAAAAABAUUAAAAAAAEBRQAAAAAAAwFVAAAAAAAAATEAAAAAAAABDQAAAAAAAQFZAAAAAAACAQ0AAAAAAAIBPQAAAAAAAAFRAAAAAAABAUUAAAAAAAAAuQAAAAAAAADBAAAAAAADAVUAAAAAAAEBRQAAAAAAAwFJAAAAAAABAUUAAAAAAAEBQQAAAAAAAQFFAAAAAAACAUUAAAAAAAEBRQAAAAAAAAE9AAAAAAABAVEAAAAAAAEBRQAAAAAAAQFJAAAAAAAAAUUAAAAAAAAA/QAAAAAAAADZAAAAAAACAQEAAAAAAAABSQAAAAAAAgFVAAAAAAACATkAAAAAAAEBRQAAAAAAAAFVAAAAAAADAUEAAAAAAAEBTQA==",
          "dtype": "f8"
         },
         "xaxis": "x3",
         "yaxis": "y3"
        },
        {
         "name": "Unemployment Rate",
         "type": "histogram",
         "x": {
          "bdata": "AAAAAAAAFEAAAAAAAAAUQAAAAAAAABRAzczMzMzMPUAAAAAAAAAUQAAAAAAAABRAAAAAAAAAFEBmZmZmZmYUQAAAAAAAABRAAAAAAAAAFEAAAAAAAAAUQGZmZmZmZv4/zczMzMzMFEAAAAAAAAAUQAAAAAAAABRAAAAAAAAAFECamZmZmZn5PwAAAAAAABxAAAAAAAAAFEAAAAAAAAAUQM3MzMzMzCxAAAAAAAAAFEAAAAAAAAAUQAAAAAAAABRAzczMzMzM/D8zMzMzMzPjPwAAAAAAABRAAAAAAAAAHkAAAAAAAAAUQAAAAAAAABRAAAAAAAAAFEBmZmZmZmb+PwAAAAAAABRAMzMzMzMzE0CamZmZmZm5PwAAAAAAABRAAAAAAAAAFEAAAAAAAAAUQAAAAAAAABRAAAAAAAAAFEAAAAAAAAAUQAAAAAAAABRAAAAAAAAAFEAzMzMzMzMTQGZmZmZmZjxAAAAAAAAAFECamZmZmZkZQJqZmZmZmSJAAAAAAAAAFEAAAAAAAAAUQAAAAAAAABRAAAAAAAAAFEDNzMzMzMw5QAAAAAAAABRAAAAAAAAAFEAzMzMzMzMgQAAAAAAAABRAAAAAAAAAFEAAAAAAAAAMQAAAAAAAABRAAAAAAAAA8D+amZmZmZktQAAAAAAAABRAMzMzMzMz8z8AAAAAAAAUQAAAAAAAABRAAAAAAAAAFEAzMzMzMzMVQAAAAAAAABRAAAAAAAAAFEAAAAAAAAAYQJqZmZmZmRFAAAAAAAAAFEAAAAAAAAAUQGZmZmZmZhpAmpmZmZmZ8T8AAAAAAAAUQJqZmZmZmSNAAAAAAAAAFEBmZmZmZmYGQAAAAAAAABRAAAAAAAAAFECamZmZmZk+QAAAAAAAgD5AAAAAAAAAFEDNzMzMzMz0PwAAAAAAABRAAAAAAAAAFEAAAAAAAAAUQAAAAAAAABRAAAAAAAAAFEAAAAAAAAAUQM3MzMzMzBRAAAAAAAAACEAAAAAAAAAUQGZmZmZmZhJAAAAAAAAAFEAAAAAAAAAUQAAAAAAAAEJAAAAAAAAAFEAAAAAAAAAUQJqZmZmZmRFAAAAAAAAAFEAAAAAAAAAUQAAAAAAAABRAAAAAAAAAFEAAAAAAAAAUQAAAAAAAABRAAAAAAAAAEEAAAAAAAAAUQAAAAAAAABRAAAAAAAAAFECamZmZmZnpP5qZmZmZmSNAAAAAAAAAFEAAAAAAAAAUQJqZmZmZmRFAAAAAAAAAFEAAAAAAAAAUQAAAAAAAABRAMzMzMzMzA0AzMzMzMzMLQAAAAAAAABRAAAAAAAAAAEAAAAAAAAAUQDMzMzMzM9M/zczMzMzMFEAAAAAAAAAUQJqZmZmZmR1AAAAAAAAAFEAAAAAAAAAUQM3MzMzMzAxAAAAAAAAAFEAAAAAAAAAUQAAAAAAAABRAzczMzMzMQEAAAAAAAAAMQAAAAAAAABRAZmZmZmZmLUCamZmZmZkVQAAAAAAAABRAAAAAAAAAFEBmZmZmZmYhQDMzMzMzMxVAAAAAAAAAFECamZmZmZkNQAAAAAAAABRAAAAAAAAAFEBmZmZmZmb2PwAAAAAAABRAAAAAAAAAFEAAAAAAAAAUQM3MzMzMzCpAAAAAAAAAFEAAAAAAAAAUQAAAAAAAABRAzczMzMzMIUAAAAAAAAAUQAAAAAAAABJAAAAAAAAAFkAAAAAAAAAUQAAAAAAAABRAmpmZmZmZAUAAAAAAAAAUQAAAAAAAABRAAAAAAAAAFEAAAAAAAAAUQA==",
          "dtype": "f8"
         },
         "xaxis": "x4",
         "yaxis": "y4"
        },
        {
         "name": "Tourism",
         "type": "histogram",
         "x": {
          "bdata": "ZmZmZmZmEECamZmZmZkFQGZmZmZmZhBAZmZmZmZmEEBmZmZmZmYQQGZmZmZmZhBAZmZmZmZmEEDNzMzMzMz8PzMzMzMzMy5AZmZmZmZmEEBmZmZmZmYQQGZmZmZmZhBAZmZmZmZmEEBmZmZmZmYQQM3MzMzMzAxAzczMzMzMBEBmZmZmZmYQQJqZmZmZmbk/ZmZmZmZmEEBmZmZmZmYQQGZmZmZmZhBAZmZmZmZmEEAAAAAAAAAUQGZmZmZmZhBAZmZmZmZmEEDNzMzMzMz0P2ZmZmZmZhBAZmZmZmZmEEBmZmZmZmYQQGZmZmZmZhBAZmZmZmZmEEBmZmZmZmYQQGZmZmZmZhBAZmZmZmZmEEBmZmZmZmYQQGZmZmZmZhBAZmZmZmZmEEBmZmZmZmYQQGZmZmZmZhBAZmZmZmZmEECamZmZmZk1QGZmZmZmZhBAZmZmZmZmEEBmZmZmZmYQQGZmZmZmZhBAZmZmZmZmEEBmZmZmZmYQQGZmZmZmZhBAZmZmZmZmEEBmZmZmZmYQQGZmZmZmZhBAZmZmZmZmEEBmZmZmZmYQQAAAAAAAAOA/ZmZmZmZmEEBmZmZmZkZdQGZmZmZmZhBAZmZmZmZmEEDNzMzMzMwoQGZmZmZmZhBAZmZmZmZmEECamZmZmZkdQGZmZmZmZhBAZmZmZmZmEEBmZmZmZmYQQGZmZmZmZhBAZmZmZmZmEEDNzMzMzMwMQJqZmZmZmT9AZmZmZmZmEEBmZmZmZmYQQGZmZmZmZhBAZmZmZmZmEEBmZmZmZmYQQGZmZmZmZhBAZmZmZmZmEEBmZmZmZmYQQDMzMzMzM0NAZmZmZmZmEEBmZmZmZmYQQGZmZmZmZhBAZmZmZmZmEEBmZmZmZmYQQGZmZmZmZhBAZmZmZmZmEEBmZmZmZmYQQGZmZmZmZhBAZmZmZmZmEEBmZmZmZmYQQGZmZmZmZhBAZmZmZmZmEEBmZmZmZmYQQAAAAAAAAOA/mpmZmZmZF0BmZmZmZmYQQDMzMzMzMxFAZmZmZmZmEEBmZmZmZmYQQGZmZmZmZhBAZmZmZmZmEEBmZmZmZmYQQM3MzMzMjElAAAAAAAAAAABmZmZmZmYQQGZmZmZmZhBAZmZmZmZmBkBmZmZmZmYQQGZmZmZmZhBAMzMzMzMzHUBmZmZmZmYQQGZmZmZmZhBAZmZmZmZmEEBmZmZmZmYQQGZmZmZmZhBAZmZmZmZm9j9mZmZmZmYQQGZmZmZmZhBAZmZmZmZmEEBmZmZmZmYQQGZmZmZmZhBAAAAAAAAA+D9mZmZmZmYQQM3MzMzMzBBAZmZmZmZmEEAzMzMzMzMPQDMzMzMzM+M/AAAAAAAAFECamZmZmZkZQGZmZmZmZhBAmpmZmZmZ2T9mZmZmZmYQQGZmZmZmZhBAZmZmZmZmEEBmZmZmZmYQQGZmZmZmZhBAMzMzMzMzD0AAAAAAAAAEQGZmZmZmZhBAZmZmZmZmEEBmZmZmZmYQQGZmZmZmZhBAZmZmZmZmEEBmZmZmZmYQQGZmZmZmZhBAZmZmZmZmEEBmZmZmZmYQQGZmZmZmZhBAZmZmZmZmEEBmZmZmZmYQQGZmZmZmZhBAZmZmZmZmEEBmZmZmZmYQQAAAAAAAADBAZmZmZmZmEEBmZmZmZmYQQGZmZmZmZhBAMzMzMzMzC0AzMzMzMzMgQGZmZmZmZhBAAAAAAACARkBmZmZmZmYQQGZmZmZmZhBAZmZmZmZmDkAzMzMzMzMhQGZmZmZmZhBAZmZmZmZmEEBmZmZmZmYQQA==",
          "dtype": "f8"
         },
         "xaxis": "x5",
         "yaxis": "y5"
        }
       ],
       "layout": {
        "annotations": [
         {
          "font": {
           "size": 16
          },
          "showarrow": false,
          "text": "GDP per Capita",
          "x": 0.14444444444444446,
          "xanchor": "center",
          "xref": "paper",
          "y": 1,
          "yanchor": "bottom",
          "yref": "paper"
         },
         {
          "font": {
           "size": 16
          },
          "showarrow": false,
          "text": "Cost of Living",
          "x": 0.5,
          "xanchor": "center",
          "xref": "paper",
          "y": 1,
          "yanchor": "bottom",
          "yref": "paper"
         },
         {
          "font": {
           "size": 16
          },
          "showarrow": false,
          "text": "Corruption Index",
          "x": 0.8555555555555556,
          "xanchor": "center",
          "xref": "paper",
          "y": 1,
          "yanchor": "bottom",
          "yref": "paper"
         },
         {
          "font": {
           "size": 16
          },
          "showarrow": false,
          "text": "Unemployment Rate",
          "x": 0.14444444444444446,
          "xanchor": "center",
          "xref": "paper",
          "y": 0.375,
          "yanchor": "bottom",
          "yref": "paper"
         },
         {
          "font": {
           "size": 16
          },
          "showarrow": false,
          "text": "Tourism (Millions)",
          "x": 0.5,
          "xanchor": "center",
          "xref": "paper",
          "y": 0.375,
          "yanchor": "bottom",
          "yref": "paper"
         }
        ],
        "height": 600,
        "showlegend": false,
        "template": {
         "data": {
          "bar": [
           {
            "error_x": {
             "color": "#2a3f5f"
            },
            "error_y": {
             "color": "#2a3f5f"
            },
            "marker": {
             "line": {
              "color": "#E5ECF6",
              "width": 0.5
             },
             "pattern": {
              "fillmode": "overlay",
              "size": 10,
              "solidity": 0.2
             }
            },
            "type": "bar"
           }
          ],
          "barpolar": [
           {
            "marker": {
             "line": {
              "color": "#E5ECF6",
              "width": 0.5
             },
             "pattern": {
              "fillmode": "overlay",
              "size": 10,
              "solidity": 0.2
             }
            },
            "type": "barpolar"
           }
          ],
          "carpet": [
           {
            "aaxis": {
             "endlinecolor": "#2a3f5f",
             "gridcolor": "white",
             "linecolor": "white",
             "minorgridcolor": "white",
             "startlinecolor": "#2a3f5f"
            },
            "baxis": {
             "endlinecolor": "#2a3f5f",
             "gridcolor": "white",
             "linecolor": "white",
             "minorgridcolor": "white",
             "startlinecolor": "#2a3f5f"
            },
            "type": "carpet"
           }
          ],
          "choropleth": [
           {
            "colorbar": {
             "outlinewidth": 0,
             "ticks": ""
            },
            "type": "choropleth"
           }
          ],
          "contour": [
           {
            "colorbar": {
             "outlinewidth": 0,
             "ticks": ""
            },
            "colorscale": [
             [
              0,
              "#0d0887"
             ],
             [
              0.1111111111111111,
              "#46039f"
             ],
             [
              0.2222222222222222,
              "#7201a8"
             ],
             [
              0.3333333333333333,
              "#9c179e"
             ],
             [
              0.4444444444444444,
              "#bd3786"
             ],
             [
              0.5555555555555556,
              "#d8576b"
             ],
             [
              0.6666666666666666,
              "#ed7953"
             ],
             [
              0.7777777777777778,
              "#fb9f3a"
             ],
             [
              0.8888888888888888,
              "#fdca26"
             ],
             [
              1,
              "#f0f921"
             ]
            ],
            "type": "contour"
           }
          ],
          "contourcarpet": [
           {
            "colorbar": {
             "outlinewidth": 0,
             "ticks": ""
            },
            "type": "contourcarpet"
           }
          ],
          "heatmap": [
           {
            "colorbar": {
             "outlinewidth": 0,
             "ticks": ""
            },
            "colorscale": [
             [
              0,
              "#0d0887"
             ],
             [
              0.1111111111111111,
              "#46039f"
             ],
             [
              0.2222222222222222,
              "#7201a8"
             ],
             [
              0.3333333333333333,
              "#9c179e"
             ],
             [
              0.4444444444444444,
              "#bd3786"
             ],
             [
              0.5555555555555556,
              "#d8576b"
             ],
             [
              0.6666666666666666,
              "#ed7953"
             ],
             [
              0.7777777777777778,
              "#fb9f3a"
             ],
             [
              0.8888888888888888,
              "#fdca26"
             ],
             [
              1,
              "#f0f921"
             ]
            ],
            "type": "heatmap"
           }
          ],
          "histogram": [
           {
            "marker": {
             "pattern": {
              "fillmode": "overlay",
              "size": 10,
              "solidity": 0.2
             }
            },
            "type": "histogram"
           }
          ],
          "histogram2d": [
           {
            "colorbar": {
             "outlinewidth": 0,
             "ticks": ""
            },
            "colorscale": [
             [
              0,
              "#0d0887"
             ],
             [
              0.1111111111111111,
              "#46039f"
             ],
             [
              0.2222222222222222,
              "#7201a8"
             ],
             [
              0.3333333333333333,
              "#9c179e"
             ],
             [
              0.4444444444444444,
              "#bd3786"
             ],
             [
              0.5555555555555556,
              "#d8576b"
             ],
             [
              0.6666666666666666,
              "#ed7953"
             ],
             [
              0.7777777777777778,
              "#fb9f3a"
             ],
             [
              0.8888888888888888,
              "#fdca26"
             ],
             [
              1,
              "#f0f921"
             ]
            ],
            "type": "histogram2d"
           }
          ],
          "histogram2dcontour": [
           {
            "colorbar": {
             "outlinewidth": 0,
             "ticks": ""
            },
            "colorscale": [
             [
              0,
              "#0d0887"
             ],
             [
              0.1111111111111111,
              "#46039f"
             ],
             [
              0.2222222222222222,
              "#7201a8"
             ],
             [
              0.3333333333333333,
              "#9c179e"
             ],
             [
              0.4444444444444444,
              "#bd3786"
             ],
             [
              0.5555555555555556,
              "#d8576b"
             ],
             [
              0.6666666666666666,
              "#ed7953"
             ],
             [
              0.7777777777777778,
              "#fb9f3a"
             ],
             [
              0.8888888888888888,
              "#fdca26"
             ],
             [
              1,
              "#f0f921"
             ]
            ],
            "type": "histogram2dcontour"
           }
          ],
          "mesh3d": [
           {
            "colorbar": {
             "outlinewidth": 0,
             "ticks": ""
            },
            "type": "mesh3d"
           }
          ],
          "parcoords": [
           {
            "line": {
             "colorbar": {
              "outlinewidth": 0,
              "ticks": ""
             }
            },
            "type": "parcoords"
           }
          ],
          "pie": [
           {
            "automargin": true,
            "type": "pie"
           }
          ],
          "scatter": [
           {
            "fillpattern": {
             "fillmode": "overlay",
             "size": 10,
             "solidity": 0.2
            },
            "type": "scatter"
           }
          ],
          "scatter3d": [
           {
            "line": {
             "colorbar": {
              "outlinewidth": 0,
              "ticks": ""
             }
            },
            "marker": {
             "colorbar": {
              "outlinewidth": 0,
              "ticks": ""
             }
            },
            "type": "scatter3d"
           }
          ],
          "scattercarpet": [
           {
            "marker": {
             "colorbar": {
              "outlinewidth": 0,
              "ticks": ""
             }
            },
            "type": "scattercarpet"
           }
          ],
          "scattergeo": [
           {
            "marker": {
             "colorbar": {
              "outlinewidth": 0,
              "ticks": ""
             }
            },
            "type": "scattergeo"
           }
          ],
          "scattergl": [
           {
            "marker": {
             "colorbar": {
              "outlinewidth": 0,
              "ticks": ""
             }
            },
            "type": "scattergl"
           }
          ],
          "scattermap": [
           {
            "marker": {
             "colorbar": {
              "outlinewidth": 0,
              "ticks": ""
             }
            },
            "type": "scattermap"
           }
          ],
          "scattermapbox": [
           {
            "marker": {
             "colorbar": {
              "outlinewidth": 0,
              "ticks": ""
             }
            },
            "type": "scattermapbox"
           }
          ],
          "scatterpolar": [
           {
            "marker": {
             "colorbar": {
              "outlinewidth": 0,
              "ticks": ""
             }
            },
            "type": "scatterpolar"
           }
          ],
          "scatterpolargl": [
           {
            "marker": {
             "colorbar": {
              "outlinewidth": 0,
              "ticks": ""
             }
            },
            "type": "scatterpolargl"
           }
          ],
          "scatterternary": [
           {
            "marker": {
             "colorbar": {
              "outlinewidth": 0,
              "ticks": ""
             }
            },
            "type": "scatterternary"
           }
          ],
          "surface": [
           {
            "colorbar": {
             "outlinewidth": 0,
             "ticks": ""
            },
            "colorscale": [
             [
              0,
              "#0d0887"
             ],
             [
              0.1111111111111111,
              "#46039f"
             ],
             [
              0.2222222222222222,
              "#7201a8"
             ],
             [
              0.3333333333333333,
              "#9c179e"
             ],
             [
              0.4444444444444444,
              "#bd3786"
             ],
             [
              0.5555555555555556,
              "#d8576b"
             ],
             [
              0.6666666666666666,
              "#ed7953"
             ],
             [
              0.7777777777777778,
              "#fb9f3a"
             ],
             [
              0.8888888888888888,
              "#fdca26"
             ],
             [
              1,
              "#f0f921"
             ]
            ],
            "type": "surface"
           }
          ],
          "table": [
           {
            "cells": {
             "fill": {
              "color": "#EBF0F8"
             },
             "line": {
              "color": "white"
             }
            },
            "header": {
             "fill": {
              "color": "#C8D4E3"
             },
             "line": {
              "color": "white"
             }
            },
            "type": "table"
           }
          ]
         },
         "layout": {
          "annotationdefaults": {
           "arrowcolor": "#2a3f5f",
           "arrowhead": 0,
           "arrowwidth": 1
          },
          "autotypenumbers": "strict",
          "coloraxis": {
           "colorbar": {
            "outlinewidth": 0,
            "ticks": ""
           }
          },
          "colorscale": {
           "diverging": [
            [
             0,
             "#8e0152"
            ],
            [
             0.1,
             "#c51b7d"
            ],
            [
             0.2,
             "#de77ae"
            ],
            [
             0.3,
             "#f1b6da"
            ],
            [
             0.4,
             "#fde0ef"
            ],
            [
             0.5,
             "#f7f7f7"
            ],
            [
             0.6,
             "#e6f5d0"
            ],
            [
             0.7,
             "#b8e186"
            ],
            [
             0.8,
             "#7fbc41"
            ],
            [
             0.9,
             "#4d9221"
            ],
            [
             1,
             "#276419"
            ]
           ],
           "sequential": [
            [
             0,
             "#0d0887"
            ],
            [
             0.1111111111111111,
             "#46039f"
            ],
            [
             0.2222222222222222,
             "#7201a8"
            ],
            [
             0.3333333333333333,
             "#9c179e"
            ],
            [
             0.4444444444444444,
             "#bd3786"
            ],
            [
             0.5555555555555556,
             "#d8576b"
            ],
            [
             0.6666666666666666,
             "#ed7953"
            ],
            [
             0.7777777777777778,
             "#fb9f3a"
            ],
            [
             0.8888888888888888,
             "#fdca26"
            ],
            [
             1,
             "#f0f921"
            ]
           ],
           "sequentialminus": [
            [
             0,
             "#0d0887"
            ],
            [
             0.1111111111111111,
             "#46039f"
            ],
            [
             0.2222222222222222,
             "#7201a8"
            ],
            [
             0.3333333333333333,
             "#9c179e"
            ],
            [
             0.4444444444444444,
             "#bd3786"
            ],
            [
             0.5555555555555556,
             "#d8576b"
            ],
            [
             0.6666666666666666,
             "#ed7953"
            ],
            [
             0.7777777777777778,
             "#fb9f3a"
            ],
            [
             0.8888888888888888,
             "#fdca26"
            ],
            [
             1,
             "#f0f921"
            ]
           ]
          },
          "colorway": [
           "#636efa",
           "#EF553B",
           "#00cc96",
           "#ab63fa",
           "#FFA15A",
           "#19d3f3",
           "#FF6692",
           "#B6E880",
           "#FF97FF",
           "#FECB52"
          ],
          "font": {
           "color": "#2a3f5f"
          },
          "geo": {
           "bgcolor": "white",
           "lakecolor": "white",
           "landcolor": "#E5ECF6",
           "showlakes": true,
           "showland": true,
           "subunitcolor": "white"
          },
          "hoverlabel": {
           "align": "left"
          },
          "hovermode": "closest",
          "mapbox": {
           "style": "light"
          },
          "paper_bgcolor": "white",
          "plot_bgcolor": "#E5ECF6",
          "polar": {
           "angularaxis": {
            "gridcolor": "white",
            "linecolor": "white",
            "ticks": ""
           },
           "bgcolor": "#E5ECF6",
           "radialaxis": {
            "gridcolor": "white",
            "linecolor": "white",
            "ticks": ""
           }
          },
          "scene": {
           "xaxis": {
            "backgroundcolor": "#E5ECF6",
            "gridcolor": "white",
            "gridwidth": 2,
            "linecolor": "white",
            "showbackground": true,
            "ticks": "",
            "zerolinecolor": "white"
           },
           "yaxis": {
            "backgroundcolor": "#E5ECF6",
            "gridcolor": "white",
            "gridwidth": 2,
            "linecolor": "white",
            "showbackground": true,
            "ticks": "",
            "zerolinecolor": "white"
           },
           "zaxis": {
            "backgroundcolor": "#E5ECF6",
            "gridcolor": "white",
            "gridwidth": 2,
            "linecolor": "white",
            "showbackground": true,
            "ticks": "",
            "zerolinecolor": "white"
           }
          },
          "shapedefaults": {
           "line": {
            "color": "#2a3f5f"
           }
          },
          "ternary": {
           "aaxis": {
            "gridcolor": "white",
            "linecolor": "white",
            "ticks": ""
           },
           "baxis": {
            "gridcolor": "white",
            "linecolor": "white",
            "ticks": ""
           },
           "bgcolor": "#E5ECF6",
           "caxis": {
            "gridcolor": "white",
            "linecolor": "white",
            "ticks": ""
           }
          },
          "title": {
           "x": 0.05
          },
          "xaxis": {
           "automargin": true,
           "gridcolor": "white",
           "linecolor": "white",
           "ticks": "",
           "title": {
            "standoff": 15
           },
           "zerolinecolor": "white",
           "zerolinewidth": 2
          },
          "yaxis": {
           "automargin": true,
           "gridcolor": "white",
           "linecolor": "white",
           "ticks": "",
           "title": {
            "standoff": 15
           },
           "zerolinecolor": "white",
           "zerolinewidth": 2
          }
         }
        },
        "title": {
         "text": "Distribution of Economic Indicators"
        },
        "xaxis": {
         "anchor": "y",
         "domain": [
          0,
          0.2888888888888889
         ]
        },
        "xaxis2": {
         "anchor": "y2",
         "domain": [
          0.35555555555555557,
          0.6444444444444445
         ]
        },
        "xaxis3": {
         "anchor": "y3",
         "domain": [
          0.7111111111111111,
          1
         ]
        },
        "xaxis4": {
         "anchor": "y4",
         "domain": [
          0,
          0.2888888888888889
         ]
        },
        "xaxis5": {
         "anchor": "y5",
         "domain": [
          0.35555555555555557,
          0.6444444444444445
         ]
        },
        "xaxis6": {
         "anchor": "y6",
         "domain": [
          0.7111111111111111,
          1
         ]
        },
        "yaxis": {
         "anchor": "x",
         "domain": [
          0.625,
          1
         ]
        },
        "yaxis2": {
         "anchor": "x2",
         "domain": [
          0.625,
          1
         ]
        },
        "yaxis3": {
         "anchor": "x3",
         "domain": [
          0.625,
          1
         ]
        },
        "yaxis4": {
         "anchor": "x4",
         "domain": [
          0,
          0.375
         ]
        },
        "yaxis5": {
         "anchor": "x5",
         "domain": [
          0,
          0.375
         ]
        },
        "yaxis6": {
         "anchor": "x6",
         "domain": [
          0,
          0.375
         ]
        }
       }
      }
     },
     "metadata": {},
     "output_type": "display_data"
    },
    {
     "name": "stdout",
     "output_type": "stream",
     "text": [
      "Interactive Plots with All Country Names:\n",
      "==================================================\n"
     ]
    },
    {
     "data": {
      "application/vnd.plotly.v1+json": {
       "config": {
        "plotlyServerURL": "https://plot.ly"
       },
       "data": [
        {
         "hovertemplate": "country=%{x}<br>GDP per Capita=%{y}<extra></extra>",
         "legendgroup": "",
         "marker": {
          "color": "#636efa",
          "symbol": "circle"
         },
         "mode": "markers",
         "name": "",
         "orientation": "v",
         "showlegend": false,
         "type": "scatter",
         "x": [
          "Afghanistan",
          "Albania",
          "Algeria",
          "American Samoa",
          "Angola",
          "Argentina",
          "Armenia",
          "Australia",
          "Austria",
          "Azerbaijan",
          "Bahamas",
          "Bahrain",
          "Bangladesh",
          "Barbados",
          "Belarus",
          "Belgium",
          "Benin",
          "Bermuda",
          "Bhutan",
          "Bolivia",
          "Brazil",
          "Brunei",
          "Bulgaria",
          "Burma",
          "Burundi",
          "Cambodia",
          "Cameroon",
          "Canada",
          "Cape Verde",
          "Cayman Islands",
          "Central Africa",
          "Chad",
          "Chile",
          "China",
          "Cocos (Keeling) Islands",
          "Colombia",
          "Comoros",
          "Congo",
          "Congo (Dem. Republic)",
          "Costa Rica",
          "Croatia",
          "Cyprus",
          "Czechia",
          "Denmark",
          "Djibouti",
          "Dominican Republic",
          "Ecuador",
          "Egypt",
          "El Salvador",
          "Equatorial Guinea",
          "Eritrea",
          "Estonia",
          "Eswatini",
          "Ethiopia",
          "Finland",
          "France",
          "Gabon",
          "Georgia",
          "Germany",
          "Ghana",
          "Gibraltar",
          "Greece",
          "Guatemala",
          "Guernsey",
          "Guinea",
          "Haiti",
          "Honduras",
          "Hong Kong",
          "Hungary",
          "Iceland",
          "India",
          "Indonesia",
          "Iran",
          "Iraq",
          "Ireland",
          "Isle of Man",
          "Israel",
          "Italy",
          "Ivory Coast",
          "Japan",
          "Kazakhstan",
          "Kenya",
          "Kiribati",
          "Kosovo",
          "Kyrgyzstan",
          "Laos",
          "Latvia",
          "Lebanon",
          "Lesotho",
          "Liberia",
          "Libya",
          "Lithuania",
          "Luxembourg",
          "Macao",
          "Madagascar",
          "Malaysia",
          "Mali",
          "Malta",
          "Marshall Islands",
          "Mauritania",
          "Mauritius",
          "Mexico",
          "Moldova",
          "Mongolia",
          "Montenegro",
          "Morocco",
          "Mozambique",
          "Nepal",
          "Netherlands",
          "New Caledonia",
          "New Zealand",
          "Nicaragua",
          "Niger",
          "Nigeria",
          "Norway",
          "Oman",
          "Pakistan",
          "Panama",
          "Papua New Guinea",
          "Paraguay",
          "Philippines",
          "Poland",
          "Portugal",
          "Principality of Monaco",
          "Puerto Rico",
          "Qatar",
          "Romania",
          "Russia",
          "Saudi Arabia",
          "Serbia",
          "Sierra Leone",
          "Singapore",
          "Slovakia",
          "Slovenia",
          "Somalia",
          "South Africa",
          "South Korea",
          "South Sudan",
          "Spain",
          "Sri Lanka",
          "Sudan",
          "Suriname",
          "Sweden",
          "Switzerland",
          "Syria",
          "Taiwan",
          "Tajikistan",
          "Tanzania",
          "Thailand",
          "Timor-Leste",
          "Togo",
          "Tunisia",
          "Turkey",
          "Turkmenistan",
          "Turks and Caicos Islands",
          "Uganda",
          "Ukraine",
          "United Arab Emirates",
          "United Kingdom",
          "United States",
          "Uzbekistan",
          "Venezuela",
          "Vietnam",
          "Virgin Islands",
          "Yemen",
          "Zambia",
          "Zimbabwe"
         ],
         "xaxis": "x",
         "y": {
          "bdata": "AAAAAIAa50AAAAAAgBrnQAAAAACAGudAAAAAAIAa50AAAAAAgBrnQAAAAACAGudAAAAAAIAa50AAAAAA4D/rQAAAAABgh+xAAAAAAIAa50AAAAAAgKfgQAAAAABgLOZAAAAAAIAa50AAAAAAgBrnQAAAAACAGudAAAAAAGDG7EAAAAAAgBrnQAAAAACAzPRAAAAAAIAa50AAAAAAgBrnQAAAAACAGudAAAAAAMBD8EAAAAAAgBrnQAAAAACAGudAAAAAAIAa50AAAAAAgBrnQAAAAACAGudAAAAAAKBu6UAAAAAAgBrnQAAAAACAGudAAAAAAIAa50AAAAAAgBrnQAAAAACAGudAAAAAAIAa50AAAAAAgBrnQAAAAACAGudAAAAAAIAa50AAAAAAgBrnQAAAAACAGudAAAAAAIAa50AAAAAAIIHgQAAAAABAxd5AAAAAAKCc5UAAAAAAYJHvQAAAAACAGudAAAAAAIAa50AAAAAAgBrnQAAAAACAGudAAAAAAIAa50AAAAAAgBrnQAAAAACAGudAAAAAAACa5EAAAAAAgBrnQAAAAACAGudAAAAAAODb6kAAAAAAIMXoQAAAAACAGudAAAAAAIAa50AAAAAAAEnsQAAAAACAGudAAAAAAIAa50AAAAAAwI/eQAAAAACAGudAAAAAAIAa50AAAAAAgBrnQAAAAACAGudAAAAAAIAa50AAAAAAUBvwQAAAAAAg8uFAAAAAAMAl7EAAAAAAgBrnQAAAAACAGudAAAAAAIAa50AAAAAAgBrnQAAAAACA/flAAAAAAIAa50AAAAAAQFnlQAAAAAAAbuZAAAAAAIAa50AAAAAAgPfkQAAAAACAGudAAAAAAIAa50AAAAAAgBrnQAAAAACAGudAAAAAAIAa50AAAAAAgBrnQAAAAACg1OBAAAAAAIAa50AAAAAAgBrnQAAAAACAGudAAAAAAIAa50AAAAAAINXkQAAAAAAQcwBBAAAAAKAE8kAAAAAAgBrnQAAAAACAGudAAAAAAIAa50AAAAAAQEznQAAAAACAGudAAAAAAIAa50AAAAAAgBrnQAAAAACAGudAAAAAAIAa50AAAAAAgBrnQAAAAACAGudAAAAAAIAa50AAAAAAgBrnQAAAAACAGudAAAAAAOAi70AAAAAAgBrnQAAAAACAquZAAAAAAIAa50AAAAAAgBrnQAAAAACAGudAAAAAABBW80AAAAAAgLXdQAAAAACAGudAAAAAAADw3kAAAAAAgBrnQAAAAACAGudAAAAAAIAa50AAAAAA4E/iQAAAAAAAhuFAAAAAAIAa50AAAAAAgBrnQAAAAAAQ1fZAAAAAAMBK4UAAAAAAIErgQAAAAADgMehAAAAAAIAa50AAAAAAgBrnQAAAAABgcPxAAAAAAEAe4EAAAAAAIE3lQAAAAACAGudAAAAAAIAa50AAAAAAwOjmQAAAAACAGudAAAAAAODo40AAAAAAgBrnQAAAAACAGudAAAAAAIAa50AAAAAAgPfsQAAAAADA4PJAAAAAAIAa50AAAAAAgBrnQAAAAACAGudAAAAAAIAa50AAAAAAgBrnQAAAAACAGudAAAAAAIAa50AAAAAAgBrnQAAAAAAAwt1AAAAAAIAa50AAAAAAgBrnQAAAAACAGudAAAAAAIAa50AAAAAAgBrnQAAAAABgQehAAAAAAIDq8EAAAAAAgBrnQAAAAACAGudAAAAAAIAa50AAAAAAgBrnQAAAAACAGudAAAAAAIAa50AAAAAAgBrnQA==",
          "dtype": "f8"
         },
         "yaxis": "y"
        }
       ],
       "layout": {
        "height": 500,
        "legend": {
         "tracegroupgap": 0
        },
        "template": {
         "data": {
          "bar": [
           {
            "error_x": {
             "color": "#2a3f5f"
            },
            "error_y": {
             "color": "#2a3f5f"
            },
            "marker": {
             "line": {
              "color": "#E5ECF6",
              "width": 0.5
             },
             "pattern": {
              "fillmode": "overlay",
              "size": 10,
              "solidity": 0.2
             }
            },
            "type": "bar"
           }
          ],
          "barpolar": [
           {
            "marker": {
             "line": {
              "color": "#E5ECF6",
              "width": 0.5
             },
             "pattern": {
              "fillmode": "overlay",
              "size": 10,
              "solidity": 0.2
             }
            },
            "type": "barpolar"
           }
          ],
          "carpet": [
           {
            "aaxis": {
             "endlinecolor": "#2a3f5f",
             "gridcolor": "white",
             "linecolor": "white",
             "minorgridcolor": "white",
             "startlinecolor": "#2a3f5f"
            },
            "baxis": {
             "endlinecolor": "#2a3f5f",
             "gridcolor": "white",
             "linecolor": "white",
             "minorgridcolor": "white",
             "startlinecolor": "#2a3f5f"
            },
            "type": "carpet"
           }
          ],
          "choropleth": [
           {
            "colorbar": {
             "outlinewidth": 0,
             "ticks": ""
            },
            "type": "choropleth"
           }
          ],
          "contour": [
           {
            "colorbar": {
             "outlinewidth": 0,
             "ticks": ""
            },
            "colorscale": [
             [
              0,
              "#0d0887"
             ],
             [
              0.1111111111111111,
              "#46039f"
             ],
             [
              0.2222222222222222,
              "#7201a8"
             ],
             [
              0.3333333333333333,
              "#9c179e"
             ],
             [
              0.4444444444444444,
              "#bd3786"
             ],
             [
              0.5555555555555556,
              "#d8576b"
             ],
             [
              0.6666666666666666,
              "#ed7953"
             ],
             [
              0.7777777777777778,
              "#fb9f3a"
             ],
             [
              0.8888888888888888,
              "#fdca26"
             ],
             [
              1,
              "#f0f921"
             ]
            ],
            "type": "contour"
           }
          ],
          "contourcarpet": [
           {
            "colorbar": {
             "outlinewidth": 0,
             "ticks": ""
            },
            "type": "contourcarpet"
           }
          ],
          "heatmap": [
           {
            "colorbar": {
             "outlinewidth": 0,
             "ticks": ""
            },
            "colorscale": [
             [
              0,
              "#0d0887"
             ],
             [
              0.1111111111111111,
              "#46039f"
             ],
             [
              0.2222222222222222,
              "#7201a8"
             ],
             [
              0.3333333333333333,
              "#9c179e"
             ],
             [
              0.4444444444444444,
              "#bd3786"
             ],
             [
              0.5555555555555556,
              "#d8576b"
             ],
             [
              0.6666666666666666,
              "#ed7953"
             ],
             [
              0.7777777777777778,
              "#fb9f3a"
             ],
             [
              0.8888888888888888,
              "#fdca26"
             ],
             [
              1,
              "#f0f921"
             ]
            ],
            "type": "heatmap"
           }
          ],
          "histogram": [
           {
            "marker": {
             "pattern": {
              "fillmode": "overlay",
              "size": 10,
              "solidity": 0.2
             }
            },
            "type": "histogram"
           }
          ],
          "histogram2d": [
           {
            "colorbar": {
             "outlinewidth": 0,
             "ticks": ""
            },
            "colorscale": [
             [
              0,
              "#0d0887"
             ],
             [
              0.1111111111111111,
              "#46039f"
             ],
             [
              0.2222222222222222,
              "#7201a8"
             ],
             [
              0.3333333333333333,
              "#9c179e"
             ],
             [
              0.4444444444444444,
              "#bd3786"
             ],
             [
              0.5555555555555556,
              "#d8576b"
             ],
             [
              0.6666666666666666,
              "#ed7953"
             ],
             [
              0.7777777777777778,
              "#fb9f3a"
             ],
             [
              0.8888888888888888,
              "#fdca26"
             ],
             [
              1,
              "#f0f921"
             ]
            ],
            "type": "histogram2d"
           }
          ],
          "histogram2dcontour": [
           {
            "colorbar": {
             "outlinewidth": 0,
             "ticks": ""
            },
            "colorscale": [
             [
              0,
              "#0d0887"
             ],
             [
              0.1111111111111111,
              "#46039f"
             ],
             [
              0.2222222222222222,
              "#7201a8"
             ],
             [
              0.3333333333333333,
              "#9c179e"
             ],
             [
              0.4444444444444444,
              "#bd3786"
             ],
             [
              0.5555555555555556,
              "#d8576b"
             ],
             [
              0.6666666666666666,
              "#ed7953"
             ],
             [
              0.7777777777777778,
              "#fb9f3a"
             ],
             [
              0.8888888888888888,
              "#fdca26"
             ],
             [
              1,
              "#f0f921"
             ]
            ],
            "type": "histogram2dcontour"
           }
          ],
          "mesh3d": [
           {
            "colorbar": {
             "outlinewidth": 0,
             "ticks": ""
            },
            "type": "mesh3d"
           }
          ],
          "parcoords": [
           {
            "line": {
             "colorbar": {
              "outlinewidth": 0,
              "ticks": ""
             }
            },
            "type": "parcoords"
           }
          ],
          "pie": [
           {
            "automargin": true,
            "type": "pie"
           }
          ],
          "scatter": [
           {
            "fillpattern": {
             "fillmode": "overlay",
             "size": 10,
             "solidity": 0.2
            },
            "type": "scatter"
           }
          ],
          "scatter3d": [
           {
            "line": {
             "colorbar": {
              "outlinewidth": 0,
              "ticks": ""
             }
            },
            "marker": {
             "colorbar": {
              "outlinewidth": 0,
              "ticks": ""
             }
            },
            "type": "scatter3d"
           }
          ],
          "scattercarpet": [
           {
            "marker": {
             "colorbar": {
              "outlinewidth": 0,
              "ticks": ""
             }
            },
            "type": "scattercarpet"
           }
          ],
          "scattergeo": [
           {
            "marker": {
             "colorbar": {
              "outlinewidth": 0,
              "ticks": ""
             }
            },
            "type": "scattergeo"
           }
          ],
          "scattergl": [
           {
            "marker": {
             "colorbar": {
              "outlinewidth": 0,
              "ticks": ""
             }
            },
            "type": "scattergl"
           }
          ],
          "scattermap": [
           {
            "marker": {
             "colorbar": {
              "outlinewidth": 0,
              "ticks": ""
             }
            },
            "type": "scattermap"
           }
          ],
          "scattermapbox": [
           {
            "marker": {
             "colorbar": {
              "outlinewidth": 0,
              "ticks": ""
             }
            },
            "type": "scattermapbox"
           }
          ],
          "scatterpolar": [
           {
            "marker": {
             "colorbar": {
              "outlinewidth": 0,
              "ticks": ""
             }
            },
            "type": "scatterpolar"
           }
          ],
          "scatterpolargl": [
           {
            "marker": {
             "colorbar": {
              "outlinewidth": 0,
              "ticks": ""
             }
            },
            "type": "scatterpolargl"
           }
          ],
          "scatterternary": [
           {
            "marker": {
             "colorbar": {
              "outlinewidth": 0,
              "ticks": ""
             }
            },
            "type": "scatterternary"
           }
          ],
          "surface": [
           {
            "colorbar": {
             "outlinewidth": 0,
             "ticks": ""
            },
            "colorscale": [
             [
              0,
              "#0d0887"
             ],
             [
              0.1111111111111111,
              "#46039f"
             ],
             [
              0.2222222222222222,
              "#7201a8"
             ],
             [
              0.3333333333333333,
              "#9c179e"
             ],
             [
              0.4444444444444444,
              "#bd3786"
             ],
             [
              0.5555555555555556,
              "#d8576b"
             ],
             [
              0.6666666666666666,
              "#ed7953"
             ],
             [
              0.7777777777777778,
              "#fb9f3a"
             ],
             [
              0.8888888888888888,
              "#fdca26"
             ],
             [
              1,
              "#f0f921"
             ]
            ],
            "type": "surface"
           }
          ],
          "table": [
           {
            "cells": {
             "fill": {
              "color": "#EBF0F8"
             },
             "line": {
              "color": "white"
             }
            },
            "header": {
             "fill": {
              "color": "#C8D4E3"
             },
             "line": {
              "color": "white"
             }
            },
            "type": "table"
           }
          ]
         },
         "layout": {
          "annotationdefaults": {
           "arrowcolor": "#2a3f5f",
           "arrowhead": 0,
           "arrowwidth": 1
          },
          "autotypenumbers": "strict",
          "coloraxis": {
           "colorbar": {
            "outlinewidth": 0,
            "ticks": ""
           }
          },
          "colorscale": {
           "diverging": [
            [
             0,
             "#8e0152"
            ],
            [
             0.1,
             "#c51b7d"
            ],
            [
             0.2,
             "#de77ae"
            ],
            [
             0.3,
             "#f1b6da"
            ],
            [
             0.4,
             "#fde0ef"
            ],
            [
             0.5,
             "#f7f7f7"
            ],
            [
             0.6,
             "#e6f5d0"
            ],
            [
             0.7,
             "#b8e186"
            ],
            [
             0.8,
             "#7fbc41"
            ],
            [
             0.9,
             "#4d9221"
            ],
            [
             1,
             "#276419"
            ]
           ],
           "sequential": [
            [
             0,
             "#0d0887"
            ],
            [
             0.1111111111111111,
             "#46039f"
            ],
            [
             0.2222222222222222,
             "#7201a8"
            ],
            [
             0.3333333333333333,
             "#9c179e"
            ],
            [
             0.4444444444444444,
             "#bd3786"
            ],
            [
             0.5555555555555556,
             "#d8576b"
            ],
            [
             0.6666666666666666,
             "#ed7953"
            ],
            [
             0.7777777777777778,
             "#fb9f3a"
            ],
            [
             0.8888888888888888,
             "#fdca26"
            ],
            [
             1,
             "#f0f921"
            ]
           ],
           "sequentialminus": [
            [
             0,
             "#0d0887"
            ],
            [
             0.1111111111111111,
             "#46039f"
            ],
            [
             0.2222222222222222,
             "#7201a8"
            ],
            [
             0.3333333333333333,
             "#9c179e"
            ],
            [
             0.4444444444444444,
             "#bd3786"
            ],
            [
             0.5555555555555556,
             "#d8576b"
            ],
            [
             0.6666666666666666,
             "#ed7953"
            ],
            [
             0.7777777777777778,
             "#fb9f3a"
            ],
            [
             0.8888888888888888,
             "#fdca26"
            ],
            [
             1,
             "#f0f921"
            ]
           ]
          },
          "colorway": [
           "#636efa",
           "#EF553B",
           "#00cc96",
           "#ab63fa",
           "#FFA15A",
           "#19d3f3",
           "#FF6692",
           "#B6E880",
           "#FF97FF",
           "#FECB52"
          ],
          "font": {
           "color": "#2a3f5f"
          },
          "geo": {
           "bgcolor": "white",
           "lakecolor": "white",
           "landcolor": "#E5ECF6",
           "showlakes": true,
           "showland": true,
           "subunitcolor": "white"
          },
          "hoverlabel": {
           "align": "left"
          },
          "hovermode": "closest",
          "mapbox": {
           "style": "light"
          },
          "paper_bgcolor": "white",
          "plot_bgcolor": "#E5ECF6",
          "polar": {
           "angularaxis": {
            "gridcolor": "white",
            "linecolor": "white",
            "ticks": ""
           },
           "bgcolor": "#E5ECF6",
           "radialaxis": {
            "gridcolor": "white",
            "linecolor": "white",
            "ticks": ""
           }
          },
          "scene": {
           "xaxis": {
            "backgroundcolor": "#E5ECF6",
            "gridcolor": "white",
            "gridwidth": 2,
            "linecolor": "white",
            "showbackground": true,
            "ticks": "",
            "zerolinecolor": "white"
           },
           "yaxis": {
            "backgroundcolor": "#E5ECF6",
            "gridcolor": "white",
            "gridwidth": 2,
            "linecolor": "white",
            "showbackground": true,
            "ticks": "",
            "zerolinecolor": "white"
           },
           "zaxis": {
            "backgroundcolor": "#E5ECF6",
            "gridcolor": "white",
            "gridwidth": 2,
            "linecolor": "white",
            "showbackground": true,
            "ticks": "",
            "zerolinecolor": "white"
           }
          },
          "shapedefaults": {
           "line": {
            "color": "#2a3f5f"
           }
          },
          "ternary": {
           "aaxis": {
            "gridcolor": "white",
            "linecolor": "white",
            "ticks": ""
           },
           "baxis": {
            "gridcolor": "white",
            "linecolor": "white",
            "ticks": ""
           },
           "bgcolor": "#E5ECF6",
           "caxis": {
            "gridcolor": "white",
            "linecolor": "white",
            "ticks": ""
           }
          },
          "title": {
           "x": 0.05
          },
          "xaxis": {
           "automargin": true,
           "gridcolor": "white",
           "linecolor": "white",
           "ticks": "",
           "title": {
            "standoff": 15
           },
           "zerolinecolor": "white",
           "zerolinewidth": 2
          },
          "yaxis": {
           "automargin": true,
           "gridcolor": "white",
           "linecolor": "white",
           "ticks": "",
           "title": {
            "standoff": 15
           },
           "zerolinecolor": "white",
           "zerolinewidth": 2
          }
         }
        },
        "title": {
         "text": "GDP per Capita by Country (Hover to see values)"
        },
        "xaxis": {
         "anchor": "y",
         "domain": [
          0,
          1
         ],
         "tickangle": 45,
         "title": {
          "text": "Countries"
         }
        },
        "yaxis": {
         "anchor": "x",
         "domain": [
          0,
          1
         ],
         "title": {
          "text": "GDP per Capita"
         }
        }
       }
      }
     },
     "metadata": {},
     "output_type": "display_data"
    },
    {
     "data": {
      "application/vnd.plotly.v1+json": {
       "config": {
        "plotlyServerURL": "https://plot.ly"
       },
       "data": [
        {
         "hovertemplate": "country=%{x}<br>Cost of Living Index=%{y}<extra></extra>",
         "legendgroup": "",
         "marker": {
          "color": "#636efa",
          "symbol": "circle"
         },
         "mode": "markers",
         "name": "",
         "orientation": "v",
         "showlegend": false,
         "type": "scatter",
         "x": [
          "Afghanistan",
          "Albania",
          "Algeria",
          "American Samoa",
          "Angola",
          "Argentina",
          "Armenia",
          "Australia",
          "Austria",
          "Azerbaijan",
          "Bahamas",
          "Bahrain",
          "Bangladesh",
          "Barbados",
          "Belarus",
          "Belgium",
          "Benin",
          "Bermuda",
          "Bhutan",
          "Bolivia",
          "Brazil",
          "Brunei",
          "Bulgaria",
          "Burma",
          "Burundi",
          "Cambodia",
          "Cameroon",
          "Canada",
          "Cape Verde",
          "Cayman Islands",
          "Central Africa",
          "Chad",
          "Chile",
          "China",
          "Cocos (Keeling) Islands",
          "Colombia",
          "Comoros",
          "Congo",
          "Congo (Dem. Republic)",
          "Costa Rica",
          "Croatia",
          "Cyprus",
          "Czechia",
          "Denmark",
          "Djibouti",
          "Dominican Republic",
          "Ecuador",
          "Egypt",
          "El Salvador",
          "Equatorial Guinea",
          "Eritrea",
          "Estonia",
          "Eswatini",
          "Ethiopia",
          "Finland",
          "France",
          "Gabon",
          "Georgia",
          "Germany",
          "Ghana",
          "Gibraltar",
          "Greece",
          "Guatemala",
          "Guernsey",
          "Guinea",
          "Haiti",
          "Honduras",
          "Hong Kong",
          "Hungary",
          "Iceland",
          "India",
          "Indonesia",
          "Iran",
          "Iraq",
          "Ireland",
          "Isle of Man",
          "Israel",
          "Italy",
          "Ivory Coast",
          "Japan",
          "Kazakhstan",
          "Kenya",
          "Kiribati",
          "Kosovo",
          "Kyrgyzstan",
          "Laos",
          "Latvia",
          "Lebanon",
          "Lesotho",
          "Liberia",
          "Libya",
          "Lithuania",
          "Luxembourg",
          "Macao",
          "Madagascar",
          "Malaysia",
          "Mali",
          "Malta",
          "Marshall Islands",
          "Mauritania",
          "Mauritius",
          "Mexico",
          "Moldova",
          "Mongolia",
          "Montenegro",
          "Morocco",
          "Mozambique",
          "Nepal",
          "Netherlands",
          "New Caledonia",
          "New Zealand",
          "Nicaragua",
          "Niger",
          "Nigeria",
          "Norway",
          "Oman",
          "Pakistan",
          "Panama",
          "Papua New Guinea",
          "Paraguay",
          "Philippines",
          "Poland",
          "Portugal",
          "Principality of Monaco",
          "Puerto Rico",
          "Qatar",
          "Romania",
          "Russia",
          "Saudi Arabia",
          "Serbia",
          "Sierra Leone",
          "Singapore",
          "Slovakia",
          "Slovenia",
          "Somalia",
          "South Africa",
          "South Korea",
          "South Sudan",
          "Spain",
          "Sri Lanka",
          "Sudan",
          "Suriname",
          "Sweden",
          "Switzerland",
          "Syria",
          "Taiwan",
          "Tajikistan",
          "Tanzania",
          "Thailand",
          "Timor-Leste",
          "Togo",
          "Tunisia",
          "Turkey",
          "Turkmenistan",
          "Turks and Caicos Islands",
          "Uganda",
          "Ukraine",
          "United Arab Emirates",
          "United Kingdom",
          "United States",
          "Uzbekistan",
          "Venezuela",
          "Vietnam",
          "Virgin Islands",
          "Yemen",
          "Zambia",
          "Zimbabwe"
         ],
         "xaxis": "x",
         "y": {
          "bdata": "MzMzMzNzSEAAAAAAAABKQGZmZmZm5j1AMzMzMzNzSEAAAAAAAAA3QDMzMzMzc0hAZmZmZmbmQEAAAAAAAIBdQJqZmZmZ+VdAzczMzMzMPUAzMzMzM3NIQAAAAAAAgEhAAAAAAACAQ0AAAAAAAGBeQDMzMzMzc0hAAAAAAABAWEAAAAAAAMBCQDMzMzMzs2NAAAAAAAAAPkCamZmZmRlCQDMzMzMzc0dAMzMzMzNzSEAAAAAAAMBHQAAAAAAAADtAMzMzMzNzSEDNzMzMzExCQDMzMzMz80RAZmZmZmZmWkAzMzMzM3NIQM3MzMzMPGFAMzMzMzNzSEAzMzMzM3NIQDMzMzMzc09AmpmZmZmZT0AzMzMzM3NIQDMzMzMz80RAMzMzMzNzSEAzMzMzM3NIQDMzMzMzc0hAmpmZmZnZTEBmZmZmZmZOQDMzMzMzc0hAZmZmZmYGUUCamZmZmfldQDMzMzMzc0hAMzMzMzNzSEAzMzMzM/NJQDMzMzMzMztAMzMzMzNzSEAzMzMzM/NLQDMzMzMzc0hAAAAAAACAUkAzMzMzM3NIQDMzMzMzc0hAAAAAAAAAW0DNzMzMzAxYQDMzMzMzc0hAmpmZmZkZQEAzMzMzMxNXQGZmZmZmpkJAMzMzMzNzSEDNzMzMzKxSQDMzMzMzc0hAMzMzMzNzSEAzMzMzM3NIQM3MzMzMDE5AMzMzMzNzSECamZmZmXlTQGZmZmZmpkxAAAAAAAAAYEDNzMzMzMw8QDMzMzMzs0FAZmZmZmbmUEBmZmZmZmZCQDMzMzMz811AMzMzMzNzSEBmZmZmZkZgQM3MzMzMjFVAmpmZmZlZRUCamZmZmXlZQM3MzMzMjEBAZmZmZmYmRUAzMzMzM3NIQAAAAAAAgERAzczMzMxMOUAAAAAAAMBAQDMzMzMzc0hAMzMzMzNzSEBmZmZmZqZDQDMzMzMzc0hAMzMzMzNzSEAzMzMzM3NIQGZmZmZmRlxAAAAAAADAUkAzMzMzM3NIQGZmZmZmZkNAMzMzMzNzSEDNzMzMzOxSQDMzMzMzc0hAMzMzMzNzSEBmZmZmZqZFQJqZmZmZWUtAAAAAAABAQ0BmZmZmZqZBQJqZmZmZmUlAAAAAAACARkAzMzMzM3NIQJqZmZmZGTxAAAAAAADAWEAzMzMzM3NfQM3MzMzMTF1AZmZmZmbmQUAzMzMzM3NIQGZmZmZm5kRAZmZmZmYmX0AzMzMzM3NIQM3MzMzMzDlAMzMzMzNzSEAzMzMzM3NIQM3MzMzMTENAMzMzMzNzREDNzMzMzIxJQJqZmZmZGVNAMzMzMzNzSEAzMzMzM3NIQJqZmZmZ2VFAMzMzMzOzR0AzMzMzM3NCQAAAAAAAQEZAmpmZmZmZSUAzMzMzM3NIQAAAAAAAwFJAMzMzMzNzSEAzMzMzM3NIQDMzMzMzc0hAzczMzMyMR0AAAAAAAMBVQDMzMzMzc0hAmpmZmZm5VEBmZmZmZmY+QDMzMzMzc0hAAAAAAACAQUAzMzMzM1NbQM3MzMzMzGFAMzMzMzNzSEAzMzMzM3NIQM3MzMzMzDZAzczMzMwMQUAzMzMzMzNDQDMzMzMz80RAMzMzMzNzSEBmZmZmZuY+QDMzMzMzM0FAMzMzMzNzSEBmZmZmZiZfQDMzMzMzc0hAZmZmZmbmPUAzMzMzMxNSQJqZmZmZ+VpAAAAAAAAAWUAzMzMzM3NIQDMzMzMzc0hAMzMzMzMzQUAzMzMzM3NIQDMzMzMzc0hAMzMzMzOzP0AzMzMzM3NIQA==",
          "dtype": "f8"
         },
         "yaxis": "y"
        }
       ],
       "layout": {
        "height": 500,
        "legend": {
         "tracegroupgap": 0
        },
        "template": {
         "data": {
          "bar": [
           {
            "error_x": {
             "color": "#2a3f5f"
            },
            "error_y": {
             "color": "#2a3f5f"
            },
            "marker": {
             "line": {
              "color": "#E5ECF6",
              "width": 0.5
             },
             "pattern": {
              "fillmode": "overlay",
              "size": 10,
              "solidity": 0.2
             }
            },
            "type": "bar"
           }
          ],
          "barpolar": [
           {
            "marker": {
             "line": {
              "color": "#E5ECF6",
              "width": 0.5
             },
             "pattern": {
              "fillmode": "overlay",
              "size": 10,
              "solidity": 0.2
             }
            },
            "type": "barpolar"
           }
          ],
          "carpet": [
           {
            "aaxis": {
             "endlinecolor": "#2a3f5f",
             "gridcolor": "white",
             "linecolor": "white",
             "minorgridcolor": "white",
             "startlinecolor": "#2a3f5f"
            },
            "baxis": {
             "endlinecolor": "#2a3f5f",
             "gridcolor": "white",
             "linecolor": "white",
             "minorgridcolor": "white",
             "startlinecolor": "#2a3f5f"
            },
            "type": "carpet"
           }
          ],
          "choropleth": [
           {
            "colorbar": {
             "outlinewidth": 0,
             "ticks": ""
            },
            "type": "choropleth"
           }
          ],
          "contour": [
           {
            "colorbar": {
             "outlinewidth": 0,
             "ticks": ""
            },
            "colorscale": [
             [
              0,
              "#0d0887"
             ],
             [
              0.1111111111111111,
              "#46039f"
             ],
             [
              0.2222222222222222,
              "#7201a8"
             ],
             [
              0.3333333333333333,
              "#9c179e"
             ],
             [
              0.4444444444444444,
              "#bd3786"
             ],
             [
              0.5555555555555556,
              "#d8576b"
             ],
             [
              0.6666666666666666,
              "#ed7953"
             ],
             [
              0.7777777777777778,
              "#fb9f3a"
             ],
             [
              0.8888888888888888,
              "#fdca26"
             ],
             [
              1,
              "#f0f921"
             ]
            ],
            "type": "contour"
           }
          ],
          "contourcarpet": [
           {
            "colorbar": {
             "outlinewidth": 0,
             "ticks": ""
            },
            "type": "contourcarpet"
           }
          ],
          "heatmap": [
           {
            "colorbar": {
             "outlinewidth": 0,
             "ticks": ""
            },
            "colorscale": [
             [
              0,
              "#0d0887"
             ],
             [
              0.1111111111111111,
              "#46039f"
             ],
             [
              0.2222222222222222,
              "#7201a8"
             ],
             [
              0.3333333333333333,
              "#9c179e"
             ],
             [
              0.4444444444444444,
              "#bd3786"
             ],
             [
              0.5555555555555556,
              "#d8576b"
             ],
             [
              0.6666666666666666,
              "#ed7953"
             ],
             [
              0.7777777777777778,
              "#fb9f3a"
             ],
             [
              0.8888888888888888,
              "#fdca26"
             ],
             [
              1,
              "#f0f921"
             ]
            ],
            "type": "heatmap"
           }
          ],
          "histogram": [
           {
            "marker": {
             "pattern": {
              "fillmode": "overlay",
              "size": 10,
              "solidity": 0.2
             }
            },
            "type": "histogram"
           }
          ],
          "histogram2d": [
           {
            "colorbar": {
             "outlinewidth": 0,
             "ticks": ""
            },
            "colorscale": [
             [
              0,
              "#0d0887"
             ],
             [
              0.1111111111111111,
              "#46039f"
             ],
             [
              0.2222222222222222,
              "#7201a8"
             ],
             [
              0.3333333333333333,
              "#9c179e"
             ],
             [
              0.4444444444444444,
              "#bd3786"
             ],
             [
              0.5555555555555556,
              "#d8576b"
             ],
             [
              0.6666666666666666,
              "#ed7953"
             ],
             [
              0.7777777777777778,
              "#fb9f3a"
             ],
             [
              0.8888888888888888,
              "#fdca26"
             ],
             [
              1,
              "#f0f921"
             ]
            ],
            "type": "histogram2d"
           }
          ],
          "histogram2dcontour": [
           {
            "colorbar": {
             "outlinewidth": 0,
             "ticks": ""
            },
            "colorscale": [
             [
              0,
              "#0d0887"
             ],
             [
              0.1111111111111111,
              "#46039f"
             ],
             [
              0.2222222222222222,
              "#7201a8"
             ],
             [
              0.3333333333333333,
              "#9c179e"
             ],
             [
              0.4444444444444444,
              "#bd3786"
             ],
             [
              0.5555555555555556,
              "#d8576b"
             ],
             [
              0.6666666666666666,
              "#ed7953"
             ],
             [
              0.7777777777777778,
              "#fb9f3a"
             ],
             [
              0.8888888888888888,
              "#fdca26"
             ],
             [
              1,
              "#f0f921"
             ]
            ],
            "type": "histogram2dcontour"
           }
          ],
          "mesh3d": [
           {
            "colorbar": {
             "outlinewidth": 0,
             "ticks": ""
            },
            "type": "mesh3d"
           }
          ],
          "parcoords": [
           {
            "line": {
             "colorbar": {
              "outlinewidth": 0,
              "ticks": ""
             }
            },
            "type": "parcoords"
           }
          ],
          "pie": [
           {
            "automargin": true,
            "type": "pie"
           }
          ],
          "scatter": [
           {
            "fillpattern": {
             "fillmode": "overlay",
             "size": 10,
             "solidity": 0.2
            },
            "type": "scatter"
           }
          ],
          "scatter3d": [
           {
            "line": {
             "colorbar": {
              "outlinewidth": 0,
              "ticks": ""
             }
            },
            "marker": {
             "colorbar": {
              "outlinewidth": 0,
              "ticks": ""
             }
            },
            "type": "scatter3d"
           }
          ],
          "scattercarpet": [
           {
            "marker": {
             "colorbar": {
              "outlinewidth": 0,
              "ticks": ""
             }
            },
            "type": "scattercarpet"
           }
          ],
          "scattergeo": [
           {
            "marker": {
             "colorbar": {
              "outlinewidth": 0,
              "ticks": ""
             }
            },
            "type": "scattergeo"
           }
          ],
          "scattergl": [
           {
            "marker": {
             "colorbar": {
              "outlinewidth": 0,
              "ticks": ""
             }
            },
            "type": "scattergl"
           }
          ],
          "scattermap": [
           {
            "marker": {
             "colorbar": {
              "outlinewidth": 0,
              "ticks": ""
             }
            },
            "type": "scattermap"
           }
          ],
          "scattermapbox": [
           {
            "marker": {
             "colorbar": {
              "outlinewidth": 0,
              "ticks": ""
             }
            },
            "type": "scattermapbox"
           }
          ],
          "scatterpolar": [
           {
            "marker": {
             "colorbar": {
              "outlinewidth": 0,
              "ticks": ""
             }
            },
            "type": "scatterpolar"
           }
          ],
          "scatterpolargl": [
           {
            "marker": {
             "colorbar": {
              "outlinewidth": 0,
              "ticks": ""
             }
            },
            "type": "scatterpolargl"
           }
          ],
          "scatterternary": [
           {
            "marker": {
             "colorbar": {
              "outlinewidth": 0,
              "ticks": ""
             }
            },
            "type": "scatterternary"
           }
          ],
          "surface": [
           {
            "colorbar": {
             "outlinewidth": 0,
             "ticks": ""
            },
            "colorscale": [
             [
              0,
              "#0d0887"
             ],
             [
              0.1111111111111111,
              "#46039f"
             ],
             [
              0.2222222222222222,
              "#7201a8"
             ],
             [
              0.3333333333333333,
              "#9c179e"
             ],
             [
              0.4444444444444444,
              "#bd3786"
             ],
             [
              0.5555555555555556,
              "#d8576b"
             ],
             [
              0.6666666666666666,
              "#ed7953"
             ],
             [
              0.7777777777777778,
              "#fb9f3a"
             ],
             [
              0.8888888888888888,
              "#fdca26"
             ],
             [
              1,
              "#f0f921"
             ]
            ],
            "type": "surface"
           }
          ],
          "table": [
           {
            "cells": {
             "fill": {
              "color": "#EBF0F8"
             },
             "line": {
              "color": "white"
             }
            },
            "header": {
             "fill": {
              "color": "#C8D4E3"
             },
             "line": {
              "color": "white"
             }
            },
            "type": "table"
           }
          ]
         },
         "layout": {
          "annotationdefaults": {
           "arrowcolor": "#2a3f5f",
           "arrowhead": 0,
           "arrowwidth": 1
          },
          "autotypenumbers": "strict",
          "coloraxis": {
           "colorbar": {
            "outlinewidth": 0,
            "ticks": ""
           }
          },
          "colorscale": {
           "diverging": [
            [
             0,
             "#8e0152"
            ],
            [
             0.1,
             "#c51b7d"
            ],
            [
             0.2,
             "#de77ae"
            ],
            [
             0.3,
             "#f1b6da"
            ],
            [
             0.4,
             "#fde0ef"
            ],
            [
             0.5,
             "#f7f7f7"
            ],
            [
             0.6,
             "#e6f5d0"
            ],
            [
             0.7,
             "#b8e186"
            ],
            [
             0.8,
             "#7fbc41"
            ],
            [
             0.9,
             "#4d9221"
            ],
            [
             1,
             "#276419"
            ]
           ],
           "sequential": [
            [
             0,
             "#0d0887"
            ],
            [
             0.1111111111111111,
             "#46039f"
            ],
            [
             0.2222222222222222,
             "#7201a8"
            ],
            [
             0.3333333333333333,
             "#9c179e"
            ],
            [
             0.4444444444444444,
             "#bd3786"
            ],
            [
             0.5555555555555556,
             "#d8576b"
            ],
            [
             0.6666666666666666,
             "#ed7953"
            ],
            [
             0.7777777777777778,
             "#fb9f3a"
            ],
            [
             0.8888888888888888,
             "#fdca26"
            ],
            [
             1,
             "#f0f921"
            ]
           ],
           "sequentialminus": [
            [
             0,
             "#0d0887"
            ],
            [
             0.1111111111111111,
             "#46039f"
            ],
            [
             0.2222222222222222,
             "#7201a8"
            ],
            [
             0.3333333333333333,
             "#9c179e"
            ],
            [
             0.4444444444444444,
             "#bd3786"
            ],
            [
             0.5555555555555556,
             "#d8576b"
            ],
            [
             0.6666666666666666,
             "#ed7953"
            ],
            [
             0.7777777777777778,
             "#fb9f3a"
            ],
            [
             0.8888888888888888,
             "#fdca26"
            ],
            [
             1,
             "#f0f921"
            ]
           ]
          },
          "colorway": [
           "#636efa",
           "#EF553B",
           "#00cc96",
           "#ab63fa",
           "#FFA15A",
           "#19d3f3",
           "#FF6692",
           "#B6E880",
           "#FF97FF",
           "#FECB52"
          ],
          "font": {
           "color": "#2a3f5f"
          },
          "geo": {
           "bgcolor": "white",
           "lakecolor": "white",
           "landcolor": "#E5ECF6",
           "showlakes": true,
           "showland": true,
           "subunitcolor": "white"
          },
          "hoverlabel": {
           "align": "left"
          },
          "hovermode": "closest",
          "mapbox": {
           "style": "light"
          },
          "paper_bgcolor": "white",
          "plot_bgcolor": "#E5ECF6",
          "polar": {
           "angularaxis": {
            "gridcolor": "white",
            "linecolor": "white",
            "ticks": ""
           },
           "bgcolor": "#E5ECF6",
           "radialaxis": {
            "gridcolor": "white",
            "linecolor": "white",
            "ticks": ""
           }
          },
          "scene": {
           "xaxis": {
            "backgroundcolor": "#E5ECF6",
            "gridcolor": "white",
            "gridwidth": 2,
            "linecolor": "white",
            "showbackground": true,
            "ticks": "",
            "zerolinecolor": "white"
           },
           "yaxis": {
            "backgroundcolor": "#E5ECF6",
            "gridcolor": "white",
            "gridwidth": 2,
            "linecolor": "white",
            "showbackground": true,
            "ticks": "",
            "zerolinecolor": "white"
           },
           "zaxis": {
            "backgroundcolor": "#E5ECF6",
            "gridcolor": "white",
            "gridwidth": 2,
            "linecolor": "white",
            "showbackground": true,
            "ticks": "",
            "zerolinecolor": "white"
           }
          },
          "shapedefaults": {
           "line": {
            "color": "#2a3f5f"
           }
          },
          "ternary": {
           "aaxis": {
            "gridcolor": "white",
            "linecolor": "white",
            "ticks": ""
           },
           "baxis": {
            "gridcolor": "white",
            "linecolor": "white",
            "ticks": ""
           },
           "bgcolor": "#E5ECF6",
           "caxis": {
            "gridcolor": "white",
            "linecolor": "white",
            "ticks": ""
           }
          },
          "title": {
           "x": 0.05
          },
          "xaxis": {
           "automargin": true,
           "gridcolor": "white",
           "linecolor": "white",
           "ticks": "",
           "title": {
            "standoff": 15
           },
           "zerolinecolor": "white",
           "zerolinewidth": 2
          },
          "yaxis": {
           "automargin": true,
           "gridcolor": "white",
           "linecolor": "white",
           "ticks": "",
           "title": {
            "standoff": 15
           },
           "zerolinecolor": "white",
           "zerolinewidth": 2
          }
         }
        },
        "title": {
         "text": "Cost of Living by Country (Hover to see values)"
        },
        "xaxis": {
         "anchor": "y",
         "domain": [
          0,
          1
         ],
         "tickangle": 45,
         "title": {
          "text": "Countries"
         }
        },
        "yaxis": {
         "anchor": "x",
         "domain": [
          0,
          1
         ],
         "title": {
          "text": "Cost of Living Index"
         }
        }
       }
      }
     },
     "metadata": {},
     "output_type": "display_data"
    },
    {
     "data": {
      "application/vnd.plotly.v1+json": {
       "config": {
        "plotlyServerURL": "https://plot.ly"
       },
       "data": [
        {
         "hovertemplate": "country=%{x}<br>Corruption Index=%{y}<extra></extra>",
         "legendgroup": "",
         "marker": {
          "color": "#636efa",
          "symbol": "circle"
         },
         "mode": "markers",
         "name": "",
         "orientation": "v",
         "showlegend": false,
         "type": "scatter",
         "x": [
          "Afghanistan",
          "Albania",
          "Algeria",
          "American Samoa",
          "Angola",
          "Argentina",
          "Armenia",
          "Australia",
          "Austria",
          "Azerbaijan",
          "Bahamas",
          "Bahrain",
          "Bangladesh",
          "Barbados",
          "Belarus",
          "Belgium",
          "Benin",
          "Bermuda",
          "Bhutan",
          "Bolivia",
          "Brazil",
          "Brunei",
          "Bulgaria",
          "Burma",
          "Burundi",
          "Cambodia",
          "Cameroon",
          "Canada",
          "Cape Verde",
          "Cayman Islands",
          "Central Africa",
          "Chad",
          "Chile",
          "China",
          "Cocos (Keeling) Islands",
          "Colombia",
          "Comoros",
          "Congo",
          "Congo (Dem. Republic)",
          "Costa Rica",
          "Croatia",
          "Cyprus",
          "Czechia",
          "Denmark",
          "Djibouti",
          "Dominican Republic",
          "Ecuador",
          "Egypt",
          "El Salvador",
          "Equatorial Guinea",
          "Eritrea",
          "Estonia",
          "Eswatini",
          "Ethiopia",
          "Finland",
          "France",
          "Gabon",
          "Georgia",
          "Germany",
          "Ghana",
          "Gibraltar",
          "Greece",
          "Guatemala",
          "Guernsey",
          "Guinea",
          "Haiti",
          "Honduras",
          "Hong Kong",
          "Hungary",
          "Iceland",
          "India",
          "Indonesia",
          "Iran",
          "Iraq",
          "Ireland",
          "Isle of Man",
          "Israel",
          "Italy",
          "Ivory Coast",
          "Japan",
          "Kazakhstan",
          "Kenya",
          "Kiribati",
          "Kosovo",
          "Kyrgyzstan",
          "Laos",
          "Latvia",
          "Lebanon",
          "Lesotho",
          "Liberia",
          "Libya",
          "Lithuania",
          "Luxembourg",
          "Macao",
          "Madagascar",
          "Malaysia",
          "Mali",
          "Malta",
          "Marshall Islands",
          "Mauritania",
          "Mauritius",
          "Mexico",
          "Moldova",
          "Mongolia",
          "Montenegro",
          "Morocco",
          "Mozambique",
          "Nepal",
          "Netherlands",
          "New Caledonia",
          "New Zealand",
          "Nicaragua",
          "Niger",
          "Nigeria",
          "Norway",
          "Oman",
          "Pakistan",
          "Panama",
          "Papua New Guinea",
          "Paraguay",
          "Philippines",
          "Poland",
          "Portugal",
          "Principality of Monaco",
          "Puerto Rico",
          "Qatar",
          "Romania",
          "Russia",
          "Saudi Arabia",
          "Serbia",
          "Sierra Leone",
          "Singapore",
          "Slovakia",
          "Slovenia",
          "Somalia",
          "South Africa",
          "South Korea",
          "South Sudan",
          "Spain",
          "Sri Lanka",
          "Sudan",
          "Suriname",
          "Sweden",
          "Switzerland",
          "Syria",
          "Taiwan",
          "Tajikistan",
          "Tanzania",
          "Thailand",
          "Timor-Leste",
          "Togo",
          "Tunisia",
          "Turkey",
          "Turkmenistan",
          "Turks and Caicos Islands",
          "Uganda",
          "Ukraine",
          "United Arab Emirates",
          "United Kingdom",
          "United States",
          "Uzbekistan",
          "Venezuela",
          "Vietnam",
          "Virgin Islands",
          "Yemen",
          "Zambia",
          "Zimbabwe"
         ],
         "xaxis": "x",
         "y": {
          "bdata": "AAAAAAAAVUAAAAAAAEBRQAAAAAAAwFBAAAAAAABAUUAAAAAAAMBRQAAAAAAAAE9AAAAAAABAUUAAAAAAAAA7QAAAAAAAADpAAAAAAACAUUAAAAAAAEBRQAAAAAAAQFFAAAAAAACAUkAAAAAAAEBRQAAAAAAAQFFAAAAAAAAAO0AAAAAAAEBRQAAAAAAAQFFAAAAAAABAUUAAAAAAAIBRQAAAAAAAAE9AAAAAAABAUUAAAAAAAEBRQAAAAAAAAFJAAAAAAABAVEAAAAAAAEBTQAAAAAAAQFJAAAAAAAAAOkAAAAAAAMBTQAAAAAAAQFFAAAAAAAAAU0AAAAAAAABUQAAAAAAAQFFAAAAAAACAS0AAAAAAAEBRQAAAAAAAQFFAAAAAAAAAVEAAAAAAAMBTQAAAAAAAQFRAAAAAAABAUUAAAAAAAEBRQAAAAAAAQFFAAAAAAABAUUAAAAAAAAAoQAAAAAAAgFFAAAAAAACAUUAAAAAAAABQQAAAAAAAwFBAAAAAAACAUEAAAAAAAMBUQAAAAAAAgFNAAAAAAAAAOkAAAAAAAABRQAAAAAAAQFFAAAAAAAAAKEAAAAAAAAA9QAAAAAAAQFFAAAAAAABAUUAAAAAAAAA0QAAAAAAAQFFAAAAAAABAUUAAAAAAAIBJQAAAAAAAwFJAAAAAAABAUUAAAAAAAMBSQAAAAAAAAFRAAAAAAABAU0AAAAAAAAA4QAAAAAAAQFFAAAAAAAAAOkAAAAAAAABOQAAAAAAAAE9AAAAAAADAUkAAAAAAAEBTQAAAAAAAADpAAAAAAABAUUAAAAAAAIBEQAAAAAAAAEZAAAAAAABAUUAAAAAAAAA7QAAAAAAAQFFAAAAAAACAUUAAAAAAAEBRQAAAAAAAQFFAAAAAAABAUkAAAAAAAIBRQAAAAAAAQFFAAAAAAAAAU0AAAAAAAEBRQAAAAAAAwFFAAAAAAADAVEAAAAAAAEBRQAAAAAAAADNAAAAAAABAUUAAAAAAAIBSQAAAAAAAAEpAAAAAAADAUUAAAAAAAEBRQAAAAAAAQFFAAAAAAAAAUkAAAAAAAEBRQAAAAAAAQFFAAAAAAABAUUAAAAAAAEBRQAAAAAAAQFFAAAAAAABAUUAAAAAAAIBSQAAAAAAAwFBAAAAAAAAAMkAAAAAAAEBRQAAAAAAAAChAAAAAAAAAVEAAAAAAAEBRQAAAAAAAAFNAAAAAAAAALkAAAAAAAEBRQAAAAAAAAFJAAAAAAABAUUAAAAAAAEBRQAAAAAAAgFFAAAAAAADAUEAAAAAAAABGQAAAAAAAAENAAAAAAABAUUAAAAAAAEBRQAAAAAAAgEJAAAAAAACAS0AAAAAAAMBRQAAAAAAAgEdAAAAAAABAUUAAAAAAAIBQQAAAAAAAAC5AAAAAAABAUUAAAAAAAEBRQAAAAAAAwFVAAAAAAAAATEAAAAAAAABDQAAAAAAAQFZAAAAAAACAQ0AAAAAAAIBPQAAAAAAAAFRAAAAAAABAUUAAAAAAAAAuQAAAAAAAADBAAAAAAADAVUAAAAAAAEBRQAAAAAAAwFJAAAAAAABAUUAAAAAAAEBQQAAAAAAAQFFAAAAAAACAUUAAAAAAAEBRQAAAAAAAAE9AAAAAAABAVEAAAAAAAEBRQAAAAAAAQFJAAAAAAAAAUUAAAAAAAAA/QAAAAAAAADZAAAAAAACAQEAAAAAAAABSQAAAAAAAgFVAAAAAAACATkAAAAAAAEBRQAAAAAAAAFVAAAAAAADAUEAAAAAAAEBTQA==",
          "dtype": "f8"
         },
         "yaxis": "y"
        }
       ],
       "layout": {
        "height": 500,
        "legend": {
         "tracegroupgap": 0
        },
        "template": {
         "data": {
          "bar": [
           {
            "error_x": {
             "color": "#2a3f5f"
            },
            "error_y": {
             "color": "#2a3f5f"
            },
            "marker": {
             "line": {
              "color": "#E5ECF6",
              "width": 0.5
             },
             "pattern": {
              "fillmode": "overlay",
              "size": 10,
              "solidity": 0.2
             }
            },
            "type": "bar"
           }
          ],
          "barpolar": [
           {
            "marker": {
             "line": {
              "color": "#E5ECF6",
              "width": 0.5
             },
             "pattern": {
              "fillmode": "overlay",
              "size": 10,
              "solidity": 0.2
             }
            },
            "type": "barpolar"
           }
          ],
          "carpet": [
           {
            "aaxis": {
             "endlinecolor": "#2a3f5f",
             "gridcolor": "white",
             "linecolor": "white",
             "minorgridcolor": "white",
             "startlinecolor": "#2a3f5f"
            },
            "baxis": {
             "endlinecolor": "#2a3f5f",
             "gridcolor": "white",
             "linecolor": "white",
             "minorgridcolor": "white",
             "startlinecolor": "#2a3f5f"
            },
            "type": "carpet"
           }
          ],
          "choropleth": [
           {
            "colorbar": {
             "outlinewidth": 0,
             "ticks": ""
            },
            "type": "choropleth"
           }
          ],
          "contour": [
           {
            "colorbar": {
             "outlinewidth": 0,
             "ticks": ""
            },
            "colorscale": [
             [
              0,
              "#0d0887"
             ],
             [
              0.1111111111111111,
              "#46039f"
             ],
             [
              0.2222222222222222,
              "#7201a8"
             ],
             [
              0.3333333333333333,
              "#9c179e"
             ],
             [
              0.4444444444444444,
              "#bd3786"
             ],
             [
              0.5555555555555556,
              "#d8576b"
             ],
             [
              0.6666666666666666,
              "#ed7953"
             ],
             [
              0.7777777777777778,
              "#fb9f3a"
             ],
             [
              0.8888888888888888,
              "#fdca26"
             ],
             [
              1,
              "#f0f921"
             ]
            ],
            "type": "contour"
           }
          ],
          "contourcarpet": [
           {
            "colorbar": {
             "outlinewidth": 0,
             "ticks": ""
            },
            "type": "contourcarpet"
           }
          ],
          "heatmap": [
           {
            "colorbar": {
             "outlinewidth": 0,
             "ticks": ""
            },
            "colorscale": [
             [
              0,
              "#0d0887"
             ],
             [
              0.1111111111111111,
              "#46039f"
             ],
             [
              0.2222222222222222,
              "#7201a8"
             ],
             [
              0.3333333333333333,
              "#9c179e"
             ],
             [
              0.4444444444444444,
              "#bd3786"
             ],
             [
              0.5555555555555556,
              "#d8576b"
             ],
             [
              0.6666666666666666,
              "#ed7953"
             ],
             [
              0.7777777777777778,
              "#fb9f3a"
             ],
             [
              0.8888888888888888,
              "#fdca26"
             ],
             [
              1,
              "#f0f921"
             ]
            ],
            "type": "heatmap"
           }
          ],
          "histogram": [
           {
            "marker": {
             "pattern": {
              "fillmode": "overlay",
              "size": 10,
              "solidity": 0.2
             }
            },
            "type": "histogram"
           }
          ],
          "histogram2d": [
           {
            "colorbar": {
             "outlinewidth": 0,
             "ticks": ""
            },
            "colorscale": [
             [
              0,
              "#0d0887"
             ],
             [
              0.1111111111111111,
              "#46039f"
             ],
             [
              0.2222222222222222,
              "#7201a8"
             ],
             [
              0.3333333333333333,
              "#9c179e"
             ],
             [
              0.4444444444444444,
              "#bd3786"
             ],
             [
              0.5555555555555556,
              "#d8576b"
             ],
             [
              0.6666666666666666,
              "#ed7953"
             ],
             [
              0.7777777777777778,
              "#fb9f3a"
             ],
             [
              0.8888888888888888,
              "#fdca26"
             ],
             [
              1,
              "#f0f921"
             ]
            ],
            "type": "histogram2d"
           }
          ],
          "histogram2dcontour": [
           {
            "colorbar": {
             "outlinewidth": 0,
             "ticks": ""
            },
            "colorscale": [
             [
              0,
              "#0d0887"
             ],
             [
              0.1111111111111111,
              "#46039f"
             ],
             [
              0.2222222222222222,
              "#7201a8"
             ],
             [
              0.3333333333333333,
              "#9c179e"
             ],
             [
              0.4444444444444444,
              "#bd3786"
             ],
             [
              0.5555555555555556,
              "#d8576b"
             ],
             [
              0.6666666666666666,
              "#ed7953"
             ],
             [
              0.7777777777777778,
              "#fb9f3a"
             ],
             [
              0.8888888888888888,
              "#fdca26"
             ],
             [
              1,
              "#f0f921"
             ]
            ],
            "type": "histogram2dcontour"
           }
          ],
          "mesh3d": [
           {
            "colorbar": {
             "outlinewidth": 0,
             "ticks": ""
            },
            "type": "mesh3d"
           }
          ],
          "parcoords": [
           {
            "line": {
             "colorbar": {
              "outlinewidth": 0,
              "ticks": ""
             }
            },
            "type": "parcoords"
           }
          ],
          "pie": [
           {
            "automargin": true,
            "type": "pie"
           }
          ],
          "scatter": [
           {
            "fillpattern": {
             "fillmode": "overlay",
             "size": 10,
             "solidity": 0.2
            },
            "type": "scatter"
           }
          ],
          "scatter3d": [
           {
            "line": {
             "colorbar": {
              "outlinewidth": 0,
              "ticks": ""
             }
            },
            "marker": {
             "colorbar": {
              "outlinewidth": 0,
              "ticks": ""
             }
            },
            "type": "scatter3d"
           }
          ],
          "scattercarpet": [
           {
            "marker": {
             "colorbar": {
              "outlinewidth": 0,
              "ticks": ""
             }
            },
            "type": "scattercarpet"
           }
          ],
          "scattergeo": [
           {
            "marker": {
             "colorbar": {
              "outlinewidth": 0,
              "ticks": ""
             }
            },
            "type": "scattergeo"
           }
          ],
          "scattergl": [
           {
            "marker": {
             "colorbar": {
              "outlinewidth": 0,
              "ticks": ""
             }
            },
            "type": "scattergl"
           }
          ],
          "scattermap": [
           {
            "marker": {
             "colorbar": {
              "outlinewidth": 0,
              "ticks": ""
             }
            },
            "type": "scattermap"
           }
          ],
          "scattermapbox": [
           {
            "marker": {
             "colorbar": {
              "outlinewidth": 0,
              "ticks": ""
             }
            },
            "type": "scattermapbox"
           }
          ],
          "scatterpolar": [
           {
            "marker": {
             "colorbar": {
              "outlinewidth": 0,
              "ticks": ""
             }
            },
            "type": "scatterpolar"
           }
          ],
          "scatterpolargl": [
           {
            "marker": {
             "colorbar": {
              "outlinewidth": 0,
              "ticks": ""
             }
            },
            "type": "scatterpolargl"
           }
          ],
          "scatterternary": [
           {
            "marker": {
             "colorbar": {
              "outlinewidth": 0,
              "ticks": ""
             }
            },
            "type": "scatterternary"
           }
          ],
          "surface": [
           {
            "colorbar": {
             "outlinewidth": 0,
             "ticks": ""
            },
            "colorscale": [
             [
              0,
              "#0d0887"
             ],
             [
              0.1111111111111111,
              "#46039f"
             ],
             [
              0.2222222222222222,
              "#7201a8"
             ],
             [
              0.3333333333333333,
              "#9c179e"
             ],
             [
              0.4444444444444444,
              "#bd3786"
             ],
             [
              0.5555555555555556,
              "#d8576b"
             ],
             [
              0.6666666666666666,
              "#ed7953"
             ],
             [
              0.7777777777777778,
              "#fb9f3a"
             ],
             [
              0.8888888888888888,
              "#fdca26"
             ],
             [
              1,
              "#f0f921"
             ]
            ],
            "type": "surface"
           }
          ],
          "table": [
           {
            "cells": {
             "fill": {
              "color": "#EBF0F8"
             },
             "line": {
              "color": "white"
             }
            },
            "header": {
             "fill": {
              "color": "#C8D4E3"
             },
             "line": {
              "color": "white"
             }
            },
            "type": "table"
           }
          ]
         },
         "layout": {
          "annotationdefaults": {
           "arrowcolor": "#2a3f5f",
           "arrowhead": 0,
           "arrowwidth": 1
          },
          "autotypenumbers": "strict",
          "coloraxis": {
           "colorbar": {
            "outlinewidth": 0,
            "ticks": ""
           }
          },
          "colorscale": {
           "diverging": [
            [
             0,
             "#8e0152"
            ],
            [
             0.1,
             "#c51b7d"
            ],
            [
             0.2,
             "#de77ae"
            ],
            [
             0.3,
             "#f1b6da"
            ],
            [
             0.4,
             "#fde0ef"
            ],
            [
             0.5,
             "#f7f7f7"
            ],
            [
             0.6,
             "#e6f5d0"
            ],
            [
             0.7,
             "#b8e186"
            ],
            [
             0.8,
             "#7fbc41"
            ],
            [
             0.9,
             "#4d9221"
            ],
            [
             1,
             "#276419"
            ]
           ],
           "sequential": [
            [
             0,
             "#0d0887"
            ],
            [
             0.1111111111111111,
             "#46039f"
            ],
            [
             0.2222222222222222,
             "#7201a8"
            ],
            [
             0.3333333333333333,
             "#9c179e"
            ],
            [
             0.4444444444444444,
             "#bd3786"
            ],
            [
             0.5555555555555556,
             "#d8576b"
            ],
            [
             0.6666666666666666,
             "#ed7953"
            ],
            [
             0.7777777777777778,
             "#fb9f3a"
            ],
            [
             0.8888888888888888,
             "#fdca26"
            ],
            [
             1,
             "#f0f921"
            ]
           ],
           "sequentialminus": [
            [
             0,
             "#0d0887"
            ],
            [
             0.1111111111111111,
             "#46039f"
            ],
            [
             0.2222222222222222,
             "#7201a8"
            ],
            [
             0.3333333333333333,
             "#9c179e"
            ],
            [
             0.4444444444444444,
             "#bd3786"
            ],
            [
             0.5555555555555556,
             "#d8576b"
            ],
            [
             0.6666666666666666,
             "#ed7953"
            ],
            [
             0.7777777777777778,
             "#fb9f3a"
            ],
            [
             0.8888888888888888,
             "#fdca26"
            ],
            [
             1,
             "#f0f921"
            ]
           ]
          },
          "colorway": [
           "#636efa",
           "#EF553B",
           "#00cc96",
           "#ab63fa",
           "#FFA15A",
           "#19d3f3",
           "#FF6692",
           "#B6E880",
           "#FF97FF",
           "#FECB52"
          ],
          "font": {
           "color": "#2a3f5f"
          },
          "geo": {
           "bgcolor": "white",
           "lakecolor": "white",
           "landcolor": "#E5ECF6",
           "showlakes": true,
           "showland": true,
           "subunitcolor": "white"
          },
          "hoverlabel": {
           "align": "left"
          },
          "hovermode": "closest",
          "mapbox": {
           "style": "light"
          },
          "paper_bgcolor": "white",
          "plot_bgcolor": "#E5ECF6",
          "polar": {
           "angularaxis": {
            "gridcolor": "white",
            "linecolor": "white",
            "ticks": ""
           },
           "bgcolor": "#E5ECF6",
           "radialaxis": {
            "gridcolor": "white",
            "linecolor": "white",
            "ticks": ""
           }
          },
          "scene": {
           "xaxis": {
            "backgroundcolor": "#E5ECF6",
            "gridcolor": "white",
            "gridwidth": 2,
            "linecolor": "white",
            "showbackground": true,
            "ticks": "",
            "zerolinecolor": "white"
           },
           "yaxis": {
            "backgroundcolor": "#E5ECF6",
            "gridcolor": "white",
            "gridwidth": 2,
            "linecolor": "white",
            "showbackground": true,
            "ticks": "",
            "zerolinecolor": "white"
           },
           "zaxis": {
            "backgroundcolor": "#E5ECF6",
            "gridcolor": "white",
            "gridwidth": 2,
            "linecolor": "white",
            "showbackground": true,
            "ticks": "",
            "zerolinecolor": "white"
           }
          },
          "shapedefaults": {
           "line": {
            "color": "#2a3f5f"
           }
          },
          "ternary": {
           "aaxis": {
            "gridcolor": "white",
            "linecolor": "white",
            "ticks": ""
           },
           "baxis": {
            "gridcolor": "white",
            "linecolor": "white",
            "ticks": ""
           },
           "bgcolor": "#E5ECF6",
           "caxis": {
            "gridcolor": "white",
            "linecolor": "white",
            "ticks": ""
           }
          },
          "title": {
           "x": 0.05
          },
          "xaxis": {
           "automargin": true,
           "gridcolor": "white",
           "linecolor": "white",
           "ticks": "",
           "title": {
            "standoff": 15
           },
           "zerolinecolor": "white",
           "zerolinewidth": 2
          },
          "yaxis": {
           "automargin": true,
           "gridcolor": "white",
           "linecolor": "white",
           "ticks": "",
           "title": {
            "standoff": 15
           },
           "zerolinecolor": "white",
           "zerolinewidth": 2
          }
         }
        },
        "title": {
         "text": "Corruption Index by Country (Hover to see values)"
        },
        "xaxis": {
         "anchor": "y",
         "domain": [
          0,
          1
         ],
         "tickangle": 45,
         "title": {
          "text": "Countries"
         }
        },
        "yaxis": {
         "anchor": "x",
         "domain": [
          0,
          1
         ],
         "title": {
          "text": "Corruption Index"
         }
        }
       }
      }
     },
     "metadata": {},
     "output_type": "display_data"
    },
    {
     "name": "stdout",
     "output_type": "stream",
     "text": [
      "\n",
      "Strip Plots - All Countries Visible:\n",
      "========================================\n"
     ]
    },
    {
     "data": {
      "application/vnd.plotly.v1+json": {
       "config": {
        "plotlyServerURL": "https://plot.ly"
       },
       "data": [
        {
         "alignmentgroup": "True",
         "boxpoints": "all",
         "customdata": [
          [
           "Afghanistan"
          ],
          [
           "Albania"
          ],
          [
           "Algeria"
          ],
          [
           "American Samoa"
          ],
          [
           "Angola"
          ],
          [
           "Argentina"
          ],
          [
           "Armenia"
          ],
          [
           "Australia"
          ],
          [
           "Austria"
          ],
          [
           "Azerbaijan"
          ],
          [
           "Bahamas"
          ],
          [
           "Bahrain"
          ],
          [
           "Bangladesh"
          ],
          [
           "Barbados"
          ],
          [
           "Belarus"
          ],
          [
           "Belgium"
          ],
          [
           "Benin"
          ],
          [
           "Bermuda"
          ],
          [
           "Bhutan"
          ],
          [
           "Bolivia"
          ],
          [
           "Brazil"
          ],
          [
           "Brunei"
          ],
          [
           "Bulgaria"
          ],
          [
           "Burma"
          ],
          [
           "Burundi"
          ],
          [
           "Cambodia"
          ],
          [
           "Cameroon"
          ],
          [
           "Canada"
          ],
          [
           "Cape Verde"
          ],
          [
           "Cayman Islands"
          ],
          [
           "Central Africa"
          ],
          [
           "Chad"
          ],
          [
           "Chile"
          ],
          [
           "China"
          ],
          [
           "Cocos (Keeling) Islands"
          ],
          [
           "Colombia"
          ],
          [
           "Comoros"
          ],
          [
           "Congo"
          ],
          [
           "Congo (Dem. Republic)"
          ],
          [
           "Costa Rica"
          ],
          [
           "Croatia"
          ],
          [
           "Cyprus"
          ],
          [
           "Czechia"
          ],
          [
           "Denmark"
          ],
          [
           "Djibouti"
          ],
          [
           "Dominican Republic"
          ],
          [
           "Ecuador"
          ],
          [
           "Egypt"
          ],
          [
           "El Salvador"
          ],
          [
           "Equatorial Guinea"
          ],
          [
           "Eritrea"
          ],
          [
           "Estonia"
          ],
          [
           "Eswatini"
          ],
          [
           "Ethiopia"
          ],
          [
           "Finland"
          ],
          [
           "France"
          ],
          [
           "Gabon"
          ],
          [
           "Georgia"
          ],
          [
           "Germany"
          ],
          [
           "Ghana"
          ],
          [
           "Gibraltar"
          ],
          [
           "Greece"
          ],
          [
           "Guatemala"
          ],
          [
           "Guernsey"
          ],
          [
           "Guinea"
          ],
          [
           "Haiti"
          ],
          [
           "Honduras"
          ],
          [
           "Hong Kong"
          ],
          [
           "Hungary"
          ],
          [
           "Iceland"
          ],
          [
           "India"
          ],
          [
           "Indonesia"
          ],
          [
           "Iran"
          ],
          [
           "Iraq"
          ],
          [
           "Ireland"
          ],
          [
           "Isle of Man"
          ],
          [
           "Israel"
          ],
          [
           "Italy"
          ],
          [
           "Ivory Coast"
          ],
          [
           "Japan"
          ],
          [
           "Kazakhstan"
          ],
          [
           "Kenya"
          ],
          [
           "Kiribati"
          ],
          [
           "Kosovo"
          ],
          [
           "Kyrgyzstan"
          ],
          [
           "Laos"
          ],
          [
           "Latvia"
          ],
          [
           "Lebanon"
          ],
          [
           "Lesotho"
          ],
          [
           "Liberia"
          ],
          [
           "Libya"
          ],
          [
           "Lithuania"
          ],
          [
           "Luxembourg"
          ],
          [
           "Macao"
          ],
          [
           "Madagascar"
          ],
          [
           "Malaysia"
          ],
          [
           "Mali"
          ],
          [
           "Malta"
          ],
          [
           "Marshall Islands"
          ],
          [
           "Mauritania"
          ],
          [
           "Mauritius"
          ],
          [
           "Mexico"
          ],
          [
           "Moldova"
          ],
          [
           "Mongolia"
          ],
          [
           "Montenegro"
          ],
          [
           "Morocco"
          ],
          [
           "Mozambique"
          ],
          [
           "Nepal"
          ],
          [
           "Netherlands"
          ],
          [
           "New Caledonia"
          ],
          [
           "New Zealand"
          ],
          [
           "Nicaragua"
          ],
          [
           "Niger"
          ],
          [
           "Nigeria"
          ],
          [
           "Norway"
          ],
          [
           "Oman"
          ],
          [
           "Pakistan"
          ],
          [
           "Panama"
          ],
          [
           "Papua New Guinea"
          ],
          [
           "Paraguay"
          ],
          [
           "Philippines"
          ],
          [
           "Poland"
          ],
          [
           "Portugal"
          ],
          [
           "Principality of Monaco"
          ],
          [
           "Puerto Rico"
          ],
          [
           "Qatar"
          ],
          [
           "Romania"
          ],
          [
           "Russia"
          ],
          [
           "Saudi Arabia"
          ],
          [
           "Serbia"
          ],
          [
           "Sierra Leone"
          ],
          [
           "Singapore"
          ],
          [
           "Slovakia"
          ],
          [
           "Slovenia"
          ],
          [
           "Somalia"
          ],
          [
           "South Africa"
          ],
          [
           "South Korea"
          ],
          [
           "South Sudan"
          ],
          [
           "Spain"
          ],
          [
           "Sri Lanka"
          ],
          [
           "Sudan"
          ],
          [
           "Suriname"
          ],
          [
           "Sweden"
          ],
          [
           "Switzerland"
          ],
          [
           "Syria"
          ],
          [
           "Taiwan"
          ],
          [
           "Tajikistan"
          ],
          [
           "Tanzania"
          ],
          [
           "Thailand"
          ],
          [
           "Timor-Leste"
          ],
          [
           "Togo"
          ],
          [
           "Tunisia"
          ],
          [
           "Turkey"
          ],
          [
           "Turkmenistan"
          ],
          [
           "Turks and Caicos Islands"
          ],
          [
           "Uganda"
          ],
          [
           "Ukraine"
          ],
          [
           "United Arab Emirates"
          ],
          [
           "United Kingdom"
          ],
          [
           "United States"
          ],
          [
           "Uzbekistan"
          ],
          [
           "Venezuela"
          ],
          [
           "Vietnam"
          ],
          [
           "Virgin Islands"
          ],
          [
           "Yemen"
          ],
          [
           "Zambia"
          ],
          [
           "Zimbabwe"
          ]
         ],
         "fillcolor": "rgba(255,255,255,0)",
         "hoveron": "points",
         "hovertemplate": "gdp_per_capita=%{y}<br>country=%{customdata[0]}<extra></extra>",
         "legendgroup": "",
         "line": {
          "color": "rgba(255,255,255,0)"
         },
         "marker": {
          "color": "#636efa"
         },
         "name": "",
         "offsetgroup": "",
         "orientation": "v",
         "pointpos": 0,
         "showlegend": false,
         "type": "box",
         "x0": " ",
         "xaxis": "x",
         "y": {
          "bdata": "AAAAAIAa50AAAAAAgBrnQAAAAACAGudAAAAAAIAa50AAAAAAgBrnQAAAAACAGudAAAAAAIAa50AAAAAA4D/rQAAAAABgh+xAAAAAAIAa50AAAAAAgKfgQAAAAABgLOZAAAAAAIAa50AAAAAAgBrnQAAAAACAGudAAAAAAGDG7EAAAAAAgBrnQAAAAACAzPRAAAAAAIAa50AAAAAAgBrnQAAAAACAGudAAAAAAMBD8EAAAAAAgBrnQAAAAACAGudAAAAAAIAa50AAAAAAgBrnQAAAAACAGudAAAAAAKBu6UAAAAAAgBrnQAAAAACAGudAAAAAAIAa50AAAAAAgBrnQAAAAACAGudAAAAAAIAa50AAAAAAgBrnQAAAAACAGudAAAAAAIAa50AAAAAAgBrnQAAAAACAGudAAAAAAIAa50AAAAAAIIHgQAAAAABAxd5AAAAAAKCc5UAAAAAAYJHvQAAAAACAGudAAAAAAIAa50AAAAAAgBrnQAAAAACAGudAAAAAAIAa50AAAAAAgBrnQAAAAACAGudAAAAAAACa5EAAAAAAgBrnQAAAAACAGudAAAAAAODb6kAAAAAAIMXoQAAAAACAGudAAAAAAIAa50AAAAAAAEnsQAAAAACAGudAAAAAAIAa50AAAAAAwI/eQAAAAACAGudAAAAAAIAa50AAAAAAgBrnQAAAAACAGudAAAAAAIAa50AAAAAAUBvwQAAAAAAg8uFAAAAAAMAl7EAAAAAAgBrnQAAAAACAGudAAAAAAIAa50AAAAAAgBrnQAAAAACA/flAAAAAAIAa50AAAAAAQFnlQAAAAAAAbuZAAAAAAIAa50AAAAAAgPfkQAAAAACAGudAAAAAAIAa50AAAAAAgBrnQAAAAACAGudAAAAAAIAa50AAAAAAgBrnQAAAAACg1OBAAAAAAIAa50AAAAAAgBrnQAAAAACAGudAAAAAAIAa50AAAAAAINXkQAAAAAAQcwBBAAAAAKAE8kAAAAAAgBrnQAAAAACAGudAAAAAAIAa50AAAAAAQEznQAAAAACAGudAAAAAAIAa50AAAAAAgBrnQAAAAACAGudAAAAAAIAa50AAAAAAgBrnQAAAAACAGudAAAAAAIAa50AAAAAAgBrnQAAAAACAGudAAAAAAOAi70AAAAAAgBrnQAAAAACAquZAAAAAAIAa50AAAAAAgBrnQAAAAACAGudAAAAAABBW80AAAAAAgLXdQAAAAACAGudAAAAAAADw3kAAAAAAgBrnQAAAAACAGudAAAAAAIAa50AAAAAA4E/iQAAAAAAAhuFAAAAAAIAa50AAAAAAgBrnQAAAAAAQ1fZAAAAAAMBK4UAAAAAAIErgQAAAAADgMehAAAAAAIAa50AAAAAAgBrnQAAAAABgcPxAAAAAAEAe4EAAAAAAIE3lQAAAAACAGudAAAAAAIAa50AAAAAAwOjmQAAAAACAGudAAAAAAODo40AAAAAAgBrnQAAAAACAGudAAAAAAIAa50AAAAAAgPfsQAAAAADA4PJAAAAAAIAa50AAAAAAgBrnQAAAAACAGudAAAAAAIAa50AAAAAAgBrnQAAAAACAGudAAAAAAIAa50AAAAAAgBrnQAAAAAAAwt1AAAAAAIAa50AAAAAAgBrnQAAAAACAGudAAAAAAIAa50AAAAAAgBrnQAAAAABgQehAAAAAAIDq8EAAAAAAgBrnQAAAAACAGudAAAAAAIAa50AAAAAAgBrnQAAAAACAGudAAAAAAIAa50AAAAAAgBrnQA==",
          "dtype": "f8"
         },
         "y0": " ",
         "yaxis": "y"
        }
       ],
       "layout": {
        "boxmode": "group",
        "legend": {
         "tracegroupgap": 0
        },
        "template": {
         "data": {
          "bar": [
           {
            "error_x": {
             "color": "#2a3f5f"
            },
            "error_y": {
             "color": "#2a3f5f"
            },
            "marker": {
             "line": {
              "color": "#E5ECF6",
              "width": 0.5
             },
             "pattern": {
              "fillmode": "overlay",
              "size": 10,
              "solidity": 0.2
             }
            },
            "type": "bar"
           }
          ],
          "barpolar": [
           {
            "marker": {
             "line": {
              "color": "#E5ECF6",
              "width": 0.5
             },
             "pattern": {
              "fillmode": "overlay",
              "size": 10,
              "solidity": 0.2
             }
            },
            "type": "barpolar"
           }
          ],
          "carpet": [
           {
            "aaxis": {
             "endlinecolor": "#2a3f5f",
             "gridcolor": "white",
             "linecolor": "white",
             "minorgridcolor": "white",
             "startlinecolor": "#2a3f5f"
            },
            "baxis": {
             "endlinecolor": "#2a3f5f",
             "gridcolor": "white",
             "linecolor": "white",
             "minorgridcolor": "white",
             "startlinecolor": "#2a3f5f"
            },
            "type": "carpet"
           }
          ],
          "choropleth": [
           {
            "colorbar": {
             "outlinewidth": 0,
             "ticks": ""
            },
            "type": "choropleth"
           }
          ],
          "contour": [
           {
            "colorbar": {
             "outlinewidth": 0,
             "ticks": ""
            },
            "colorscale": [
             [
              0,
              "#0d0887"
             ],
             [
              0.1111111111111111,
              "#46039f"
             ],
             [
              0.2222222222222222,
              "#7201a8"
             ],
             [
              0.3333333333333333,
              "#9c179e"
             ],
             [
              0.4444444444444444,
              "#bd3786"
             ],
             [
              0.5555555555555556,
              "#d8576b"
             ],
             [
              0.6666666666666666,
              "#ed7953"
             ],
             [
              0.7777777777777778,
              "#fb9f3a"
             ],
             [
              0.8888888888888888,
              "#fdca26"
             ],
             [
              1,
              "#f0f921"
             ]
            ],
            "type": "contour"
           }
          ],
          "contourcarpet": [
           {
            "colorbar": {
             "outlinewidth": 0,
             "ticks": ""
            },
            "type": "contourcarpet"
           }
          ],
          "heatmap": [
           {
            "colorbar": {
             "outlinewidth": 0,
             "ticks": ""
            },
            "colorscale": [
             [
              0,
              "#0d0887"
             ],
             [
              0.1111111111111111,
              "#46039f"
             ],
             [
              0.2222222222222222,
              "#7201a8"
             ],
             [
              0.3333333333333333,
              "#9c179e"
             ],
             [
              0.4444444444444444,
              "#bd3786"
             ],
             [
              0.5555555555555556,
              "#d8576b"
             ],
             [
              0.6666666666666666,
              "#ed7953"
             ],
             [
              0.7777777777777778,
              "#fb9f3a"
             ],
             [
              0.8888888888888888,
              "#fdca26"
             ],
             [
              1,
              "#f0f921"
             ]
            ],
            "type": "heatmap"
           }
          ],
          "histogram": [
           {
            "marker": {
             "pattern": {
              "fillmode": "overlay",
              "size": 10,
              "solidity": 0.2
             }
            },
            "type": "histogram"
           }
          ],
          "histogram2d": [
           {
            "colorbar": {
             "outlinewidth": 0,
             "ticks": ""
            },
            "colorscale": [
             [
              0,
              "#0d0887"
             ],
             [
              0.1111111111111111,
              "#46039f"
             ],
             [
              0.2222222222222222,
              "#7201a8"
             ],
             [
              0.3333333333333333,
              "#9c179e"
             ],
             [
              0.4444444444444444,
              "#bd3786"
             ],
             [
              0.5555555555555556,
              "#d8576b"
             ],
             [
              0.6666666666666666,
              "#ed7953"
             ],
             [
              0.7777777777777778,
              "#fb9f3a"
             ],
             [
              0.8888888888888888,
              "#fdca26"
             ],
             [
              1,
              "#f0f921"
             ]
            ],
            "type": "histogram2d"
           }
          ],
          "histogram2dcontour": [
           {
            "colorbar": {
             "outlinewidth": 0,
             "ticks": ""
            },
            "colorscale": [
             [
              0,
              "#0d0887"
             ],
             [
              0.1111111111111111,
              "#46039f"
             ],
             [
              0.2222222222222222,
              "#7201a8"
             ],
             [
              0.3333333333333333,
              "#9c179e"
             ],
             [
              0.4444444444444444,
              "#bd3786"
             ],
             [
              0.5555555555555556,
              "#d8576b"
             ],
             [
              0.6666666666666666,
              "#ed7953"
             ],
             [
              0.7777777777777778,
              "#fb9f3a"
             ],
             [
              0.8888888888888888,
              "#fdca26"
             ],
             [
              1,
              "#f0f921"
             ]
            ],
            "type": "histogram2dcontour"
           }
          ],
          "mesh3d": [
           {
            "colorbar": {
             "outlinewidth": 0,
             "ticks": ""
            },
            "type": "mesh3d"
           }
          ],
          "parcoords": [
           {
            "line": {
             "colorbar": {
              "outlinewidth": 0,
              "ticks": ""
             }
            },
            "type": "parcoords"
           }
          ],
          "pie": [
           {
            "automargin": true,
            "type": "pie"
           }
          ],
          "scatter": [
           {
            "fillpattern": {
             "fillmode": "overlay",
             "size": 10,
             "solidity": 0.2
            },
            "type": "scatter"
           }
          ],
          "scatter3d": [
           {
            "line": {
             "colorbar": {
              "outlinewidth": 0,
              "ticks": ""
             }
            },
            "marker": {
             "colorbar": {
              "outlinewidth": 0,
              "ticks": ""
             }
            },
            "type": "scatter3d"
           }
          ],
          "scattercarpet": [
           {
            "marker": {
             "colorbar": {
              "outlinewidth": 0,
              "ticks": ""
             }
            },
            "type": "scattercarpet"
           }
          ],
          "scattergeo": [
           {
            "marker": {
             "colorbar": {
              "outlinewidth": 0,
              "ticks": ""
             }
            },
            "type": "scattergeo"
           }
          ],
          "scattergl": [
           {
            "marker": {
             "colorbar": {
              "outlinewidth": 0,
              "ticks": ""
             }
            },
            "type": "scattergl"
           }
          ],
          "scattermap": [
           {
            "marker": {
             "colorbar": {
              "outlinewidth": 0,
              "ticks": ""
             }
            },
            "type": "scattermap"
           }
          ],
          "scattermapbox": [
           {
            "marker": {
             "colorbar": {
              "outlinewidth": 0,
              "ticks": ""
             }
            },
            "type": "scattermapbox"
           }
          ],
          "scatterpolar": [
           {
            "marker": {
             "colorbar": {
              "outlinewidth": 0,
              "ticks": ""
             }
            },
            "type": "scatterpolar"
           }
          ],
          "scatterpolargl": [
           {
            "marker": {
             "colorbar": {
              "outlinewidth": 0,
              "ticks": ""
             }
            },
            "type": "scatterpolargl"
           }
          ],
          "scatterternary": [
           {
            "marker": {
             "colorbar": {
              "outlinewidth": 0,
              "ticks": ""
             }
            },
            "type": "scatterternary"
           }
          ],
          "surface": [
           {
            "colorbar": {
             "outlinewidth": 0,
             "ticks": ""
            },
            "colorscale": [
             [
              0,
              "#0d0887"
             ],
             [
              0.1111111111111111,
              "#46039f"
             ],
             [
              0.2222222222222222,
              "#7201a8"
             ],
             [
              0.3333333333333333,
              "#9c179e"
             ],
             [
              0.4444444444444444,
              "#bd3786"
             ],
             [
              0.5555555555555556,
              "#d8576b"
             ],
             [
              0.6666666666666666,
              "#ed7953"
             ],
             [
              0.7777777777777778,
              "#fb9f3a"
             ],
             [
              0.8888888888888888,
              "#fdca26"
             ],
             [
              1,
              "#f0f921"
             ]
            ],
            "type": "surface"
           }
          ],
          "table": [
           {
            "cells": {
             "fill": {
              "color": "#EBF0F8"
             },
             "line": {
              "color": "white"
             }
            },
            "header": {
             "fill": {
              "color": "#C8D4E3"
             },
             "line": {
              "color": "white"
             }
            },
            "type": "table"
           }
          ]
         },
         "layout": {
          "annotationdefaults": {
           "arrowcolor": "#2a3f5f",
           "arrowhead": 0,
           "arrowwidth": 1
          },
          "autotypenumbers": "strict",
          "coloraxis": {
           "colorbar": {
            "outlinewidth": 0,
            "ticks": ""
           }
          },
          "colorscale": {
           "diverging": [
            [
             0,
             "#8e0152"
            ],
            [
             0.1,
             "#c51b7d"
            ],
            [
             0.2,
             "#de77ae"
            ],
            [
             0.3,
             "#f1b6da"
            ],
            [
             0.4,
             "#fde0ef"
            ],
            [
             0.5,
             "#f7f7f7"
            ],
            [
             0.6,
             "#e6f5d0"
            ],
            [
             0.7,
             "#b8e186"
            ],
            [
             0.8,
             "#7fbc41"
            ],
            [
             0.9,
             "#4d9221"
            ],
            [
             1,
             "#276419"
            ]
           ],
           "sequential": [
            [
             0,
             "#0d0887"
            ],
            [
             0.1111111111111111,
             "#46039f"
            ],
            [
             0.2222222222222222,
             "#7201a8"
            ],
            [
             0.3333333333333333,
             "#9c179e"
            ],
            [
             0.4444444444444444,
             "#bd3786"
            ],
            [
             0.5555555555555556,
             "#d8576b"
            ],
            [
             0.6666666666666666,
             "#ed7953"
            ],
            [
             0.7777777777777778,
             "#fb9f3a"
            ],
            [
             0.8888888888888888,
             "#fdca26"
            ],
            [
             1,
             "#f0f921"
            ]
           ],
           "sequentialminus": [
            [
             0,
             "#0d0887"
            ],
            [
             0.1111111111111111,
             "#46039f"
            ],
            [
             0.2222222222222222,
             "#7201a8"
            ],
            [
             0.3333333333333333,
             "#9c179e"
            ],
            [
             0.4444444444444444,
             "#bd3786"
            ],
            [
             0.5555555555555556,
             "#d8576b"
            ],
            [
             0.6666666666666666,
             "#ed7953"
            ],
            [
             0.7777777777777778,
             "#fb9f3a"
            ],
            [
             0.8888888888888888,
             "#fdca26"
            ],
            [
             1,
             "#f0f921"
            ]
           ]
          },
          "colorway": [
           "#636efa",
           "#EF553B",
           "#00cc96",
           "#ab63fa",
           "#FFA15A",
           "#19d3f3",
           "#FF6692",
           "#B6E880",
           "#FF97FF",
           "#FECB52"
          ],
          "font": {
           "color": "#2a3f5f"
          },
          "geo": {
           "bgcolor": "white",
           "lakecolor": "white",
           "landcolor": "#E5ECF6",
           "showlakes": true,
           "showland": true,
           "subunitcolor": "white"
          },
          "hoverlabel": {
           "align": "left"
          },
          "hovermode": "closest",
          "mapbox": {
           "style": "light"
          },
          "paper_bgcolor": "white",
          "plot_bgcolor": "#E5ECF6",
          "polar": {
           "angularaxis": {
            "gridcolor": "white",
            "linecolor": "white",
            "ticks": ""
           },
           "bgcolor": "#E5ECF6",
           "radialaxis": {
            "gridcolor": "white",
            "linecolor": "white",
            "ticks": ""
           }
          },
          "scene": {
           "xaxis": {
            "backgroundcolor": "#E5ECF6",
            "gridcolor": "white",
            "gridwidth": 2,
            "linecolor": "white",
            "showbackground": true,
            "ticks": "",
            "zerolinecolor": "white"
           },
           "yaxis": {
            "backgroundcolor": "#E5ECF6",
            "gridcolor": "white",
            "gridwidth": 2,
            "linecolor": "white",
            "showbackground": true,
            "ticks": "",
            "zerolinecolor": "white"
           },
           "zaxis": {
            "backgroundcolor": "#E5ECF6",
            "gridcolor": "white",
            "gridwidth": 2,
            "linecolor": "white",
            "showbackground": true,
            "ticks": "",
            "zerolinecolor": "white"
           }
          },
          "shapedefaults": {
           "line": {
            "color": "#2a3f5f"
           }
          },
          "ternary": {
           "aaxis": {
            "gridcolor": "white",
            "linecolor": "white",
            "ticks": ""
           },
           "baxis": {
            "gridcolor": "white",
            "linecolor": "white",
            "ticks": ""
           },
           "bgcolor": "#E5ECF6",
           "caxis": {
            "gridcolor": "white",
            "linecolor": "white",
            "ticks": ""
           }
          },
          "title": {
           "x": 0.05
          },
          "xaxis": {
           "automargin": true,
           "gridcolor": "white",
           "linecolor": "white",
           "ticks": "",
           "title": {
            "standoff": 15
           },
           "zerolinecolor": "white",
           "zerolinewidth": 2
          },
          "yaxis": {
           "automargin": true,
           "gridcolor": "white",
           "linecolor": "white",
           "ticks": "",
           "title": {
            "standoff": 15
           },
           "zerolinecolor": "white",
           "zerolinewidth": 2
          }
         }
        },
        "title": {
         "text": "GDP per Capita Distribution - All Countries"
        },
        "xaxis": {
         "anchor": "y",
         "domain": [
          0,
          1
         ]
        },
        "yaxis": {
         "anchor": "x",
         "domain": [
          0,
          1
         ],
         "title": {
          "text": "gdp_per_capita"
         }
        }
       }
      }
     },
     "metadata": {},
     "output_type": "display_data"
    },
    {
     "data": {
      "application/vnd.plotly.v1+json": {
       "config": {
        "plotlyServerURL": "https://plot.ly"
       },
       "data": [
        {
         "alignmentgroup": "True",
         "boxpoints": "all",
         "customdata": [
          [
           "Afghanistan"
          ],
          [
           "Albania"
          ],
          [
           "Algeria"
          ],
          [
           "American Samoa"
          ],
          [
           "Angola"
          ],
          [
           "Argentina"
          ],
          [
           "Armenia"
          ],
          [
           "Australia"
          ],
          [
           "Austria"
          ],
          [
           "Azerbaijan"
          ],
          [
           "Bahamas"
          ],
          [
           "Bahrain"
          ],
          [
           "Bangladesh"
          ],
          [
           "Barbados"
          ],
          [
           "Belarus"
          ],
          [
           "Belgium"
          ],
          [
           "Benin"
          ],
          [
           "Bermuda"
          ],
          [
           "Bhutan"
          ],
          [
           "Bolivia"
          ],
          [
           "Brazil"
          ],
          [
           "Brunei"
          ],
          [
           "Bulgaria"
          ],
          [
           "Burma"
          ],
          [
           "Burundi"
          ],
          [
           "Cambodia"
          ],
          [
           "Cameroon"
          ],
          [
           "Canada"
          ],
          [
           "Cape Verde"
          ],
          [
           "Cayman Islands"
          ],
          [
           "Central Africa"
          ],
          [
           "Chad"
          ],
          [
           "Chile"
          ],
          [
           "China"
          ],
          [
           "Cocos (Keeling) Islands"
          ],
          [
           "Colombia"
          ],
          [
           "Comoros"
          ],
          [
           "Congo"
          ],
          [
           "Congo (Dem. Republic)"
          ],
          [
           "Costa Rica"
          ],
          [
           "Croatia"
          ],
          [
           "Cyprus"
          ],
          [
           "Czechia"
          ],
          [
           "Denmark"
          ],
          [
           "Djibouti"
          ],
          [
           "Dominican Republic"
          ],
          [
           "Ecuador"
          ],
          [
           "Egypt"
          ],
          [
           "El Salvador"
          ],
          [
           "Equatorial Guinea"
          ],
          [
           "Eritrea"
          ],
          [
           "Estonia"
          ],
          [
           "Eswatini"
          ],
          [
           "Ethiopia"
          ],
          [
           "Finland"
          ],
          [
           "France"
          ],
          [
           "Gabon"
          ],
          [
           "Georgia"
          ],
          [
           "Germany"
          ],
          [
           "Ghana"
          ],
          [
           "Gibraltar"
          ],
          [
           "Greece"
          ],
          [
           "Guatemala"
          ],
          [
           "Guernsey"
          ],
          [
           "Guinea"
          ],
          [
           "Haiti"
          ],
          [
           "Honduras"
          ],
          [
           "Hong Kong"
          ],
          [
           "Hungary"
          ],
          [
           "Iceland"
          ],
          [
           "India"
          ],
          [
           "Indonesia"
          ],
          [
           "Iran"
          ],
          [
           "Iraq"
          ],
          [
           "Ireland"
          ],
          [
           "Isle of Man"
          ],
          [
           "Israel"
          ],
          [
           "Italy"
          ],
          [
           "Ivory Coast"
          ],
          [
           "Japan"
          ],
          [
           "Kazakhstan"
          ],
          [
           "Kenya"
          ],
          [
           "Kiribati"
          ],
          [
           "Kosovo"
          ],
          [
           "Kyrgyzstan"
          ],
          [
           "Laos"
          ],
          [
           "Latvia"
          ],
          [
           "Lebanon"
          ],
          [
           "Lesotho"
          ],
          [
           "Liberia"
          ],
          [
           "Libya"
          ],
          [
           "Lithuania"
          ],
          [
           "Luxembourg"
          ],
          [
           "Macao"
          ],
          [
           "Madagascar"
          ],
          [
           "Malaysia"
          ],
          [
           "Mali"
          ],
          [
           "Malta"
          ],
          [
           "Marshall Islands"
          ],
          [
           "Mauritania"
          ],
          [
           "Mauritius"
          ],
          [
           "Mexico"
          ],
          [
           "Moldova"
          ],
          [
           "Mongolia"
          ],
          [
           "Montenegro"
          ],
          [
           "Morocco"
          ],
          [
           "Mozambique"
          ],
          [
           "Nepal"
          ],
          [
           "Netherlands"
          ],
          [
           "New Caledonia"
          ],
          [
           "New Zealand"
          ],
          [
           "Nicaragua"
          ],
          [
           "Niger"
          ],
          [
           "Nigeria"
          ],
          [
           "Norway"
          ],
          [
           "Oman"
          ],
          [
           "Pakistan"
          ],
          [
           "Panama"
          ],
          [
           "Papua New Guinea"
          ],
          [
           "Paraguay"
          ],
          [
           "Philippines"
          ],
          [
           "Poland"
          ],
          [
           "Portugal"
          ],
          [
           "Principality of Monaco"
          ],
          [
           "Puerto Rico"
          ],
          [
           "Qatar"
          ],
          [
           "Romania"
          ],
          [
           "Russia"
          ],
          [
           "Saudi Arabia"
          ],
          [
           "Serbia"
          ],
          [
           "Sierra Leone"
          ],
          [
           "Singapore"
          ],
          [
           "Slovakia"
          ],
          [
           "Slovenia"
          ],
          [
           "Somalia"
          ],
          [
           "South Africa"
          ],
          [
           "South Korea"
          ],
          [
           "South Sudan"
          ],
          [
           "Spain"
          ],
          [
           "Sri Lanka"
          ],
          [
           "Sudan"
          ],
          [
           "Suriname"
          ],
          [
           "Sweden"
          ],
          [
           "Switzerland"
          ],
          [
           "Syria"
          ],
          [
           "Taiwan"
          ],
          [
           "Tajikistan"
          ],
          [
           "Tanzania"
          ],
          [
           "Thailand"
          ],
          [
           "Timor-Leste"
          ],
          [
           "Togo"
          ],
          [
           "Tunisia"
          ],
          [
           "Turkey"
          ],
          [
           "Turkmenistan"
          ],
          [
           "Turks and Caicos Islands"
          ],
          [
           "Uganda"
          ],
          [
           "Ukraine"
          ],
          [
           "United Arab Emirates"
          ],
          [
           "United Kingdom"
          ],
          [
           "United States"
          ],
          [
           "Uzbekistan"
          ],
          [
           "Venezuela"
          ],
          [
           "Vietnam"
          ],
          [
           "Virgin Islands"
          ],
          [
           "Yemen"
          ],
          [
           "Zambia"
          ],
          [
           "Zimbabwe"
          ]
         ],
         "hovertemplate": "gdp_per_capita=%{y}<br>country=%{customdata[0]}<extra></extra>",
         "legendgroup": "",
         "marker": {
          "color": "#636efa"
         },
         "name": "",
         "notched": false,
         "offsetgroup": "",
         "orientation": "v",
         "showlegend": false,
         "type": "box",
         "x0": " ",
         "xaxis": "x",
         "y": {
          "bdata": "AAAAAIAa50AAAAAAgBrnQAAAAACAGudAAAAAAIAa50AAAAAAgBrnQAAAAACAGudAAAAAAIAa50AAAAAA4D/rQAAAAABgh+xAAAAAAIAa50AAAAAAgKfgQAAAAABgLOZAAAAAAIAa50AAAAAAgBrnQAAAAACAGudAAAAAAGDG7EAAAAAAgBrnQAAAAACAzPRAAAAAAIAa50AAAAAAgBrnQAAAAACAGudAAAAAAMBD8EAAAAAAgBrnQAAAAACAGudAAAAAAIAa50AAAAAAgBrnQAAAAACAGudAAAAAAKBu6UAAAAAAgBrnQAAAAACAGudAAAAAAIAa50AAAAAAgBrnQAAAAACAGudAAAAAAIAa50AAAAAAgBrnQAAAAACAGudAAAAAAIAa50AAAAAAgBrnQAAAAACAGudAAAAAAIAa50AAAAAAIIHgQAAAAABAxd5AAAAAAKCc5UAAAAAAYJHvQAAAAACAGudAAAAAAIAa50AAAAAAgBrnQAAAAACAGudAAAAAAIAa50AAAAAAgBrnQAAAAACAGudAAAAAAACa5EAAAAAAgBrnQAAAAACAGudAAAAAAODb6kAAAAAAIMXoQAAAAACAGudAAAAAAIAa50AAAAAAAEnsQAAAAACAGudAAAAAAIAa50AAAAAAwI/eQAAAAACAGudAAAAAAIAa50AAAAAAgBrnQAAAAACAGudAAAAAAIAa50AAAAAAUBvwQAAAAAAg8uFAAAAAAMAl7EAAAAAAgBrnQAAAAACAGudAAAAAAIAa50AAAAAAgBrnQAAAAACA/flAAAAAAIAa50AAAAAAQFnlQAAAAAAAbuZAAAAAAIAa50AAAAAAgPfkQAAAAACAGudAAAAAAIAa50AAAAAAgBrnQAAAAACAGudAAAAAAIAa50AAAAAAgBrnQAAAAACg1OBAAAAAAIAa50AAAAAAgBrnQAAAAACAGudAAAAAAIAa50AAAAAAINXkQAAAAAAQcwBBAAAAAKAE8kAAAAAAgBrnQAAAAACAGudAAAAAAIAa50AAAAAAQEznQAAAAACAGudAAAAAAIAa50AAAAAAgBrnQAAAAACAGudAAAAAAIAa50AAAAAAgBrnQAAAAACAGudAAAAAAIAa50AAAAAAgBrnQAAAAACAGudAAAAAAOAi70AAAAAAgBrnQAAAAACAquZAAAAAAIAa50AAAAAAgBrnQAAAAACAGudAAAAAABBW80AAAAAAgLXdQAAAAACAGudAAAAAAADw3kAAAAAAgBrnQAAAAACAGudAAAAAAIAa50AAAAAA4E/iQAAAAAAAhuFAAAAAAIAa50AAAAAAgBrnQAAAAAAQ1fZAAAAAAMBK4UAAAAAAIErgQAAAAADgMehAAAAAAIAa50AAAAAAgBrnQAAAAABgcPxAAAAAAEAe4EAAAAAAIE3lQAAAAACAGudAAAAAAIAa50AAAAAAwOjmQAAAAACAGudAAAAAAODo40AAAAAAgBrnQAAAAACAGudAAAAAAIAa50AAAAAAgPfsQAAAAADA4PJAAAAAAIAa50AAAAAAgBrnQAAAAACAGudAAAAAAIAa50AAAAAAgBrnQAAAAACAGudAAAAAAIAa50AAAAAAgBrnQAAAAAAAwt1AAAAAAIAa50AAAAAAgBrnQAAAAACAGudAAAAAAIAa50AAAAAAgBrnQAAAAABgQehAAAAAAIDq8EAAAAAAgBrnQAAAAACAGudAAAAAAIAa50AAAAAAgBrnQAAAAACAGudAAAAAAIAa50AAAAAAgBrnQA==",
          "dtype": "f8"
         },
         "y0": " ",
         "yaxis": "y"
        }
       ],
       "layout": {
        "boxmode": "group",
        "legend": {
         "tracegroupgap": 0
        },
        "template": {
         "data": {
          "bar": [
           {
            "error_x": {
             "color": "#2a3f5f"
            },
            "error_y": {
             "color": "#2a3f5f"
            },
            "marker": {
             "line": {
              "color": "#E5ECF6",
              "width": 0.5
             },
             "pattern": {
              "fillmode": "overlay",
              "size": 10,
              "solidity": 0.2
             }
            },
            "type": "bar"
           }
          ],
          "barpolar": [
           {
            "marker": {
             "line": {
              "color": "#E5ECF6",
              "width": 0.5
             },
             "pattern": {
              "fillmode": "overlay",
              "size": 10,
              "solidity": 0.2
             }
            },
            "type": "barpolar"
           }
          ],
          "carpet": [
           {
            "aaxis": {
             "endlinecolor": "#2a3f5f",
             "gridcolor": "white",
             "linecolor": "white",
             "minorgridcolor": "white",
             "startlinecolor": "#2a3f5f"
            },
            "baxis": {
             "endlinecolor": "#2a3f5f",
             "gridcolor": "white",
             "linecolor": "white",
             "minorgridcolor": "white",
             "startlinecolor": "#2a3f5f"
            },
            "type": "carpet"
           }
          ],
          "choropleth": [
           {
            "colorbar": {
             "outlinewidth": 0,
             "ticks": ""
            },
            "type": "choropleth"
           }
          ],
          "contour": [
           {
            "colorbar": {
             "outlinewidth": 0,
             "ticks": ""
            },
            "colorscale": [
             [
              0,
              "#0d0887"
             ],
             [
              0.1111111111111111,
              "#46039f"
             ],
             [
              0.2222222222222222,
              "#7201a8"
             ],
             [
              0.3333333333333333,
              "#9c179e"
             ],
             [
              0.4444444444444444,
              "#bd3786"
             ],
             [
              0.5555555555555556,
              "#d8576b"
             ],
             [
              0.6666666666666666,
              "#ed7953"
             ],
             [
              0.7777777777777778,
              "#fb9f3a"
             ],
             [
              0.8888888888888888,
              "#fdca26"
             ],
             [
              1,
              "#f0f921"
             ]
            ],
            "type": "contour"
           }
          ],
          "contourcarpet": [
           {
            "colorbar": {
             "outlinewidth": 0,
             "ticks": ""
            },
            "type": "contourcarpet"
           }
          ],
          "heatmap": [
           {
            "colorbar": {
             "outlinewidth": 0,
             "ticks": ""
            },
            "colorscale": [
             [
              0,
              "#0d0887"
             ],
             [
              0.1111111111111111,
              "#46039f"
             ],
             [
              0.2222222222222222,
              "#7201a8"
             ],
             [
              0.3333333333333333,
              "#9c179e"
             ],
             [
              0.4444444444444444,
              "#bd3786"
             ],
             [
              0.5555555555555556,
              "#d8576b"
             ],
             [
              0.6666666666666666,
              "#ed7953"
             ],
             [
              0.7777777777777778,
              "#fb9f3a"
             ],
             [
              0.8888888888888888,
              "#fdca26"
             ],
             [
              1,
              "#f0f921"
             ]
            ],
            "type": "heatmap"
           }
          ],
          "histogram": [
           {
            "marker": {
             "pattern": {
              "fillmode": "overlay",
              "size": 10,
              "solidity": 0.2
             }
            },
            "type": "histogram"
           }
          ],
          "histogram2d": [
           {
            "colorbar": {
             "outlinewidth": 0,
             "ticks": ""
            },
            "colorscale": [
             [
              0,
              "#0d0887"
             ],
             [
              0.1111111111111111,
              "#46039f"
             ],
             [
              0.2222222222222222,
              "#7201a8"
             ],
             [
              0.3333333333333333,
              "#9c179e"
             ],
             [
              0.4444444444444444,
              "#bd3786"
             ],
             [
              0.5555555555555556,
              "#d8576b"
             ],
             [
              0.6666666666666666,
              "#ed7953"
             ],
             [
              0.7777777777777778,
              "#fb9f3a"
             ],
             [
              0.8888888888888888,
              "#fdca26"
             ],
             [
              1,
              "#f0f921"
             ]
            ],
            "type": "histogram2d"
           }
          ],
          "histogram2dcontour": [
           {
            "colorbar": {
             "outlinewidth": 0,
             "ticks": ""
            },
            "colorscale": [
             [
              0,
              "#0d0887"
             ],
             [
              0.1111111111111111,
              "#46039f"
             ],
             [
              0.2222222222222222,
              "#7201a8"
             ],
             [
              0.3333333333333333,
              "#9c179e"
             ],
             [
              0.4444444444444444,
              "#bd3786"
             ],
             [
              0.5555555555555556,
              "#d8576b"
             ],
             [
              0.6666666666666666,
              "#ed7953"
             ],
             [
              0.7777777777777778,
              "#fb9f3a"
             ],
             [
              0.8888888888888888,
              "#fdca26"
             ],
             [
              1,
              "#f0f921"
             ]
            ],
            "type": "histogram2dcontour"
           }
          ],
          "mesh3d": [
           {
            "colorbar": {
             "outlinewidth": 0,
             "ticks": ""
            },
            "type": "mesh3d"
           }
          ],
          "parcoords": [
           {
            "line": {
             "colorbar": {
              "outlinewidth": 0,
              "ticks": ""
             }
            },
            "type": "parcoords"
           }
          ],
          "pie": [
           {
            "automargin": true,
            "type": "pie"
           }
          ],
          "scatter": [
           {
            "fillpattern": {
             "fillmode": "overlay",
             "size": 10,
             "solidity": 0.2
            },
            "type": "scatter"
           }
          ],
          "scatter3d": [
           {
            "line": {
             "colorbar": {
              "outlinewidth": 0,
              "ticks": ""
             }
            },
            "marker": {
             "colorbar": {
              "outlinewidth": 0,
              "ticks": ""
             }
            },
            "type": "scatter3d"
           }
          ],
          "scattercarpet": [
           {
            "marker": {
             "colorbar": {
              "outlinewidth": 0,
              "ticks": ""
             }
            },
            "type": "scattercarpet"
           }
          ],
          "scattergeo": [
           {
            "marker": {
             "colorbar": {
              "outlinewidth": 0,
              "ticks": ""
             }
            },
            "type": "scattergeo"
           }
          ],
          "scattergl": [
           {
            "marker": {
             "colorbar": {
              "outlinewidth": 0,
              "ticks": ""
             }
            },
            "type": "scattergl"
           }
          ],
          "scattermap": [
           {
            "marker": {
             "colorbar": {
              "outlinewidth": 0,
              "ticks": ""
             }
            },
            "type": "scattermap"
           }
          ],
          "scattermapbox": [
           {
            "marker": {
             "colorbar": {
              "outlinewidth": 0,
              "ticks": ""
             }
            },
            "type": "scattermapbox"
           }
          ],
          "scatterpolar": [
           {
            "marker": {
             "colorbar": {
              "outlinewidth": 0,
              "ticks": ""
             }
            },
            "type": "scatterpolar"
           }
          ],
          "scatterpolargl": [
           {
            "marker": {
             "colorbar": {
              "outlinewidth": 0,
              "ticks": ""
             }
            },
            "type": "scatterpolargl"
           }
          ],
          "scatterternary": [
           {
            "marker": {
             "colorbar": {
              "outlinewidth": 0,
              "ticks": ""
             }
            },
            "type": "scatterternary"
           }
          ],
          "surface": [
           {
            "colorbar": {
             "outlinewidth": 0,
             "ticks": ""
            },
            "colorscale": [
             [
              0,
              "#0d0887"
             ],
             [
              0.1111111111111111,
              "#46039f"
             ],
             [
              0.2222222222222222,
              "#7201a8"
             ],
             [
              0.3333333333333333,
              "#9c179e"
             ],
             [
              0.4444444444444444,
              "#bd3786"
             ],
             [
              0.5555555555555556,
              "#d8576b"
             ],
             [
              0.6666666666666666,
              "#ed7953"
             ],
             [
              0.7777777777777778,
              "#fb9f3a"
             ],
             [
              0.8888888888888888,
              "#fdca26"
             ],
             [
              1,
              "#f0f921"
             ]
            ],
            "type": "surface"
           }
          ],
          "table": [
           {
            "cells": {
             "fill": {
              "color": "#EBF0F8"
             },
             "line": {
              "color": "white"
             }
            },
            "header": {
             "fill": {
              "color": "#C8D4E3"
             },
             "line": {
              "color": "white"
             }
            },
            "type": "table"
           }
          ]
         },
         "layout": {
          "annotationdefaults": {
           "arrowcolor": "#2a3f5f",
           "arrowhead": 0,
           "arrowwidth": 1
          },
          "autotypenumbers": "strict",
          "coloraxis": {
           "colorbar": {
            "outlinewidth": 0,
            "ticks": ""
           }
          },
          "colorscale": {
           "diverging": [
            [
             0,
             "#8e0152"
            ],
            [
             0.1,
             "#c51b7d"
            ],
            [
             0.2,
             "#de77ae"
            ],
            [
             0.3,
             "#f1b6da"
            ],
            [
             0.4,
             "#fde0ef"
            ],
            [
             0.5,
             "#f7f7f7"
            ],
            [
             0.6,
             "#e6f5d0"
            ],
            [
             0.7,
             "#b8e186"
            ],
            [
             0.8,
             "#7fbc41"
            ],
            [
             0.9,
             "#4d9221"
            ],
            [
             1,
             "#276419"
            ]
           ],
           "sequential": [
            [
             0,
             "#0d0887"
            ],
            [
             0.1111111111111111,
             "#46039f"
            ],
            [
             0.2222222222222222,
             "#7201a8"
            ],
            [
             0.3333333333333333,
             "#9c179e"
            ],
            [
             0.4444444444444444,
             "#bd3786"
            ],
            [
             0.5555555555555556,
             "#d8576b"
            ],
            [
             0.6666666666666666,
             "#ed7953"
            ],
            [
             0.7777777777777778,
             "#fb9f3a"
            ],
            [
             0.8888888888888888,
             "#fdca26"
            ],
            [
             1,
             "#f0f921"
            ]
           ],
           "sequentialminus": [
            [
             0,
             "#0d0887"
            ],
            [
             0.1111111111111111,
             "#46039f"
            ],
            [
             0.2222222222222222,
             "#7201a8"
            ],
            [
             0.3333333333333333,
             "#9c179e"
            ],
            [
             0.4444444444444444,
             "#bd3786"
            ],
            [
             0.5555555555555556,
             "#d8576b"
            ],
            [
             0.6666666666666666,
             "#ed7953"
            ],
            [
             0.7777777777777778,
             "#fb9f3a"
            ],
            [
             0.8888888888888888,
             "#fdca26"
            ],
            [
             1,
             "#f0f921"
            ]
           ]
          },
          "colorway": [
           "#636efa",
           "#EF553B",
           "#00cc96",
           "#ab63fa",
           "#FFA15A",
           "#19d3f3",
           "#FF6692",
           "#B6E880",
           "#FF97FF",
           "#FECB52"
          ],
          "font": {
           "color": "#2a3f5f"
          },
          "geo": {
           "bgcolor": "white",
           "lakecolor": "white",
           "landcolor": "#E5ECF6",
           "showlakes": true,
           "showland": true,
           "subunitcolor": "white"
          },
          "hoverlabel": {
           "align": "left"
          },
          "hovermode": "closest",
          "mapbox": {
           "style": "light"
          },
          "paper_bgcolor": "white",
          "plot_bgcolor": "#E5ECF6",
          "polar": {
           "angularaxis": {
            "gridcolor": "white",
            "linecolor": "white",
            "ticks": ""
           },
           "bgcolor": "#E5ECF6",
           "radialaxis": {
            "gridcolor": "white",
            "linecolor": "white",
            "ticks": ""
           }
          },
          "scene": {
           "xaxis": {
            "backgroundcolor": "#E5ECF6",
            "gridcolor": "white",
            "gridwidth": 2,
            "linecolor": "white",
            "showbackground": true,
            "ticks": "",
            "zerolinecolor": "white"
           },
           "yaxis": {
            "backgroundcolor": "#E5ECF6",
            "gridcolor": "white",
            "gridwidth": 2,
            "linecolor": "white",
            "showbackground": true,
            "ticks": "",
            "zerolinecolor": "white"
           },
           "zaxis": {
            "backgroundcolor": "#E5ECF6",
            "gridcolor": "white",
            "gridwidth": 2,
            "linecolor": "white",
            "showbackground": true,
            "ticks": "",
            "zerolinecolor": "white"
           }
          },
          "shapedefaults": {
           "line": {
            "color": "#2a3f5f"
           }
          },
          "ternary": {
           "aaxis": {
            "gridcolor": "white",
            "linecolor": "white",
            "ticks": ""
           },
           "baxis": {
            "gridcolor": "white",
            "linecolor": "white",
            "ticks": ""
           },
           "bgcolor": "#E5ECF6",
           "caxis": {
            "gridcolor": "white",
            "linecolor": "white",
            "ticks": ""
           }
          },
          "title": {
           "x": 0.05
          },
          "xaxis": {
           "automargin": true,
           "gridcolor": "white",
           "linecolor": "white",
           "ticks": "",
           "title": {
            "standoff": 15
           },
           "zerolinecolor": "white",
           "zerolinewidth": 2
          },
          "yaxis": {
           "automargin": true,
           "gridcolor": "white",
           "linecolor": "white",
           "ticks": "",
           "title": {
            "standoff": 15
           },
           "zerolinecolor": "white",
           "zerolinewidth": 2
          }
         }
        },
        "title": {
         "text": "GDP per Capita Distribution with All Countries"
        },
        "xaxis": {
         "anchor": "y",
         "domain": [
          0,
          1
         ]
        },
        "yaxis": {
         "anchor": "x",
         "domain": [
          0,
          1
         ],
         "title": {
          "text": "gdp_per_capita"
         }
        }
       }
      }
     },
     "metadata": {},
     "output_type": "display_data"
    },
    {
     "name": "stdout",
     "output_type": "stream",
     "text": [
      "\n",
      "Countries with Extreme Values:\n",
      "==============================\n",
      "\n",
      "Top 10 Highest GDP per Capita:\n",
      "  Luxembourg: $134,754\n",
      "  Singapore: $116,486\n",
      "  Ireland: $106,456\n",
      "  Qatar: $93,521\n",
      "  Bermuda: $85,192\n",
      "  Norway: $79,201\n",
      "  Switzerland: $77,324\n",
      "  Macao: $73,802\n",
      "  United States: $69,288\n",
      "  Brunei: $66,620\n",
      "\n",
      "Top 10 Lowest GDP per Capita:\n",
      "  Oman: $30,422\n",
      "  Turkey: $30,472\n",
      "  Greece: $31,295\n",
      "  Cyprus: $31,509\n",
      "  Panama: $31,680\n",
      "  Slovakia: $33,010\n",
      "  Russia: $33,361\n",
      "  Croatia: $33,801\n",
      "  Bahamas: $34,108\n",
      "  Latvia: $34,469\n",
      "\n",
      "Top 10 Highest Cost of Living:\n",
      "  Bermuda: 157.6\n",
      "  Switzerland: 142.4\n",
      "  Cayman Islands: 137.9\n",
      "  Israel: 130.2\n",
      "  Iceland: 128.0\n",
      "  New Caledonia: 125.8\n",
      "  Norway: 124.6\n",
      "  Turks and Caicos Islands: 124.6\n",
      "  Barbados: 121.5\n",
      "  Denmark: 119.9\n",
      "\n",
      "Top 10 Most Corrupt Countries:\n",
      "  South Sudan: 89\n",
      "  Somalia: 87\n",
      "  Syria: 87\n",
      "  Venezuela: 86\n",
      "  Afghanistan: 84\n",
      "  Yemen: 84\n",
      "  Equatorial Guinea: 83\n",
      "  Libya: 83\n",
      "  Burundi: 81\n",
      "  Congo (Dem. Republic): 81\n",
      "\n",
      "Top 10 Least Corrupt Countries:\n",
      "  Denmark: 12\n",
      "  Finland: 12\n",
      "  New Zealand: 12\n",
      "  Norway: 15\n",
      "  Singapore: 15\n",
      "  Sweden: 15\n",
      "  Switzerland: 16\n",
      "  Netherlands: 18\n",
      "  Luxembourg: 19\n",
      "  Germany: 20\n",
      "\n",
      "Sample of All Countries Data:\n",
      "==============================\n",
      "       country  gdp_per_capita  cost_of_living  corruption_index\n",
      "   Afghanistan         47316.0            48.9              84.0\n",
      "       Albania         47316.0            52.0              69.0\n",
      "       Algeria         47316.0            29.9              67.0\n",
      "American Samoa         47316.0            48.9              69.0\n",
      "        Angola         47316.0            23.0              71.0\n",
      "     Argentina         47316.0            48.9              62.0\n",
      "       Armenia         47316.0            33.8              69.0\n",
      "     Australia         55807.0           118.0              27.0\n",
      "       Austria         58427.0            95.9              26.0\n",
      "    Azerbaijan         47316.0            29.8              70.0\n",
      "       Bahamas         34108.0            48.9              69.0\n",
      "       Bahrain         45411.0            49.0              69.0\n",
      "    Bangladesh         47316.0            39.0              74.0\n",
      "      Barbados         47316.0           121.5              69.0\n",
      "       Belarus         47316.0            48.9              69.0\n",
      "       Belgium         58931.0            97.0              27.0\n",
      "         Benin         47316.0            37.5              69.0\n",
      "       Bermuda         85192.0           157.6              69.0\n",
      "        Bhutan         47316.0            30.0              69.0\n",
      "       Bolivia         47316.0            36.2              70.0\n"
     ]
    }
   ],
   "source": [
    "# Cell 5\n",
    "# Original histograms (overview)\n",
    "fig_dist = make_subplots(\n",
    "    rows=2, cols=3,\n",
    "    subplot_titles=('GDP per Capita', 'Cost of Living', 'Corruption Index', \n",
    "                   'Unemployment Rate', 'Tourism (Millions)'),\n",
    "    specs=[[{'secondary_y': False}, {'secondary_y': False}, {'secondary_y': False}],\n",
    "           [{'secondary_y': False}, {'secondary_y': False}, {'type': 'xy'}]]\n",
    ")\n",
    "\n",
    "fig_dist.add_trace(go.Histogram(x=df_analysis['gdp_per_capita'], name='GDP per Capita'), row=1, col=1)\n",
    "fig_dist.add_trace(go.Histogram(x=df_analysis['cost_of_living'], name='Cost of Living'), row=1, col=2)\n",
    "fig_dist.add_trace(go.Histogram(x=df_analysis['corruption_index'], name='Corruption Index'), row=1, col=3)\n",
    "fig_dist.add_trace(go.Histogram(x=df_analysis['unemployment_rate'], name='Unemployment Rate'), row=2, col=1)\n",
    "fig_dist.add_trace(go.Histogram(x=df_analysis['tourism_millions'], name='Tourism'), row=2, col=2)\n",
    "\n",
    "fig_dist.update_layout(height=600, showlegend=False, title_text=\"Distribution of Economic Indicators\")\n",
    "fig_dist.show()\n",
    "\n",
    "# Individual scatter plots showing ALL country names\n",
    "print(\"Interactive Plots with All Country Names:\")\n",
    "print(\"=\" * 50)\n",
    "\n",
    "# GDP per Capita - scatter plot with all countries\n",
    "fig_gdp = px.scatter(df_analysis, x='country', y='gdp_per_capita',\n",
    "                    hover_data=['country', 'gdp_per_capita'],\n",
    "                    title='GDP per Capita by Country (Hover to see values)',\n",
    "                    labels={'gdp_per_capita': 'GDP per Capita'})\n",
    "fig_gdp.update_xaxes(tickangle=45)\n",
    "fig_gdp.update_layout(height=500, xaxis_title=\"Countries\")\n",
    "fig_gdp.show()\n",
    "\n",
    "# Cost of Living - scatter plot with all countries\n",
    "fig_cost = px.scatter(df_analysis, x='country', y='cost_of_living',\n",
    "                     hover_data=['country', 'cost_of_living'],\n",
    "                     title='Cost of Living by Country (Hover to see values)',\n",
    "                     labels={'cost_of_living': 'Cost of Living Index'})\n",
    "fig_cost.update_xaxes(tickangle=45)\n",
    "fig_cost.update_layout(height=500, xaxis_title=\"Countries\")\n",
    "fig_cost.show()\n",
    "\n",
    "# Corruption Index - scatter plot with all countries\n",
    "fig_corruption = px.scatter(df_analysis, x='country', y='corruption_index',\n",
    "                           hover_data=['country', 'corruption_index'],\n",
    "                           title='Corruption Index by Country (Hover to see values)',\n",
    "                           labels={'corruption_index': 'Corruption Index'})\n",
    "fig_corruption.update_xaxes(tickangle=45)\n",
    "fig_corruption.update_layout(height=500, xaxis_title=\"Countries\")\n",
    "fig_corruption.show()\n",
    "\n",
    "# Alternative: Strip plots (better for seeing all countries)\n",
    "print(\"\\nStrip Plots - All Countries Visible:\")\n",
    "print(\"=\" * 40)\n",
    "\n",
    "# GDP Strip Plot\n",
    "fig_strip_gdp = px.strip(df_analysis, y='gdp_per_capita',\n",
    "                        hover_data=['country'],\n",
    "                        title='GDP per Capita Distribution - All Countries')\n",
    "fig_strip_gdp.show()\n",
    "\n",
    "# Box plot with individual points\n",
    "fig_box_gdp = px.box(df_analysis, y='gdp_per_capita',\n",
    "                    points=\"all\",\n",
    "                    hover_data=['country'],\n",
    "                    title='GDP per Capita Distribution with All Countries')\n",
    "fig_box_gdp.show()\n",
    "\n",
    "# Show extreme values with country names\n",
    "print(\"\\nCountries with Extreme Values:\")\n",
    "print(\"=\" * 30)\n",
    "\n",
    "print(\"\\nTop 10 Highest GDP per Capita:\")\n",
    "top_gdp = df_analysis.nlargest(10, 'gdp_per_capita')[['country', 'gdp_per_capita']]\n",
    "for idx, row in top_gdp.iterrows():\n",
    "    print(f\"  {row['country']}: ${row['gdp_per_capita']:,.0f}\")\n",
    "\n",
    "print(\"\\nTop 10 Lowest GDP per Capita:\")\n",
    "bottom_gdp = df_analysis.nsmallest(10, 'gdp_per_capita')[['country', 'gdp_per_capita']]\n",
    "for idx, row in bottom_gdp.iterrows():\n",
    "    print(f\"  {row['country']}: ${row['gdp_per_capita']:,.0f}\")\n",
    "\n",
    "print(\"\\nTop 10 Highest Cost of Living:\")\n",
    "top_cost = df_analysis.nlargest(10, 'cost_of_living')[['country', 'cost_of_living']]\n",
    "for idx, row in top_cost.iterrows():\n",
    "    print(f\"  {row['country']}: {row['cost_of_living']:.1f}\")\n",
    "\n",
    "print(\"\\nTop 10 Most Corrupt Countries:\")\n",
    "most_corrupt = df_analysis.nlargest(10, 'corruption_index')[['country', 'corruption_index']]\n",
    "for idx, row in most_corrupt.iterrows():\n",
    "    print(f\"  {row['country']}: {row['corruption_index']:.0f}\")\n",
    "\n",
    "print(\"\\nTop 10 Least Corrupt Countries:\")\n",
    "least_corrupt = df_analysis.nsmallest(10, 'corruption_index')[['country', 'corruption_index']]\n",
    "for idx, row in least_corrupt.iterrows():\n",
    "    print(f\"  {row['country']}: {row['corruption_index']:.0f}\")\n",
    "\n",
    "# Summary table of all countries (first 20)\n",
    "print(f\"\\nSample of All Countries Data:\")\n",
    "print(\"=\" * 30)\n",
    "sample_data = df_analysis[['country', 'gdp_per_capita', 'cost_of_living', 'corruption_index']].head(20)\n",
    "print(sample_data.to_string(index=False))"
   ]
  },
  {
   "cell_type": "code",
   "execution_count": 6,
   "id": "f4243e1c",
   "metadata": {},
   "outputs": [
    {
     "data": {
      "application/vnd.plotly.v1+json": {
       "config": {
        "plotlyServerURL": "https://plot.ly"
       },
       "data": [
        {
         "customdata": [
          [
           "Afghanistan"
          ],
          [
           "Albania"
          ],
          [
           "Algeria"
          ],
          [
           "American Samoa"
          ],
          [
           "Angola"
          ],
          [
           "Argentina"
          ],
          [
           "Armenia"
          ],
          [
           "Australia"
          ],
          [
           "Austria"
          ],
          [
           "Azerbaijan"
          ],
          [
           "Bahamas"
          ],
          [
           "Bahrain"
          ],
          [
           "Bangladesh"
          ],
          [
           "Barbados"
          ],
          [
           "Belarus"
          ],
          [
           "Belgium"
          ],
          [
           "Benin"
          ],
          [
           "Bermuda"
          ],
          [
           "Bhutan"
          ],
          [
           "Bolivia"
          ],
          [
           "Brazil"
          ],
          [
           "Brunei"
          ],
          [
           "Bulgaria"
          ],
          [
           "Burma"
          ],
          [
           "Burundi"
          ],
          [
           "Cambodia"
          ],
          [
           "Cameroon"
          ],
          [
           "Canada"
          ],
          [
           "Cape Verde"
          ],
          [
           "Cayman Islands"
          ],
          [
           "Central Africa"
          ],
          [
           "Chad"
          ],
          [
           "Chile"
          ],
          [
           "China"
          ],
          [
           "Cocos (Keeling) Islands"
          ],
          [
           "Colombia"
          ],
          [
           "Comoros"
          ],
          [
           "Congo"
          ],
          [
           "Congo (Dem. Republic)"
          ],
          [
           "Costa Rica"
          ],
          [
           "Croatia"
          ],
          [
           "Cyprus"
          ],
          [
           "Czechia"
          ],
          [
           "Denmark"
          ],
          [
           "Djibouti"
          ],
          [
           "Dominican Republic"
          ],
          [
           "Ecuador"
          ],
          [
           "Egypt"
          ],
          [
           "El Salvador"
          ],
          [
           "Equatorial Guinea"
          ],
          [
           "Eritrea"
          ],
          [
           "Estonia"
          ],
          [
           "Eswatini"
          ],
          [
           "Ethiopia"
          ],
          [
           "Finland"
          ],
          [
           "France"
          ],
          [
           "Gabon"
          ],
          [
           "Georgia"
          ],
          [
           "Germany"
          ],
          [
           "Ghana"
          ],
          [
           "Gibraltar"
          ],
          [
           "Greece"
          ],
          [
           "Guatemala"
          ],
          [
           "Guernsey"
          ],
          [
           "Guinea"
          ],
          [
           "Haiti"
          ],
          [
           "Honduras"
          ],
          [
           "Hong Kong"
          ],
          [
           "Hungary"
          ],
          [
           "Iceland"
          ],
          [
           "India"
          ],
          [
           "Indonesia"
          ],
          [
           "Iran"
          ],
          [
           "Iraq"
          ],
          [
           "Ireland"
          ],
          [
           "Isle of Man"
          ],
          [
           "Israel"
          ],
          [
           "Italy"
          ],
          [
           "Ivory Coast"
          ],
          [
           "Japan"
          ],
          [
           "Kazakhstan"
          ],
          [
           "Kenya"
          ],
          [
           "Kiribati"
          ],
          [
           "Kosovo"
          ],
          [
           "Kyrgyzstan"
          ],
          [
           "Laos"
          ],
          [
           "Latvia"
          ],
          [
           "Lebanon"
          ],
          [
           "Lesotho"
          ],
          [
           "Liberia"
          ],
          [
           "Libya"
          ],
          [
           "Lithuania"
          ],
          [
           "Luxembourg"
          ],
          [
           "Macao"
          ],
          [
           "Madagascar"
          ],
          [
           "Malaysia"
          ],
          [
           "Mali"
          ],
          [
           "Malta"
          ],
          [
           "Marshall Islands"
          ],
          [
           "Mauritania"
          ],
          [
           "Mauritius"
          ],
          [
           "Mexico"
          ],
          [
           "Moldova"
          ],
          [
           "Mongolia"
          ],
          [
           "Montenegro"
          ],
          [
           "Morocco"
          ],
          [
           "Mozambique"
          ],
          [
           "Nepal"
          ],
          [
           "Netherlands"
          ],
          [
           "New Caledonia"
          ],
          [
           "New Zealand"
          ],
          [
           "Nicaragua"
          ],
          [
           "Niger"
          ],
          [
           "Nigeria"
          ],
          [
           "Norway"
          ],
          [
           "Oman"
          ],
          [
           "Pakistan"
          ],
          [
           "Panama"
          ],
          [
           "Papua New Guinea"
          ],
          [
           "Paraguay"
          ],
          [
           "Philippines"
          ],
          [
           "Poland"
          ],
          [
           "Portugal"
          ],
          [
           "Principality of Monaco"
          ],
          [
           "Puerto Rico"
          ],
          [
           "Qatar"
          ],
          [
           "Romania"
          ],
          [
           "Russia"
          ],
          [
           "Saudi Arabia"
          ],
          [
           "Serbia"
          ],
          [
           "Sierra Leone"
          ],
          [
           "Singapore"
          ],
          [
           "Slovakia"
          ],
          [
           "Slovenia"
          ],
          [
           "Somalia"
          ],
          [
           "South Africa"
          ],
          [
           "South Korea"
          ],
          [
           "South Sudan"
          ],
          [
           "Spain"
          ],
          [
           "Sri Lanka"
          ],
          [
           "Sudan"
          ],
          [
           "Suriname"
          ],
          [
           "Sweden"
          ],
          [
           "Switzerland"
          ],
          [
           "Syria"
          ],
          [
           "Taiwan"
          ],
          [
           "Tajikistan"
          ],
          [
           "Tanzania"
          ],
          [
           "Thailand"
          ],
          [
           "Timor-Leste"
          ],
          [
           "Togo"
          ],
          [
           "Tunisia"
          ],
          [
           "Turkey"
          ],
          [
           "Turkmenistan"
          ],
          [
           "Turks and Caicos Islands"
          ],
          [
           "Uganda"
          ],
          [
           "Ukraine"
          ],
          [
           "United Arab Emirates"
          ],
          [
           "United Kingdom"
          ],
          [
           "United States"
          ],
          [
           "Uzbekistan"
          ],
          [
           "Venezuela"
          ],
          [
           "Vietnam"
          ],
          [
           "Virgin Islands"
          ],
          [
           "Yemen"
          ],
          [
           "Zambia"
          ],
          [
           "Zimbabwe"
          ]
         ],
         "diagonal": {
          "visible": false
         },
         "dimensions": [
          {
           "axis": {
            "matches": true
           },
           "label": "unemployment_rate",
           "values": {
            "bdata": "AAAAAAAAFEAAAAAAAAAUQAAAAAAAABRAzczMzMzMPUAAAAAAAAAUQAAAAAAAABRAAAAAAAAAFEBmZmZmZmYUQAAAAAAAABRAAAAAAAAAFEAAAAAAAAAUQGZmZmZmZv4/zczMzMzMFEAAAAAAAAAUQAAAAAAAABRAAAAAAAAAFECamZmZmZn5PwAAAAAAABxAAAAAAAAAFEAAAAAAAAAUQM3MzMzMzCxAAAAAAAAAFEAAAAAAAAAUQAAAAAAAABRAzczMzMzM/D8zMzMzMzPjPwAAAAAAABRAAAAAAAAAHkAAAAAAAAAUQAAAAAAAABRAAAAAAAAAFEBmZmZmZmb+PwAAAAAAABRAMzMzMzMzE0CamZmZmZm5PwAAAAAAABRAAAAAAAAAFEAAAAAAAAAUQAAAAAAAABRAAAAAAAAAFEAAAAAAAAAUQAAAAAAAABRAAAAAAAAAFEAzMzMzMzMTQGZmZmZmZjxAAAAAAAAAFECamZmZmZkZQJqZmZmZmSJAAAAAAAAAFEAAAAAAAAAUQAAAAAAAABRAAAAAAAAAFEDNzMzMzMw5QAAAAAAAABRAAAAAAAAAFEAzMzMzMzMgQAAAAAAAABRAAAAAAAAAFEAAAAAAAAAMQAAAAAAAABRAAAAAAAAA8D+amZmZmZktQAAAAAAAABRAMzMzMzMz8z8AAAAAAAAUQAAAAAAAABRAAAAAAAAAFEAzMzMzMzMVQAAAAAAAABRAAAAAAAAAFEAAAAAAAAAYQJqZmZmZmRFAAAAAAAAAFEAAAAAAAAAUQGZmZmZmZhpAmpmZmZmZ8T8AAAAAAAAUQJqZmZmZmSNAAAAAAAAAFEBmZmZmZmYGQAAAAAAAABRAAAAAAAAAFECamZmZmZk+QAAAAAAAgD5AAAAAAAAAFEDNzMzMzMz0PwAAAAAAABRAAAAAAAAAFEAAAAAAAAAUQAAAAAAAABRAAAAAAAAAFEAAAAAAAAAUQM3MzMzMzBRAAAAAAAAACEAAAAAAAAAUQGZmZmZmZhJAAAAAAAAAFEAAAAAAAAAUQAAAAAAAAEJAAAAAAAAAFEAAAAAAAAAUQJqZmZmZmRFAAAAAAAAAFEAAAAAAAAAUQAAAAAAAABRAAAAAAAAAFEAAAAAAAAAUQAAAAAAAABRAAAAAAAAAEEAAAAAAAAAUQAAAAAAAABRAAAAAAAAAFECamZmZmZnpP5qZmZmZmSNAAAAAAAAAFEAAAAAAAAAUQJqZmZmZmRFAAAAAAAAAFEAAAAAAAAAUQAAAAAAAABRAMzMzMzMzA0AzMzMzMzMLQAAAAAAAABRAAAAAAAAAAEAAAAAAAAAUQDMzMzMzM9M/zczMzMzMFEAAAAAAAAAUQJqZmZmZmR1AAAAAAAAAFEAAAAAAAAAUQM3MzMzMzAxAAAAAAAAAFEAAAAAAAAAUQAAAAAAAABRAzczMzMzMQEAAAAAAAAAMQAAAAAAAABRAZmZmZmZmLUCamZmZmZkVQAAAAAAAABRAAAAAAAAAFEBmZmZmZmYhQDMzMzMzMxVAAAAAAAAAFECamZmZmZkNQAAAAAAAABRAAAAAAAAAFEBmZmZmZmb2PwAAAAAAABRAAAAAAAAAFEAAAAAAAAAUQM3MzMzMzCpAAAAAAAAAFEAAAAAAAAAUQAAAAAAAABRAzczMzMzMIUAAAAAAAAAUQAAAAAAAABJAAAAAAAAAFkAAAAAAAAAUQAAAAAAAABRAmpmZmZmZAUAAAAAAAAAUQAAAAAAAABRAAAAAAAAAFEAAAAAAAAAUQA==",
            "dtype": "f8"
           }
          },
          {
           "axis": {
            "matches": true
           },
           "label": "tourism_millions",
           "values": {
            "bdata": "ZmZmZmZmEECamZmZmZkFQGZmZmZmZhBAZmZmZmZmEEBmZmZmZmYQQGZmZmZmZhBAZmZmZmZmEEDNzMzMzMz8PzMzMzMzMy5AZmZmZmZmEEBmZmZmZmYQQGZmZmZmZhBAZmZmZmZmEEBmZmZmZmYQQM3MzMzMzAxAzczMzMzMBEBmZmZmZmYQQJqZmZmZmbk/ZmZmZmZmEEBmZmZmZmYQQGZmZmZmZhBAZmZmZmZmEEAAAAAAAAAUQGZmZmZmZhBAZmZmZmZmEEDNzMzMzMz0P2ZmZmZmZhBAZmZmZmZmEEBmZmZmZmYQQGZmZmZmZhBAZmZmZmZmEEBmZmZmZmYQQGZmZmZmZhBAZmZmZmZmEEBmZmZmZmYQQGZmZmZmZhBAZmZmZmZmEEBmZmZmZmYQQGZmZmZmZhBAZmZmZmZmEECamZmZmZk1QGZmZmZmZhBAZmZmZmZmEEBmZmZmZmYQQGZmZmZmZhBAZmZmZmZmEEBmZmZmZmYQQGZmZmZmZhBAZmZmZmZmEEBmZmZmZmYQQGZmZmZmZhBAZmZmZmZmEEBmZmZmZmYQQAAAAAAAAOA/ZmZmZmZmEEBmZmZmZkZdQGZmZmZmZhBAZmZmZmZmEEDNzMzMzMwoQGZmZmZmZhBAZmZmZmZmEECamZmZmZkdQGZmZmZmZhBAZmZmZmZmEEBmZmZmZmYQQGZmZmZmZhBAZmZmZmZmEEDNzMzMzMwMQJqZmZmZmT9AZmZmZmZmEEBmZmZmZmYQQGZmZmZmZhBAZmZmZmZmEEBmZmZmZmYQQGZmZmZmZhBAZmZmZmZmEEBmZmZmZmYQQDMzMzMzM0NAZmZmZmZmEEBmZmZmZmYQQGZmZmZmZhBAZmZmZmZmEEBmZmZmZmYQQGZmZmZmZhBAZmZmZmZmEEBmZmZmZmYQQGZmZmZmZhBAZmZmZmZmEEBmZmZmZmYQQGZmZmZmZhBAZmZmZmZmEEBmZmZmZmYQQAAAAAAAAOA/mpmZmZmZF0BmZmZmZmYQQDMzMzMzMxFAZmZmZmZmEEBmZmZmZmYQQGZmZmZmZhBAZmZmZmZmEEBmZmZmZmYQQM3MzMzMjElAAAAAAAAAAABmZmZmZmYQQGZmZmZmZhBAZmZmZmZmBkBmZmZmZmYQQGZmZmZmZhBAMzMzMzMzHUBmZmZmZmYQQGZmZmZmZhBAZmZmZmZmEEBmZmZmZmYQQGZmZmZmZhBAZmZmZmZm9j9mZmZmZmYQQGZmZmZmZhBAZmZmZmZmEEBmZmZmZmYQQGZmZmZmZhBAAAAAAAAA+D9mZmZmZmYQQM3MzMzMzBBAZmZmZmZmEEAzMzMzMzMPQDMzMzMzM+M/AAAAAAAAFECamZmZmZkZQGZmZmZmZhBAmpmZmZmZ2T9mZmZmZmYQQGZmZmZmZhBAZmZmZmZmEEBmZmZmZmYQQGZmZmZmZhBAMzMzMzMzD0AAAAAAAAAEQGZmZmZmZhBAZmZmZmZmEEBmZmZmZmYQQGZmZmZmZhBAZmZmZmZmEEBmZmZmZmYQQGZmZmZmZhBAZmZmZmZmEEBmZmZmZmYQQGZmZmZmZhBAZmZmZmZmEEBmZmZmZmYQQGZmZmZmZhBAZmZmZmZmEEBmZmZmZmYQQAAAAAAAADBAZmZmZmZmEEBmZmZmZmYQQGZmZmZmZhBAMzMzMzMzC0AzMzMzMzMgQGZmZmZmZhBAAAAAAACARkBmZmZmZmYQQGZmZmZmZhBAZmZmZmZmDkAzMzMzMzMhQGZmZmZmZhBAZmZmZmZmEEBmZmZmZmYQQA==",
            "dtype": "f8"
           }
          },
          {
           "axis": {
            "matches": true
           },
           "label": "gdp_per_capita",
           "values": {
            "bdata": "AAAAAIAa50AAAAAAgBrnQAAAAACAGudAAAAAAIAa50AAAAAAgBrnQAAAAACAGudAAAAAAIAa50AAAAAA4D/rQAAAAABgh+xAAAAAAIAa50AAAAAAgKfgQAAAAABgLOZAAAAAAIAa50AAAAAAgBrnQAAAAACAGudAAAAAAGDG7EAAAAAAgBrnQAAAAACAzPRAAAAAAIAa50AAAAAAgBrnQAAAAACAGudAAAAAAMBD8EAAAAAAgBrnQAAAAACAGudAAAAAAIAa50AAAAAAgBrnQAAAAACAGudAAAAAAKBu6UAAAAAAgBrnQAAAAACAGudAAAAAAIAa50AAAAAAgBrnQAAAAACAGudAAAAAAIAa50AAAAAAgBrnQAAAAACAGudAAAAAAIAa50AAAAAAgBrnQAAAAACAGudAAAAAAIAa50AAAAAAIIHgQAAAAABAxd5AAAAAAKCc5UAAAAAAYJHvQAAAAACAGudAAAAAAIAa50AAAAAAgBrnQAAAAACAGudAAAAAAIAa50AAAAAAgBrnQAAAAACAGudAAAAAAACa5EAAAAAAgBrnQAAAAACAGudAAAAAAODb6kAAAAAAIMXoQAAAAACAGudAAAAAAIAa50AAAAAAAEnsQAAAAACAGudAAAAAAIAa50AAAAAAwI/eQAAAAACAGudAAAAAAIAa50AAAAAAgBrnQAAAAACAGudAAAAAAIAa50AAAAAAUBvwQAAAAAAg8uFAAAAAAMAl7EAAAAAAgBrnQAAAAACAGudAAAAAAIAa50AAAAAAgBrnQAAAAACA/flAAAAAAIAa50AAAAAAQFnlQAAAAAAAbuZAAAAAAIAa50AAAAAAgPfkQAAAAACAGudAAAAAAIAa50AAAAAAgBrnQAAAAACAGudAAAAAAIAa50AAAAAAgBrnQAAAAACg1OBAAAAAAIAa50AAAAAAgBrnQAAAAACAGudAAAAAAIAa50AAAAAAINXkQAAAAAAQcwBBAAAAAKAE8kAAAAAAgBrnQAAAAACAGudAAAAAAIAa50AAAAAAQEznQAAAAACAGudAAAAAAIAa50AAAAAAgBrnQAAAAACAGudAAAAAAIAa50AAAAAAgBrnQAAAAACAGudAAAAAAIAa50AAAAAAgBrnQAAAAACAGudAAAAAAOAi70AAAAAAgBrnQAAAAACAquZAAAAAAIAa50AAAAAAgBrnQAAAAACAGudAAAAAABBW80AAAAAAgLXdQAAAAACAGudAAAAAAADw3kAAAAAAgBrnQAAAAACAGudAAAAAAIAa50AAAAAA4E/iQAAAAAAAhuFAAAAAAIAa50AAAAAAgBrnQAAAAAAQ1fZAAAAAAMBK4UAAAAAAIErgQAAAAADgMehAAAAAAIAa50AAAAAAgBrnQAAAAABgcPxAAAAAAEAe4EAAAAAAIE3lQAAAAACAGudAAAAAAIAa50AAAAAAwOjmQAAAAACAGudAAAAAAODo40AAAAAAgBrnQAAAAACAGudAAAAAAIAa50AAAAAAgPfsQAAAAADA4PJAAAAAAIAa50AAAAAAgBrnQAAAAACAGudAAAAAAIAa50AAAAAAgBrnQAAAAACAGudAAAAAAIAa50AAAAAAgBrnQAAAAAAAwt1AAAAAAIAa50AAAAAAgBrnQAAAAACAGudAAAAAAIAa50AAAAAAgBrnQAAAAABgQehAAAAAAIDq8EAAAAAAgBrnQAAAAACAGudAAAAAAIAa50AAAAAAgBrnQAAAAACAGudAAAAAAIAa50AAAAAAgBrnQA==",
            "dtype": "f8"
           }
          },
          {
           "axis": {
            "matches": true
           },
           "label": "cost_of_living",
           "values": {
            "bdata": "MzMzMzNzSEAAAAAAAABKQGZmZmZm5j1AMzMzMzNzSEAAAAAAAAA3QDMzMzMzc0hAZmZmZmbmQEAAAAAAAIBdQJqZmZmZ+VdAzczMzMzMPUAzMzMzM3NIQAAAAAAAgEhAAAAAAACAQ0AAAAAAAGBeQDMzMzMzc0hAAAAAAABAWEAAAAAAAMBCQDMzMzMzs2NAAAAAAAAAPkCamZmZmRlCQDMzMzMzc0dAMzMzMzNzSEAAAAAAAMBHQAAAAAAAADtAMzMzMzNzSEDNzMzMzExCQDMzMzMz80RAZmZmZmZmWkAzMzMzM3NIQM3MzMzMPGFAMzMzMzNzSEAzMzMzM3NIQDMzMzMzc09AmpmZmZmZT0AzMzMzM3NIQDMzMzMz80RAMzMzMzNzSEAzMzMzM3NIQDMzMzMzc0hAmpmZmZnZTEBmZmZmZmZOQDMzMzMzc0hAZmZmZmYGUUCamZmZmfldQDMzMzMzc0hAMzMzMzNzSEAzMzMzM/NJQDMzMzMzMztAMzMzMzNzSEAzMzMzM/NLQDMzMzMzc0hAAAAAAACAUkAzMzMzM3NIQDMzMzMzc0hAAAAAAAAAW0DNzMzMzAxYQDMzMzMzc0hAmpmZmZkZQEAzMzMzMxNXQGZmZmZmpkJAMzMzMzNzSEDNzMzMzKxSQDMzMzMzc0hAMzMzMzNzSEAzMzMzM3NIQM3MzMzMDE5AMzMzMzNzSECamZmZmXlTQGZmZmZmpkxAAAAAAAAAYEDNzMzMzMw8QDMzMzMzs0FAZmZmZmbmUEBmZmZmZmZCQDMzMzMz811AMzMzMzNzSEBmZmZmZkZgQM3MzMzMjFVAmpmZmZlZRUCamZmZmXlZQM3MzMzMjEBAZmZmZmYmRUAzMzMzM3NIQAAAAAAAgERAzczMzMxMOUAAAAAAAMBAQDMzMzMzc0hAMzMzMzNzSEBmZmZmZqZDQDMzMzMzc0hAMzMzMzNzSEAzMzMzM3NIQGZmZmZmRlxAAAAAAADAUkAzMzMzM3NIQGZmZmZmZkNAMzMzMzNzSEDNzMzMzOxSQDMzMzMzc0hAMzMzMzNzSEBmZmZmZqZFQJqZmZmZWUtAAAAAAABAQ0BmZmZmZqZBQJqZmZmZmUlAAAAAAACARkAzMzMzM3NIQJqZmZmZGTxAAAAAAADAWEAzMzMzM3NfQM3MzMzMTF1AZmZmZmbmQUAzMzMzM3NIQGZmZmZm5kRAZmZmZmYmX0AzMzMzM3NIQM3MzMzMzDlAMzMzMzNzSEAzMzMzM3NIQM3MzMzMTENAMzMzMzNzREDNzMzMzIxJQJqZmZmZGVNAMzMzMzNzSEAzMzMzM3NIQJqZmZmZ2VFAMzMzMzOzR0AzMzMzM3NCQAAAAAAAQEZAmpmZmZmZSUAzMzMzM3NIQAAAAAAAwFJAMzMzMzNzSEAzMzMzM3NIQDMzMzMzc0hAzczMzMyMR0AAAAAAAMBVQDMzMzMzc0hAmpmZmZm5VEBmZmZmZmY+QDMzMzMzc0hAAAAAAACAQUAzMzMzM1NbQM3MzMzMzGFAMzMzMzNzSEAzMzMzM3NIQM3MzMzMzDZAzczMzMwMQUAzMzMzMzNDQDMzMzMz80RAMzMzMzNzSEBmZmZmZuY+QDMzMzMzM0FAMzMzMzNzSEBmZmZmZiZfQDMzMzMzc0hAZmZmZmbmPUAzMzMzMxNSQJqZmZmZ+VpAAAAAAAAAWUAzMzMzM3NIQDMzMzMzc0hAMzMzMzMzQUAzMzMzM3NIQDMzMzMzc0hAMzMzMzOzP0AzMzMzM3NIQA==",
            "dtype": "f8"
           }
          },
          {
           "axis": {
            "matches": true
           },
           "label": "corruption_index",
           "values": {
            "bdata": "AAAAAAAAVUAAAAAAAEBRQAAAAAAAwFBAAAAAAABAUUAAAAAAAMBRQAAAAAAAAE9AAAAAAABAUUAAAAAAAAA7QAAAAAAAADpAAAAAAACAUUAAAAAAAEBRQAAAAAAAQFFAAAAAAACAUkAAAAAAAEBRQAAAAAAAQFFAAAAAAAAAO0AAAAAAAEBRQAAAAAAAQFFAAAAAAABAUUAAAAAAAIBRQAAAAAAAAE9AAAAAAABAUUAAAAAAAEBRQAAAAAAAAFJAAAAAAABAVEAAAAAAAEBTQAAAAAAAQFJAAAAAAAAAOkAAAAAAAMBTQAAAAAAAQFFAAAAAAAAAU0AAAAAAAABUQAAAAAAAQFFAAAAAAACAS0AAAAAAAEBRQAAAAAAAQFFAAAAAAAAAVEAAAAAAAMBTQAAAAAAAQFRAAAAAAABAUUAAAAAAAEBRQAAAAAAAQFFAAAAAAABAUUAAAAAAAAAoQAAAAAAAgFFAAAAAAACAUUAAAAAAAABQQAAAAAAAwFBAAAAAAACAUEAAAAAAAMBUQAAAAAAAgFNAAAAAAAAAOkAAAAAAAABRQAAAAAAAQFFAAAAAAAAAKEAAAAAAAAA9QAAAAAAAQFFAAAAAAABAUUAAAAAAAAA0QAAAAAAAQFFAAAAAAABAUUAAAAAAAIBJQAAAAAAAwFJAAAAAAABAUUAAAAAAAMBSQAAAAAAAAFRAAAAAAABAU0AAAAAAAAA4QAAAAAAAQFFAAAAAAAAAOkAAAAAAAABOQAAAAAAAAE9AAAAAAADAUkAAAAAAAEBTQAAAAAAAADpAAAAAAABAUUAAAAAAAIBEQAAAAAAAAEZAAAAAAABAUUAAAAAAAAA7QAAAAAAAQFFAAAAAAACAUUAAAAAAAEBRQAAAAAAAQFFAAAAAAABAUkAAAAAAAIBRQAAAAAAAQFFAAAAAAAAAU0AAAAAAAEBRQAAAAAAAwFFAAAAAAADAVEAAAAAAAEBRQAAAAAAAADNAAAAAAABAUUAAAAAAAIBSQAAAAAAAAEpAAAAAAADAUUAAAAAAAEBRQAAAAAAAQFFAAAAAAAAAUkAAAAAAAEBRQAAAAAAAQFFAAAAAAABAUUAAAAAAAEBRQAAAAAAAQFFAAAAAAABAUUAAAAAAAIBSQAAAAAAAwFBAAAAAAAAAMkAAAAAAAEBRQAAAAAAAAChAAAAAAAAAVEAAAAAAAEBRQAAAAAAAAFNAAAAAAAAALkAAAAAAAEBRQAAAAAAAAFJAAAAAAABAUUAAAAAAAEBRQAAAAAAAgFFAAAAAAADAUEAAAAAAAABGQAAAAAAAAENAAAAAAABAUUAAAAAAAEBRQAAAAAAAgEJAAAAAAACAS0AAAAAAAMBRQAAAAAAAgEdAAAAAAABAUUAAAAAAAIBQQAAAAAAAAC5AAAAAAABAUUAAAAAAAEBRQAAAAAAAwFVAAAAAAAAATEAAAAAAAABDQAAAAAAAQFZAAAAAAACAQ0AAAAAAAIBPQAAAAAAAAFRAAAAAAABAUUAAAAAAAAAuQAAAAAAAADBAAAAAAADAVUAAAAAAAEBRQAAAAAAAwFJAAAAAAABAUUAAAAAAAEBQQAAAAAAAQFFAAAAAAACAUUAAAAAAAEBRQAAAAAAAAE9AAAAAAABAVEAAAAAAAEBRQAAAAAAAQFJAAAAAAAAAUUAAAAAAAAA/QAAAAAAAADZAAAAAAACAQEAAAAAAAABSQAAAAAAAgFVAAAAAAACATkAAAAAAAEBRQAAAAAAAAFVAAAAAAADAUEAAAAAAAEBTQA==",
            "dtype": "f8"
           }
          }
         ],
         "hovertemplate": "%{xaxis.title.text}=%{x}<br>%{yaxis.title.text}=%{y}<br>country=%{customdata[0]}<extra></extra>",
         "legendgroup": "",
         "marker": {
          "color": "#636efa",
          "symbol": "circle"
         },
         "name": "",
         "showlegend": false,
         "showupperhalf": false,
         "type": "splom"
        }
       ],
       "layout": {
        "dragmode": "select",
        "height": 800,
        "legend": {
         "tracegroupgap": 0
        },
        "template": {
         "data": {
          "bar": [
           {
            "error_x": {
             "color": "#2a3f5f"
            },
            "error_y": {
             "color": "#2a3f5f"
            },
            "marker": {
             "line": {
              "color": "#E5ECF6",
              "width": 0.5
             },
             "pattern": {
              "fillmode": "overlay",
              "size": 10,
              "solidity": 0.2
             }
            },
            "type": "bar"
           }
          ],
          "barpolar": [
           {
            "marker": {
             "line": {
              "color": "#E5ECF6",
              "width": 0.5
             },
             "pattern": {
              "fillmode": "overlay",
              "size": 10,
              "solidity": 0.2
             }
            },
            "type": "barpolar"
           }
          ],
          "carpet": [
           {
            "aaxis": {
             "endlinecolor": "#2a3f5f",
             "gridcolor": "white",
             "linecolor": "white",
             "minorgridcolor": "white",
             "startlinecolor": "#2a3f5f"
            },
            "baxis": {
             "endlinecolor": "#2a3f5f",
             "gridcolor": "white",
             "linecolor": "white",
             "minorgridcolor": "white",
             "startlinecolor": "#2a3f5f"
            },
            "type": "carpet"
           }
          ],
          "choropleth": [
           {
            "colorbar": {
             "outlinewidth": 0,
             "ticks": ""
            },
            "type": "choropleth"
           }
          ],
          "contour": [
           {
            "colorbar": {
             "outlinewidth": 0,
             "ticks": ""
            },
            "colorscale": [
             [
              0,
              "#0d0887"
             ],
             [
              0.1111111111111111,
              "#46039f"
             ],
             [
              0.2222222222222222,
              "#7201a8"
             ],
             [
              0.3333333333333333,
              "#9c179e"
             ],
             [
              0.4444444444444444,
              "#bd3786"
             ],
             [
              0.5555555555555556,
              "#d8576b"
             ],
             [
              0.6666666666666666,
              "#ed7953"
             ],
             [
              0.7777777777777778,
              "#fb9f3a"
             ],
             [
              0.8888888888888888,
              "#fdca26"
             ],
             [
              1,
              "#f0f921"
             ]
            ],
            "type": "contour"
           }
          ],
          "contourcarpet": [
           {
            "colorbar": {
             "outlinewidth": 0,
             "ticks": ""
            },
            "type": "contourcarpet"
           }
          ],
          "heatmap": [
           {
            "colorbar": {
             "outlinewidth": 0,
             "ticks": ""
            },
            "colorscale": [
             [
              0,
              "#0d0887"
             ],
             [
              0.1111111111111111,
              "#46039f"
             ],
             [
              0.2222222222222222,
              "#7201a8"
             ],
             [
              0.3333333333333333,
              "#9c179e"
             ],
             [
              0.4444444444444444,
              "#bd3786"
             ],
             [
              0.5555555555555556,
              "#d8576b"
             ],
             [
              0.6666666666666666,
              "#ed7953"
             ],
             [
              0.7777777777777778,
              "#fb9f3a"
             ],
             [
              0.8888888888888888,
              "#fdca26"
             ],
             [
              1,
              "#f0f921"
             ]
            ],
            "type": "heatmap"
           }
          ],
          "histogram": [
           {
            "marker": {
             "pattern": {
              "fillmode": "overlay",
              "size": 10,
              "solidity": 0.2
             }
            },
            "type": "histogram"
           }
          ],
          "histogram2d": [
           {
            "colorbar": {
             "outlinewidth": 0,
             "ticks": ""
            },
            "colorscale": [
             [
              0,
              "#0d0887"
             ],
             [
              0.1111111111111111,
              "#46039f"
             ],
             [
              0.2222222222222222,
              "#7201a8"
             ],
             [
              0.3333333333333333,
              "#9c179e"
             ],
             [
              0.4444444444444444,
              "#bd3786"
             ],
             [
              0.5555555555555556,
              "#d8576b"
             ],
             [
              0.6666666666666666,
              "#ed7953"
             ],
             [
              0.7777777777777778,
              "#fb9f3a"
             ],
             [
              0.8888888888888888,
              "#fdca26"
             ],
             [
              1,
              "#f0f921"
             ]
            ],
            "type": "histogram2d"
           }
          ],
          "histogram2dcontour": [
           {
            "colorbar": {
             "outlinewidth": 0,
             "ticks": ""
            },
            "colorscale": [
             [
              0,
              "#0d0887"
             ],
             [
              0.1111111111111111,
              "#46039f"
             ],
             [
              0.2222222222222222,
              "#7201a8"
             ],
             [
              0.3333333333333333,
              "#9c179e"
             ],
             [
              0.4444444444444444,
              "#bd3786"
             ],
             [
              0.5555555555555556,
              "#d8576b"
             ],
             [
              0.6666666666666666,
              "#ed7953"
             ],
             [
              0.7777777777777778,
              "#fb9f3a"
             ],
             [
              0.8888888888888888,
              "#fdca26"
             ],
             [
              1,
              "#f0f921"
             ]
            ],
            "type": "histogram2dcontour"
           }
          ],
          "mesh3d": [
           {
            "colorbar": {
             "outlinewidth": 0,
             "ticks": ""
            },
            "type": "mesh3d"
           }
          ],
          "parcoords": [
           {
            "line": {
             "colorbar": {
              "outlinewidth": 0,
              "ticks": ""
             }
            },
            "type": "parcoords"
           }
          ],
          "pie": [
           {
            "automargin": true,
            "type": "pie"
           }
          ],
          "scatter": [
           {
            "fillpattern": {
             "fillmode": "overlay",
             "size": 10,
             "solidity": 0.2
            },
            "type": "scatter"
           }
          ],
          "scatter3d": [
           {
            "line": {
             "colorbar": {
              "outlinewidth": 0,
              "ticks": ""
             }
            },
            "marker": {
             "colorbar": {
              "outlinewidth": 0,
              "ticks": ""
             }
            },
            "type": "scatter3d"
           }
          ],
          "scattercarpet": [
           {
            "marker": {
             "colorbar": {
              "outlinewidth": 0,
              "ticks": ""
             }
            },
            "type": "scattercarpet"
           }
          ],
          "scattergeo": [
           {
            "marker": {
             "colorbar": {
              "outlinewidth": 0,
              "ticks": ""
             }
            },
            "type": "scattergeo"
           }
          ],
          "scattergl": [
           {
            "marker": {
             "colorbar": {
              "outlinewidth": 0,
              "ticks": ""
             }
            },
            "type": "scattergl"
           }
          ],
          "scattermap": [
           {
            "marker": {
             "colorbar": {
              "outlinewidth": 0,
              "ticks": ""
             }
            },
            "type": "scattermap"
           }
          ],
          "scattermapbox": [
           {
            "marker": {
             "colorbar": {
              "outlinewidth": 0,
              "ticks": ""
             }
            },
            "type": "scattermapbox"
           }
          ],
          "scatterpolar": [
           {
            "marker": {
             "colorbar": {
              "outlinewidth": 0,
              "ticks": ""
             }
            },
            "type": "scatterpolar"
           }
          ],
          "scatterpolargl": [
           {
            "marker": {
             "colorbar": {
              "outlinewidth": 0,
              "ticks": ""
             }
            },
            "type": "scatterpolargl"
           }
          ],
          "scatterternary": [
           {
            "marker": {
             "colorbar": {
              "outlinewidth": 0,
              "ticks": ""
             }
            },
            "type": "scatterternary"
           }
          ],
          "surface": [
           {
            "colorbar": {
             "outlinewidth": 0,
             "ticks": ""
            },
            "colorscale": [
             [
              0,
              "#0d0887"
             ],
             [
              0.1111111111111111,
              "#46039f"
             ],
             [
              0.2222222222222222,
              "#7201a8"
             ],
             [
              0.3333333333333333,
              "#9c179e"
             ],
             [
              0.4444444444444444,
              "#bd3786"
             ],
             [
              0.5555555555555556,
              "#d8576b"
             ],
             [
              0.6666666666666666,
              "#ed7953"
             ],
             [
              0.7777777777777778,
              "#fb9f3a"
             ],
             [
              0.8888888888888888,
              "#fdca26"
             ],
             [
              1,
              "#f0f921"
             ]
            ],
            "type": "surface"
           }
          ],
          "table": [
           {
            "cells": {
             "fill": {
              "color": "#EBF0F8"
             },
             "line": {
              "color": "white"
             }
            },
            "header": {
             "fill": {
              "color": "#C8D4E3"
             },
             "line": {
              "color": "white"
             }
            },
            "type": "table"
           }
          ]
         },
         "layout": {
          "annotationdefaults": {
           "arrowcolor": "#2a3f5f",
           "arrowhead": 0,
           "arrowwidth": 1
          },
          "autotypenumbers": "strict",
          "coloraxis": {
           "colorbar": {
            "outlinewidth": 0,
            "ticks": ""
           }
          },
          "colorscale": {
           "diverging": [
            [
             0,
             "#8e0152"
            ],
            [
             0.1,
             "#c51b7d"
            ],
            [
             0.2,
             "#de77ae"
            ],
            [
             0.3,
             "#f1b6da"
            ],
            [
             0.4,
             "#fde0ef"
            ],
            [
             0.5,
             "#f7f7f7"
            ],
            [
             0.6,
             "#e6f5d0"
            ],
            [
             0.7,
             "#b8e186"
            ],
            [
             0.8,
             "#7fbc41"
            ],
            [
             0.9,
             "#4d9221"
            ],
            [
             1,
             "#276419"
            ]
           ],
           "sequential": [
            [
             0,
             "#0d0887"
            ],
            [
             0.1111111111111111,
             "#46039f"
            ],
            [
             0.2222222222222222,
             "#7201a8"
            ],
            [
             0.3333333333333333,
             "#9c179e"
            ],
            [
             0.4444444444444444,
             "#bd3786"
            ],
            [
             0.5555555555555556,
             "#d8576b"
            ],
            [
             0.6666666666666666,
             "#ed7953"
            ],
            [
             0.7777777777777778,
             "#fb9f3a"
            ],
            [
             0.8888888888888888,
             "#fdca26"
            ],
            [
             1,
             "#f0f921"
            ]
           ],
           "sequentialminus": [
            [
             0,
             "#0d0887"
            ],
            [
             0.1111111111111111,
             "#46039f"
            ],
            [
             0.2222222222222222,
             "#7201a8"
            ],
            [
             0.3333333333333333,
             "#9c179e"
            ],
            [
             0.4444444444444444,
             "#bd3786"
            ],
            [
             0.5555555555555556,
             "#d8576b"
            ],
            [
             0.6666666666666666,
             "#ed7953"
            ],
            [
             0.7777777777777778,
             "#fb9f3a"
            ],
            [
             0.8888888888888888,
             "#fdca26"
            ],
            [
             1,
             "#f0f921"
            ]
           ]
          },
          "colorway": [
           "#636efa",
           "#EF553B",
           "#00cc96",
           "#ab63fa",
           "#FFA15A",
           "#19d3f3",
           "#FF6692",
           "#B6E880",
           "#FF97FF",
           "#FECB52"
          ],
          "font": {
           "color": "#2a3f5f"
          },
          "geo": {
           "bgcolor": "white",
           "lakecolor": "white",
           "landcolor": "#E5ECF6",
           "showlakes": true,
           "showland": true,
           "subunitcolor": "white"
          },
          "hoverlabel": {
           "align": "left"
          },
          "hovermode": "closest",
          "mapbox": {
           "style": "light"
          },
          "paper_bgcolor": "white",
          "plot_bgcolor": "#E5ECF6",
          "polar": {
           "angularaxis": {
            "gridcolor": "white",
            "linecolor": "white",
            "ticks": ""
           },
           "bgcolor": "#E5ECF6",
           "radialaxis": {
            "gridcolor": "white",
            "linecolor": "white",
            "ticks": ""
           }
          },
          "scene": {
           "xaxis": {
            "backgroundcolor": "#E5ECF6",
            "gridcolor": "white",
            "gridwidth": 2,
            "linecolor": "white",
            "showbackground": true,
            "ticks": "",
            "zerolinecolor": "white"
           },
           "yaxis": {
            "backgroundcolor": "#E5ECF6",
            "gridcolor": "white",
            "gridwidth": 2,
            "linecolor": "white",
            "showbackground": true,
            "ticks": "",
            "zerolinecolor": "white"
           },
           "zaxis": {
            "backgroundcolor": "#E5ECF6",
            "gridcolor": "white",
            "gridwidth": 2,
            "linecolor": "white",
            "showbackground": true,
            "ticks": "",
            "zerolinecolor": "white"
           }
          },
          "shapedefaults": {
           "line": {
            "color": "#2a3f5f"
           }
          },
          "ternary": {
           "aaxis": {
            "gridcolor": "white",
            "linecolor": "white",
            "ticks": ""
           },
           "baxis": {
            "gridcolor": "white",
            "linecolor": "white",
            "ticks": ""
           },
           "bgcolor": "#E5ECF6",
           "caxis": {
            "gridcolor": "white",
            "linecolor": "white",
            "ticks": ""
           }
          },
          "title": {
           "x": 0.05
          },
          "xaxis": {
           "automargin": true,
           "gridcolor": "white",
           "linecolor": "white",
           "ticks": "",
           "title": {
            "standoff": 15
           },
           "zerolinecolor": "white",
           "zerolinewidth": 2
          },
          "yaxis": {
           "automargin": true,
           "gridcolor": "white",
           "linecolor": "white",
           "ticks": "",
           "title": {
            "standoff": 15
           },
           "zerolinecolor": "white",
           "zerolinewidth": 2
          }
         }
        },
        "title": {
         "text": "Economic Indicators - Interactive Scatter Plot Matrix"
        }
       }
      }
     },
     "metadata": {},
     "output_type": "display_data"
    },
    {
     "name": "stdout",
     "output_type": "stream",
     "text": [
      "\n",
      "UNEMPLOYMENT RATE:\n",
      "TOP 5 Countries:\n",
      "   Marshall Islands: 36.00\n",
      "   South Africa: 33.60\n",
      "   Kiribati: 30.60\n",
      "   Kosovo: 30.50\n",
      "   American Samoa: 29.80\n",
      "\n",
      "BOTTOM 5 Countries:\n",
      "   Cocos (Keeling) Islands: 0.10\n",
      "   Qatar: 0.30\n",
      "   Cambodia: 0.60\n",
      "   Niger: 0.80\n",
      "   Gibraltar: 1.00\n",
      "\n",
      "TOURISM MILLIONS:\n",
      "TOP 5 Countries:\n",
      "   France: 117.10\n",
      "   Mexico: 51.10\n",
      "   United States: 45.00\n",
      "   Italy: 38.40\n",
      "   Hungary: 31.60\n",
      "\n",
      "BOTTOM 5 Countries:\n",
      "   Moldova: 0.00\n",
      "   Bermuda: 0.10\n",
      "   Serbia: 0.40\n",
      "   Ethiopia: 0.50\n",
      "   Luxembourg: 0.50\n",
      "\n",
      "GDP PER CAPITA:\n",
      "TOP 5 Countries:\n",
      "   Luxembourg: 134754.00\n",
      "   Singapore: 116486.00\n",
      "   Ireland: 106456.00\n",
      "   Qatar: 93521.00\n",
      "   Bermuda: 85192.00\n",
      "\n",
      "BOTTOM 5 Countries:\n",
      "   Oman: 30422.00\n",
      "   Turkey: 30472.00\n",
      "   Greece: 31295.00\n",
      "   Cyprus: 31509.00\n",
      "   Panama: 31680.00\n",
      "\n",
      "COST OF LIVING:\n",
      "TOP 5 Countries:\n",
      "   Bermuda: 157.60\n",
      "   Switzerland: 142.40\n",
      "   Cayman Islands: 137.90\n",
      "   Israel: 130.20\n",
      "   Iceland: 128.00\n",
      "\n",
      "BOTTOM 5 Countries:\n",
      "   Tajikistan: 22.80\n",
      "   Angola: 23.00\n",
      "   Kyrgyzstan: 25.30\n",
      "   Pakistan: 25.80\n",
      "   Burma: 27.00\n",
      "\n",
      "CORRUPTION INDEX:\n",
      "TOP 5 Countries:\n",
      "   South Sudan: 89.00\n",
      "   Somalia: 87.00\n",
      "   Syria: 87.00\n",
      "   Venezuela: 86.00\n",
      "   Afghanistan: 84.00\n",
      "\n",
      "BOTTOM 5 Countries:\n",
      "   Denmark: 12.00\n",
      "   Finland: 12.00\n",
      "   New Zealand: 12.00\n",
      "   Norway: 15.00\n",
      "   Singapore: 15.00\n"
     ]
    },
    {
     "data": {
      "application/vnd.plotly.v1+json": {
       "config": {
        "plotlyServerURL": "https://plot.ly"
       },
       "data": [
        {
         "customdata": [
          [
           "Afghanistan",
           48.9,
           5
          ],
          [
           "Albania",
           52,
           5
          ],
          [
           "Algeria",
           29.9,
           5
          ],
          [
           "American Samoa",
           48.9,
           29.8
          ],
          [
           "Angola",
           23,
           5
          ],
          [
           "Argentina",
           48.9,
           5
          ],
          [
           "Armenia",
           33.8,
           5
          ],
          [
           "Australia",
           118,
           5.1
          ],
          [
           "Austria",
           95.9,
           5
          ],
          [
           "Azerbaijan",
           29.8,
           5
          ],
          [
           "Bahamas",
           48.9,
           5
          ],
          [
           "Bahrain",
           49,
           1.9
          ],
          [
           "Bangladesh",
           39,
           5.2
          ],
          [
           "Barbados",
           121.5,
           5
          ],
          [
           "Belarus",
           48.9,
           5
          ],
          [
           "Belgium",
           97,
           5
          ],
          [
           "Benin",
           37.5,
           1.6
          ],
          [
           "Bermuda",
           157.6,
           7
          ],
          [
           "Bhutan",
           30,
           5
          ],
          [
           "Bolivia",
           36.2,
           5
          ],
          [
           "Brazil",
           46.9,
           14.4
          ],
          [
           "Brunei",
           48.9,
           5
          ],
          [
           "Bulgaria",
           47.5,
           5
          ],
          [
           "Burma",
           27,
           5
          ],
          [
           "Burundi",
           48.9,
           1.8
          ],
          [
           "Cambodia",
           36.6,
           0.6
          ],
          [
           "Cameroon",
           41.9,
           5
          ],
          [
           "Canada",
           105.6,
           7.5
          ],
          [
           "Cape Verde",
           48.9,
           5
          ],
          [
           "Cayman Islands",
           137.9,
           5
          ],
          [
           "Central Africa",
           48.9,
           5
          ],
          [
           "Chad",
           48.9,
           1.9
          ],
          [
           "Chile",
           62.9,
           5
          ],
          [
           "China",
           63.2,
           4.8
          ],
          [
           "Cocos (Keeling) Islands",
           48.9,
           0.1
          ],
          [
           "Colombia",
           41.9,
           5
          ],
          [
           "Comoros",
           48.9,
           5
          ],
          [
           "Congo",
           48.9,
           5
          ],
          [
           "Congo (Dem. Republic)",
           48.9,
           5
          ],
          [
           "Costa Rica",
           57.7,
           5
          ],
          [
           "Croatia",
           60.8,
           5
          ],
          [
           "Cyprus",
           48.9,
           5
          ],
          [
           "Czechia",
           68.1,
           5
          ],
          [
           "Denmark",
           119.9,
           4.8
          ],
          [
           "Djibouti",
           48.9,
           28.4
          ],
          [
           "Dominican Republic",
           48.9,
           5
          ],
          [
           "Ecuador",
           51.9,
           6.4
          ],
          [
           "Egypt",
           27.2,
           9.3
          ],
          [
           "El Salvador",
           48.9,
           5
          ],
          [
           "Equatorial Guinea",
           55.9,
           5
          ],
          [
           "Eritrea",
           48.9,
           5
          ],
          [
           "Estonia",
           74,
           5
          ],
          [
           "Eswatini",
           48.9,
           25.8
          ],
          [
           "Ethiopia",
           48.9,
           5
          ],
          [
           "Finland",
           108,
           5
          ],
          [
           "France",
           96.2,
           8.1
          ],
          [
           "Gabon",
           48.9,
           5
          ],
          [
           "Georgia",
           32.2,
           5
          ],
          [
           "Germany",
           92.3,
           3.5
          ],
          [
           "Ghana",
           37.3,
           5
          ],
          [
           "Gibraltar",
           48.9,
           1
          ],
          [
           "Greece",
           74.7,
           14.8
          ],
          [
           "Guatemala",
           48.9,
           5
          ],
          [
           "Guernsey",
           48.9,
           1.2
          ],
          [
           "Guinea",
           48.9,
           5
          ],
          [
           "Haiti",
           60.1,
           5
          ],
          [
           "Honduras",
           48.9,
           5
          ],
          [
           "Hong Kong",
           77.9,
           5.3
          ],
          [
           "Hungary",
           57.3,
           5
          ],
          [
           "Iceland",
           128,
           5
          ],
          [
           "India",
           28.8,
           6
          ],
          [
           "Indonesia",
           35.4,
           4.4
          ],
          [
           "Iran",
           67.6,
           5
          ],
          [
           "Iraq",
           36.8,
           5
          ],
          [
           "Ireland",
           119.8,
           6.6
          ],
          [
           "Isle of Man",
           48.9,
           1.1
          ],
          [
           "Israel",
           130.2,
           5
          ],
          [
           "Italy",
           86.2,
           9.8
          ],
          [
           "Ivory Coast",
           42.7,
           5
          ],
          [
           "Japan",
           101.9,
           2.8
          ],
          [
           "Kazakhstan",
           33.1,
           5
          ],
          [
           "Kenya",
           42.3,
           5
          ],
          [
           "Kiribati",
           48.9,
           30.6
          ],
          [
           "Kosovo",
           41,
           30.5
          ],
          [
           "Kyrgyzstan",
           25.3,
           5
          ],
          [
           "Laos",
           33.5,
           1.3
          ],
          [
           "Latvia",
           48.9,
           5
          ],
          [
           "Lebanon",
           48.9,
           5
          ],
          [
           "Lesotho",
           39.3,
           5
          ],
          [
           "Liberia",
           48.9,
           5
          ],
          [
           "Libya",
           48.9,
           5
          ],
          [
           "Lithuania",
           48.9,
           5
          ],
          [
           "Luxembourg",
           113.1,
           5.2
          ],
          [
           "Macao",
           75,
           3
          ],
          [
           "Madagascar",
           48.9,
           5
          ],
          [
           "Malaysia",
           38.8,
           4.6
          ],
          [
           "Mali",
           48.9,
           5
          ],
          [
           "Malta",
           75.7,
           5
          ],
          [
           "Marshall Islands",
           48.9,
           36
          ],
          [
           "Mauritania",
           48.9,
           5
          ],
          [
           "Mauritius",
           43.3,
           5
          ],
          [
           "Mexico",
           54.7,
           4.4
          ],
          [
           "Moldova",
           38.5,
           5
          ],
          [
           "Mongolia",
           35.3,
           5
          ],
          [
           "Montenegro",
           51.2,
           5
          ],
          [
           "Morocco",
           45,
           5
          ],
          [
           "Mozambique",
           48.9,
           5
          ],
          [
           "Nepal",
           28.1,
           5
          ],
          [
           "Netherlands",
           99,
           4
          ],
          [
           "New Caledonia",
           125.8,
           5
          ],
          [
           "New Zealand",
           117.2,
           5
          ],
          [
           "Nicaragua",
           35.8,
           5
          ],
          [
           "Niger",
           48.9,
           0.8
          ],
          [
           "Nigeria",
           41.8,
           9.8
          ],
          [
           "Norway",
           124.6,
           5
          ],
          [
           "Oman",
           48.9,
           5
          ],
          [
           "Pakistan",
           25.8,
           4.4
          ],
          [
           "Panama",
           48.9,
           5
          ],
          [
           "Papua New Guinea",
           48.9,
           5
          ],
          [
           "Paraguay",
           38.6,
           5
          ],
          [
           "Philippines",
           40.9,
           2.4
          ],
          [
           "Poland",
           51.1,
           3.4
          ],
          [
           "Portugal",
           76.4,
           5
          ],
          [
           "Principality of Monaco",
           48.9,
           2
          ],
          [
           "Puerto Rico",
           48.9,
           5
          ],
          [
           "Qatar",
           71.4,
           0.3
          ],
          [
           "Romania",
           47.4,
           5.2
          ],
          [
           "Russia",
           36.9,
           5
          ],
          [
           "Saudi Arabia",
           44.5,
           7.4
          ],
          [
           "Serbia",
           51.2,
           5
          ],
          [
           "Sierra Leone",
           48.9,
           5
          ],
          [
           "Singapore",
           75,
           3.6
          ],
          [
           "Slovakia",
           48.9,
           5
          ],
          [
           "Slovenia",
           48.9,
           5
          ],
          [
           "Somalia",
           48.9,
           5
          ],
          [
           "South Africa",
           47.1,
           33.6
          ],
          [
           "South Korea",
           87,
           3.5
          ],
          [
           "South Sudan",
           48.9,
           5
          ],
          [
           "Spain",
           82.9,
           14.7
          ],
          [
           "Sri Lanka",
           30.4,
           5.4
          ],
          [
           "Sudan",
           48.9,
           5
          ],
          [
           "Suriname",
           35,
           5
          ],
          [
           "Sweden",
           109.3,
           8.7
          ],
          [
           "Switzerland",
           142.4,
           5.3
          ],
          [
           "Syria",
           48.9,
           5
          ],
          [
           "Taiwan",
           48.9,
           3.7
          ],
          [
           "Tajikistan",
           22.8,
           5
          ],
          [
           "Tanzania",
           34.1,
           5
          ],
          [
           "Thailand",
           38.4,
           1.4
          ],
          [
           "Timor-Leste",
           41.9,
           5
          ],
          [
           "Togo",
           48.9,
           5
          ],
          [
           "Tunisia",
           30.9,
           5
          ],
          [
           "Turkey",
           34.4,
           13.4
          ],
          [
           "Turkmenistan",
           48.9,
           5
          ],
          [
           "Turks and Caicos Islands",
           124.6,
           5
          ],
          [
           "Uganda",
           48.9,
           5
          ],
          [
           "Ukraine",
           29.9,
           8.9
          ],
          [
           "United Arab Emirates",
           72.3,
           5
          ],
          [
           "United Kingdom",
           107.9,
           4.5
          ],
          [
           "United States",
           100,
           5.5
          ],
          [
           "Uzbekistan",
           48.9,
           5
          ],
          [
           "Venezuela",
           48.9,
           5
          ],
          [
           "Vietnam",
           34.4,
           2.2
          ],
          [
           "Virgin Islands",
           48.9,
           5
          ],
          [
           "Yemen",
           48.9,
           5
          ],
          [
           "Zambia",
           31.7,
           5
          ],
          [
           "Zimbabwe",
           48.9,
           5
          ]
         ],
         "hovertemplate": "GDP per Capita ($)=%{x}<br>Corruption Index=%{y}<br>country=%{customdata[0]}<br>cost_of_living=%{customdata[1]}<br>unemployment_rate=%{customdata[2]}<extra></extra>",
         "legendgroup": "",
         "marker": {
          "color": "#636efa",
          "symbol": "circle"
         },
         "mode": "markers",
         "name": "",
         "orientation": "v",
         "showlegend": false,
         "type": "scatter",
         "x": {
          "bdata": "AAAAAIAa50AAAAAAgBrnQAAAAACAGudAAAAAAIAa50AAAAAAgBrnQAAAAACAGudAAAAAAIAa50AAAAAA4D/rQAAAAABgh+xAAAAAAIAa50AAAAAAgKfgQAAAAABgLOZAAAAAAIAa50AAAAAAgBrnQAAAAACAGudAAAAAAGDG7EAAAAAAgBrnQAAAAACAzPRAAAAAAIAa50AAAAAAgBrnQAAAAACAGudAAAAAAMBD8EAAAAAAgBrnQAAAAACAGudAAAAAAIAa50AAAAAAgBrnQAAAAACAGudAAAAAAKBu6UAAAAAAgBrnQAAAAACAGudAAAAAAIAa50AAAAAAgBrnQAAAAACAGudAAAAAAIAa50AAAAAAgBrnQAAAAACAGudAAAAAAIAa50AAAAAAgBrnQAAAAACAGudAAAAAAIAa50AAAAAAIIHgQAAAAABAxd5AAAAAAKCc5UAAAAAAYJHvQAAAAACAGudAAAAAAIAa50AAAAAAgBrnQAAAAACAGudAAAAAAIAa50AAAAAAgBrnQAAAAACAGudAAAAAAACa5EAAAAAAgBrnQAAAAACAGudAAAAAAODb6kAAAAAAIMXoQAAAAACAGudAAAAAAIAa50AAAAAAAEnsQAAAAACAGudAAAAAAIAa50AAAAAAwI/eQAAAAACAGudAAAAAAIAa50AAAAAAgBrnQAAAAACAGudAAAAAAIAa50AAAAAAUBvwQAAAAAAg8uFAAAAAAMAl7EAAAAAAgBrnQAAAAACAGudAAAAAAIAa50AAAAAAgBrnQAAAAACA/flAAAAAAIAa50AAAAAAQFnlQAAAAAAAbuZAAAAAAIAa50AAAAAAgPfkQAAAAACAGudAAAAAAIAa50AAAAAAgBrnQAAAAACAGudAAAAAAIAa50AAAAAAgBrnQAAAAACg1OBAAAAAAIAa50AAAAAAgBrnQAAAAACAGudAAAAAAIAa50AAAAAAINXkQAAAAAAQcwBBAAAAAKAE8kAAAAAAgBrnQAAAAACAGudAAAAAAIAa50AAAAAAQEznQAAAAACAGudAAAAAAIAa50AAAAAAgBrnQAAAAACAGudAAAAAAIAa50AAAAAAgBrnQAAAAACAGudAAAAAAIAa50AAAAAAgBrnQAAAAACAGudAAAAAAOAi70AAAAAAgBrnQAAAAACAquZAAAAAAIAa50AAAAAAgBrnQAAAAACAGudAAAAAABBW80AAAAAAgLXdQAAAAACAGudAAAAAAADw3kAAAAAAgBrnQAAAAACAGudAAAAAAIAa50AAAAAA4E/iQAAAAAAAhuFAAAAAAIAa50AAAAAAgBrnQAAAAAAQ1fZAAAAAAMBK4UAAAAAAIErgQAAAAADgMehAAAAAAIAa50AAAAAAgBrnQAAAAABgcPxAAAAAAEAe4EAAAAAAIE3lQAAAAACAGudAAAAAAIAa50AAAAAAwOjmQAAAAACAGudAAAAAAODo40AAAAAAgBrnQAAAAACAGudAAAAAAIAa50AAAAAAgPfsQAAAAADA4PJAAAAAAIAa50AAAAAAgBrnQAAAAACAGudAAAAAAIAa50AAAAAAgBrnQAAAAACAGudAAAAAAIAa50AAAAAAgBrnQAAAAAAAwt1AAAAAAIAa50AAAAAAgBrnQAAAAACAGudAAAAAAIAa50AAAAAAgBrnQAAAAABgQehAAAAAAIDq8EAAAAAAgBrnQAAAAACAGudAAAAAAIAa50AAAAAAgBrnQAAAAACAGudAAAAAAIAa50AAAAAAgBrnQA==",
          "dtype": "f8"
         },
         "xaxis": "x",
         "y": {
          "bdata": "AAAAAAAAVUAAAAAAAEBRQAAAAAAAwFBAAAAAAABAUUAAAAAAAMBRQAAAAAAAAE9AAAAAAABAUUAAAAAAAAA7QAAAAAAAADpAAAAAAACAUUAAAAAAAEBRQAAAAAAAQFFAAAAAAACAUkAAAAAAAEBRQAAAAAAAQFFAAAAAAAAAO0AAAAAAAEBRQAAAAAAAQFFAAAAAAABAUUAAAAAAAIBRQAAAAAAAAE9AAAAAAABAUUAAAAAAAEBRQAAAAAAAAFJAAAAAAABAVEAAAAAAAEBTQAAAAAAAQFJAAAAAAAAAOkAAAAAAAMBTQAAAAAAAQFFAAAAAAAAAU0AAAAAAAABUQAAAAAAAQFFAAAAAAACAS0AAAAAAAEBRQAAAAAAAQFFAAAAAAAAAVEAAAAAAAMBTQAAAAAAAQFRAAAAAAABAUUAAAAAAAEBRQAAAAAAAQFFAAAAAAABAUUAAAAAAAAAoQAAAAAAAgFFAAAAAAACAUUAAAAAAAABQQAAAAAAAwFBAAAAAAACAUEAAAAAAAMBUQAAAAAAAgFNAAAAAAAAAOkAAAAAAAABRQAAAAAAAQFFAAAAAAAAAKEAAAAAAAAA9QAAAAAAAQFFAAAAAAABAUUAAAAAAAAA0QAAAAAAAQFFAAAAAAABAUUAAAAAAAIBJQAAAAAAAwFJAAAAAAABAUUAAAAAAAMBSQAAAAAAAAFRAAAAAAABAU0AAAAAAAAA4QAAAAAAAQFFAAAAAAAAAOkAAAAAAAABOQAAAAAAAAE9AAAAAAADAUkAAAAAAAEBTQAAAAAAAADpAAAAAAABAUUAAAAAAAIBEQAAAAAAAAEZAAAAAAABAUUAAAAAAAAA7QAAAAAAAQFFAAAAAAACAUUAAAAAAAEBRQAAAAAAAQFFAAAAAAABAUkAAAAAAAIBRQAAAAAAAQFFAAAAAAAAAU0AAAAAAAEBRQAAAAAAAwFFAAAAAAADAVEAAAAAAAEBRQAAAAAAAADNAAAAAAABAUUAAAAAAAIBSQAAAAAAAAEpAAAAAAADAUUAAAAAAAEBRQAAAAAAAQFFAAAAAAAAAUkAAAAAAAEBRQAAAAAAAQFFAAAAAAABAUUAAAAAAAEBRQAAAAAAAQFFAAAAAAABAUUAAAAAAAIBSQAAAAAAAwFBAAAAAAAAAMkAAAAAAAEBRQAAAAAAAAChAAAAAAAAAVEAAAAAAAEBRQAAAAAAAAFNAAAAAAAAALkAAAAAAAEBRQAAAAAAAAFJAAAAAAABAUUAAAAAAAEBRQAAAAAAAgFFAAAAAAADAUEAAAAAAAABGQAAAAAAAAENAAAAAAABAUUAAAAAAAEBRQAAAAAAAgEJAAAAAAACAS0AAAAAAAMBRQAAAAAAAgEdAAAAAAABAUUAAAAAAAIBQQAAAAAAAAC5AAAAAAABAUUAAAAAAAEBRQAAAAAAAwFVAAAAAAAAATEAAAAAAAABDQAAAAAAAQFZAAAAAAACAQ0AAAAAAAIBPQAAAAAAAAFRAAAAAAABAUUAAAAAAAAAuQAAAAAAAADBAAAAAAADAVUAAAAAAAEBRQAAAAAAAwFJAAAAAAABAUUAAAAAAAEBQQAAAAAAAQFFAAAAAAACAUUAAAAAAAEBRQAAAAAAAAE9AAAAAAABAVEAAAAAAAEBRQAAAAAAAQFJAAAAAAAAAUUAAAAAAAAA/QAAAAAAAADZAAAAAAACAQEAAAAAAAABSQAAAAAAAgFVAAAAAAACATkAAAAAAAEBRQAAAAAAAAFVAAAAAAADAUEAAAAAAAEBTQA==",
          "dtype": "f8"
         },
         "yaxis": "y"
        }
       ],
       "layout": {
        "legend": {
         "tracegroupgap": 0
        },
        "template": {
         "data": {
          "bar": [
           {
            "error_x": {
             "color": "#2a3f5f"
            },
            "error_y": {
             "color": "#2a3f5f"
            },
            "marker": {
             "line": {
              "color": "#E5ECF6",
              "width": 0.5
             },
             "pattern": {
              "fillmode": "overlay",
              "size": 10,
              "solidity": 0.2
             }
            },
            "type": "bar"
           }
          ],
          "barpolar": [
           {
            "marker": {
             "line": {
              "color": "#E5ECF6",
              "width": 0.5
             },
             "pattern": {
              "fillmode": "overlay",
              "size": 10,
              "solidity": 0.2
             }
            },
            "type": "barpolar"
           }
          ],
          "carpet": [
           {
            "aaxis": {
             "endlinecolor": "#2a3f5f",
             "gridcolor": "white",
             "linecolor": "white",
             "minorgridcolor": "white",
             "startlinecolor": "#2a3f5f"
            },
            "baxis": {
             "endlinecolor": "#2a3f5f",
             "gridcolor": "white",
             "linecolor": "white",
             "minorgridcolor": "white",
             "startlinecolor": "#2a3f5f"
            },
            "type": "carpet"
           }
          ],
          "choropleth": [
           {
            "colorbar": {
             "outlinewidth": 0,
             "ticks": ""
            },
            "type": "choropleth"
           }
          ],
          "contour": [
           {
            "colorbar": {
             "outlinewidth": 0,
             "ticks": ""
            },
            "colorscale": [
             [
              0,
              "#0d0887"
             ],
             [
              0.1111111111111111,
              "#46039f"
             ],
             [
              0.2222222222222222,
              "#7201a8"
             ],
             [
              0.3333333333333333,
              "#9c179e"
             ],
             [
              0.4444444444444444,
              "#bd3786"
             ],
             [
              0.5555555555555556,
              "#d8576b"
             ],
             [
              0.6666666666666666,
              "#ed7953"
             ],
             [
              0.7777777777777778,
              "#fb9f3a"
             ],
             [
              0.8888888888888888,
              "#fdca26"
             ],
             [
              1,
              "#f0f921"
             ]
            ],
            "type": "contour"
           }
          ],
          "contourcarpet": [
           {
            "colorbar": {
             "outlinewidth": 0,
             "ticks": ""
            },
            "type": "contourcarpet"
           }
          ],
          "heatmap": [
           {
            "colorbar": {
             "outlinewidth": 0,
             "ticks": ""
            },
            "colorscale": [
             [
              0,
              "#0d0887"
             ],
             [
              0.1111111111111111,
              "#46039f"
             ],
             [
              0.2222222222222222,
              "#7201a8"
             ],
             [
              0.3333333333333333,
              "#9c179e"
             ],
             [
              0.4444444444444444,
              "#bd3786"
             ],
             [
              0.5555555555555556,
              "#d8576b"
             ],
             [
              0.6666666666666666,
              "#ed7953"
             ],
             [
              0.7777777777777778,
              "#fb9f3a"
             ],
             [
              0.8888888888888888,
              "#fdca26"
             ],
             [
              1,
              "#f0f921"
             ]
            ],
            "type": "heatmap"
           }
          ],
          "histogram": [
           {
            "marker": {
             "pattern": {
              "fillmode": "overlay",
              "size": 10,
              "solidity": 0.2
             }
            },
            "type": "histogram"
           }
          ],
          "histogram2d": [
           {
            "colorbar": {
             "outlinewidth": 0,
             "ticks": ""
            },
            "colorscale": [
             [
              0,
              "#0d0887"
             ],
             [
              0.1111111111111111,
              "#46039f"
             ],
             [
              0.2222222222222222,
              "#7201a8"
             ],
             [
              0.3333333333333333,
              "#9c179e"
             ],
             [
              0.4444444444444444,
              "#bd3786"
             ],
             [
              0.5555555555555556,
              "#d8576b"
             ],
             [
              0.6666666666666666,
              "#ed7953"
             ],
             [
              0.7777777777777778,
              "#fb9f3a"
             ],
             [
              0.8888888888888888,
              "#fdca26"
             ],
             [
              1,
              "#f0f921"
             ]
            ],
            "type": "histogram2d"
           }
          ],
          "histogram2dcontour": [
           {
            "colorbar": {
             "outlinewidth": 0,
             "ticks": ""
            },
            "colorscale": [
             [
              0,
              "#0d0887"
             ],
             [
              0.1111111111111111,
              "#46039f"
             ],
             [
              0.2222222222222222,
              "#7201a8"
             ],
             [
              0.3333333333333333,
              "#9c179e"
             ],
             [
              0.4444444444444444,
              "#bd3786"
             ],
             [
              0.5555555555555556,
              "#d8576b"
             ],
             [
              0.6666666666666666,
              "#ed7953"
             ],
             [
              0.7777777777777778,
              "#fb9f3a"
             ],
             [
              0.8888888888888888,
              "#fdca26"
             ],
             [
              1,
              "#f0f921"
             ]
            ],
            "type": "histogram2dcontour"
           }
          ],
          "mesh3d": [
           {
            "colorbar": {
             "outlinewidth": 0,
             "ticks": ""
            },
            "type": "mesh3d"
           }
          ],
          "parcoords": [
           {
            "line": {
             "colorbar": {
              "outlinewidth": 0,
              "ticks": ""
             }
            },
            "type": "parcoords"
           }
          ],
          "pie": [
           {
            "automargin": true,
            "type": "pie"
           }
          ],
          "scatter": [
           {
            "fillpattern": {
             "fillmode": "overlay",
             "size": 10,
             "solidity": 0.2
            },
            "type": "scatter"
           }
          ],
          "scatter3d": [
           {
            "line": {
             "colorbar": {
              "outlinewidth": 0,
              "ticks": ""
             }
            },
            "marker": {
             "colorbar": {
              "outlinewidth": 0,
              "ticks": ""
             }
            },
            "type": "scatter3d"
           }
          ],
          "scattercarpet": [
           {
            "marker": {
             "colorbar": {
              "outlinewidth": 0,
              "ticks": ""
             }
            },
            "type": "scattercarpet"
           }
          ],
          "scattergeo": [
           {
            "marker": {
             "colorbar": {
              "outlinewidth": 0,
              "ticks": ""
             }
            },
            "type": "scattergeo"
           }
          ],
          "scattergl": [
           {
            "marker": {
             "colorbar": {
              "outlinewidth": 0,
              "ticks": ""
             }
            },
            "type": "scattergl"
           }
          ],
          "scattermap": [
           {
            "marker": {
             "colorbar": {
              "outlinewidth": 0,
              "ticks": ""
             }
            },
            "type": "scattermap"
           }
          ],
          "scattermapbox": [
           {
            "marker": {
             "colorbar": {
              "outlinewidth": 0,
              "ticks": ""
             }
            },
            "type": "scattermapbox"
           }
          ],
          "scatterpolar": [
           {
            "marker": {
             "colorbar": {
              "outlinewidth": 0,
              "ticks": ""
             }
            },
            "type": "scatterpolar"
           }
          ],
          "scatterpolargl": [
           {
            "marker": {
             "colorbar": {
              "outlinewidth": 0,
              "ticks": ""
             }
            },
            "type": "scatterpolargl"
           }
          ],
          "scatterternary": [
           {
            "marker": {
             "colorbar": {
              "outlinewidth": 0,
              "ticks": ""
             }
            },
            "type": "scatterternary"
           }
          ],
          "surface": [
           {
            "colorbar": {
             "outlinewidth": 0,
             "ticks": ""
            },
            "colorscale": [
             [
              0,
              "#0d0887"
             ],
             [
              0.1111111111111111,
              "#46039f"
             ],
             [
              0.2222222222222222,
              "#7201a8"
             ],
             [
              0.3333333333333333,
              "#9c179e"
             ],
             [
              0.4444444444444444,
              "#bd3786"
             ],
             [
              0.5555555555555556,
              "#d8576b"
             ],
             [
              0.6666666666666666,
              "#ed7953"
             ],
             [
              0.7777777777777778,
              "#fb9f3a"
             ],
             [
              0.8888888888888888,
              "#fdca26"
             ],
             [
              1,
              "#f0f921"
             ]
            ],
            "type": "surface"
           }
          ],
          "table": [
           {
            "cells": {
             "fill": {
              "color": "#EBF0F8"
             },
             "line": {
              "color": "white"
             }
            },
            "header": {
             "fill": {
              "color": "#C8D4E3"
             },
             "line": {
              "color": "white"
             }
            },
            "type": "table"
           }
          ]
         },
         "layout": {
          "annotationdefaults": {
           "arrowcolor": "#2a3f5f",
           "arrowhead": 0,
           "arrowwidth": 1
          },
          "autotypenumbers": "strict",
          "coloraxis": {
           "colorbar": {
            "outlinewidth": 0,
            "ticks": ""
           }
          },
          "colorscale": {
           "diverging": [
            [
             0,
             "#8e0152"
            ],
            [
             0.1,
             "#c51b7d"
            ],
            [
             0.2,
             "#de77ae"
            ],
            [
             0.3,
             "#f1b6da"
            ],
            [
             0.4,
             "#fde0ef"
            ],
            [
             0.5,
             "#f7f7f7"
            ],
            [
             0.6,
             "#e6f5d0"
            ],
            [
             0.7,
             "#b8e186"
            ],
            [
             0.8,
             "#7fbc41"
            ],
            [
             0.9,
             "#4d9221"
            ],
            [
             1,
             "#276419"
            ]
           ],
           "sequential": [
            [
             0,
             "#0d0887"
            ],
            [
             0.1111111111111111,
             "#46039f"
            ],
            [
             0.2222222222222222,
             "#7201a8"
            ],
            [
             0.3333333333333333,
             "#9c179e"
            ],
            [
             0.4444444444444444,
             "#bd3786"
            ],
            [
             0.5555555555555556,
             "#d8576b"
            ],
            [
             0.6666666666666666,
             "#ed7953"
            ],
            [
             0.7777777777777778,
             "#fb9f3a"
            ],
            [
             0.8888888888888888,
             "#fdca26"
            ],
            [
             1,
             "#f0f921"
            ]
           ],
           "sequentialminus": [
            [
             0,
             "#0d0887"
            ],
            [
             0.1111111111111111,
             "#46039f"
            ],
            [
             0.2222222222222222,
             "#7201a8"
            ],
            [
             0.3333333333333333,
             "#9c179e"
            ],
            [
             0.4444444444444444,
             "#bd3786"
            ],
            [
             0.5555555555555556,
             "#d8576b"
            ],
            [
             0.6666666666666666,
             "#ed7953"
            ],
            [
             0.7777777777777778,
             "#fb9f3a"
            ],
            [
             0.8888888888888888,
             "#fdca26"
            ],
            [
             1,
             "#f0f921"
            ]
           ]
          },
          "colorway": [
           "#636efa",
           "#EF553B",
           "#00cc96",
           "#ab63fa",
           "#FFA15A",
           "#19d3f3",
           "#FF6692",
           "#B6E880",
           "#FF97FF",
           "#FECB52"
          ],
          "font": {
           "color": "#2a3f5f"
          },
          "geo": {
           "bgcolor": "white",
           "lakecolor": "white",
           "landcolor": "#E5ECF6",
           "showlakes": true,
           "showland": true,
           "subunitcolor": "white"
          },
          "hoverlabel": {
           "align": "left"
          },
          "hovermode": "closest",
          "mapbox": {
           "style": "light"
          },
          "paper_bgcolor": "white",
          "plot_bgcolor": "#E5ECF6",
          "polar": {
           "angularaxis": {
            "gridcolor": "white",
            "linecolor": "white",
            "ticks": ""
           },
           "bgcolor": "#E5ECF6",
           "radialaxis": {
            "gridcolor": "white",
            "linecolor": "white",
            "ticks": ""
           }
          },
          "scene": {
           "xaxis": {
            "backgroundcolor": "#E5ECF6",
            "gridcolor": "white",
            "gridwidth": 2,
            "linecolor": "white",
            "showbackground": true,
            "ticks": "",
            "zerolinecolor": "white"
           },
           "yaxis": {
            "backgroundcolor": "#E5ECF6",
            "gridcolor": "white",
            "gridwidth": 2,
            "linecolor": "white",
            "showbackground": true,
            "ticks": "",
            "zerolinecolor": "white"
           },
           "zaxis": {
            "backgroundcolor": "#E5ECF6",
            "gridcolor": "white",
            "gridwidth": 2,
            "linecolor": "white",
            "showbackground": true,
            "ticks": "",
            "zerolinecolor": "white"
           }
          },
          "shapedefaults": {
           "line": {
            "color": "#2a3f5f"
           }
          },
          "ternary": {
           "aaxis": {
            "gridcolor": "white",
            "linecolor": "white",
            "ticks": ""
           },
           "baxis": {
            "gridcolor": "white",
            "linecolor": "white",
            "ticks": ""
           },
           "bgcolor": "#E5ECF6",
           "caxis": {
            "gridcolor": "white",
            "linecolor": "white",
            "ticks": ""
           }
          },
          "title": {
           "x": 0.05
          },
          "xaxis": {
           "automargin": true,
           "gridcolor": "white",
           "linecolor": "white",
           "ticks": "",
           "title": {
            "standoff": 15
           },
           "zerolinecolor": "white",
           "zerolinewidth": 2
          },
          "yaxis": {
           "automargin": true,
           "gridcolor": "white",
           "linecolor": "white",
           "ticks": "",
           "title": {
            "standoff": 15
           },
           "zerolinecolor": "white",
           "zerolinewidth": 2
          }
         }
        },
        "title": {
         "text": "GDP per Capita vs Corruption Index"
        },
        "xaxis": {
         "anchor": "y",
         "domain": [
          0,
          1
         ],
         "title": {
          "text": "GDP per Capita ($)"
         }
        },
        "yaxis": {
         "anchor": "x",
         "domain": [
          0,
          1
         ],
         "title": {
          "text": "Corruption Index"
         }
        }
       }
      }
     },
     "metadata": {},
     "output_type": "display_data"
    },
    {
     "data": {
      "application/vnd.plotly.v1+json": {
       "config": {
        "plotlyServerURL": "https://plot.ly"
       },
       "data": [
        {
         "customdata": [
          [
           "Afghanistan",
           84,
           5
          ],
          [
           "Albania",
           69,
           5
          ],
          [
           "Algeria",
           67,
           5
          ],
          [
           "American Samoa",
           69,
           29.8
          ],
          [
           "Angola",
           71,
           5
          ],
          [
           "Argentina",
           62,
           5
          ],
          [
           "Armenia",
           69,
           5
          ],
          [
           "Australia",
           27,
           5.1
          ],
          [
           "Austria",
           26,
           5
          ],
          [
           "Azerbaijan",
           70,
           5
          ],
          [
           "Bahamas",
           69,
           5
          ],
          [
           "Bahrain",
           69,
           1.9
          ],
          [
           "Bangladesh",
           74,
           5.2
          ],
          [
           "Barbados",
           69,
           5
          ],
          [
           "Belarus",
           69,
           5
          ],
          [
           "Belgium",
           27,
           5
          ],
          [
           "Benin",
           69,
           1.6
          ],
          [
           "Bermuda",
           69,
           7
          ],
          [
           "Bhutan",
           69,
           5
          ],
          [
           "Bolivia",
           70,
           5
          ],
          [
           "Brazil",
           62,
           14.4
          ],
          [
           "Brunei",
           69,
           5
          ],
          [
           "Bulgaria",
           69,
           5
          ],
          [
           "Burma",
           72,
           5
          ],
          [
           "Burundi",
           81,
           1.8
          ],
          [
           "Cambodia",
           77,
           0.6
          ],
          [
           "Cameroon",
           73,
           5
          ],
          [
           "Canada",
           26,
           7.5
          ],
          [
           "Cape Verde",
           79,
           5
          ],
          [
           "Cayman Islands",
           69,
           5
          ],
          [
           "Central Africa",
           76,
           5
          ],
          [
           "Chad",
           80,
           1.9
          ],
          [
           "Chile",
           69,
           5
          ],
          [
           "China",
           55,
           4.8
          ],
          [
           "Cocos (Keeling) Islands",
           69,
           0.1
          ],
          [
           "Colombia",
           69,
           5
          ],
          [
           "Comoros",
           80,
           5
          ],
          [
           "Congo",
           79,
           5
          ],
          [
           "Congo (Dem. Republic)",
           81,
           5
          ],
          [
           "Costa Rica",
           69,
           5
          ],
          [
           "Croatia",
           69,
           5
          ],
          [
           "Cyprus",
           69,
           5
          ],
          [
           "Czechia",
           69,
           5
          ],
          [
           "Denmark",
           12,
           4.8
          ],
          [
           "Djibouti",
           70,
           28.4
          ],
          [
           "Dominican Republic",
           70,
           5
          ],
          [
           "Ecuador",
           64,
           6.4
          ],
          [
           "Egypt",
           67,
           9.3
          ],
          [
           "El Salvador",
           66,
           5
          ],
          [
           "Equatorial Guinea",
           83,
           5
          ],
          [
           "Eritrea",
           78,
           5
          ],
          [
           "Estonia",
           26,
           5
          ],
          [
           "Eswatini",
           68,
           25.8
          ],
          [
           "Ethiopia",
           69,
           5
          ],
          [
           "Finland",
           12,
           5
          ],
          [
           "France",
           29,
           8.1
          ],
          [
           "Gabon",
           69,
           5
          ],
          [
           "Georgia",
           69,
           5
          ],
          [
           "Germany",
           20,
           3.5
          ],
          [
           "Ghana",
           69,
           5
          ],
          [
           "Gibraltar",
           69,
           1
          ],
          [
           "Greece",
           51,
           14.8
          ],
          [
           "Guatemala",
           75,
           5
          ],
          [
           "Guernsey",
           69,
           1.2
          ],
          [
           "Guinea",
           75,
           5
          ],
          [
           "Haiti",
           80,
           5
          ],
          [
           "Honduras",
           77,
           5
          ],
          [
           "Hong Kong",
           24,
           5.3
          ],
          [
           "Hungary",
           69,
           5
          ],
          [
           "Iceland",
           26,
           5
          ],
          [
           "India",
           60,
           6
          ],
          [
           "Indonesia",
           62,
           4.4
          ],
          [
           "Iran",
           75,
           5
          ],
          [
           "Iraq",
           77,
           5
          ],
          [
           "Ireland",
           26,
           6.6
          ],
          [
           "Isle of Man",
           69,
           1.1
          ],
          [
           "Israel",
           41,
           5
          ],
          [
           "Italy",
           44,
           9.8
          ],
          [
           "Ivory Coast",
           69,
           5
          ],
          [
           "Japan",
           27,
           2.8
          ],
          [
           "Kazakhstan",
           69,
           5
          ],
          [
           "Kenya",
           70,
           5
          ],
          [
           "Kiribati",
           69,
           30.6
          ],
          [
           "Kosovo",
           69,
           30.5
          ],
          [
           "Kyrgyzstan",
           73,
           5
          ],
          [
           "Laos",
           70,
           1.3
          ],
          [
           "Latvia",
           69,
           5
          ],
          [
           "Lebanon",
           76,
           5
          ],
          [
           "Lesotho",
           69,
           5
          ],
          [
           "Liberia",
           71,
           5
          ],
          [
           "Libya",
           83,
           5
          ],
          [
           "Lithuania",
           69,
           5
          ],
          [
           "Luxembourg",
           19,
           5.2
          ],
          [
           "Macao",
           69,
           3
          ],
          [
           "Madagascar",
           74,
           5
          ],
          [
           "Malaysia",
           52,
           4.6
          ],
          [
           "Mali",
           71,
           5
          ],
          [
           "Malta",
           69,
           5
          ],
          [
           "Marshall Islands",
           69,
           36
          ],
          [
           "Mauritania",
           72,
           5
          ],
          [
           "Mauritius",
           69,
           5
          ],
          [
           "Mexico",
           69,
           4.4
          ],
          [
           "Moldova",
           69,
           5
          ],
          [
           "Mongolia",
           69,
           5
          ],
          [
           "Montenegro",
           69,
           5
          ],
          [
           "Morocco",
           69,
           5
          ],
          [
           "Mozambique",
           74,
           5
          ],
          [
           "Nepal",
           67,
           5
          ],
          [
           "Netherlands",
           18,
           4
          ],
          [
           "New Caledonia",
           69,
           5
          ],
          [
           "New Zealand",
           12,
           5
          ],
          [
           "Nicaragua",
           80,
           5
          ],
          [
           "Niger",
           69,
           0.8
          ],
          [
           "Nigeria",
           76,
           9.8
          ],
          [
           "Norway",
           15,
           5
          ],
          [
           "Oman",
           69,
           5
          ],
          [
           "Pakistan",
           72,
           4.4
          ],
          [
           "Panama",
           69,
           5
          ],
          [
           "Papua New Guinea",
           69,
           5
          ],
          [
           "Paraguay",
           70,
           5
          ],
          [
           "Philippines",
           67,
           2.4
          ],
          [
           "Poland",
           44,
           3.4
          ],
          [
           "Portugal",
           38,
           5
          ],
          [
           "Principality of Monaco",
           69,
           2
          ],
          [
           "Puerto Rico",
           69,
           5
          ],
          [
           "Qatar",
           37,
           0.3
          ],
          [
           "Romania",
           55,
           5.2
          ],
          [
           "Russia",
           71,
           5
          ],
          [
           "Saudi Arabia",
           47,
           7.4
          ],
          [
           "Serbia",
           69,
           5
          ],
          [
           "Sierra Leone",
           66,
           5
          ],
          [
           "Singapore",
           15,
           3.6
          ],
          [
           "Slovakia",
           69,
           5
          ],
          [
           "Slovenia",
           69,
           5
          ],
          [
           "Somalia",
           87,
           5
          ],
          [
           "South Africa",
           56,
           33.6
          ],
          [
           "South Korea",
           38,
           3.5
          ],
          [
           "South Sudan",
           89,
           5
          ],
          [
           "Spain",
           39,
           14.7
          ],
          [
           "Sri Lanka",
           63,
           5.4
          ],
          [
           "Sudan",
           80,
           5
          ],
          [
           "Suriname",
           69,
           5
          ],
          [
           "Sweden",
           15,
           8.7
          ],
          [
           "Switzerland",
           16,
           5.3
          ],
          [
           "Syria",
           87,
           5
          ],
          [
           "Taiwan",
           69,
           3.7
          ],
          [
           "Tajikistan",
           75,
           5
          ],
          [
           "Tanzania",
           69,
           5
          ],
          [
           "Thailand",
           65,
           1.4
          ],
          [
           "Timor-Leste",
           69,
           5
          ],
          [
           "Togo",
           70,
           5
          ],
          [
           "Tunisia",
           69,
           5
          ],
          [
           "Turkey",
           62,
           13.4
          ],
          [
           "Turkmenistan",
           81,
           5
          ],
          [
           "Turks and Caicos Islands",
           69,
           5
          ],
          [
           "Uganda",
           73,
           5
          ],
          [
           "Ukraine",
           68,
           8.9
          ],
          [
           "United Arab Emirates",
           31,
           5
          ],
          [
           "United Kingdom",
           22,
           4.5
          ],
          [
           "United States",
           33,
           5.5
          ],
          [
           "Uzbekistan",
           72,
           5
          ],
          [
           "Venezuela",
           86,
           5
          ],
          [
           "Vietnam",
           61,
           2.2
          ],
          [
           "Virgin Islands",
           69,
           5
          ],
          [
           "Yemen",
           84,
           5
          ],
          [
           "Zambia",
           67,
           5
          ],
          [
           "Zimbabwe",
           77,
           5
          ]
         ],
         "hovertemplate": "GDP per Capita ($)=%{x}<br>Cost of Living Index=%{y}<br>country=%{customdata[0]}<br>corruption_index=%{customdata[1]}<br>unemployment_rate=%{customdata[2]}<extra></extra>",
         "legendgroup": "",
         "marker": {
          "color": "#636efa",
          "symbol": "circle"
         },
         "mode": "markers",
         "name": "",
         "orientation": "v",
         "showlegend": false,
         "type": "scatter",
         "x": {
          "bdata": "AAAAAIAa50AAAAAAgBrnQAAAAACAGudAAAAAAIAa50AAAAAAgBrnQAAAAACAGudAAAAAAIAa50AAAAAA4D/rQAAAAABgh+xAAAAAAIAa50AAAAAAgKfgQAAAAABgLOZAAAAAAIAa50AAAAAAgBrnQAAAAACAGudAAAAAAGDG7EAAAAAAgBrnQAAAAACAzPRAAAAAAIAa50AAAAAAgBrnQAAAAACAGudAAAAAAMBD8EAAAAAAgBrnQAAAAACAGudAAAAAAIAa50AAAAAAgBrnQAAAAACAGudAAAAAAKBu6UAAAAAAgBrnQAAAAACAGudAAAAAAIAa50AAAAAAgBrnQAAAAACAGudAAAAAAIAa50AAAAAAgBrnQAAAAACAGudAAAAAAIAa50AAAAAAgBrnQAAAAACAGudAAAAAAIAa50AAAAAAIIHgQAAAAABAxd5AAAAAAKCc5UAAAAAAYJHvQAAAAACAGudAAAAAAIAa50AAAAAAgBrnQAAAAACAGudAAAAAAIAa50AAAAAAgBrnQAAAAACAGudAAAAAAACa5EAAAAAAgBrnQAAAAACAGudAAAAAAODb6kAAAAAAIMXoQAAAAACAGudAAAAAAIAa50AAAAAAAEnsQAAAAACAGudAAAAAAIAa50AAAAAAwI/eQAAAAACAGudAAAAAAIAa50AAAAAAgBrnQAAAAACAGudAAAAAAIAa50AAAAAAUBvwQAAAAAAg8uFAAAAAAMAl7EAAAAAAgBrnQAAAAACAGudAAAAAAIAa50AAAAAAgBrnQAAAAACA/flAAAAAAIAa50AAAAAAQFnlQAAAAAAAbuZAAAAAAIAa50AAAAAAgPfkQAAAAACAGudAAAAAAIAa50AAAAAAgBrnQAAAAACAGudAAAAAAIAa50AAAAAAgBrnQAAAAACg1OBAAAAAAIAa50AAAAAAgBrnQAAAAACAGudAAAAAAIAa50AAAAAAINXkQAAAAAAQcwBBAAAAAKAE8kAAAAAAgBrnQAAAAACAGudAAAAAAIAa50AAAAAAQEznQAAAAACAGudAAAAAAIAa50AAAAAAgBrnQAAAAACAGudAAAAAAIAa50AAAAAAgBrnQAAAAACAGudAAAAAAIAa50AAAAAAgBrnQAAAAACAGudAAAAAAOAi70AAAAAAgBrnQAAAAACAquZAAAAAAIAa50AAAAAAgBrnQAAAAACAGudAAAAAABBW80AAAAAAgLXdQAAAAACAGudAAAAAAADw3kAAAAAAgBrnQAAAAACAGudAAAAAAIAa50AAAAAA4E/iQAAAAAAAhuFAAAAAAIAa50AAAAAAgBrnQAAAAAAQ1fZAAAAAAMBK4UAAAAAAIErgQAAAAADgMehAAAAAAIAa50AAAAAAgBrnQAAAAABgcPxAAAAAAEAe4EAAAAAAIE3lQAAAAACAGudAAAAAAIAa50AAAAAAwOjmQAAAAACAGudAAAAAAODo40AAAAAAgBrnQAAAAACAGudAAAAAAIAa50AAAAAAgPfsQAAAAADA4PJAAAAAAIAa50AAAAAAgBrnQAAAAACAGudAAAAAAIAa50AAAAAAgBrnQAAAAACAGudAAAAAAIAa50AAAAAAgBrnQAAAAAAAwt1AAAAAAIAa50AAAAAAgBrnQAAAAACAGudAAAAAAIAa50AAAAAAgBrnQAAAAABgQehAAAAAAIDq8EAAAAAAgBrnQAAAAACAGudAAAAAAIAa50AAAAAAgBrnQAAAAACAGudAAAAAAIAa50AAAAAAgBrnQA==",
          "dtype": "f8"
         },
         "xaxis": "x",
         "y": {
          "bdata": "MzMzMzNzSEAAAAAAAABKQGZmZmZm5j1AMzMzMzNzSEAAAAAAAAA3QDMzMzMzc0hAZmZmZmbmQEAAAAAAAIBdQJqZmZmZ+VdAzczMzMzMPUAzMzMzM3NIQAAAAAAAgEhAAAAAAACAQ0AAAAAAAGBeQDMzMzMzc0hAAAAAAABAWEAAAAAAAMBCQDMzMzMzs2NAAAAAAAAAPkCamZmZmRlCQDMzMzMzc0dAMzMzMzNzSEAAAAAAAMBHQAAAAAAAADtAMzMzMzNzSEDNzMzMzExCQDMzMzMz80RAZmZmZmZmWkAzMzMzM3NIQM3MzMzMPGFAMzMzMzNzSEAzMzMzM3NIQDMzMzMzc09AmpmZmZmZT0AzMzMzM3NIQDMzMzMz80RAMzMzMzNzSEAzMzMzM3NIQDMzMzMzc0hAmpmZmZnZTEBmZmZmZmZOQDMzMzMzc0hAZmZmZmYGUUCamZmZmfldQDMzMzMzc0hAMzMzMzNzSEAzMzMzM/NJQDMzMzMzMztAMzMzMzNzSEAzMzMzM/NLQDMzMzMzc0hAAAAAAACAUkAzMzMzM3NIQDMzMzMzc0hAAAAAAAAAW0DNzMzMzAxYQDMzMzMzc0hAmpmZmZkZQEAzMzMzMxNXQGZmZmZmpkJAMzMzMzNzSEDNzMzMzKxSQDMzMzMzc0hAMzMzMzNzSEAzMzMzM3NIQM3MzMzMDE5AMzMzMzNzSECamZmZmXlTQGZmZmZmpkxAAAAAAAAAYEDNzMzMzMw8QDMzMzMzs0FAZmZmZmbmUEBmZmZmZmZCQDMzMzMz811AMzMzMzNzSEBmZmZmZkZgQM3MzMzMjFVAmpmZmZlZRUCamZmZmXlZQM3MzMzMjEBAZmZmZmYmRUAzMzMzM3NIQAAAAAAAgERAzczMzMxMOUAAAAAAAMBAQDMzMzMzc0hAMzMzMzNzSEBmZmZmZqZDQDMzMzMzc0hAMzMzMzNzSEAzMzMzM3NIQGZmZmZmRlxAAAAAAADAUkAzMzMzM3NIQGZmZmZmZkNAMzMzMzNzSEDNzMzMzOxSQDMzMzMzc0hAMzMzMzNzSEBmZmZmZqZFQJqZmZmZWUtAAAAAAABAQ0BmZmZmZqZBQJqZmZmZmUlAAAAAAACARkAzMzMzM3NIQJqZmZmZGTxAAAAAAADAWEAzMzMzM3NfQM3MzMzMTF1AZmZmZmbmQUAzMzMzM3NIQGZmZmZm5kRAZmZmZmYmX0AzMzMzM3NIQM3MzMzMzDlAMzMzMzNzSEAzMzMzM3NIQM3MzMzMTENAMzMzMzNzREDNzMzMzIxJQJqZmZmZGVNAMzMzMzNzSEAzMzMzM3NIQJqZmZmZ2VFAMzMzMzOzR0AzMzMzM3NCQAAAAAAAQEZAmpmZmZmZSUAzMzMzM3NIQAAAAAAAwFJAMzMzMzNzSEAzMzMzM3NIQDMzMzMzc0hAzczMzMyMR0AAAAAAAMBVQDMzMzMzc0hAmpmZmZm5VEBmZmZmZmY+QDMzMzMzc0hAAAAAAACAQUAzMzMzM1NbQM3MzMzMzGFAMzMzMzNzSEAzMzMzM3NIQM3MzMzMzDZAzczMzMwMQUAzMzMzMzNDQDMzMzMz80RAMzMzMzNzSEBmZmZmZuY+QDMzMzMzM0FAMzMzMzNzSEBmZmZmZiZfQDMzMzMzc0hAZmZmZmbmPUAzMzMzMxNSQJqZmZmZ+VpAAAAAAAAAWUAzMzMzM3NIQDMzMzMzc0hAMzMzMzMzQUAzMzMzM3NIQDMzMzMzc0hAMzMzMzOzP0AzMzMzM3NIQA==",
          "dtype": "f8"
         },
         "yaxis": "y"
        }
       ],
       "layout": {
        "legend": {
         "tracegroupgap": 0
        },
        "template": {
         "data": {
          "bar": [
           {
            "error_x": {
             "color": "#2a3f5f"
            },
            "error_y": {
             "color": "#2a3f5f"
            },
            "marker": {
             "line": {
              "color": "#E5ECF6",
              "width": 0.5
             },
             "pattern": {
              "fillmode": "overlay",
              "size": 10,
              "solidity": 0.2
             }
            },
            "type": "bar"
           }
          ],
          "barpolar": [
           {
            "marker": {
             "line": {
              "color": "#E5ECF6",
              "width": 0.5
             },
             "pattern": {
              "fillmode": "overlay",
              "size": 10,
              "solidity": 0.2
             }
            },
            "type": "barpolar"
           }
          ],
          "carpet": [
           {
            "aaxis": {
             "endlinecolor": "#2a3f5f",
             "gridcolor": "white",
             "linecolor": "white",
             "minorgridcolor": "white",
             "startlinecolor": "#2a3f5f"
            },
            "baxis": {
             "endlinecolor": "#2a3f5f",
             "gridcolor": "white",
             "linecolor": "white",
             "minorgridcolor": "white",
             "startlinecolor": "#2a3f5f"
            },
            "type": "carpet"
           }
          ],
          "choropleth": [
           {
            "colorbar": {
             "outlinewidth": 0,
             "ticks": ""
            },
            "type": "choropleth"
           }
          ],
          "contour": [
           {
            "colorbar": {
             "outlinewidth": 0,
             "ticks": ""
            },
            "colorscale": [
             [
              0,
              "#0d0887"
             ],
             [
              0.1111111111111111,
              "#46039f"
             ],
             [
              0.2222222222222222,
              "#7201a8"
             ],
             [
              0.3333333333333333,
              "#9c179e"
             ],
             [
              0.4444444444444444,
              "#bd3786"
             ],
             [
              0.5555555555555556,
              "#d8576b"
             ],
             [
              0.6666666666666666,
              "#ed7953"
             ],
             [
              0.7777777777777778,
              "#fb9f3a"
             ],
             [
              0.8888888888888888,
              "#fdca26"
             ],
             [
              1,
              "#f0f921"
             ]
            ],
            "type": "contour"
           }
          ],
          "contourcarpet": [
           {
            "colorbar": {
             "outlinewidth": 0,
             "ticks": ""
            },
            "type": "contourcarpet"
           }
          ],
          "heatmap": [
           {
            "colorbar": {
             "outlinewidth": 0,
             "ticks": ""
            },
            "colorscale": [
             [
              0,
              "#0d0887"
             ],
             [
              0.1111111111111111,
              "#46039f"
             ],
             [
              0.2222222222222222,
              "#7201a8"
             ],
             [
              0.3333333333333333,
              "#9c179e"
             ],
             [
              0.4444444444444444,
              "#bd3786"
             ],
             [
              0.5555555555555556,
              "#d8576b"
             ],
             [
              0.6666666666666666,
              "#ed7953"
             ],
             [
              0.7777777777777778,
              "#fb9f3a"
             ],
             [
              0.8888888888888888,
              "#fdca26"
             ],
             [
              1,
              "#f0f921"
             ]
            ],
            "type": "heatmap"
           }
          ],
          "histogram": [
           {
            "marker": {
             "pattern": {
              "fillmode": "overlay",
              "size": 10,
              "solidity": 0.2
             }
            },
            "type": "histogram"
           }
          ],
          "histogram2d": [
           {
            "colorbar": {
             "outlinewidth": 0,
             "ticks": ""
            },
            "colorscale": [
             [
              0,
              "#0d0887"
             ],
             [
              0.1111111111111111,
              "#46039f"
             ],
             [
              0.2222222222222222,
              "#7201a8"
             ],
             [
              0.3333333333333333,
              "#9c179e"
             ],
             [
              0.4444444444444444,
              "#bd3786"
             ],
             [
              0.5555555555555556,
              "#d8576b"
             ],
             [
              0.6666666666666666,
              "#ed7953"
             ],
             [
              0.7777777777777778,
              "#fb9f3a"
             ],
             [
              0.8888888888888888,
              "#fdca26"
             ],
             [
              1,
              "#f0f921"
             ]
            ],
            "type": "histogram2d"
           }
          ],
          "histogram2dcontour": [
           {
            "colorbar": {
             "outlinewidth": 0,
             "ticks": ""
            },
            "colorscale": [
             [
              0,
              "#0d0887"
             ],
             [
              0.1111111111111111,
              "#46039f"
             ],
             [
              0.2222222222222222,
              "#7201a8"
             ],
             [
              0.3333333333333333,
              "#9c179e"
             ],
             [
              0.4444444444444444,
              "#bd3786"
             ],
             [
              0.5555555555555556,
              "#d8576b"
             ],
             [
              0.6666666666666666,
              "#ed7953"
             ],
             [
              0.7777777777777778,
              "#fb9f3a"
             ],
             [
              0.8888888888888888,
              "#fdca26"
             ],
             [
              1,
              "#f0f921"
             ]
            ],
            "type": "histogram2dcontour"
           }
          ],
          "mesh3d": [
           {
            "colorbar": {
             "outlinewidth": 0,
             "ticks": ""
            },
            "type": "mesh3d"
           }
          ],
          "parcoords": [
           {
            "line": {
             "colorbar": {
              "outlinewidth": 0,
              "ticks": ""
             }
            },
            "type": "parcoords"
           }
          ],
          "pie": [
           {
            "automargin": true,
            "type": "pie"
           }
          ],
          "scatter": [
           {
            "fillpattern": {
             "fillmode": "overlay",
             "size": 10,
             "solidity": 0.2
            },
            "type": "scatter"
           }
          ],
          "scatter3d": [
           {
            "line": {
             "colorbar": {
              "outlinewidth": 0,
              "ticks": ""
             }
            },
            "marker": {
             "colorbar": {
              "outlinewidth": 0,
              "ticks": ""
             }
            },
            "type": "scatter3d"
           }
          ],
          "scattercarpet": [
           {
            "marker": {
             "colorbar": {
              "outlinewidth": 0,
              "ticks": ""
             }
            },
            "type": "scattercarpet"
           }
          ],
          "scattergeo": [
           {
            "marker": {
             "colorbar": {
              "outlinewidth": 0,
              "ticks": ""
             }
            },
            "type": "scattergeo"
           }
          ],
          "scattergl": [
           {
            "marker": {
             "colorbar": {
              "outlinewidth": 0,
              "ticks": ""
             }
            },
            "type": "scattergl"
           }
          ],
          "scattermap": [
           {
            "marker": {
             "colorbar": {
              "outlinewidth": 0,
              "ticks": ""
             }
            },
            "type": "scattermap"
           }
          ],
          "scattermapbox": [
           {
            "marker": {
             "colorbar": {
              "outlinewidth": 0,
              "ticks": ""
             }
            },
            "type": "scattermapbox"
           }
          ],
          "scatterpolar": [
           {
            "marker": {
             "colorbar": {
              "outlinewidth": 0,
              "ticks": ""
             }
            },
            "type": "scatterpolar"
           }
          ],
          "scatterpolargl": [
           {
            "marker": {
             "colorbar": {
              "outlinewidth": 0,
              "ticks": ""
             }
            },
            "type": "scatterpolargl"
           }
          ],
          "scatterternary": [
           {
            "marker": {
             "colorbar": {
              "outlinewidth": 0,
              "ticks": ""
             }
            },
            "type": "scatterternary"
           }
          ],
          "surface": [
           {
            "colorbar": {
             "outlinewidth": 0,
             "ticks": ""
            },
            "colorscale": [
             [
              0,
              "#0d0887"
             ],
             [
              0.1111111111111111,
              "#46039f"
             ],
             [
              0.2222222222222222,
              "#7201a8"
             ],
             [
              0.3333333333333333,
              "#9c179e"
             ],
             [
              0.4444444444444444,
              "#bd3786"
             ],
             [
              0.5555555555555556,
              "#d8576b"
             ],
             [
              0.6666666666666666,
              "#ed7953"
             ],
             [
              0.7777777777777778,
              "#fb9f3a"
             ],
             [
              0.8888888888888888,
              "#fdca26"
             ],
             [
              1,
              "#f0f921"
             ]
            ],
            "type": "surface"
           }
          ],
          "table": [
           {
            "cells": {
             "fill": {
              "color": "#EBF0F8"
             },
             "line": {
              "color": "white"
             }
            },
            "header": {
             "fill": {
              "color": "#C8D4E3"
             },
             "line": {
              "color": "white"
             }
            },
            "type": "table"
           }
          ]
         },
         "layout": {
          "annotationdefaults": {
           "arrowcolor": "#2a3f5f",
           "arrowhead": 0,
           "arrowwidth": 1
          },
          "autotypenumbers": "strict",
          "coloraxis": {
           "colorbar": {
            "outlinewidth": 0,
            "ticks": ""
           }
          },
          "colorscale": {
           "diverging": [
            [
             0,
             "#8e0152"
            ],
            [
             0.1,
             "#c51b7d"
            ],
            [
             0.2,
             "#de77ae"
            ],
            [
             0.3,
             "#f1b6da"
            ],
            [
             0.4,
             "#fde0ef"
            ],
            [
             0.5,
             "#f7f7f7"
            ],
            [
             0.6,
             "#e6f5d0"
            ],
            [
             0.7,
             "#b8e186"
            ],
            [
             0.8,
             "#7fbc41"
            ],
            [
             0.9,
             "#4d9221"
            ],
            [
             1,
             "#276419"
            ]
           ],
           "sequential": [
            [
             0,
             "#0d0887"
            ],
            [
             0.1111111111111111,
             "#46039f"
            ],
            [
             0.2222222222222222,
             "#7201a8"
            ],
            [
             0.3333333333333333,
             "#9c179e"
            ],
            [
             0.4444444444444444,
             "#bd3786"
            ],
            [
             0.5555555555555556,
             "#d8576b"
            ],
            [
             0.6666666666666666,
             "#ed7953"
            ],
            [
             0.7777777777777778,
             "#fb9f3a"
            ],
            [
             0.8888888888888888,
             "#fdca26"
            ],
            [
             1,
             "#f0f921"
            ]
           ],
           "sequentialminus": [
            [
             0,
             "#0d0887"
            ],
            [
             0.1111111111111111,
             "#46039f"
            ],
            [
             0.2222222222222222,
             "#7201a8"
            ],
            [
             0.3333333333333333,
             "#9c179e"
            ],
            [
             0.4444444444444444,
             "#bd3786"
            ],
            [
             0.5555555555555556,
             "#d8576b"
            ],
            [
             0.6666666666666666,
             "#ed7953"
            ],
            [
             0.7777777777777778,
             "#fb9f3a"
            ],
            [
             0.8888888888888888,
             "#fdca26"
            ],
            [
             1,
             "#f0f921"
            ]
           ]
          },
          "colorway": [
           "#636efa",
           "#EF553B",
           "#00cc96",
           "#ab63fa",
           "#FFA15A",
           "#19d3f3",
           "#FF6692",
           "#B6E880",
           "#FF97FF",
           "#FECB52"
          ],
          "font": {
           "color": "#2a3f5f"
          },
          "geo": {
           "bgcolor": "white",
           "lakecolor": "white",
           "landcolor": "#E5ECF6",
           "showlakes": true,
           "showland": true,
           "subunitcolor": "white"
          },
          "hoverlabel": {
           "align": "left"
          },
          "hovermode": "closest",
          "mapbox": {
           "style": "light"
          },
          "paper_bgcolor": "white",
          "plot_bgcolor": "#E5ECF6",
          "polar": {
           "angularaxis": {
            "gridcolor": "white",
            "linecolor": "white",
            "ticks": ""
           },
           "bgcolor": "#E5ECF6",
           "radialaxis": {
            "gridcolor": "white",
            "linecolor": "white",
            "ticks": ""
           }
          },
          "scene": {
           "xaxis": {
            "backgroundcolor": "#E5ECF6",
            "gridcolor": "white",
            "gridwidth": 2,
            "linecolor": "white",
            "showbackground": true,
            "ticks": "",
            "zerolinecolor": "white"
           },
           "yaxis": {
            "backgroundcolor": "#E5ECF6",
            "gridcolor": "white",
            "gridwidth": 2,
            "linecolor": "white",
            "showbackground": true,
            "ticks": "",
            "zerolinecolor": "white"
           },
           "zaxis": {
            "backgroundcolor": "#E5ECF6",
            "gridcolor": "white",
            "gridwidth": 2,
            "linecolor": "white",
            "showbackground": true,
            "ticks": "",
            "zerolinecolor": "white"
           }
          },
          "shapedefaults": {
           "line": {
            "color": "#2a3f5f"
           }
          },
          "ternary": {
           "aaxis": {
            "gridcolor": "white",
            "linecolor": "white",
            "ticks": ""
           },
           "baxis": {
            "gridcolor": "white",
            "linecolor": "white",
            "ticks": ""
           },
           "bgcolor": "#E5ECF6",
           "caxis": {
            "gridcolor": "white",
            "linecolor": "white",
            "ticks": ""
           }
          },
          "title": {
           "x": 0.05
          },
          "xaxis": {
           "automargin": true,
           "gridcolor": "white",
           "linecolor": "white",
           "ticks": "",
           "title": {
            "standoff": 15
           },
           "zerolinecolor": "white",
           "zerolinewidth": 2
          },
          "yaxis": {
           "automargin": true,
           "gridcolor": "white",
           "linecolor": "white",
           "ticks": "",
           "title": {
            "standoff": 15
           },
           "zerolinecolor": "white",
           "zerolinewidth": 2
          }
         }
        },
        "title": {
         "text": "GDP per Capita vs Cost of Living"
        },
        "xaxis": {
         "anchor": "y",
         "domain": [
          0,
          1
         ],
         "title": {
          "text": "GDP per Capita ($)"
         }
        },
        "yaxis": {
         "anchor": "x",
         "domain": [
          0,
          1
         ],
         "title": {
          "text": "Cost of Living Index"
         }
        }
       }
      }
     },
     "metadata": {},
     "output_type": "display_data"
    },
    {
     "data": {
      "application/vnd.plotly.v1+json": {
       "config": {
        "plotlyServerURL": "https://plot.ly"
       },
       "data": [
        {
         "customdata": [
          [
           "Afghanistan",
           84,
           48.9
          ],
          [
           "Albania",
           69,
           52
          ],
          [
           "Algeria",
           67,
           29.9
          ],
          [
           "American Samoa",
           69,
           48.9
          ],
          [
           "Angola",
           71,
           23
          ],
          [
           "Argentina",
           62,
           48.9
          ],
          [
           "Armenia",
           69,
           33.8
          ],
          [
           "Australia",
           27,
           118
          ],
          [
           "Austria",
           26,
           95.9
          ],
          [
           "Azerbaijan",
           70,
           29.8
          ],
          [
           "Bahamas",
           69,
           48.9
          ],
          [
           "Bahrain",
           69,
           49
          ],
          [
           "Bangladesh",
           74,
           39
          ],
          [
           "Barbados",
           69,
           121.5
          ],
          [
           "Belarus",
           69,
           48.9
          ],
          [
           "Belgium",
           27,
           97
          ],
          [
           "Benin",
           69,
           37.5
          ],
          [
           "Bermuda",
           69,
           157.6
          ],
          [
           "Bhutan",
           69,
           30
          ],
          [
           "Bolivia",
           70,
           36.2
          ],
          [
           "Brazil",
           62,
           46.9
          ],
          [
           "Brunei",
           69,
           48.9
          ],
          [
           "Bulgaria",
           69,
           47.5
          ],
          [
           "Burma",
           72,
           27
          ],
          [
           "Burundi",
           81,
           48.9
          ],
          [
           "Cambodia",
           77,
           36.6
          ],
          [
           "Cameroon",
           73,
           41.9
          ],
          [
           "Canada",
           26,
           105.6
          ],
          [
           "Cape Verde",
           79,
           48.9
          ],
          [
           "Cayman Islands",
           69,
           137.9
          ],
          [
           "Central Africa",
           76,
           48.9
          ],
          [
           "Chad",
           80,
           48.9
          ],
          [
           "Chile",
           69,
           62.9
          ],
          [
           "China",
           55,
           63.2
          ],
          [
           "Cocos (Keeling) Islands",
           69,
           48.9
          ],
          [
           "Colombia",
           69,
           41.9
          ],
          [
           "Comoros",
           80,
           48.9
          ],
          [
           "Congo",
           79,
           48.9
          ],
          [
           "Congo (Dem. Republic)",
           81,
           48.9
          ],
          [
           "Costa Rica",
           69,
           57.7
          ],
          [
           "Croatia",
           69,
           60.8
          ],
          [
           "Cyprus",
           69,
           48.9
          ],
          [
           "Czechia",
           69,
           68.1
          ],
          [
           "Denmark",
           12,
           119.9
          ],
          [
           "Djibouti",
           70,
           48.9
          ],
          [
           "Dominican Republic",
           70,
           48.9
          ],
          [
           "Ecuador",
           64,
           51.9
          ],
          [
           "Egypt",
           67,
           27.2
          ],
          [
           "El Salvador",
           66,
           48.9
          ],
          [
           "Equatorial Guinea",
           83,
           55.9
          ],
          [
           "Eritrea",
           78,
           48.9
          ],
          [
           "Estonia",
           26,
           74
          ],
          [
           "Eswatini",
           68,
           48.9
          ],
          [
           "Ethiopia",
           69,
           48.9
          ],
          [
           "Finland",
           12,
           108
          ],
          [
           "France",
           29,
           96.2
          ],
          [
           "Gabon",
           69,
           48.9
          ],
          [
           "Georgia",
           69,
           32.2
          ],
          [
           "Germany",
           20,
           92.3
          ],
          [
           "Ghana",
           69,
           37.3
          ],
          [
           "Gibraltar",
           69,
           48.9
          ],
          [
           "Greece",
           51,
           74.7
          ],
          [
           "Guatemala",
           75,
           48.9
          ],
          [
           "Guernsey",
           69,
           48.9
          ],
          [
           "Guinea",
           75,
           48.9
          ],
          [
           "Haiti",
           80,
           60.1
          ],
          [
           "Honduras",
           77,
           48.9
          ],
          [
           "Hong Kong",
           24,
           77.9
          ],
          [
           "Hungary",
           69,
           57.3
          ],
          [
           "Iceland",
           26,
           128
          ],
          [
           "India",
           60,
           28.8
          ],
          [
           "Indonesia",
           62,
           35.4
          ],
          [
           "Iran",
           75,
           67.6
          ],
          [
           "Iraq",
           77,
           36.8
          ],
          [
           "Ireland",
           26,
           119.8
          ],
          [
           "Isle of Man",
           69,
           48.9
          ],
          [
           "Israel",
           41,
           130.2
          ],
          [
           "Italy",
           44,
           86.2
          ],
          [
           "Ivory Coast",
           69,
           42.7
          ],
          [
           "Japan",
           27,
           101.9
          ],
          [
           "Kazakhstan",
           69,
           33.1
          ],
          [
           "Kenya",
           70,
           42.3
          ],
          [
           "Kiribati",
           69,
           48.9
          ],
          [
           "Kosovo",
           69,
           41
          ],
          [
           "Kyrgyzstan",
           73,
           25.3
          ],
          [
           "Laos",
           70,
           33.5
          ],
          [
           "Latvia",
           69,
           48.9
          ],
          [
           "Lebanon",
           76,
           48.9
          ],
          [
           "Lesotho",
           69,
           39.3
          ],
          [
           "Liberia",
           71,
           48.9
          ],
          [
           "Libya",
           83,
           48.9
          ],
          [
           "Lithuania",
           69,
           48.9
          ],
          [
           "Luxembourg",
           19,
           113.1
          ],
          [
           "Macao",
           69,
           75
          ],
          [
           "Madagascar",
           74,
           48.9
          ],
          [
           "Malaysia",
           52,
           38.8
          ],
          [
           "Mali",
           71,
           48.9
          ],
          [
           "Malta",
           69,
           75.7
          ],
          [
           "Marshall Islands",
           69,
           48.9
          ],
          [
           "Mauritania",
           72,
           48.9
          ],
          [
           "Mauritius",
           69,
           43.3
          ],
          [
           "Mexico",
           69,
           54.7
          ],
          [
           "Moldova",
           69,
           38.5
          ],
          [
           "Mongolia",
           69,
           35.3
          ],
          [
           "Montenegro",
           69,
           51.2
          ],
          [
           "Morocco",
           69,
           45
          ],
          [
           "Mozambique",
           74,
           48.9
          ],
          [
           "Nepal",
           67,
           28.1
          ],
          [
           "Netherlands",
           18,
           99
          ],
          [
           "New Caledonia",
           69,
           125.8
          ],
          [
           "New Zealand",
           12,
           117.2
          ],
          [
           "Nicaragua",
           80,
           35.8
          ],
          [
           "Niger",
           69,
           48.9
          ],
          [
           "Nigeria",
           76,
           41.8
          ],
          [
           "Norway",
           15,
           124.6
          ],
          [
           "Oman",
           69,
           48.9
          ],
          [
           "Pakistan",
           72,
           25.8
          ],
          [
           "Panama",
           69,
           48.9
          ],
          [
           "Papua New Guinea",
           69,
           48.9
          ],
          [
           "Paraguay",
           70,
           38.6
          ],
          [
           "Philippines",
           67,
           40.9
          ],
          [
           "Poland",
           44,
           51.1
          ],
          [
           "Portugal",
           38,
           76.4
          ],
          [
           "Principality of Monaco",
           69,
           48.9
          ],
          [
           "Puerto Rico",
           69,
           48.9
          ],
          [
           "Qatar",
           37,
           71.4
          ],
          [
           "Romania",
           55,
           47.4
          ],
          [
           "Russia",
           71,
           36.9
          ],
          [
           "Saudi Arabia",
           47,
           44.5
          ],
          [
           "Serbia",
           69,
           51.2
          ],
          [
           "Sierra Leone",
           66,
           48.9
          ],
          [
           "Singapore",
           15,
           75
          ],
          [
           "Slovakia",
           69,
           48.9
          ],
          [
           "Slovenia",
           69,
           48.9
          ],
          [
           "Somalia",
           87,
           48.9
          ],
          [
           "South Africa",
           56,
           47.1
          ],
          [
           "South Korea",
           38,
           87
          ],
          [
           "South Sudan",
           89,
           48.9
          ],
          [
           "Spain",
           39,
           82.9
          ],
          [
           "Sri Lanka",
           63,
           30.4
          ],
          [
           "Sudan",
           80,
           48.9
          ],
          [
           "Suriname",
           69,
           35
          ],
          [
           "Sweden",
           15,
           109.3
          ],
          [
           "Switzerland",
           16,
           142.4
          ],
          [
           "Syria",
           87,
           48.9
          ],
          [
           "Taiwan",
           69,
           48.9
          ],
          [
           "Tajikistan",
           75,
           22.8
          ],
          [
           "Tanzania",
           69,
           34.1
          ],
          [
           "Thailand",
           65,
           38.4
          ],
          [
           "Timor-Leste",
           69,
           41.9
          ],
          [
           "Togo",
           70,
           48.9
          ],
          [
           "Tunisia",
           69,
           30.9
          ],
          [
           "Turkey",
           62,
           34.4
          ],
          [
           "Turkmenistan",
           81,
           48.9
          ],
          [
           "Turks and Caicos Islands",
           69,
           124.6
          ],
          [
           "Uganda",
           73,
           48.9
          ],
          [
           "Ukraine",
           68,
           29.9
          ],
          [
           "United Arab Emirates",
           31,
           72.3
          ],
          [
           "United Kingdom",
           22,
           107.9
          ],
          [
           "United States",
           33,
           100
          ],
          [
           "Uzbekistan",
           72,
           48.9
          ],
          [
           "Venezuela",
           86,
           48.9
          ],
          [
           "Vietnam",
           61,
           34.4
          ],
          [
           "Virgin Islands",
           69,
           48.9
          ],
          [
           "Yemen",
           84,
           48.9
          ],
          [
           "Zambia",
           67,
           31.7
          ],
          [
           "Zimbabwe",
           77,
           48.9
          ]
         ],
         "hovertemplate": "Tourism (Millions)=%{x}<br>GDP per Capita ($)=%{y}<br>country=%{customdata[0]}<br>corruption_index=%{customdata[1]}<br>cost_of_living=%{customdata[2]}<extra></extra>",
         "legendgroup": "",
         "marker": {
          "color": "#636efa",
          "symbol": "circle"
         },
         "mode": "markers",
         "name": "",
         "orientation": "v",
         "showlegend": false,
         "type": "scatter",
         "x": {
          "bdata": "ZmZmZmZmEECamZmZmZkFQGZmZmZmZhBAZmZmZmZmEEBmZmZmZmYQQGZmZmZmZhBAZmZmZmZmEEDNzMzMzMz8PzMzMzMzMy5AZmZmZmZmEEBmZmZmZmYQQGZmZmZmZhBAZmZmZmZmEEBmZmZmZmYQQM3MzMzMzAxAzczMzMzMBEBmZmZmZmYQQJqZmZmZmbk/ZmZmZmZmEEBmZmZmZmYQQGZmZmZmZhBAZmZmZmZmEEAAAAAAAAAUQGZmZmZmZhBAZmZmZmZmEEDNzMzMzMz0P2ZmZmZmZhBAZmZmZmZmEEBmZmZmZmYQQGZmZmZmZhBAZmZmZmZmEEBmZmZmZmYQQGZmZmZmZhBAZmZmZmZmEEBmZmZmZmYQQGZmZmZmZhBAZmZmZmZmEEBmZmZmZmYQQGZmZmZmZhBAZmZmZmZmEECamZmZmZk1QGZmZmZmZhBAZmZmZmZmEEBmZmZmZmYQQGZmZmZmZhBAZmZmZmZmEEBmZmZmZmYQQGZmZmZmZhBAZmZmZmZmEEBmZmZmZmYQQGZmZmZmZhBAZmZmZmZmEEBmZmZmZmYQQAAAAAAAAOA/ZmZmZmZmEEBmZmZmZkZdQGZmZmZmZhBAZmZmZmZmEEDNzMzMzMwoQGZmZmZmZhBAZmZmZmZmEECamZmZmZkdQGZmZmZmZhBAZmZmZmZmEEBmZmZmZmYQQGZmZmZmZhBAZmZmZmZmEEDNzMzMzMwMQJqZmZmZmT9AZmZmZmZmEEBmZmZmZmYQQGZmZmZmZhBAZmZmZmZmEEBmZmZmZmYQQGZmZmZmZhBAZmZmZmZmEEBmZmZmZmYQQDMzMzMzM0NAZmZmZmZmEEBmZmZmZmYQQGZmZmZmZhBAZmZmZmZmEEBmZmZmZmYQQGZmZmZmZhBAZmZmZmZmEEBmZmZmZmYQQGZmZmZmZhBAZmZmZmZmEEBmZmZmZmYQQGZmZmZmZhBAZmZmZmZmEEBmZmZmZmYQQAAAAAAAAOA/mpmZmZmZF0BmZmZmZmYQQDMzMzMzMxFAZmZmZmZmEEBmZmZmZmYQQGZmZmZmZhBAZmZmZmZmEEBmZmZmZmYQQM3MzMzMjElAAAAAAAAAAABmZmZmZmYQQGZmZmZmZhBAZmZmZmZmBkBmZmZmZmYQQGZmZmZmZhBAMzMzMzMzHUBmZmZmZmYQQGZmZmZmZhBAZmZmZmZmEEBmZmZmZmYQQGZmZmZmZhBAZmZmZmZm9j9mZmZmZmYQQGZmZmZmZhBAZmZmZmZmEEBmZmZmZmYQQGZmZmZmZhBAAAAAAAAA+D9mZmZmZmYQQM3MzMzMzBBAZmZmZmZmEEAzMzMzMzMPQDMzMzMzM+M/AAAAAAAAFECamZmZmZkZQGZmZmZmZhBAmpmZmZmZ2T9mZmZmZmYQQGZmZmZmZhBAZmZmZmZmEEBmZmZmZmYQQGZmZmZmZhBAMzMzMzMzD0AAAAAAAAAEQGZmZmZmZhBAZmZmZmZmEEBmZmZmZmYQQGZmZmZmZhBAZmZmZmZmEEBmZmZmZmYQQGZmZmZmZhBAZmZmZmZmEEBmZmZmZmYQQGZmZmZmZhBAZmZmZmZmEEBmZmZmZmYQQGZmZmZmZhBAZmZmZmZmEEBmZmZmZmYQQAAAAAAAADBAZmZmZmZmEEBmZmZmZmYQQGZmZmZmZhBAMzMzMzMzC0AzMzMzMzMgQGZmZmZmZhBAAAAAAACARkBmZmZmZmYQQGZmZmZmZhBAZmZmZmZmDkAzMzMzMzMhQGZmZmZmZhBAZmZmZmZmEEBmZmZmZmYQQA==",
          "dtype": "f8"
         },
         "xaxis": "x",
         "y": {
          "bdata": "AAAAAIAa50AAAAAAgBrnQAAAAACAGudAAAAAAIAa50AAAAAAgBrnQAAAAACAGudAAAAAAIAa50AAAAAA4D/rQAAAAABgh+xAAAAAAIAa50AAAAAAgKfgQAAAAABgLOZAAAAAAIAa50AAAAAAgBrnQAAAAACAGudAAAAAAGDG7EAAAAAAgBrnQAAAAACAzPRAAAAAAIAa50AAAAAAgBrnQAAAAACAGudAAAAAAMBD8EAAAAAAgBrnQAAAAACAGudAAAAAAIAa50AAAAAAgBrnQAAAAACAGudAAAAAAKBu6UAAAAAAgBrnQAAAAACAGudAAAAAAIAa50AAAAAAgBrnQAAAAACAGudAAAAAAIAa50AAAAAAgBrnQAAAAACAGudAAAAAAIAa50AAAAAAgBrnQAAAAACAGudAAAAAAIAa50AAAAAAIIHgQAAAAABAxd5AAAAAAKCc5UAAAAAAYJHvQAAAAACAGudAAAAAAIAa50AAAAAAgBrnQAAAAACAGudAAAAAAIAa50AAAAAAgBrnQAAAAACAGudAAAAAAACa5EAAAAAAgBrnQAAAAACAGudAAAAAAODb6kAAAAAAIMXoQAAAAACAGudAAAAAAIAa50AAAAAAAEnsQAAAAACAGudAAAAAAIAa50AAAAAAwI/eQAAAAACAGudAAAAAAIAa50AAAAAAgBrnQAAAAACAGudAAAAAAIAa50AAAAAAUBvwQAAAAAAg8uFAAAAAAMAl7EAAAAAAgBrnQAAAAACAGudAAAAAAIAa50AAAAAAgBrnQAAAAACA/flAAAAAAIAa50AAAAAAQFnlQAAAAAAAbuZAAAAAAIAa50AAAAAAgPfkQAAAAACAGudAAAAAAIAa50AAAAAAgBrnQAAAAACAGudAAAAAAIAa50AAAAAAgBrnQAAAAACg1OBAAAAAAIAa50AAAAAAgBrnQAAAAACAGudAAAAAAIAa50AAAAAAINXkQAAAAAAQcwBBAAAAAKAE8kAAAAAAgBrnQAAAAACAGudAAAAAAIAa50AAAAAAQEznQAAAAACAGudAAAAAAIAa50AAAAAAgBrnQAAAAACAGudAAAAAAIAa50AAAAAAgBrnQAAAAACAGudAAAAAAIAa50AAAAAAgBrnQAAAAACAGudAAAAAAOAi70AAAAAAgBrnQAAAAACAquZAAAAAAIAa50AAAAAAgBrnQAAAAACAGudAAAAAABBW80AAAAAAgLXdQAAAAACAGudAAAAAAADw3kAAAAAAgBrnQAAAAACAGudAAAAAAIAa50AAAAAA4E/iQAAAAAAAhuFAAAAAAIAa50AAAAAAgBrnQAAAAAAQ1fZAAAAAAMBK4UAAAAAAIErgQAAAAADgMehAAAAAAIAa50AAAAAAgBrnQAAAAABgcPxAAAAAAEAe4EAAAAAAIE3lQAAAAACAGudAAAAAAIAa50AAAAAAwOjmQAAAAACAGudAAAAAAODo40AAAAAAgBrnQAAAAACAGudAAAAAAIAa50AAAAAAgPfsQAAAAADA4PJAAAAAAIAa50AAAAAAgBrnQAAAAACAGudAAAAAAIAa50AAAAAAgBrnQAAAAACAGudAAAAAAIAa50AAAAAAgBrnQAAAAAAAwt1AAAAAAIAa50AAAAAAgBrnQAAAAACAGudAAAAAAIAa50AAAAAAgBrnQAAAAABgQehAAAAAAIDq8EAAAAAAgBrnQAAAAACAGudAAAAAAIAa50AAAAAAgBrnQAAAAACAGudAAAAAAIAa50AAAAAAgBrnQA==",
          "dtype": "f8"
         },
         "yaxis": "y"
        }
       ],
       "layout": {
        "legend": {
         "tracegroupgap": 0
        },
        "template": {
         "data": {
          "bar": [
           {
            "error_x": {
             "color": "#2a3f5f"
            },
            "error_y": {
             "color": "#2a3f5f"
            },
            "marker": {
             "line": {
              "color": "#E5ECF6",
              "width": 0.5
             },
             "pattern": {
              "fillmode": "overlay",
              "size": 10,
              "solidity": 0.2
             }
            },
            "type": "bar"
           }
          ],
          "barpolar": [
           {
            "marker": {
             "line": {
              "color": "#E5ECF6",
              "width": 0.5
             },
             "pattern": {
              "fillmode": "overlay",
              "size": 10,
              "solidity": 0.2
             }
            },
            "type": "barpolar"
           }
          ],
          "carpet": [
           {
            "aaxis": {
             "endlinecolor": "#2a3f5f",
             "gridcolor": "white",
             "linecolor": "white",
             "minorgridcolor": "white",
             "startlinecolor": "#2a3f5f"
            },
            "baxis": {
             "endlinecolor": "#2a3f5f",
             "gridcolor": "white",
             "linecolor": "white",
             "minorgridcolor": "white",
             "startlinecolor": "#2a3f5f"
            },
            "type": "carpet"
           }
          ],
          "choropleth": [
           {
            "colorbar": {
             "outlinewidth": 0,
             "ticks": ""
            },
            "type": "choropleth"
           }
          ],
          "contour": [
           {
            "colorbar": {
             "outlinewidth": 0,
             "ticks": ""
            },
            "colorscale": [
             [
              0,
              "#0d0887"
             ],
             [
              0.1111111111111111,
              "#46039f"
             ],
             [
              0.2222222222222222,
              "#7201a8"
             ],
             [
              0.3333333333333333,
              "#9c179e"
             ],
             [
              0.4444444444444444,
              "#bd3786"
             ],
             [
              0.5555555555555556,
              "#d8576b"
             ],
             [
              0.6666666666666666,
              "#ed7953"
             ],
             [
              0.7777777777777778,
              "#fb9f3a"
             ],
             [
              0.8888888888888888,
              "#fdca26"
             ],
             [
              1,
              "#f0f921"
             ]
            ],
            "type": "contour"
           }
          ],
          "contourcarpet": [
           {
            "colorbar": {
             "outlinewidth": 0,
             "ticks": ""
            },
            "type": "contourcarpet"
           }
          ],
          "heatmap": [
           {
            "colorbar": {
             "outlinewidth": 0,
             "ticks": ""
            },
            "colorscale": [
             [
              0,
              "#0d0887"
             ],
             [
              0.1111111111111111,
              "#46039f"
             ],
             [
              0.2222222222222222,
              "#7201a8"
             ],
             [
              0.3333333333333333,
              "#9c179e"
             ],
             [
              0.4444444444444444,
              "#bd3786"
             ],
             [
              0.5555555555555556,
              "#d8576b"
             ],
             [
              0.6666666666666666,
              "#ed7953"
             ],
             [
              0.7777777777777778,
              "#fb9f3a"
             ],
             [
              0.8888888888888888,
              "#fdca26"
             ],
             [
              1,
              "#f0f921"
             ]
            ],
            "type": "heatmap"
           }
          ],
          "histogram": [
           {
            "marker": {
             "pattern": {
              "fillmode": "overlay",
              "size": 10,
              "solidity": 0.2
             }
            },
            "type": "histogram"
           }
          ],
          "histogram2d": [
           {
            "colorbar": {
             "outlinewidth": 0,
             "ticks": ""
            },
            "colorscale": [
             [
              0,
              "#0d0887"
             ],
             [
              0.1111111111111111,
              "#46039f"
             ],
             [
              0.2222222222222222,
              "#7201a8"
             ],
             [
              0.3333333333333333,
              "#9c179e"
             ],
             [
              0.4444444444444444,
              "#bd3786"
             ],
             [
              0.5555555555555556,
              "#d8576b"
             ],
             [
              0.6666666666666666,
              "#ed7953"
             ],
             [
              0.7777777777777778,
              "#fb9f3a"
             ],
             [
              0.8888888888888888,
              "#fdca26"
             ],
             [
              1,
              "#f0f921"
             ]
            ],
            "type": "histogram2d"
           }
          ],
          "histogram2dcontour": [
           {
            "colorbar": {
             "outlinewidth": 0,
             "ticks": ""
            },
            "colorscale": [
             [
              0,
              "#0d0887"
             ],
             [
              0.1111111111111111,
              "#46039f"
             ],
             [
              0.2222222222222222,
              "#7201a8"
             ],
             [
              0.3333333333333333,
              "#9c179e"
             ],
             [
              0.4444444444444444,
              "#bd3786"
             ],
             [
              0.5555555555555556,
              "#d8576b"
             ],
             [
              0.6666666666666666,
              "#ed7953"
             ],
             [
              0.7777777777777778,
              "#fb9f3a"
             ],
             [
              0.8888888888888888,
              "#fdca26"
             ],
             [
              1,
              "#f0f921"
             ]
            ],
            "type": "histogram2dcontour"
           }
          ],
          "mesh3d": [
           {
            "colorbar": {
             "outlinewidth": 0,
             "ticks": ""
            },
            "type": "mesh3d"
           }
          ],
          "parcoords": [
           {
            "line": {
             "colorbar": {
              "outlinewidth": 0,
              "ticks": ""
             }
            },
            "type": "parcoords"
           }
          ],
          "pie": [
           {
            "automargin": true,
            "type": "pie"
           }
          ],
          "scatter": [
           {
            "fillpattern": {
             "fillmode": "overlay",
             "size": 10,
             "solidity": 0.2
            },
            "type": "scatter"
           }
          ],
          "scatter3d": [
           {
            "line": {
             "colorbar": {
              "outlinewidth": 0,
              "ticks": ""
             }
            },
            "marker": {
             "colorbar": {
              "outlinewidth": 0,
              "ticks": ""
             }
            },
            "type": "scatter3d"
           }
          ],
          "scattercarpet": [
           {
            "marker": {
             "colorbar": {
              "outlinewidth": 0,
              "ticks": ""
             }
            },
            "type": "scattercarpet"
           }
          ],
          "scattergeo": [
           {
            "marker": {
             "colorbar": {
              "outlinewidth": 0,
              "ticks": ""
             }
            },
            "type": "scattergeo"
           }
          ],
          "scattergl": [
           {
            "marker": {
             "colorbar": {
              "outlinewidth": 0,
              "ticks": ""
             }
            },
            "type": "scattergl"
           }
          ],
          "scattermap": [
           {
            "marker": {
             "colorbar": {
              "outlinewidth": 0,
              "ticks": ""
             }
            },
            "type": "scattermap"
           }
          ],
          "scattermapbox": [
           {
            "marker": {
             "colorbar": {
              "outlinewidth": 0,
              "ticks": ""
             }
            },
            "type": "scattermapbox"
           }
          ],
          "scatterpolar": [
           {
            "marker": {
             "colorbar": {
              "outlinewidth": 0,
              "ticks": ""
             }
            },
            "type": "scatterpolar"
           }
          ],
          "scatterpolargl": [
           {
            "marker": {
             "colorbar": {
              "outlinewidth": 0,
              "ticks": ""
             }
            },
            "type": "scatterpolargl"
           }
          ],
          "scatterternary": [
           {
            "marker": {
             "colorbar": {
              "outlinewidth": 0,
              "ticks": ""
             }
            },
            "type": "scatterternary"
           }
          ],
          "surface": [
           {
            "colorbar": {
             "outlinewidth": 0,
             "ticks": ""
            },
            "colorscale": [
             [
              0,
              "#0d0887"
             ],
             [
              0.1111111111111111,
              "#46039f"
             ],
             [
              0.2222222222222222,
              "#7201a8"
             ],
             [
              0.3333333333333333,
              "#9c179e"
             ],
             [
              0.4444444444444444,
              "#bd3786"
             ],
             [
              0.5555555555555556,
              "#d8576b"
             ],
             [
              0.6666666666666666,
              "#ed7953"
             ],
             [
              0.7777777777777778,
              "#fb9f3a"
             ],
             [
              0.8888888888888888,
              "#fdca26"
             ],
             [
              1,
              "#f0f921"
             ]
            ],
            "type": "surface"
           }
          ],
          "table": [
           {
            "cells": {
             "fill": {
              "color": "#EBF0F8"
             },
             "line": {
              "color": "white"
             }
            },
            "header": {
             "fill": {
              "color": "#C8D4E3"
             },
             "line": {
              "color": "white"
             }
            },
            "type": "table"
           }
          ]
         },
         "layout": {
          "annotationdefaults": {
           "arrowcolor": "#2a3f5f",
           "arrowhead": 0,
           "arrowwidth": 1
          },
          "autotypenumbers": "strict",
          "coloraxis": {
           "colorbar": {
            "outlinewidth": 0,
            "ticks": ""
           }
          },
          "colorscale": {
           "diverging": [
            [
             0,
             "#8e0152"
            ],
            [
             0.1,
             "#c51b7d"
            ],
            [
             0.2,
             "#de77ae"
            ],
            [
             0.3,
             "#f1b6da"
            ],
            [
             0.4,
             "#fde0ef"
            ],
            [
             0.5,
             "#f7f7f7"
            ],
            [
             0.6,
             "#e6f5d0"
            ],
            [
             0.7,
             "#b8e186"
            ],
            [
             0.8,
             "#7fbc41"
            ],
            [
             0.9,
             "#4d9221"
            ],
            [
             1,
             "#276419"
            ]
           ],
           "sequential": [
            [
             0,
             "#0d0887"
            ],
            [
             0.1111111111111111,
             "#46039f"
            ],
            [
             0.2222222222222222,
             "#7201a8"
            ],
            [
             0.3333333333333333,
             "#9c179e"
            ],
            [
             0.4444444444444444,
             "#bd3786"
            ],
            [
             0.5555555555555556,
             "#d8576b"
            ],
            [
             0.6666666666666666,
             "#ed7953"
            ],
            [
             0.7777777777777778,
             "#fb9f3a"
            ],
            [
             0.8888888888888888,
             "#fdca26"
            ],
            [
             1,
             "#f0f921"
            ]
           ],
           "sequentialminus": [
            [
             0,
             "#0d0887"
            ],
            [
             0.1111111111111111,
             "#46039f"
            ],
            [
             0.2222222222222222,
             "#7201a8"
            ],
            [
             0.3333333333333333,
             "#9c179e"
            ],
            [
             0.4444444444444444,
             "#bd3786"
            ],
            [
             0.5555555555555556,
             "#d8576b"
            ],
            [
             0.6666666666666666,
             "#ed7953"
            ],
            [
             0.7777777777777778,
             "#fb9f3a"
            ],
            [
             0.8888888888888888,
             "#fdca26"
            ],
            [
             1,
             "#f0f921"
            ]
           ]
          },
          "colorway": [
           "#636efa",
           "#EF553B",
           "#00cc96",
           "#ab63fa",
           "#FFA15A",
           "#19d3f3",
           "#FF6692",
           "#B6E880",
           "#FF97FF",
           "#FECB52"
          ],
          "font": {
           "color": "#2a3f5f"
          },
          "geo": {
           "bgcolor": "white",
           "lakecolor": "white",
           "landcolor": "#E5ECF6",
           "showlakes": true,
           "showland": true,
           "subunitcolor": "white"
          },
          "hoverlabel": {
           "align": "left"
          },
          "hovermode": "closest",
          "mapbox": {
           "style": "light"
          },
          "paper_bgcolor": "white",
          "plot_bgcolor": "#E5ECF6",
          "polar": {
           "angularaxis": {
            "gridcolor": "white",
            "linecolor": "white",
            "ticks": ""
           },
           "bgcolor": "#E5ECF6",
           "radialaxis": {
            "gridcolor": "white",
            "linecolor": "white",
            "ticks": ""
           }
          },
          "scene": {
           "xaxis": {
            "backgroundcolor": "#E5ECF6",
            "gridcolor": "white",
            "gridwidth": 2,
            "linecolor": "white",
            "showbackground": true,
            "ticks": "",
            "zerolinecolor": "white"
           },
           "yaxis": {
            "backgroundcolor": "#E5ECF6",
            "gridcolor": "white",
            "gridwidth": 2,
            "linecolor": "white",
            "showbackground": true,
            "ticks": "",
            "zerolinecolor": "white"
           },
           "zaxis": {
            "backgroundcolor": "#E5ECF6",
            "gridcolor": "white",
            "gridwidth": 2,
            "linecolor": "white",
            "showbackground": true,
            "ticks": "",
            "zerolinecolor": "white"
           }
          },
          "shapedefaults": {
           "line": {
            "color": "#2a3f5f"
           }
          },
          "ternary": {
           "aaxis": {
            "gridcolor": "white",
            "linecolor": "white",
            "ticks": ""
           },
           "baxis": {
            "gridcolor": "white",
            "linecolor": "white",
            "ticks": ""
           },
           "bgcolor": "#E5ECF6",
           "caxis": {
            "gridcolor": "white",
            "linecolor": "white",
            "ticks": ""
           }
          },
          "title": {
           "x": 0.05
          },
          "xaxis": {
           "automargin": true,
           "gridcolor": "white",
           "linecolor": "white",
           "ticks": "",
           "title": {
            "standoff": 15
           },
           "zerolinecolor": "white",
           "zerolinewidth": 2
          },
          "yaxis": {
           "automargin": true,
           "gridcolor": "white",
           "linecolor": "white",
           "ticks": "",
           "title": {
            "standoff": 15
           },
           "zerolinecolor": "white",
           "zerolinewidth": 2
          }
         }
        },
        "title": {
         "text": "Tourism vs GDP per Capita"
        },
        "xaxis": {
         "anchor": "y",
         "domain": [
          0,
          1
         ],
         "title": {
          "text": "Tourism (Millions)"
         }
        },
        "yaxis": {
         "anchor": "x",
         "domain": [
          0,
          1
         ],
         "title": {
          "text": "GDP per Capita ($)"
         }
        }
       }
      }
     },
     "metadata": {},
     "output_type": "display_data"
    },
    {
     "data": {
      "application/vnd.plotly.v1+json": {
       "config": {
        "plotlyServerURL": "https://plot.ly"
       },
       "data": [
        {
         "customdata": [
          [
           "Afghanistan",
           84,
           48.9
          ],
          [
           "Albania",
           69,
           52
          ],
          [
           "Algeria",
           67,
           29.9
          ],
          [
           "American Samoa",
           69,
           48.9
          ],
          [
           "Angola",
           71,
           23
          ],
          [
           "Argentina",
           62,
           48.9
          ],
          [
           "Armenia",
           69,
           33.8
          ],
          [
           "Australia",
           27,
           118
          ],
          [
           "Austria",
           26,
           95.9
          ],
          [
           "Azerbaijan",
           70,
           29.8
          ],
          [
           "Bahamas",
           69,
           48.9
          ],
          [
           "Bahrain",
           69,
           49
          ],
          [
           "Bangladesh",
           74,
           39
          ],
          [
           "Barbados",
           69,
           121.5
          ],
          [
           "Belarus",
           69,
           48.9
          ],
          [
           "Belgium",
           27,
           97
          ],
          [
           "Benin",
           69,
           37.5
          ],
          [
           "Bermuda",
           69,
           157.6
          ],
          [
           "Bhutan",
           69,
           30
          ],
          [
           "Bolivia",
           70,
           36.2
          ],
          [
           "Brazil",
           62,
           46.9
          ],
          [
           "Brunei",
           69,
           48.9
          ],
          [
           "Bulgaria",
           69,
           47.5
          ],
          [
           "Burma",
           72,
           27
          ],
          [
           "Burundi",
           81,
           48.9
          ],
          [
           "Cambodia",
           77,
           36.6
          ],
          [
           "Cameroon",
           73,
           41.9
          ],
          [
           "Canada",
           26,
           105.6
          ],
          [
           "Cape Verde",
           79,
           48.9
          ],
          [
           "Cayman Islands",
           69,
           137.9
          ],
          [
           "Central Africa",
           76,
           48.9
          ],
          [
           "Chad",
           80,
           48.9
          ],
          [
           "Chile",
           69,
           62.9
          ],
          [
           "China",
           55,
           63.2
          ],
          [
           "Cocos (Keeling) Islands",
           69,
           48.9
          ],
          [
           "Colombia",
           69,
           41.9
          ],
          [
           "Comoros",
           80,
           48.9
          ],
          [
           "Congo",
           79,
           48.9
          ],
          [
           "Congo (Dem. Republic)",
           81,
           48.9
          ],
          [
           "Costa Rica",
           69,
           57.7
          ],
          [
           "Croatia",
           69,
           60.8
          ],
          [
           "Cyprus",
           69,
           48.9
          ],
          [
           "Czechia",
           69,
           68.1
          ],
          [
           "Denmark",
           12,
           119.9
          ],
          [
           "Djibouti",
           70,
           48.9
          ],
          [
           "Dominican Republic",
           70,
           48.9
          ],
          [
           "Ecuador",
           64,
           51.9
          ],
          [
           "Egypt",
           67,
           27.2
          ],
          [
           "El Salvador",
           66,
           48.9
          ],
          [
           "Equatorial Guinea",
           83,
           55.9
          ],
          [
           "Eritrea",
           78,
           48.9
          ],
          [
           "Estonia",
           26,
           74
          ],
          [
           "Eswatini",
           68,
           48.9
          ],
          [
           "Ethiopia",
           69,
           48.9
          ],
          [
           "Finland",
           12,
           108
          ],
          [
           "France",
           29,
           96.2
          ],
          [
           "Gabon",
           69,
           48.9
          ],
          [
           "Georgia",
           69,
           32.2
          ],
          [
           "Germany",
           20,
           92.3
          ],
          [
           "Ghana",
           69,
           37.3
          ],
          [
           "Gibraltar",
           69,
           48.9
          ],
          [
           "Greece",
           51,
           74.7
          ],
          [
           "Guatemala",
           75,
           48.9
          ],
          [
           "Guernsey",
           69,
           48.9
          ],
          [
           "Guinea",
           75,
           48.9
          ],
          [
           "Haiti",
           80,
           60.1
          ],
          [
           "Honduras",
           77,
           48.9
          ],
          [
           "Hong Kong",
           24,
           77.9
          ],
          [
           "Hungary",
           69,
           57.3
          ],
          [
           "Iceland",
           26,
           128
          ],
          [
           "India",
           60,
           28.8
          ],
          [
           "Indonesia",
           62,
           35.4
          ],
          [
           "Iran",
           75,
           67.6
          ],
          [
           "Iraq",
           77,
           36.8
          ],
          [
           "Ireland",
           26,
           119.8
          ],
          [
           "Isle of Man",
           69,
           48.9
          ],
          [
           "Israel",
           41,
           130.2
          ],
          [
           "Italy",
           44,
           86.2
          ],
          [
           "Ivory Coast",
           69,
           42.7
          ],
          [
           "Japan",
           27,
           101.9
          ],
          [
           "Kazakhstan",
           69,
           33.1
          ],
          [
           "Kenya",
           70,
           42.3
          ],
          [
           "Kiribati",
           69,
           48.9
          ],
          [
           "Kosovo",
           69,
           41
          ],
          [
           "Kyrgyzstan",
           73,
           25.3
          ],
          [
           "Laos",
           70,
           33.5
          ],
          [
           "Latvia",
           69,
           48.9
          ],
          [
           "Lebanon",
           76,
           48.9
          ],
          [
           "Lesotho",
           69,
           39.3
          ],
          [
           "Liberia",
           71,
           48.9
          ],
          [
           "Libya",
           83,
           48.9
          ],
          [
           "Lithuania",
           69,
           48.9
          ],
          [
           "Luxembourg",
           19,
           113.1
          ],
          [
           "Macao",
           69,
           75
          ],
          [
           "Madagascar",
           74,
           48.9
          ],
          [
           "Malaysia",
           52,
           38.8
          ],
          [
           "Mali",
           71,
           48.9
          ],
          [
           "Malta",
           69,
           75.7
          ],
          [
           "Marshall Islands",
           69,
           48.9
          ],
          [
           "Mauritania",
           72,
           48.9
          ],
          [
           "Mauritius",
           69,
           43.3
          ],
          [
           "Mexico",
           69,
           54.7
          ],
          [
           "Moldova",
           69,
           38.5
          ],
          [
           "Mongolia",
           69,
           35.3
          ],
          [
           "Montenegro",
           69,
           51.2
          ],
          [
           "Morocco",
           69,
           45
          ],
          [
           "Mozambique",
           74,
           48.9
          ],
          [
           "Nepal",
           67,
           28.1
          ],
          [
           "Netherlands",
           18,
           99
          ],
          [
           "New Caledonia",
           69,
           125.8
          ],
          [
           "New Zealand",
           12,
           117.2
          ],
          [
           "Nicaragua",
           80,
           35.8
          ],
          [
           "Niger",
           69,
           48.9
          ],
          [
           "Nigeria",
           76,
           41.8
          ],
          [
           "Norway",
           15,
           124.6
          ],
          [
           "Oman",
           69,
           48.9
          ],
          [
           "Pakistan",
           72,
           25.8
          ],
          [
           "Panama",
           69,
           48.9
          ],
          [
           "Papua New Guinea",
           69,
           48.9
          ],
          [
           "Paraguay",
           70,
           38.6
          ],
          [
           "Philippines",
           67,
           40.9
          ],
          [
           "Poland",
           44,
           51.1
          ],
          [
           "Portugal",
           38,
           76.4
          ],
          [
           "Principality of Monaco",
           69,
           48.9
          ],
          [
           "Puerto Rico",
           69,
           48.9
          ],
          [
           "Qatar",
           37,
           71.4
          ],
          [
           "Romania",
           55,
           47.4
          ],
          [
           "Russia",
           71,
           36.9
          ],
          [
           "Saudi Arabia",
           47,
           44.5
          ],
          [
           "Serbia",
           69,
           51.2
          ],
          [
           "Sierra Leone",
           66,
           48.9
          ],
          [
           "Singapore",
           15,
           75
          ],
          [
           "Slovakia",
           69,
           48.9
          ],
          [
           "Slovenia",
           69,
           48.9
          ],
          [
           "Somalia",
           87,
           48.9
          ],
          [
           "South Africa",
           56,
           47.1
          ],
          [
           "South Korea",
           38,
           87
          ],
          [
           "South Sudan",
           89,
           48.9
          ],
          [
           "Spain",
           39,
           82.9
          ],
          [
           "Sri Lanka",
           63,
           30.4
          ],
          [
           "Sudan",
           80,
           48.9
          ],
          [
           "Suriname",
           69,
           35
          ],
          [
           "Sweden",
           15,
           109.3
          ],
          [
           "Switzerland",
           16,
           142.4
          ],
          [
           "Syria",
           87,
           48.9
          ],
          [
           "Taiwan",
           69,
           48.9
          ],
          [
           "Tajikistan",
           75,
           22.8
          ],
          [
           "Tanzania",
           69,
           34.1
          ],
          [
           "Thailand",
           65,
           38.4
          ],
          [
           "Timor-Leste",
           69,
           41.9
          ],
          [
           "Togo",
           70,
           48.9
          ],
          [
           "Tunisia",
           69,
           30.9
          ],
          [
           "Turkey",
           62,
           34.4
          ],
          [
           "Turkmenistan",
           81,
           48.9
          ],
          [
           "Turks and Caicos Islands",
           69,
           124.6
          ],
          [
           "Uganda",
           73,
           48.9
          ],
          [
           "Ukraine",
           68,
           29.9
          ],
          [
           "United Arab Emirates",
           31,
           72.3
          ],
          [
           "United Kingdom",
           22,
           107.9
          ],
          [
           "United States",
           33,
           100
          ],
          [
           "Uzbekistan",
           72,
           48.9
          ],
          [
           "Venezuela",
           86,
           48.9
          ],
          [
           "Vietnam",
           61,
           34.4
          ],
          [
           "Virgin Islands",
           69,
           48.9
          ],
          [
           "Yemen",
           84,
           48.9
          ],
          [
           "Zambia",
           67,
           31.7
          ],
          [
           "Zimbabwe",
           77,
           48.9
          ]
         ],
         "hovertemplate": "Unemployment Rate (%)=%{x}<br>GDP per Capita ($)=%{y}<br>country=%{customdata[0]}<br>corruption_index=%{customdata[1]}<br>cost_of_living=%{customdata[2]}<extra></extra>",
         "legendgroup": "",
         "marker": {
          "color": "#636efa",
          "symbol": "circle"
         },
         "mode": "markers",
         "name": "",
         "orientation": "v",
         "showlegend": false,
         "type": "scatter",
         "x": {
          "bdata": "AAAAAAAAFEAAAAAAAAAUQAAAAAAAABRAzczMzMzMPUAAAAAAAAAUQAAAAAAAABRAAAAAAAAAFEBmZmZmZmYUQAAAAAAAABRAAAAAAAAAFEAAAAAAAAAUQGZmZmZmZv4/zczMzMzMFEAAAAAAAAAUQAAAAAAAABRAAAAAAAAAFECamZmZmZn5PwAAAAAAABxAAAAAAAAAFEAAAAAAAAAUQM3MzMzMzCxAAAAAAAAAFEAAAAAAAAAUQAAAAAAAABRAzczMzMzM/D8zMzMzMzPjPwAAAAAAABRAAAAAAAAAHkAAAAAAAAAUQAAAAAAAABRAAAAAAAAAFEBmZmZmZmb+PwAAAAAAABRAMzMzMzMzE0CamZmZmZm5PwAAAAAAABRAAAAAAAAAFEAAAAAAAAAUQAAAAAAAABRAAAAAAAAAFEAAAAAAAAAUQAAAAAAAABRAAAAAAAAAFEAzMzMzMzMTQGZmZmZmZjxAAAAAAAAAFECamZmZmZkZQJqZmZmZmSJAAAAAAAAAFEAAAAAAAAAUQAAAAAAAABRAAAAAAAAAFEDNzMzMzMw5QAAAAAAAABRAAAAAAAAAFEAzMzMzMzMgQAAAAAAAABRAAAAAAAAAFEAAAAAAAAAMQAAAAAAAABRAAAAAAAAA8D+amZmZmZktQAAAAAAAABRAMzMzMzMz8z8AAAAAAAAUQAAAAAAAABRAAAAAAAAAFEAzMzMzMzMVQAAAAAAAABRAAAAAAAAAFEAAAAAAAAAYQJqZmZmZmRFAAAAAAAAAFEAAAAAAAAAUQGZmZmZmZhpAmpmZmZmZ8T8AAAAAAAAUQJqZmZmZmSNAAAAAAAAAFEBmZmZmZmYGQAAAAAAAABRAAAAAAAAAFECamZmZmZk+QAAAAAAAgD5AAAAAAAAAFEDNzMzMzMz0PwAAAAAAABRAAAAAAAAAFEAAAAAAAAAUQAAAAAAAABRAAAAAAAAAFEAAAAAAAAAUQM3MzMzMzBRAAAAAAAAACEAAAAAAAAAUQGZmZmZmZhJAAAAAAAAAFEAAAAAAAAAUQAAAAAAAAEJAAAAAAAAAFEAAAAAAAAAUQJqZmZmZmRFAAAAAAAAAFEAAAAAAAAAUQAAAAAAAABRAAAAAAAAAFEAAAAAAAAAUQAAAAAAAABRAAAAAAAAAEEAAAAAAAAAUQAAAAAAAABRAAAAAAAAAFECamZmZmZnpP5qZmZmZmSNAAAAAAAAAFEAAAAAAAAAUQJqZmZmZmRFAAAAAAAAAFEAAAAAAAAAUQAAAAAAAABRAMzMzMzMzA0AzMzMzMzMLQAAAAAAAABRAAAAAAAAAAEAAAAAAAAAUQDMzMzMzM9M/zczMzMzMFEAAAAAAAAAUQJqZmZmZmR1AAAAAAAAAFEAAAAAAAAAUQM3MzMzMzAxAAAAAAAAAFEAAAAAAAAAUQAAAAAAAABRAzczMzMzMQEAAAAAAAAAMQAAAAAAAABRAZmZmZmZmLUCamZmZmZkVQAAAAAAAABRAAAAAAAAAFEBmZmZmZmYhQDMzMzMzMxVAAAAAAAAAFECamZmZmZkNQAAAAAAAABRAAAAAAAAAFEBmZmZmZmb2PwAAAAAAABRAAAAAAAAAFEAAAAAAAAAUQM3MzMzMzCpAAAAAAAAAFEAAAAAAAAAUQAAAAAAAABRAzczMzMzMIUAAAAAAAAAUQAAAAAAAABJAAAAAAAAAFkAAAAAAAAAUQAAAAAAAABRAmpmZmZmZAUAAAAAAAAAUQAAAAAAAABRAAAAAAAAAFEAAAAAAAAAUQA==",
          "dtype": "f8"
         },
         "xaxis": "x",
         "y": {
          "bdata": "AAAAAIAa50AAAAAAgBrnQAAAAACAGudAAAAAAIAa50AAAAAAgBrnQAAAAACAGudAAAAAAIAa50AAAAAA4D/rQAAAAABgh+xAAAAAAIAa50AAAAAAgKfgQAAAAABgLOZAAAAAAIAa50AAAAAAgBrnQAAAAACAGudAAAAAAGDG7EAAAAAAgBrnQAAAAACAzPRAAAAAAIAa50AAAAAAgBrnQAAAAACAGudAAAAAAMBD8EAAAAAAgBrnQAAAAACAGudAAAAAAIAa50AAAAAAgBrnQAAAAACAGudAAAAAAKBu6UAAAAAAgBrnQAAAAACAGudAAAAAAIAa50AAAAAAgBrnQAAAAACAGudAAAAAAIAa50AAAAAAgBrnQAAAAACAGudAAAAAAIAa50AAAAAAgBrnQAAAAACAGudAAAAAAIAa50AAAAAAIIHgQAAAAABAxd5AAAAAAKCc5UAAAAAAYJHvQAAAAACAGudAAAAAAIAa50AAAAAAgBrnQAAAAACAGudAAAAAAIAa50AAAAAAgBrnQAAAAACAGudAAAAAAACa5EAAAAAAgBrnQAAAAACAGudAAAAAAODb6kAAAAAAIMXoQAAAAACAGudAAAAAAIAa50AAAAAAAEnsQAAAAACAGudAAAAAAIAa50AAAAAAwI/eQAAAAACAGudAAAAAAIAa50AAAAAAgBrnQAAAAACAGudAAAAAAIAa50AAAAAAUBvwQAAAAAAg8uFAAAAAAMAl7EAAAAAAgBrnQAAAAACAGudAAAAAAIAa50AAAAAAgBrnQAAAAACA/flAAAAAAIAa50AAAAAAQFnlQAAAAAAAbuZAAAAAAIAa50AAAAAAgPfkQAAAAACAGudAAAAAAIAa50AAAAAAgBrnQAAAAACAGudAAAAAAIAa50AAAAAAgBrnQAAAAACg1OBAAAAAAIAa50AAAAAAgBrnQAAAAACAGudAAAAAAIAa50AAAAAAINXkQAAAAAAQcwBBAAAAAKAE8kAAAAAAgBrnQAAAAACAGudAAAAAAIAa50AAAAAAQEznQAAAAACAGudAAAAAAIAa50AAAAAAgBrnQAAAAACAGudAAAAAAIAa50AAAAAAgBrnQAAAAACAGudAAAAAAIAa50AAAAAAgBrnQAAAAACAGudAAAAAAOAi70AAAAAAgBrnQAAAAACAquZAAAAAAIAa50AAAAAAgBrnQAAAAACAGudAAAAAABBW80AAAAAAgLXdQAAAAACAGudAAAAAAADw3kAAAAAAgBrnQAAAAACAGudAAAAAAIAa50AAAAAA4E/iQAAAAAAAhuFAAAAAAIAa50AAAAAAgBrnQAAAAAAQ1fZAAAAAAMBK4UAAAAAAIErgQAAAAADgMehAAAAAAIAa50AAAAAAgBrnQAAAAABgcPxAAAAAAEAe4EAAAAAAIE3lQAAAAACAGudAAAAAAIAa50AAAAAAwOjmQAAAAACAGudAAAAAAODo40AAAAAAgBrnQAAAAACAGudAAAAAAIAa50AAAAAAgPfsQAAAAADA4PJAAAAAAIAa50AAAAAAgBrnQAAAAACAGudAAAAAAIAa50AAAAAAgBrnQAAAAACAGudAAAAAAIAa50AAAAAAgBrnQAAAAAAAwt1AAAAAAIAa50AAAAAAgBrnQAAAAACAGudAAAAAAIAa50AAAAAAgBrnQAAAAABgQehAAAAAAIDq8EAAAAAAgBrnQAAAAACAGudAAAAAAIAa50AAAAAAgBrnQAAAAACAGudAAAAAAIAa50AAAAAAgBrnQA==",
          "dtype": "f8"
         },
         "yaxis": "y"
        }
       ],
       "layout": {
        "legend": {
         "tracegroupgap": 0
        },
        "template": {
         "data": {
          "bar": [
           {
            "error_x": {
             "color": "#2a3f5f"
            },
            "error_y": {
             "color": "#2a3f5f"
            },
            "marker": {
             "line": {
              "color": "#E5ECF6",
              "width": 0.5
             },
             "pattern": {
              "fillmode": "overlay",
              "size": 10,
              "solidity": 0.2
             }
            },
            "type": "bar"
           }
          ],
          "barpolar": [
           {
            "marker": {
             "line": {
              "color": "#E5ECF6",
              "width": 0.5
             },
             "pattern": {
              "fillmode": "overlay",
              "size": 10,
              "solidity": 0.2
             }
            },
            "type": "barpolar"
           }
          ],
          "carpet": [
           {
            "aaxis": {
             "endlinecolor": "#2a3f5f",
             "gridcolor": "white",
             "linecolor": "white",
             "minorgridcolor": "white",
             "startlinecolor": "#2a3f5f"
            },
            "baxis": {
             "endlinecolor": "#2a3f5f",
             "gridcolor": "white",
             "linecolor": "white",
             "minorgridcolor": "white",
             "startlinecolor": "#2a3f5f"
            },
            "type": "carpet"
           }
          ],
          "choropleth": [
           {
            "colorbar": {
             "outlinewidth": 0,
             "ticks": ""
            },
            "type": "choropleth"
           }
          ],
          "contour": [
           {
            "colorbar": {
             "outlinewidth": 0,
             "ticks": ""
            },
            "colorscale": [
             [
              0,
              "#0d0887"
             ],
             [
              0.1111111111111111,
              "#46039f"
             ],
             [
              0.2222222222222222,
              "#7201a8"
             ],
             [
              0.3333333333333333,
              "#9c179e"
             ],
             [
              0.4444444444444444,
              "#bd3786"
             ],
             [
              0.5555555555555556,
              "#d8576b"
             ],
             [
              0.6666666666666666,
              "#ed7953"
             ],
             [
              0.7777777777777778,
              "#fb9f3a"
             ],
             [
              0.8888888888888888,
              "#fdca26"
             ],
             [
              1,
              "#f0f921"
             ]
            ],
            "type": "contour"
           }
          ],
          "contourcarpet": [
           {
            "colorbar": {
             "outlinewidth": 0,
             "ticks": ""
            },
            "type": "contourcarpet"
           }
          ],
          "heatmap": [
           {
            "colorbar": {
             "outlinewidth": 0,
             "ticks": ""
            },
            "colorscale": [
             [
              0,
              "#0d0887"
             ],
             [
              0.1111111111111111,
              "#46039f"
             ],
             [
              0.2222222222222222,
              "#7201a8"
             ],
             [
              0.3333333333333333,
              "#9c179e"
             ],
             [
              0.4444444444444444,
              "#bd3786"
             ],
             [
              0.5555555555555556,
              "#d8576b"
             ],
             [
              0.6666666666666666,
              "#ed7953"
             ],
             [
              0.7777777777777778,
              "#fb9f3a"
             ],
             [
              0.8888888888888888,
              "#fdca26"
             ],
             [
              1,
              "#f0f921"
             ]
            ],
            "type": "heatmap"
           }
          ],
          "histogram": [
           {
            "marker": {
             "pattern": {
              "fillmode": "overlay",
              "size": 10,
              "solidity": 0.2
             }
            },
            "type": "histogram"
           }
          ],
          "histogram2d": [
           {
            "colorbar": {
             "outlinewidth": 0,
             "ticks": ""
            },
            "colorscale": [
             [
              0,
              "#0d0887"
             ],
             [
              0.1111111111111111,
              "#46039f"
             ],
             [
              0.2222222222222222,
              "#7201a8"
             ],
             [
              0.3333333333333333,
              "#9c179e"
             ],
             [
              0.4444444444444444,
              "#bd3786"
             ],
             [
              0.5555555555555556,
              "#d8576b"
             ],
             [
              0.6666666666666666,
              "#ed7953"
             ],
             [
              0.7777777777777778,
              "#fb9f3a"
             ],
             [
              0.8888888888888888,
              "#fdca26"
             ],
             [
              1,
              "#f0f921"
             ]
            ],
            "type": "histogram2d"
           }
          ],
          "histogram2dcontour": [
           {
            "colorbar": {
             "outlinewidth": 0,
             "ticks": ""
            },
            "colorscale": [
             [
              0,
              "#0d0887"
             ],
             [
              0.1111111111111111,
              "#46039f"
             ],
             [
              0.2222222222222222,
              "#7201a8"
             ],
             [
              0.3333333333333333,
              "#9c179e"
             ],
             [
              0.4444444444444444,
              "#bd3786"
             ],
             [
              0.5555555555555556,
              "#d8576b"
             ],
             [
              0.6666666666666666,
              "#ed7953"
             ],
             [
              0.7777777777777778,
              "#fb9f3a"
             ],
             [
              0.8888888888888888,
              "#fdca26"
             ],
             [
              1,
              "#f0f921"
             ]
            ],
            "type": "histogram2dcontour"
           }
          ],
          "mesh3d": [
           {
            "colorbar": {
             "outlinewidth": 0,
             "ticks": ""
            },
            "type": "mesh3d"
           }
          ],
          "parcoords": [
           {
            "line": {
             "colorbar": {
              "outlinewidth": 0,
              "ticks": ""
             }
            },
            "type": "parcoords"
           }
          ],
          "pie": [
           {
            "automargin": true,
            "type": "pie"
           }
          ],
          "scatter": [
           {
            "fillpattern": {
             "fillmode": "overlay",
             "size": 10,
             "solidity": 0.2
            },
            "type": "scatter"
           }
          ],
          "scatter3d": [
           {
            "line": {
             "colorbar": {
              "outlinewidth": 0,
              "ticks": ""
             }
            },
            "marker": {
             "colorbar": {
              "outlinewidth": 0,
              "ticks": ""
             }
            },
            "type": "scatter3d"
           }
          ],
          "scattercarpet": [
           {
            "marker": {
             "colorbar": {
              "outlinewidth": 0,
              "ticks": ""
             }
            },
            "type": "scattercarpet"
           }
          ],
          "scattergeo": [
           {
            "marker": {
             "colorbar": {
              "outlinewidth": 0,
              "ticks": ""
             }
            },
            "type": "scattergeo"
           }
          ],
          "scattergl": [
           {
            "marker": {
             "colorbar": {
              "outlinewidth": 0,
              "ticks": ""
             }
            },
            "type": "scattergl"
           }
          ],
          "scattermap": [
           {
            "marker": {
             "colorbar": {
              "outlinewidth": 0,
              "ticks": ""
             }
            },
            "type": "scattermap"
           }
          ],
          "scattermapbox": [
           {
            "marker": {
             "colorbar": {
              "outlinewidth": 0,
              "ticks": ""
             }
            },
            "type": "scattermapbox"
           }
          ],
          "scatterpolar": [
           {
            "marker": {
             "colorbar": {
              "outlinewidth": 0,
              "ticks": ""
             }
            },
            "type": "scatterpolar"
           }
          ],
          "scatterpolargl": [
           {
            "marker": {
             "colorbar": {
              "outlinewidth": 0,
              "ticks": ""
             }
            },
            "type": "scatterpolargl"
           }
          ],
          "scatterternary": [
           {
            "marker": {
             "colorbar": {
              "outlinewidth": 0,
              "ticks": ""
             }
            },
            "type": "scatterternary"
           }
          ],
          "surface": [
           {
            "colorbar": {
             "outlinewidth": 0,
             "ticks": ""
            },
            "colorscale": [
             [
              0,
              "#0d0887"
             ],
             [
              0.1111111111111111,
              "#46039f"
             ],
             [
              0.2222222222222222,
              "#7201a8"
             ],
             [
              0.3333333333333333,
              "#9c179e"
             ],
             [
              0.4444444444444444,
              "#bd3786"
             ],
             [
              0.5555555555555556,
              "#d8576b"
             ],
             [
              0.6666666666666666,
              "#ed7953"
             ],
             [
              0.7777777777777778,
              "#fb9f3a"
             ],
             [
              0.8888888888888888,
              "#fdca26"
             ],
             [
              1,
              "#f0f921"
             ]
            ],
            "type": "surface"
           }
          ],
          "table": [
           {
            "cells": {
             "fill": {
              "color": "#EBF0F8"
             },
             "line": {
              "color": "white"
             }
            },
            "header": {
             "fill": {
              "color": "#C8D4E3"
             },
             "line": {
              "color": "white"
             }
            },
            "type": "table"
           }
          ]
         },
         "layout": {
          "annotationdefaults": {
           "arrowcolor": "#2a3f5f",
           "arrowhead": 0,
           "arrowwidth": 1
          },
          "autotypenumbers": "strict",
          "coloraxis": {
           "colorbar": {
            "outlinewidth": 0,
            "ticks": ""
           }
          },
          "colorscale": {
           "diverging": [
            [
             0,
             "#8e0152"
            ],
            [
             0.1,
             "#c51b7d"
            ],
            [
             0.2,
             "#de77ae"
            ],
            [
             0.3,
             "#f1b6da"
            ],
            [
             0.4,
             "#fde0ef"
            ],
            [
             0.5,
             "#f7f7f7"
            ],
            [
             0.6,
             "#e6f5d0"
            ],
            [
             0.7,
             "#b8e186"
            ],
            [
             0.8,
             "#7fbc41"
            ],
            [
             0.9,
             "#4d9221"
            ],
            [
             1,
             "#276419"
            ]
           ],
           "sequential": [
            [
             0,
             "#0d0887"
            ],
            [
             0.1111111111111111,
             "#46039f"
            ],
            [
             0.2222222222222222,
             "#7201a8"
            ],
            [
             0.3333333333333333,
             "#9c179e"
            ],
            [
             0.4444444444444444,
             "#bd3786"
            ],
            [
             0.5555555555555556,
             "#d8576b"
            ],
            [
             0.6666666666666666,
             "#ed7953"
            ],
            [
             0.7777777777777778,
             "#fb9f3a"
            ],
            [
             0.8888888888888888,
             "#fdca26"
            ],
            [
             1,
             "#f0f921"
            ]
           ],
           "sequentialminus": [
            [
             0,
             "#0d0887"
            ],
            [
             0.1111111111111111,
             "#46039f"
            ],
            [
             0.2222222222222222,
             "#7201a8"
            ],
            [
             0.3333333333333333,
             "#9c179e"
            ],
            [
             0.4444444444444444,
             "#bd3786"
            ],
            [
             0.5555555555555556,
             "#d8576b"
            ],
            [
             0.6666666666666666,
             "#ed7953"
            ],
            [
             0.7777777777777778,
             "#fb9f3a"
            ],
            [
             0.8888888888888888,
             "#fdca26"
            ],
            [
             1,
             "#f0f921"
            ]
           ]
          },
          "colorway": [
           "#636efa",
           "#EF553B",
           "#00cc96",
           "#ab63fa",
           "#FFA15A",
           "#19d3f3",
           "#FF6692",
           "#B6E880",
           "#FF97FF",
           "#FECB52"
          ],
          "font": {
           "color": "#2a3f5f"
          },
          "geo": {
           "bgcolor": "white",
           "lakecolor": "white",
           "landcolor": "#E5ECF6",
           "showlakes": true,
           "showland": true,
           "subunitcolor": "white"
          },
          "hoverlabel": {
           "align": "left"
          },
          "hovermode": "closest",
          "mapbox": {
           "style": "light"
          },
          "paper_bgcolor": "white",
          "plot_bgcolor": "#E5ECF6",
          "polar": {
           "angularaxis": {
            "gridcolor": "white",
            "linecolor": "white",
            "ticks": ""
           },
           "bgcolor": "#E5ECF6",
           "radialaxis": {
            "gridcolor": "white",
            "linecolor": "white",
            "ticks": ""
           }
          },
          "scene": {
           "xaxis": {
            "backgroundcolor": "#E5ECF6",
            "gridcolor": "white",
            "gridwidth": 2,
            "linecolor": "white",
            "showbackground": true,
            "ticks": "",
            "zerolinecolor": "white"
           },
           "yaxis": {
            "backgroundcolor": "#E5ECF6",
            "gridcolor": "white",
            "gridwidth": 2,
            "linecolor": "white",
            "showbackground": true,
            "ticks": "",
            "zerolinecolor": "white"
           },
           "zaxis": {
            "backgroundcolor": "#E5ECF6",
            "gridcolor": "white",
            "gridwidth": 2,
            "linecolor": "white",
            "showbackground": true,
            "ticks": "",
            "zerolinecolor": "white"
           }
          },
          "shapedefaults": {
           "line": {
            "color": "#2a3f5f"
           }
          },
          "ternary": {
           "aaxis": {
            "gridcolor": "white",
            "linecolor": "white",
            "ticks": ""
           },
           "baxis": {
            "gridcolor": "white",
            "linecolor": "white",
            "ticks": ""
           },
           "bgcolor": "#E5ECF6",
           "caxis": {
            "gridcolor": "white",
            "linecolor": "white",
            "ticks": ""
           }
          },
          "title": {
           "x": 0.05
          },
          "xaxis": {
           "automargin": true,
           "gridcolor": "white",
           "linecolor": "white",
           "ticks": "",
           "title": {
            "standoff": 15
           },
           "zerolinecolor": "white",
           "zerolinewidth": 2
          },
          "yaxis": {
           "automargin": true,
           "gridcolor": "white",
           "linecolor": "white",
           "ticks": "",
           "title": {
            "standoff": 15
           },
           "zerolinecolor": "white",
           "zerolinewidth": 2
          }
         }
        },
        "title": {
         "text": "Unemployment Rate vs GDP per Capita"
        },
        "xaxis": {
         "anchor": "y",
         "domain": [
          0,
          1
         ],
         "title": {
          "text": "Unemployment Rate (%)"
         }
        },
        "yaxis": {
         "anchor": "x",
         "domain": [
          0,
          1
         ],
         "title": {
          "text": "GDP per Capita ($)"
         }
        }
       }
      }
     },
     "metadata": {},
     "output_type": "display_data"
    }
   ],
   "source": [
    "# Cell 6\n",
    "fig_scatter = px.scatter_matrix(df_analysis, \n",
    "                               dimensions=numerical_cols,\n",
    "                               hover_data=['country'],\n",
    "                               title=\"Economic Indicators - Interactive Scatter Plot Matrix\",\n",
    "                               height=800)\n",
    "\n",
    "fig_scatter.update_traces(diagonal_visible=False, showupperhalf=False)\n",
    "fig_scatter.show()\n",
    "\n",
    "def show_top_bottom_countries(df, column, n=5):\n",
    "    print(f\"\\n{column.upper().replace('_', ' ')}:\")\n",
    "    print(f\"TOP {n} Countries:\")\n",
    "    top_countries = df.nlargest(n, column)[['country', column]]\n",
    "    for idx, row in top_countries.iterrows():\n",
    "        print(f\"   {row['country']}: {row[column]:.2f}\")\n",
    "    \n",
    "    print(f\"\\nBOTTOM {n} Countries:\")\n",
    "    bottom_countries = df.nsmallest(n, column)[['country', column]]\n",
    "    for idx, row in bottom_countries.iterrows():\n",
    "        print(f\"   {row['country']}: {row[column]:.2f}\")\n",
    "\n",
    "for col in numerical_cols:\n",
    "    show_top_bottom_countries(df_analysis, col)\n",
    "\n",
    "fig1 = px.scatter(df_analysis, x='gdp_per_capita', y='corruption_index',\n",
    "                 hover_data=['country', 'cost_of_living', 'unemployment_rate'],\n",
    "                 title='GDP per Capita vs Corruption Index',\n",
    "                 labels={'gdp_per_capita': 'GDP per Capita ($)', \n",
    "                        'corruption_index': 'Corruption Index'})\n",
    "fig1.show()\n",
    "\n",
    "fig2 = px.scatter(df_analysis, x='gdp_per_capita', y='cost_of_living',\n",
    "                 hover_data=['country', 'corruption_index', 'unemployment_rate'],\n",
    "                 title='GDP per Capita vs Cost of Living',\n",
    "                 labels={'gdp_per_capita': 'GDP per Capita ($)', \n",
    "                        'cost_of_living': 'Cost of Living Index'})\n",
    "fig2.show()\n",
    "\n",
    "fig3 = px.scatter(df_analysis, x='tourism_millions', y='gdp_per_capita',\n",
    "                 hover_data=['country', 'corruption_index', 'cost_of_living'],\n",
    "                 title='Tourism vs GDP per Capita',\n",
    "                 labels={'tourism_millions': 'Tourism (Millions)', \n",
    "                        'gdp_per_capita': 'GDP per Capita ($)'})\n",
    "fig3.show()\n",
    "\n",
    "fig4 = px.scatter(df_analysis, x='unemployment_rate', y='gdp_per_capita',\n",
    "                 hover_data=['country', 'corruption_index', 'cost_of_living'],\n",
    "                 title='Unemployment Rate vs GDP per Capita',\n",
    "                 labels={'unemployment_rate': 'Unemployment Rate (%)', \n",
    "                        'gdp_per_capita': 'GDP per Capita ($)'})\n",
    "fig4.show()\n"
   ]
  },
  {
   "cell_type": "code",
   "execution_count": 7,
   "id": "e817a823",
   "metadata": {},
   "outputs": [
    {
     "name": "stdout",
     "output_type": "stream",
     "text": [
      "\n",
      "==================================================\n",
      "LINEAR REGRESSION ANALYSIS\n",
      "==================================================\n",
      "Linear regression functions defined successfully\n"
     ]
    }
   ],
   "source": [
    "# Cell 7\n",
    "print(\"\\n\" + \"=\"*50)\n",
    "print(\"LINEAR REGRESSION ANALYSIS\")\n",
    "print(\"=\"*50)\n",
    "\n",
    "def simple_linear_regression(X, y):\n",
    "    X_with_bias = np.column_stack([np.ones(len(X)), X])\n",
    "    try:\n",
    "        theta = np.linalg.inv(X_with_bias.T @ X_with_bias) @ X_with_bias.T @ y\n",
    "        return theta\n",
    "    except np.linalg.LinAlgError:\n",
    "        theta = np.linalg.pinv(X_with_bias.T @ X_with_bias) @ X_with_bias.T @ y\n",
    "        return theta\n",
    "\n",
    "def predict_linear(X, theta):\n",
    "    X_with_bias = np.column_stack([np.ones(len(X)), X])\n",
    "    return X_with_bias @ theta\n",
    "\n",
    "def calculate_r2(y_true, y_pred):\n",
    "    ss_res = np.sum((y_true - y_pred) ** 2)\n",
    "    ss_tot = np.sum((y_true - np.mean(y_true)) ** 2)\n",
    "    return 1 - (ss_res / ss_tot)\n",
    "\n",
    "def calculate_mse(y_true, y_pred):\n",
    "    return np.mean((y_true - y_pred) ** 2)\n",
    "\n",
    "print(\"Linear regression functions defined successfully\")"
   ]
  },
  {
   "cell_type": "code",
   "execution_count": 8,
   "id": "109d6fca",
   "metadata": {},
   "outputs": [
    {
     "name": "stdout",
     "output_type": "stream",
     "text": [
      "Linear Regression Results:\n",
      "Train MSE: 85210563.72\n",
      "Test MSE: 252386738.37\n",
      "Train R²: 0.2538\n",
      "Test R²: 0.2499\n",
      "\n",
      "Feature Importance:\n",
      "             Feature  Coefficient  Abs_Coefficient\n",
      "1   corruption_index  -214.154117       214.154117\n",
      "2  unemployment_rate  -101.801451       101.801451\n",
      "3   tourism_millions   -84.265791        84.265791\n",
      "0     cost_of_living    68.318609        68.318609\n"
     ]
    }
   ],
   "source": [
    "# Cell 8\n",
    "X_features = ['cost_of_living', 'corruption_index', 'unemployment_rate', 'tourism_millions']\n",
    "X = df_analysis[X_features].values\n",
    "y = df_analysis['gdp_per_capita'].values\n",
    "\n",
    "np.random.seed(42)\n",
    "n_samples = len(X)\n",
    "train_indices = np.random.choice(n_samples, size=int(0.8 * n_samples), replace=False)\n",
    "test_indices = np.setdiff1d(np.arange(n_samples), train_indices)\n",
    "\n",
    "X_train, X_test = X[train_indices], X[test_indices]\n",
    "y_train, y_test = y[train_indices], y[test_indices]\n",
    "\n",
    "theta = simple_linear_regression(X_train, y_train)\n",
    "\n",
    "y_pred_train = predict_linear(X_train, theta)\n",
    "y_pred_test = predict_linear(X_test, theta)\n",
    "\n",
    "mse_train = calculate_mse(y_train, y_pred_train)\n",
    "mse_test = calculate_mse(y_test, y_pred_test)\n",
    "r2_train = calculate_r2(y_train, y_pred_train)\n",
    "r2_test = calculate_r2(y_test, y_pred_test)\n",
    "\n",
    "print(f\"Linear Regression Results:\")\n",
    "print(f\"Train MSE: {mse_train:.2f}\")\n",
    "print(f\"Test MSE: {mse_test:.2f}\")\n",
    "print(f\"Train R²: {r2_train:.4f}\")\n",
    "print(f\"Test R²: {r2_test:.4f}\")\n",
    "\n",
    "feature_importance = pd.DataFrame({\n",
    "    'Feature': X_features,\n",
    "    'Coefficient': theta[1:],\n",
    "    'Abs_Coefficient': np.abs(theta[1:])\n",
    "}).sort_values('Abs_Coefficient', ascending=False)\n",
    "\n",
    "print(f\"\\nFeature Importance:\")\n",
    "print(feature_importance)\n"
   ]
  },
  {
   "cell_type": "code",
   "execution_count": 9,
   "id": "7a403136",
   "metadata": {},
   "outputs": [
    {
     "data": {
      "application/vnd.plotly.v1+json": {
       "config": {
        "plotlyServerURL": "https://plot.ly"
       },
       "data": [
        {
         "hovertemplate": "Actual GDP per Capita=%{x}<br>Predicted GDP per Capita=%{y}<extra></extra>",
         "legendgroup": "",
         "marker": {
          "color": "#636efa",
          "symbol": "circle"
         },
         "mode": "markers",
         "name": "",
         "orientation": "v",
         "showlegend": false,
         "type": "scatter",
         "x": {
          "bdata": "AAAAAIAa50AAAAAAgBrnQAAAAACAGudAAAAAAIAa50AAAAAAgBrnQAAAAACAGudAAAAAAIAa50AAAAAA4D/rQAAAAABgh+xAAAAAAIAa50AAAAAAgKfgQAAAAABgLOZAAAAAAIAa50AAAAAAgBrnQAAAAACAGudAAAAAAGDG7EAAAAAAgBrnQAAAAACAzPRAAAAAAIAa50AAAAAAgBrnQAAAAACAGudAAAAAAMBD8EAAAAAAgBrnQAAAAACAGudAAAAAAIAa50AAAAAAgBrnQAAAAACAGudAAAAAAKBu6UAAAAAAgBrnQAAAAACAGudAAAAAAIAa50AAAAAAgBrnQAAAAACAGudAAAAAAIAa50AAAAAAgBrnQAAAAACAGudAAAAAAIAa50AAAAAAgBrnQAAAAACAGudAAAAAAIAa50AAAAAAIIHgQAAAAABAxd5AAAAAAKCc5UAAAAAAYJHvQAAAAACAGudAAAAAAIAa50AAAAAAgBrnQAAAAACAGudAAAAAAIAa50AAAAAAgBrnQAAAAACAGudAAAAAAACa5EAAAAAAgBrnQAAAAACAGudAAAAAAODb6kAAAAAAIMXoQAAAAACAGudAAAAAAIAa50AAAAAAAEnsQAAAAACAGudAAAAAAIAa50AAAAAAwI/eQAAAAACAGudAAAAAAIAa50AAAAAAgBrnQAAAAACAGudAAAAAAIAa50AAAAAAUBvwQAAAAAAg8uFAAAAAAMAl7EAAAAAAgBrnQAAAAACAGudAAAAAAIAa50AAAAAAgBrnQAAAAACA/flAAAAAAIAa50AAAAAAQFnlQAAAAAAAbuZAAAAAAIAa50AAAAAAgPfkQAAAAACAGudAAAAAAIAa50AAAAAAgBrnQAAAAACAGudAAAAAAIAa50AAAAAAgBrnQAAAAACg1OBAAAAAAIAa50AAAAAAgBrnQAAAAACAGudAAAAAAIAa50AAAAAAINXkQAAAAAAQcwBBAAAAAKAE8kAAAAAAgBrnQAAAAACAGudAAAAAAIAa50AAAAAAQEznQAAAAACAGudAAAAAAIAa50AAAAAAgBrnQAAAAACAGudAAAAAAIAa50AAAAAAgBrnQAAAAACAGudAAAAAAIAa50AAAAAAgBrnQAAAAACAGudAAAAAAOAi70AAAAAAgBrnQAAAAACAquZAAAAAAIAa50AAAAAAgBrnQAAAAACAGudAAAAAABBW80AAAAAAgLXdQAAAAACAGudAAAAAAADw3kAAAAAAgBrnQAAAAACAGudAAAAAAIAa50AAAAAA4E/iQAAAAAAAhuFAAAAAAIAa50AAAAAAgBrnQAAAAAAQ1fZAAAAAAMBK4UAAAAAAIErgQAAAAADgMehAAAAAAIAa50AAAAAAgBrnQAAAAABgcPxAAAAAAEAe4EAAAAAAIE3lQAAAAACAGudAAAAAAIAa50AAAAAAwOjmQAAAAACAGudAAAAAAODo40AAAAAAgBrnQAAAAACAGudAAAAAAIAa50AAAAAAgPfsQAAAAADA4PJAAAAAAIAa50AAAAAAgBrnQAAAAACAGudAAAAAAIAa50AAAAAAgBrnQAAAAACAGudAAAAAAIAa50AAAAAAgBrnQAAAAAAAwt1AAAAAAIAa50AAAAAAgBrnQAAAAACAGudAAAAAAIAa50AAAAAAgBrnQAAAAABgQehAAAAAAIDq8EAAAAAAgBrnQAAAAACAGudAAAAAAIAa50AAAAAAgBrnQAAAAACAGudAAAAAAIAa50AAAAAAgBrnQA==",
          "dtype": "f8"
         },
         "xaxis": "x",
         "y": {
          "bdata": "OEjYCyph5UC8PPNV7BvnQJ4A0Cv8heZALKPvYx635UBfNvux+9/lQPz4W4sWrudAn0pbeMBx5kCkhjx2EbztQHzejLdJj+xAGDGjwdI05kAyErIFtPLmQGc6hVgBG+dAzzSyf8QV5kCIPNnQsV7pQJwLYEb49+ZAFp+r6pMB7UD9ZzRknbzmQGvfqzOqo+pAJuJe7UxR5kAaxlloemvmQFZA2kZkJedAMhKyBbTy5kCmYGd+RN3mQBpXp4tf5+VAvUtiTzHa5UAM0RE5/gjmQJ9tQu3YS+ZASDxzQS027UA2Nna0AuflQGAaDWy/6ulAaCsIgFE35kCxhyh6sPPlQCh4YcJCaudAnVUFMSPm6EAh6GV9DjHnQDdfWqfstuZA0DnwxT3M5UA2Nna0AuflQGo9atd4seVAFh/tito950C3deTn/p/mQDISsgW08uZAOtHV+aqW50DkSoCKbEnvQAst5ikqruVAzBUsF+/X5kDED/mPWoDnQIGmRZA1OOZAZAdE0QJD50CZ97VYtrflQJwy/KLHAeZAu4cHmCFI7EB7sWvoyQTmQP0V/XCfGOdA7UwFSUHh7kCeafCItOfnQDISsgW08uZAX6WtjhZk5kCdnp4JsEDtQB0khyekj+ZAGiSom5ol50ANwBY8aRHpQM4njm4WUuZANaMoFA8j50DOJ45uFlLmQJS+rynjK+ZAAi+CkYwc5kBnexmUbKDsQOkfISvGGOZAAxGsJkgV7kBRAVU7QCvnQFlZMX5vQudAMqOrScjx5kBJ/VCaN7XlQO0aFh3luu1Ap2Po11Qk50BBCiHOh5bsQDbpoZIZKOlA1zExnMG95kDGBsBWnjftQFNSHyLGa+ZAIcw/M5Kf5kCYn/FF8KzlQBoA6Be/auVAINvYFBa+5UDNj7v4gIPmQDISsgW08uZAaCsIgFE35kCuMqCLuKDmQGYZpigqveZAnkRe+u575UAyErIFtPLmQMdnAEDMdO5A7zDoThXY50A0JBRd22zmQNVPbAuDZuhAZhmmKCq95kAtos4PktfnQGsHf/s4aOVAAB0gOmWi5kDPT9JT4cLmQNp2ZMvOPOVAQl3CQhPF5kCMFW7Dj37mQL+vm0VYBudA31cSURff5kA0JBRd22zmQLWm7ASdduZANOnHw8ze7UCm6Nt0aoPpQCHDq0jSL+9AzoCynF5c5UD/pCcjJijnQJyIIc+aveVAEy1V5iU770AyErIFtPLmQNmd47LC5OVAMhKyBbTy5kAyErIFtPLmQPs93kb5f+ZAVG3CHWUg50CLghIuFbfpQPL4uqFXGutAoJ8q9uAY50D2dcRSz/TmQMOpgfEjbOtAAdOgY6NQ6ECxRrzZdT7mQMUxnuiC++hAbOVvV1Et50BkB0TRAkPnQKptUr7yiO1AMhKyBbTy5kAyErIFtPLmQAZTRkDbEOVAM+11mH/V5kB59jHV25nrQDpaOmNR2+RAWLJnc7O86kAPNO/vPfDmQNA58MU9zOVAkIad5/975kBxnZlA92zuQO16w2MhmO9ABlNGQNsQ5UAE2G72PgPnQB+Qrboyc+VAm9krVFB05kBvhz057DHnQDdfWqfstuZAzBUsF+/X5kAaj9CA/FjmQLD59BAGSuZAaj1q13ix5UC2rJkFK3npQJogmkugh+ZA8A/U+PVA5kDWTrFhoonrQNpY7SsS2+1A3umzQ5y16kAAHSA6ZaLmQGxPzC6gK+VA9+3AANJz50B0TZS/TcPmQDhI2AsqYeVAhlqzUluV5kACL4KRjBzmQA==",
          "dtype": "f8"
         },
         "yaxis": "y"
        },
        {
         "line": {
          "color": "red",
          "dash": "dash"
         },
         "mode": "lines",
         "name": "Perfect Prediction",
         "type": "scatter",
         "x": [
          30422,
          134754
         ],
         "y": [
          30422,
          134754
         ]
        }
       ],
       "layout": {
        "legend": {
         "tracegroupgap": 0
        },
        "template": {
         "data": {
          "bar": [
           {
            "error_x": {
             "color": "#2a3f5f"
            },
            "error_y": {
             "color": "#2a3f5f"
            },
            "marker": {
             "line": {
              "color": "#E5ECF6",
              "width": 0.5
             },
             "pattern": {
              "fillmode": "overlay",
              "size": 10,
              "solidity": 0.2
             }
            },
            "type": "bar"
           }
          ],
          "barpolar": [
           {
            "marker": {
             "line": {
              "color": "#E5ECF6",
              "width": 0.5
             },
             "pattern": {
              "fillmode": "overlay",
              "size": 10,
              "solidity": 0.2
             }
            },
            "type": "barpolar"
           }
          ],
          "carpet": [
           {
            "aaxis": {
             "endlinecolor": "#2a3f5f",
             "gridcolor": "white",
             "linecolor": "white",
             "minorgridcolor": "white",
             "startlinecolor": "#2a3f5f"
            },
            "baxis": {
             "endlinecolor": "#2a3f5f",
             "gridcolor": "white",
             "linecolor": "white",
             "minorgridcolor": "white",
             "startlinecolor": "#2a3f5f"
            },
            "type": "carpet"
           }
          ],
          "choropleth": [
           {
            "colorbar": {
             "outlinewidth": 0,
             "ticks": ""
            },
            "type": "choropleth"
           }
          ],
          "contour": [
           {
            "colorbar": {
             "outlinewidth": 0,
             "ticks": ""
            },
            "colorscale": [
             [
              0,
              "#0d0887"
             ],
             [
              0.1111111111111111,
              "#46039f"
             ],
             [
              0.2222222222222222,
              "#7201a8"
             ],
             [
              0.3333333333333333,
              "#9c179e"
             ],
             [
              0.4444444444444444,
              "#bd3786"
             ],
             [
              0.5555555555555556,
              "#d8576b"
             ],
             [
              0.6666666666666666,
              "#ed7953"
             ],
             [
              0.7777777777777778,
              "#fb9f3a"
             ],
             [
              0.8888888888888888,
              "#fdca26"
             ],
             [
              1,
              "#f0f921"
             ]
            ],
            "type": "contour"
           }
          ],
          "contourcarpet": [
           {
            "colorbar": {
             "outlinewidth": 0,
             "ticks": ""
            },
            "type": "contourcarpet"
           }
          ],
          "heatmap": [
           {
            "colorbar": {
             "outlinewidth": 0,
             "ticks": ""
            },
            "colorscale": [
             [
              0,
              "#0d0887"
             ],
             [
              0.1111111111111111,
              "#46039f"
             ],
             [
              0.2222222222222222,
              "#7201a8"
             ],
             [
              0.3333333333333333,
              "#9c179e"
             ],
             [
              0.4444444444444444,
              "#bd3786"
             ],
             [
              0.5555555555555556,
              "#d8576b"
             ],
             [
              0.6666666666666666,
              "#ed7953"
             ],
             [
              0.7777777777777778,
              "#fb9f3a"
             ],
             [
              0.8888888888888888,
              "#fdca26"
             ],
             [
              1,
              "#f0f921"
             ]
            ],
            "type": "heatmap"
           }
          ],
          "histogram": [
           {
            "marker": {
             "pattern": {
              "fillmode": "overlay",
              "size": 10,
              "solidity": 0.2
             }
            },
            "type": "histogram"
           }
          ],
          "histogram2d": [
           {
            "colorbar": {
             "outlinewidth": 0,
             "ticks": ""
            },
            "colorscale": [
             [
              0,
              "#0d0887"
             ],
             [
              0.1111111111111111,
              "#46039f"
             ],
             [
              0.2222222222222222,
              "#7201a8"
             ],
             [
              0.3333333333333333,
              "#9c179e"
             ],
             [
              0.4444444444444444,
              "#bd3786"
             ],
             [
              0.5555555555555556,
              "#d8576b"
             ],
             [
              0.6666666666666666,
              "#ed7953"
             ],
             [
              0.7777777777777778,
              "#fb9f3a"
             ],
             [
              0.8888888888888888,
              "#fdca26"
             ],
             [
              1,
              "#f0f921"
             ]
            ],
            "type": "histogram2d"
           }
          ],
          "histogram2dcontour": [
           {
            "colorbar": {
             "outlinewidth": 0,
             "ticks": ""
            },
            "colorscale": [
             [
              0,
              "#0d0887"
             ],
             [
              0.1111111111111111,
              "#46039f"
             ],
             [
              0.2222222222222222,
              "#7201a8"
             ],
             [
              0.3333333333333333,
              "#9c179e"
             ],
             [
              0.4444444444444444,
              "#bd3786"
             ],
             [
              0.5555555555555556,
              "#d8576b"
             ],
             [
              0.6666666666666666,
              "#ed7953"
             ],
             [
              0.7777777777777778,
              "#fb9f3a"
             ],
             [
              0.8888888888888888,
              "#fdca26"
             ],
             [
              1,
              "#f0f921"
             ]
            ],
            "type": "histogram2dcontour"
           }
          ],
          "mesh3d": [
           {
            "colorbar": {
             "outlinewidth": 0,
             "ticks": ""
            },
            "type": "mesh3d"
           }
          ],
          "parcoords": [
           {
            "line": {
             "colorbar": {
              "outlinewidth": 0,
              "ticks": ""
             }
            },
            "type": "parcoords"
           }
          ],
          "pie": [
           {
            "automargin": true,
            "type": "pie"
           }
          ],
          "scatter": [
           {
            "fillpattern": {
             "fillmode": "overlay",
             "size": 10,
             "solidity": 0.2
            },
            "type": "scatter"
           }
          ],
          "scatter3d": [
           {
            "line": {
             "colorbar": {
              "outlinewidth": 0,
              "ticks": ""
             }
            },
            "marker": {
             "colorbar": {
              "outlinewidth": 0,
              "ticks": ""
             }
            },
            "type": "scatter3d"
           }
          ],
          "scattercarpet": [
           {
            "marker": {
             "colorbar": {
              "outlinewidth": 0,
              "ticks": ""
             }
            },
            "type": "scattercarpet"
           }
          ],
          "scattergeo": [
           {
            "marker": {
             "colorbar": {
              "outlinewidth": 0,
              "ticks": ""
             }
            },
            "type": "scattergeo"
           }
          ],
          "scattergl": [
           {
            "marker": {
             "colorbar": {
              "outlinewidth": 0,
              "ticks": ""
             }
            },
            "type": "scattergl"
           }
          ],
          "scattermap": [
           {
            "marker": {
             "colorbar": {
              "outlinewidth": 0,
              "ticks": ""
             }
            },
            "type": "scattermap"
           }
          ],
          "scattermapbox": [
           {
            "marker": {
             "colorbar": {
              "outlinewidth": 0,
              "ticks": ""
             }
            },
            "type": "scattermapbox"
           }
          ],
          "scatterpolar": [
           {
            "marker": {
             "colorbar": {
              "outlinewidth": 0,
              "ticks": ""
             }
            },
            "type": "scatterpolar"
           }
          ],
          "scatterpolargl": [
           {
            "marker": {
             "colorbar": {
              "outlinewidth": 0,
              "ticks": ""
             }
            },
            "type": "scatterpolargl"
           }
          ],
          "scatterternary": [
           {
            "marker": {
             "colorbar": {
              "outlinewidth": 0,
              "ticks": ""
             }
            },
            "type": "scatterternary"
           }
          ],
          "surface": [
           {
            "colorbar": {
             "outlinewidth": 0,
             "ticks": ""
            },
            "colorscale": [
             [
              0,
              "#0d0887"
             ],
             [
              0.1111111111111111,
              "#46039f"
             ],
             [
              0.2222222222222222,
              "#7201a8"
             ],
             [
              0.3333333333333333,
              "#9c179e"
             ],
             [
              0.4444444444444444,
              "#bd3786"
             ],
             [
              0.5555555555555556,
              "#d8576b"
             ],
             [
              0.6666666666666666,
              "#ed7953"
             ],
             [
              0.7777777777777778,
              "#fb9f3a"
             ],
             [
              0.8888888888888888,
              "#fdca26"
             ],
             [
              1,
              "#f0f921"
             ]
            ],
            "type": "surface"
           }
          ],
          "table": [
           {
            "cells": {
             "fill": {
              "color": "#EBF0F8"
             },
             "line": {
              "color": "white"
             }
            },
            "header": {
             "fill": {
              "color": "#C8D4E3"
             },
             "line": {
              "color": "white"
             }
            },
            "type": "table"
           }
          ]
         },
         "layout": {
          "annotationdefaults": {
           "arrowcolor": "#2a3f5f",
           "arrowhead": 0,
           "arrowwidth": 1
          },
          "autotypenumbers": "strict",
          "coloraxis": {
           "colorbar": {
            "outlinewidth": 0,
            "ticks": ""
           }
          },
          "colorscale": {
           "diverging": [
            [
             0,
             "#8e0152"
            ],
            [
             0.1,
             "#c51b7d"
            ],
            [
             0.2,
             "#de77ae"
            ],
            [
             0.3,
             "#f1b6da"
            ],
            [
             0.4,
             "#fde0ef"
            ],
            [
             0.5,
             "#f7f7f7"
            ],
            [
             0.6,
             "#e6f5d0"
            ],
            [
             0.7,
             "#b8e186"
            ],
            [
             0.8,
             "#7fbc41"
            ],
            [
             0.9,
             "#4d9221"
            ],
            [
             1,
             "#276419"
            ]
           ],
           "sequential": [
            [
             0,
             "#0d0887"
            ],
            [
             0.1111111111111111,
             "#46039f"
            ],
            [
             0.2222222222222222,
             "#7201a8"
            ],
            [
             0.3333333333333333,
             "#9c179e"
            ],
            [
             0.4444444444444444,
             "#bd3786"
            ],
            [
             0.5555555555555556,
             "#d8576b"
            ],
            [
             0.6666666666666666,
             "#ed7953"
            ],
            [
             0.7777777777777778,
             "#fb9f3a"
            ],
            [
             0.8888888888888888,
             "#fdca26"
            ],
            [
             1,
             "#f0f921"
            ]
           ],
           "sequentialminus": [
            [
             0,
             "#0d0887"
            ],
            [
             0.1111111111111111,
             "#46039f"
            ],
            [
             0.2222222222222222,
             "#7201a8"
            ],
            [
             0.3333333333333333,
             "#9c179e"
            ],
            [
             0.4444444444444444,
             "#bd3786"
            ],
            [
             0.5555555555555556,
             "#d8576b"
            ],
            [
             0.6666666666666666,
             "#ed7953"
            ],
            [
             0.7777777777777778,
             "#fb9f3a"
            ],
            [
             0.8888888888888888,
             "#fdca26"
            ],
            [
             1,
             "#f0f921"
            ]
           ]
          },
          "colorway": [
           "#636efa",
           "#EF553B",
           "#00cc96",
           "#ab63fa",
           "#FFA15A",
           "#19d3f3",
           "#FF6692",
           "#B6E880",
           "#FF97FF",
           "#FECB52"
          ],
          "font": {
           "color": "#2a3f5f"
          },
          "geo": {
           "bgcolor": "white",
           "lakecolor": "white",
           "landcolor": "#E5ECF6",
           "showlakes": true,
           "showland": true,
           "subunitcolor": "white"
          },
          "hoverlabel": {
           "align": "left"
          },
          "hovermode": "closest",
          "mapbox": {
           "style": "light"
          },
          "paper_bgcolor": "white",
          "plot_bgcolor": "#E5ECF6",
          "polar": {
           "angularaxis": {
            "gridcolor": "white",
            "linecolor": "white",
            "ticks": ""
           },
           "bgcolor": "#E5ECF6",
           "radialaxis": {
            "gridcolor": "white",
            "linecolor": "white",
            "ticks": ""
           }
          },
          "scene": {
           "xaxis": {
            "backgroundcolor": "#E5ECF6",
            "gridcolor": "white",
            "gridwidth": 2,
            "linecolor": "white",
            "showbackground": true,
            "ticks": "",
            "zerolinecolor": "white"
           },
           "yaxis": {
            "backgroundcolor": "#E5ECF6",
            "gridcolor": "white",
            "gridwidth": 2,
            "linecolor": "white",
            "showbackground": true,
            "ticks": "",
            "zerolinecolor": "white"
           },
           "zaxis": {
            "backgroundcolor": "#E5ECF6",
            "gridcolor": "white",
            "gridwidth": 2,
            "linecolor": "white",
            "showbackground": true,
            "ticks": "",
            "zerolinecolor": "white"
           }
          },
          "shapedefaults": {
           "line": {
            "color": "#2a3f5f"
           }
          },
          "ternary": {
           "aaxis": {
            "gridcolor": "white",
            "linecolor": "white",
            "ticks": ""
           },
           "baxis": {
            "gridcolor": "white",
            "linecolor": "white",
            "ticks": ""
           },
           "bgcolor": "#E5ECF6",
           "caxis": {
            "gridcolor": "white",
            "linecolor": "white",
            "ticks": ""
           }
          },
          "title": {
           "x": 0.05
          },
          "xaxis": {
           "automargin": true,
           "gridcolor": "white",
           "linecolor": "white",
           "ticks": "",
           "title": {
            "standoff": 15
           },
           "zerolinecolor": "white",
           "zerolinewidth": 2
          },
          "yaxis": {
           "automargin": true,
           "gridcolor": "white",
           "linecolor": "white",
           "ticks": "",
           "title": {
            "standoff": 15
           },
           "zerolinecolor": "white",
           "zerolinewidth": 2
          }
         }
        },
        "title": {
         "text": "Linear Regression: All Countries (R² = 0.2590)"
        },
        "xaxis": {
         "anchor": "y",
         "domain": [
          0,
          1
         ],
         "title": {
          "text": "Actual GDP per Capita"
         }
        },
        "yaxis": {
         "anchor": "x",
         "domain": [
          0,
          1
         ],
         "title": {
          "text": "Predicted GDP per Capita"
         }
        }
       }
      }
     },
     "metadata": {},
     "output_type": "display_data"
    },
    {
     "data": {
      "application/vnd.plotly.v1+json": {
       "config": {
        "plotlyServerURL": "https://plot.ly"
       },
       "data": [
        {
         "marker": {
          "color": "blue",
          "size": 6
         },
         "mode": "markers",
         "name": "Training Set (n=133)",
         "type": "scatter",
         "x": {
          "bdata": "AAAAAIAa50AAAAAA4CLvQAAAAACAGudAAAAAAIAa50AAAAAAgBrnQAAAAACAGudAAAAAAIAa50AAAAAAgBrnQAAAAACAGudAAAAAAIAa50AAAAAAgBrnQAAAAACgnOVAAAAAAGDG7EAAAAAAUBvwQAAAAACAGudAAAAAAIAa50AAAAAAQB7gQAAAAAAAmuRAAAAAAIAa50AAAAAAgBrnQAAAAABAWeVAAAAAAIAa50AAAAAAgBrnQAAAAACAGudAAAAAACBN5UAAAAAAgBrnQAAAAADA6OZAAAAAAIAa50AAAAAAIMXoQAAAAACAGudAAAAAAIAa50AAAAAAgBrnQAAAAACAGudAAAAAAIAa50AAAAAAYEHoQAAAAACAGudAAAAAAIAa50AAAAAAwErhQAAAAAAg8uFAAAAAAGBw/EAAAAAAgBrnQAAAAACAGudAAAAAAMDg8kAAAAAAgBrnQAAAAACAGudAAAAAAIAa50AAAAAAgBrnQAAAAACAGudAAAAAAIAa50AAAAAAgBrnQAAAAACAGudAAAAAAIAa50AAAAAAYCzmQAAAAACAGudAAAAAAEBM50AAAAAAgBrnQAAAAACgbulAAAAAAIAa50AAAAAAgBrnQAAAAACAGudAAAAAAEDF3kAAAAAAgBrnQAAAAACAGudAAAAAAIAa50AAAAAAgBrnQAAAAACAGudAAAAAAMAl7EAAAAAAgKfgQAAAAACAGudAAAAAABBW80AAAAAAgBrnQAAAAACAGudAAAAAAIAa50AAAAAAgBrnQAAAAACAGudAAAAAAIAa50AAAAAAgBrnQAAAAAAggeBAAAAAAADw3kAAAAAAgBrnQAAAAACAGudAAAAAAACG4UAAAAAAgBrnQAAAAACA9+RAAAAAAIAa50AAAAAAgBrnQAAAAACgBPJAAAAAAKDU4EAAAAAAgBrnQAAAAACAGudAAAAAAIAa50AAAAAAgBrnQAAAAAAgSuBAAAAAAMCP3kAAAAAAgBrnQAAAAACAGudAAAAAAIC13UAAAAAAgBrnQAAAAACAGudAAAAAAIAa50AAAAAAgBrnQAAAAACAGudAAAAAAIAa50AAAAAAgBrnQAAAAACAGudAAAAAABDV9kAAAAAAgBrnQAAAAACAGudAAAAAAIAa50AAAAAAgBrnQAAAAACAGudAAAAAAABu5kAAAAAAgBrnQAAAAACAGudAAAAAAOA/60AAAAAAYJHvQAAAAACAGudAAAAAAOAx6EAAAAAAgKrmQAAAAAAg1eRAAAAAAIAa50AAAAAAgBrnQAAAAACAGudAAAAAAIAa50AAAAAAYIfsQAAAAACA6vBAAAAAAIAa50AAAAAAgBrnQAAAAACAGudAAAAAAID37EAAAAAAgMz0QAAAAACAGudAAAAAAIAa50A=",
          "dtype": "f8"
         },
         "y": {
          "bdata": "23Zky8485UA16cfDzN7tQNcxMZzBveZAMhKyBbTy5kBrB3/7OGjlQF8aDWy/6ulA31cSURff5kCXn/FF8KzlQL+vm0VYBudApujbdGqD6UAaxlloemvmQDrR1fmqludAFp+r6pMB7UBnexmUbKDsQL1LYk8x2uVAsIcoerDz5UAyErIFtPLmQLuHB5ghSOxAAB0gOmWi5kD9ZzRknbzmQEAKIc6HluxAJuJe7UxR5kDONLJ/xBXmQBcxo8HSNOZAMhKyBbTy5kCnY+jXVCTnQHj2MdXbmetAGiSom5ol50CeafCItOfnQJvZK1RQdOZAaCsIgFE35kCQhp3n/3vmQFRtwh1lIOdAb4c9Oewx50DbWO0rEtvtQJ4A0Cv8heZAz0/SU+HC5kAB06Bjo1DoQOkfISvGGOZAqm1SvvKI7UDMFSwX79fmQJ9tQu3YS+ZA7XrDYyGY70DNj7v4gIPmQGYZpigqveZANCQUXdts5kDQOfDFPczlQDISsgW08uZApmBnfkTd5kD7Pd5G+X/mQDPtdZh/1eZA1k9sC4Nm6EBmOoVYARvnQAIvgpGMHOZALaLOD5LX50CfSlt4wHHmQEg8c0EtNu1AH5CtujJz5UAGU0ZA2xDlQGo9atd4seVAMhKyBbTy5kBfNvux+9/lQNA58MU9zOVAJ3hhwkJq50CUvq8p4yvmQP+kJyMmKOdAAhGsJkgV7kAyErIFtPLmQJogmkugh+ZAEy1V5iU770A4SNgLKmHlQPZ1xFLP9OZA8A/U+PVA5kDOJ45uFlLmQAst5ikqruVAnkRe+u575UA2Nna0AuflQLd15Of+n+ZAMhKyBbTy5kAN0RE5/gjmQBpXp4tf5+VA8fi6oVca60AhzD8zkp/mQMYGwFaeN+1AINvYFBa+5UAVH+2K2j3nQO8w6E4V2OdAMhKyBbTy5kDOgLKcXlzlQPbtwADSc+dADzTv7z3w5kCBpkWQNTjmQLFGvNl1PuZADMAWPGkR6UBI/VCaN7XlQJ1VBTEj5uhAMhKyBbTy5kCgnyr24BjnQAZTRkDbEOVAzieObhZS5kCGWrNSW5XmQDpaOmNR2+RAdE2Uv03D5kD9Ff1wnxjnQPz4W4sWrudAxKmB8SNs60Aso+9jHrflQLasmQUreelAmfe1WLa35UA3X1qn7LbmQFNSHyLGa+ZANumhkhko6UAh6GV9DjHnQMQP+Y9agOdApYY8dhG87UDkSoCKbEnvQFEBVTtAK+dAxTGe6IL76EAiw6tI0i/vQDISsgW08uZAGwDoF79q5UBqPWrXeLHlQMwVLBfv1+ZAZhmmKCq95kB83oy3SY/sQN3ps0OctepAnIghz5q95UCIPNnQsV7pQB0khyekj+ZAcJ2ZQPds7kBq36szqqPqQDGjq0nI8eZAA9hu9j4D50A=",
          "dtype": "f8"
         }
        },
        {
         "marker": {
          "color": "red",
          "size": 8
         },
         "mode": "markers",
         "name": "Test Set (n=34)",
         "type": "scatter",
         "x": {
          "bdata": "AAAAAIAa50AAAAAAgBrnQAAAAACAGudAAAAAAMBD8EAAAAAAgBrnQAAAAACAGudAAAAAAIAa50AAAAAAgBrnQAAAAADg2+pAAAAAAIAa50AAAAAAAEnsQAAAAACAGudAAAAAAIAa50AAAAAAgP35QAAAAACAGudAAAAAAIAa50AAAAAAEHMAQQAAAACAGudAAAAAAIAa50AAAAAAgBrnQAAAAACAGudAAAAAAIAa50AAAAAAgBrnQAAAAADgT+JAAAAAAIAa50AAAAAAgBrnQAAAAADg6ONAAAAAAIAa50AAAAAAgBrnQAAAAAAAwt1AAAAAAIAa50AAAAAAgBrnQAAAAACAGudAAAAAAIAa50A=",
          "dtype": "f8"
         },
         "y": {
          "bdata": "vDzzVewb50CcC2BG+PfmQFZA2kZkJedAMhKyBbTy5kA2Nna0AuflQGQHRNECQ+dAnDL8oscB5kB6sWvoyQTmQO5MBUlB4e5AX6WtjhZk5kCdnp4JsEDtQDSjKBQPI+dAWVkxfm9C50DtGhYd5brtQGgrCIBRN+ZArTKgi7ig5kDIZwBAzHTuQAAdIDplouZAQl3CQhPF5kCMFW7Dj37mQDQkFF3bbOZAtabsBJ125kDZneOywuTlQIqCEi4Vt+lAbOVvV1Et50BkB0TRAkPnQFiyZ3OzvOpAN19ap+y25kAaj9CA/FjmQLD59BAGSuZA1k6xYaKJ60BsT8wuoCvlQDhI2AsqYeVAAi+CkYwc5kA=",
          "dtype": "f8"
         }
        },
        {
         "line": {
          "color": "black",
          "dash": "dash"
         },
         "mode": "lines",
         "name": "Perfect Prediction",
         "type": "scatter",
         "x": [
          30422,
          134754
         ],
         "y": [
          30422,
          134754
         ]
        }
       ],
       "layout": {
        "template": {
         "data": {
          "bar": [
           {
            "error_x": {
             "color": "#2a3f5f"
            },
            "error_y": {
             "color": "#2a3f5f"
            },
            "marker": {
             "line": {
              "color": "#E5ECF6",
              "width": 0.5
             },
             "pattern": {
              "fillmode": "overlay",
              "size": 10,
              "solidity": 0.2
             }
            },
            "type": "bar"
           }
          ],
          "barpolar": [
           {
            "marker": {
             "line": {
              "color": "#E5ECF6",
              "width": 0.5
             },
             "pattern": {
              "fillmode": "overlay",
              "size": 10,
              "solidity": 0.2
             }
            },
            "type": "barpolar"
           }
          ],
          "carpet": [
           {
            "aaxis": {
             "endlinecolor": "#2a3f5f",
             "gridcolor": "white",
             "linecolor": "white",
             "minorgridcolor": "white",
             "startlinecolor": "#2a3f5f"
            },
            "baxis": {
             "endlinecolor": "#2a3f5f",
             "gridcolor": "white",
             "linecolor": "white",
             "minorgridcolor": "white",
             "startlinecolor": "#2a3f5f"
            },
            "type": "carpet"
           }
          ],
          "choropleth": [
           {
            "colorbar": {
             "outlinewidth": 0,
             "ticks": ""
            },
            "type": "choropleth"
           }
          ],
          "contour": [
           {
            "colorbar": {
             "outlinewidth": 0,
             "ticks": ""
            },
            "colorscale": [
             [
              0,
              "#0d0887"
             ],
             [
              0.1111111111111111,
              "#46039f"
             ],
             [
              0.2222222222222222,
              "#7201a8"
             ],
             [
              0.3333333333333333,
              "#9c179e"
             ],
             [
              0.4444444444444444,
              "#bd3786"
             ],
             [
              0.5555555555555556,
              "#d8576b"
             ],
             [
              0.6666666666666666,
              "#ed7953"
             ],
             [
              0.7777777777777778,
              "#fb9f3a"
             ],
             [
              0.8888888888888888,
              "#fdca26"
             ],
             [
              1,
              "#f0f921"
             ]
            ],
            "type": "contour"
           }
          ],
          "contourcarpet": [
           {
            "colorbar": {
             "outlinewidth": 0,
             "ticks": ""
            },
            "type": "contourcarpet"
           }
          ],
          "heatmap": [
           {
            "colorbar": {
             "outlinewidth": 0,
             "ticks": ""
            },
            "colorscale": [
             [
              0,
              "#0d0887"
             ],
             [
              0.1111111111111111,
              "#46039f"
             ],
             [
              0.2222222222222222,
              "#7201a8"
             ],
             [
              0.3333333333333333,
              "#9c179e"
             ],
             [
              0.4444444444444444,
              "#bd3786"
             ],
             [
              0.5555555555555556,
              "#d8576b"
             ],
             [
              0.6666666666666666,
              "#ed7953"
             ],
             [
              0.7777777777777778,
              "#fb9f3a"
             ],
             [
              0.8888888888888888,
              "#fdca26"
             ],
             [
              1,
              "#f0f921"
             ]
            ],
            "type": "heatmap"
           }
          ],
          "histogram": [
           {
            "marker": {
             "pattern": {
              "fillmode": "overlay",
              "size": 10,
              "solidity": 0.2
             }
            },
            "type": "histogram"
           }
          ],
          "histogram2d": [
           {
            "colorbar": {
             "outlinewidth": 0,
             "ticks": ""
            },
            "colorscale": [
             [
              0,
              "#0d0887"
             ],
             [
              0.1111111111111111,
              "#46039f"
             ],
             [
              0.2222222222222222,
              "#7201a8"
             ],
             [
              0.3333333333333333,
              "#9c179e"
             ],
             [
              0.4444444444444444,
              "#bd3786"
             ],
             [
              0.5555555555555556,
              "#d8576b"
             ],
             [
              0.6666666666666666,
              "#ed7953"
             ],
             [
              0.7777777777777778,
              "#fb9f3a"
             ],
             [
              0.8888888888888888,
              "#fdca26"
             ],
             [
              1,
              "#f0f921"
             ]
            ],
            "type": "histogram2d"
           }
          ],
          "histogram2dcontour": [
           {
            "colorbar": {
             "outlinewidth": 0,
             "ticks": ""
            },
            "colorscale": [
             [
              0,
              "#0d0887"
             ],
             [
              0.1111111111111111,
              "#46039f"
             ],
             [
              0.2222222222222222,
              "#7201a8"
             ],
             [
              0.3333333333333333,
              "#9c179e"
             ],
             [
              0.4444444444444444,
              "#bd3786"
             ],
             [
              0.5555555555555556,
              "#d8576b"
             ],
             [
              0.6666666666666666,
              "#ed7953"
             ],
             [
              0.7777777777777778,
              "#fb9f3a"
             ],
             [
              0.8888888888888888,
              "#fdca26"
             ],
             [
              1,
              "#f0f921"
             ]
            ],
            "type": "histogram2dcontour"
           }
          ],
          "mesh3d": [
           {
            "colorbar": {
             "outlinewidth": 0,
             "ticks": ""
            },
            "type": "mesh3d"
           }
          ],
          "parcoords": [
           {
            "line": {
             "colorbar": {
              "outlinewidth": 0,
              "ticks": ""
             }
            },
            "type": "parcoords"
           }
          ],
          "pie": [
           {
            "automargin": true,
            "type": "pie"
           }
          ],
          "scatter": [
           {
            "fillpattern": {
             "fillmode": "overlay",
             "size": 10,
             "solidity": 0.2
            },
            "type": "scatter"
           }
          ],
          "scatter3d": [
           {
            "line": {
             "colorbar": {
              "outlinewidth": 0,
              "ticks": ""
             }
            },
            "marker": {
             "colorbar": {
              "outlinewidth": 0,
              "ticks": ""
             }
            },
            "type": "scatter3d"
           }
          ],
          "scattercarpet": [
           {
            "marker": {
             "colorbar": {
              "outlinewidth": 0,
              "ticks": ""
             }
            },
            "type": "scattercarpet"
           }
          ],
          "scattergeo": [
           {
            "marker": {
             "colorbar": {
              "outlinewidth": 0,
              "ticks": ""
             }
            },
            "type": "scattergeo"
           }
          ],
          "scattergl": [
           {
            "marker": {
             "colorbar": {
              "outlinewidth": 0,
              "ticks": ""
             }
            },
            "type": "scattergl"
           }
          ],
          "scattermap": [
           {
            "marker": {
             "colorbar": {
              "outlinewidth": 0,
              "ticks": ""
             }
            },
            "type": "scattermap"
           }
          ],
          "scattermapbox": [
           {
            "marker": {
             "colorbar": {
              "outlinewidth": 0,
              "ticks": ""
             }
            },
            "type": "scattermapbox"
           }
          ],
          "scatterpolar": [
           {
            "marker": {
             "colorbar": {
              "outlinewidth": 0,
              "ticks": ""
             }
            },
            "type": "scatterpolar"
           }
          ],
          "scatterpolargl": [
           {
            "marker": {
             "colorbar": {
              "outlinewidth": 0,
              "ticks": ""
             }
            },
            "type": "scatterpolargl"
           }
          ],
          "scatterternary": [
           {
            "marker": {
             "colorbar": {
              "outlinewidth": 0,
              "ticks": ""
             }
            },
            "type": "scatterternary"
           }
          ],
          "surface": [
           {
            "colorbar": {
             "outlinewidth": 0,
             "ticks": ""
            },
            "colorscale": [
             [
              0,
              "#0d0887"
             ],
             [
              0.1111111111111111,
              "#46039f"
             ],
             [
              0.2222222222222222,
              "#7201a8"
             ],
             [
              0.3333333333333333,
              "#9c179e"
             ],
             [
              0.4444444444444444,
              "#bd3786"
             ],
             [
              0.5555555555555556,
              "#d8576b"
             ],
             [
              0.6666666666666666,
              "#ed7953"
             ],
             [
              0.7777777777777778,
              "#fb9f3a"
             ],
             [
              0.8888888888888888,
              "#fdca26"
             ],
             [
              1,
              "#f0f921"
             ]
            ],
            "type": "surface"
           }
          ],
          "table": [
           {
            "cells": {
             "fill": {
              "color": "#EBF0F8"
             },
             "line": {
              "color": "white"
             }
            },
            "header": {
             "fill": {
              "color": "#C8D4E3"
             },
             "line": {
              "color": "white"
             }
            },
            "type": "table"
           }
          ]
         },
         "layout": {
          "annotationdefaults": {
           "arrowcolor": "#2a3f5f",
           "arrowhead": 0,
           "arrowwidth": 1
          },
          "autotypenumbers": "strict",
          "coloraxis": {
           "colorbar": {
            "outlinewidth": 0,
            "ticks": ""
           }
          },
          "colorscale": {
           "diverging": [
            [
             0,
             "#8e0152"
            ],
            [
             0.1,
             "#c51b7d"
            ],
            [
             0.2,
             "#de77ae"
            ],
            [
             0.3,
             "#f1b6da"
            ],
            [
             0.4,
             "#fde0ef"
            ],
            [
             0.5,
             "#f7f7f7"
            ],
            [
             0.6,
             "#e6f5d0"
            ],
            [
             0.7,
             "#b8e186"
            ],
            [
             0.8,
             "#7fbc41"
            ],
            [
             0.9,
             "#4d9221"
            ],
            [
             1,
             "#276419"
            ]
           ],
           "sequential": [
            [
             0,
             "#0d0887"
            ],
            [
             0.1111111111111111,
             "#46039f"
            ],
            [
             0.2222222222222222,
             "#7201a8"
            ],
            [
             0.3333333333333333,
             "#9c179e"
            ],
            [
             0.4444444444444444,
             "#bd3786"
            ],
            [
             0.5555555555555556,
             "#d8576b"
            ],
            [
             0.6666666666666666,
             "#ed7953"
            ],
            [
             0.7777777777777778,
             "#fb9f3a"
            ],
            [
             0.8888888888888888,
             "#fdca26"
            ],
            [
             1,
             "#f0f921"
            ]
           ],
           "sequentialminus": [
            [
             0,
             "#0d0887"
            ],
            [
             0.1111111111111111,
             "#46039f"
            ],
            [
             0.2222222222222222,
             "#7201a8"
            ],
            [
             0.3333333333333333,
             "#9c179e"
            ],
            [
             0.4444444444444444,
             "#bd3786"
            ],
            [
             0.5555555555555556,
             "#d8576b"
            ],
            [
             0.6666666666666666,
             "#ed7953"
            ],
            [
             0.7777777777777778,
             "#fb9f3a"
            ],
            [
             0.8888888888888888,
             "#fdca26"
            ],
            [
             1,
             "#f0f921"
            ]
           ]
          },
          "colorway": [
           "#636efa",
           "#EF553B",
           "#00cc96",
           "#ab63fa",
           "#FFA15A",
           "#19d3f3",
           "#FF6692",
           "#B6E880",
           "#FF97FF",
           "#FECB52"
          ],
          "font": {
           "color": "#2a3f5f"
          },
          "geo": {
           "bgcolor": "white",
           "lakecolor": "white",
           "landcolor": "#E5ECF6",
           "showlakes": true,
           "showland": true,
           "subunitcolor": "white"
          },
          "hoverlabel": {
           "align": "left"
          },
          "hovermode": "closest",
          "mapbox": {
           "style": "light"
          },
          "paper_bgcolor": "white",
          "plot_bgcolor": "#E5ECF6",
          "polar": {
           "angularaxis": {
            "gridcolor": "white",
            "linecolor": "white",
            "ticks": ""
           },
           "bgcolor": "#E5ECF6",
           "radialaxis": {
            "gridcolor": "white",
            "linecolor": "white",
            "ticks": ""
           }
          },
          "scene": {
           "xaxis": {
            "backgroundcolor": "#E5ECF6",
            "gridcolor": "white",
            "gridwidth": 2,
            "linecolor": "white",
            "showbackground": true,
            "ticks": "",
            "zerolinecolor": "white"
           },
           "yaxis": {
            "backgroundcolor": "#E5ECF6",
            "gridcolor": "white",
            "gridwidth": 2,
            "linecolor": "white",
            "showbackground": true,
            "ticks": "",
            "zerolinecolor": "white"
           },
           "zaxis": {
            "backgroundcolor": "#E5ECF6",
            "gridcolor": "white",
            "gridwidth": 2,
            "linecolor": "white",
            "showbackground": true,
            "ticks": "",
            "zerolinecolor": "white"
           }
          },
          "shapedefaults": {
           "line": {
            "color": "#2a3f5f"
           }
          },
          "ternary": {
           "aaxis": {
            "gridcolor": "white",
            "linecolor": "white",
            "ticks": ""
           },
           "baxis": {
            "gridcolor": "white",
            "linecolor": "white",
            "ticks": ""
           },
           "bgcolor": "#E5ECF6",
           "caxis": {
            "gridcolor": "white",
            "linecolor": "white",
            "ticks": ""
           }
          },
          "title": {
           "x": 0.05
          },
          "xaxis": {
           "automargin": true,
           "gridcolor": "white",
           "linecolor": "white",
           "ticks": "",
           "title": {
            "standoff": 15
           },
           "zerolinecolor": "white",
           "zerolinewidth": 2
          },
          "yaxis": {
           "automargin": true,
           "gridcolor": "white",
           "linecolor": "white",
           "ticks": "",
           "title": {
            "standoff": 15
           },
           "zerolinecolor": "white",
           "zerolinewidth": 2
          }
         }
        },
        "title": {
         "text": "Linear Regression: Training vs Test Performance (Test R² = 0.2499)"
        },
        "xaxis": {
         "title": {
          "text": "Actual GDP per Capita"
         }
        },
        "yaxis": {
         "title": {
          "text": "Predicted GDP per Capita"
         }
        }
       }
      }
     },
     "metadata": {},
     "output_type": "display_data"
    },
    {
     "data": {
      "application/vnd.plotly.v1+json": {
       "config": {
        "plotlyServerURL": "https://plot.ly"
       },
       "data": [
        {
         "customdata": [
          [
           "Afghanistan",
           48.9,
           84
          ],
          [
           "Albania",
           52,
           69
          ],
          [
           "Algeria",
           29.9,
           67
          ],
          [
           "American Samoa",
           48.9,
           69
          ],
          [
           "Angola",
           23,
           71
          ],
          [
           "Argentina",
           48.9,
           62
          ],
          [
           "Armenia",
           33.8,
           69
          ],
          [
           "Australia",
           118,
           27
          ],
          [
           "Austria",
           95.9,
           26
          ],
          [
           "Azerbaijan",
           29.8,
           70
          ],
          [
           "Bahamas",
           48.9,
           69
          ],
          [
           "Bahrain",
           49,
           69
          ],
          [
           "Bangladesh",
           39,
           74
          ],
          [
           "Barbados",
           121.5,
           69
          ],
          [
           "Belarus",
           48.9,
           69
          ],
          [
           "Belgium",
           97,
           27
          ],
          [
           "Benin",
           37.5,
           69
          ],
          [
           "Bermuda",
           157.6,
           69
          ],
          [
           "Bhutan",
           30,
           69
          ],
          [
           "Bolivia",
           36.2,
           70
          ],
          [
           "Brazil",
           46.9,
           62
          ],
          [
           "Brunei",
           48.9,
           69
          ],
          [
           "Bulgaria",
           47.5,
           69
          ],
          [
           "Burma",
           27,
           72
          ],
          [
           "Burundi",
           48.9,
           81
          ],
          [
           "Cambodia",
           36.6,
           77
          ],
          [
           "Cameroon",
           41.9,
           73
          ],
          [
           "Canada",
           105.6,
           26
          ],
          [
           "Cape Verde",
           48.9,
           79
          ],
          [
           "Cayman Islands",
           137.9,
           69
          ],
          [
           "Central Africa",
           48.9,
           76
          ],
          [
           "Chad",
           48.9,
           80
          ],
          [
           "Chile",
           62.9,
           69
          ],
          [
           "China",
           63.2,
           55
          ],
          [
           "Cocos (Keeling) Islands",
           48.9,
           69
          ],
          [
           "Colombia",
           41.9,
           69
          ],
          [
           "Comoros",
           48.9,
           80
          ],
          [
           "Congo",
           48.9,
           79
          ],
          [
           "Congo (Dem. Republic)",
           48.9,
           81
          ],
          [
           "Costa Rica",
           57.7,
           69
          ],
          [
           "Croatia",
           60.8,
           69
          ],
          [
           "Cyprus",
           48.9,
           69
          ],
          [
           "Czechia",
           68.1,
           69
          ],
          [
           "Denmark",
           119.9,
           12
          ],
          [
           "Djibouti",
           48.9,
           70
          ],
          [
           "Dominican Republic",
           48.9,
           70
          ],
          [
           "Ecuador",
           51.9,
           64
          ],
          [
           "Egypt",
           27.2,
           67
          ],
          [
           "El Salvador",
           48.9,
           66
          ],
          [
           "Equatorial Guinea",
           55.9,
           83
          ],
          [
           "Eritrea",
           48.9,
           78
          ],
          [
           "Estonia",
           74,
           26
          ],
          [
           "Eswatini",
           48.9,
           68
          ],
          [
           "Ethiopia",
           48.9,
           69
          ],
          [
           "Finland",
           108,
           12
          ],
          [
           "France",
           96.2,
           29
          ],
          [
           "Gabon",
           48.9,
           69
          ],
          [
           "Georgia",
           32.2,
           69
          ],
          [
           "Germany",
           92.3,
           20
          ],
          [
           "Ghana",
           37.3,
           69
          ],
          [
           "Gibraltar",
           48.9,
           69
          ],
          [
           "Greece",
           74.7,
           51
          ],
          [
           "Guatemala",
           48.9,
           75
          ],
          [
           "Guernsey",
           48.9,
           69
          ],
          [
           "Guinea",
           48.9,
           75
          ],
          [
           "Haiti",
           60.1,
           80
          ],
          [
           "Honduras",
           48.9,
           77
          ],
          [
           "Hong Kong",
           77.9,
           24
          ],
          [
           "Hungary",
           57.3,
           69
          ],
          [
           "Iceland",
           128,
           26
          ],
          [
           "India",
           28.8,
           60
          ],
          [
           "Indonesia",
           35.4,
           62
          ],
          [
           "Iran",
           67.6,
           75
          ],
          [
           "Iraq",
           36.8,
           77
          ],
          [
           "Ireland",
           119.8,
           26
          ],
          [
           "Isle of Man",
           48.9,
           69
          ],
          [
           "Israel",
           130.2,
           41
          ],
          [
           "Italy",
           86.2,
           44
          ],
          [
           "Ivory Coast",
           42.7,
           69
          ],
          [
           "Japan",
           101.9,
           27
          ],
          [
           "Kazakhstan",
           33.1,
           69
          ],
          [
           "Kenya",
           42.3,
           70
          ],
          [
           "Kiribati",
           48.9,
           69
          ],
          [
           "Kosovo",
           41,
           69
          ],
          [
           "Kyrgyzstan",
           25.3,
           73
          ],
          [
           "Laos",
           33.5,
           70
          ],
          [
           "Latvia",
           48.9,
           69
          ],
          [
           "Lebanon",
           48.9,
           76
          ],
          [
           "Lesotho",
           39.3,
           69
          ],
          [
           "Liberia",
           48.9,
           71
          ],
          [
           "Libya",
           48.9,
           83
          ],
          [
           "Lithuania",
           48.9,
           69
          ],
          [
           "Luxembourg",
           113.1,
           19
          ],
          [
           "Macao",
           75,
           69
          ],
          [
           "Madagascar",
           48.9,
           74
          ],
          [
           "Malaysia",
           38.8,
           52
          ],
          [
           "Mali",
           48.9,
           71
          ],
          [
           "Malta",
           75.7,
           69
          ],
          [
           "Marshall Islands",
           48.9,
           69
          ],
          [
           "Mauritania",
           48.9,
           72
          ],
          [
           "Mauritius",
           43.3,
           69
          ],
          [
           "Mexico",
           54.7,
           69
          ],
          [
           "Moldova",
           38.5,
           69
          ],
          [
           "Mongolia",
           35.3,
           69
          ],
          [
           "Montenegro",
           51.2,
           69
          ],
          [
           "Morocco",
           45,
           69
          ],
          [
           "Mozambique",
           48.9,
           74
          ],
          [
           "Nepal",
           28.1,
           67
          ],
          [
           "Netherlands",
           99,
           18
          ],
          [
           "New Caledonia",
           125.8,
           69
          ],
          [
           "New Zealand",
           117.2,
           12
          ],
          [
           "Nicaragua",
           35.8,
           80
          ],
          [
           "Niger",
           48.9,
           69
          ],
          [
           "Nigeria",
           41.8,
           76
          ],
          [
           "Norway",
           124.6,
           15
          ],
          [
           "Oman",
           48.9,
           69
          ],
          [
           "Pakistan",
           25.8,
           72
          ],
          [
           "Panama",
           48.9,
           69
          ],
          [
           "Papua New Guinea",
           48.9,
           69
          ],
          [
           "Paraguay",
           38.6,
           70
          ],
          [
           "Philippines",
           40.9,
           67
          ],
          [
           "Poland",
           51.1,
           44
          ],
          [
           "Portugal",
           76.4,
           38
          ],
          [
           "Principality of Monaco",
           48.9,
           69
          ],
          [
           "Puerto Rico",
           48.9,
           69
          ],
          [
           "Qatar",
           71.4,
           37
          ],
          [
           "Romania",
           47.4,
           55
          ],
          [
           "Russia",
           36.9,
           71
          ],
          [
           "Saudi Arabia",
           44.5,
           47
          ],
          [
           "Serbia",
           51.2,
           69
          ],
          [
           "Sierra Leone",
           48.9,
           66
          ],
          [
           "Singapore",
           75,
           15
          ],
          [
           "Slovakia",
           48.9,
           69
          ],
          [
           "Slovenia",
           48.9,
           69
          ],
          [
           "Somalia",
           48.9,
           87
          ],
          [
           "South Africa",
           47.1,
           56
          ],
          [
           "South Korea",
           87,
           38
          ],
          [
           "South Sudan",
           48.9,
           89
          ],
          [
           "Spain",
           82.9,
           39
          ],
          [
           "Sri Lanka",
           30.4,
           63
          ],
          [
           "Sudan",
           48.9,
           80
          ],
          [
           "Suriname",
           35,
           69
          ],
          [
           "Sweden",
           109.3,
           15
          ],
          [
           "Switzerland",
           142.4,
           16
          ],
          [
           "Syria",
           48.9,
           87
          ],
          [
           "Taiwan",
           48.9,
           69
          ],
          [
           "Tajikistan",
           22.8,
           75
          ],
          [
           "Tanzania",
           34.1,
           69
          ],
          [
           "Thailand",
           38.4,
           65
          ],
          [
           "Timor-Leste",
           41.9,
           69
          ],
          [
           "Togo",
           48.9,
           70
          ],
          [
           "Tunisia",
           30.9,
           69
          ],
          [
           "Turkey",
           34.4,
           62
          ],
          [
           "Turkmenistan",
           48.9,
           81
          ],
          [
           "Turks and Caicos Islands",
           124.6,
           69
          ],
          [
           "Uganda",
           48.9,
           73
          ],
          [
           "Ukraine",
           29.9,
           68
          ],
          [
           "United Arab Emirates",
           72.3,
           31
          ],
          [
           "United Kingdom",
           107.9,
           22
          ],
          [
           "United States",
           100,
           33
          ],
          [
           "Uzbekistan",
           48.9,
           72
          ],
          [
           "Venezuela",
           48.9,
           86
          ],
          [
           "Vietnam",
           34.4,
           61
          ],
          [
           "Virgin Islands",
           48.9,
           69
          ],
          [
           "Yemen",
           48.9,
           84
          ],
          [
           "Zambia",
           31.7,
           67
          ],
          [
           "Zimbabwe",
           48.9,
           77
          ]
         ],
         "hovertemplate": "Actual GDP per Capita=%{x}<br>Predicted GDP per Capita=%{y}<br>country=%{customdata[0]}<br>cost_of_living=%{customdata[1]}<br>corruption_index=%{customdata[2]}<extra></extra>",
         "legendgroup": "",
         "marker": {
          "color": "#636efa",
          "symbol": "circle"
         },
         "mode": "markers",
         "name": "",
         "orientation": "v",
         "showlegend": false,
         "type": "scatter",
         "x": {
          "bdata": "AAAAAIAa50AAAAAAgBrnQAAAAACAGudAAAAAAIAa50AAAAAAgBrnQAAAAACAGudAAAAAAIAa50AAAAAA4D/rQAAAAABgh+xAAAAAAIAa50AAAAAAgKfgQAAAAABgLOZAAAAAAIAa50AAAAAAgBrnQAAAAACAGudAAAAAAGDG7EAAAAAAgBrnQAAAAACAzPRAAAAAAIAa50AAAAAAgBrnQAAAAACAGudAAAAAAMBD8EAAAAAAgBrnQAAAAACAGudAAAAAAIAa50AAAAAAgBrnQAAAAACAGudAAAAAAKBu6UAAAAAAgBrnQAAAAACAGudAAAAAAIAa50AAAAAAgBrnQAAAAACAGudAAAAAAIAa50AAAAAAgBrnQAAAAACAGudAAAAAAIAa50AAAAAAgBrnQAAAAACAGudAAAAAAIAa50AAAAAAIIHgQAAAAABAxd5AAAAAAKCc5UAAAAAAYJHvQAAAAACAGudAAAAAAIAa50AAAAAAgBrnQAAAAACAGudAAAAAAIAa50AAAAAAgBrnQAAAAACAGudAAAAAAACa5EAAAAAAgBrnQAAAAACAGudAAAAAAODb6kAAAAAAIMXoQAAAAACAGudAAAAAAIAa50AAAAAAAEnsQAAAAACAGudAAAAAAIAa50AAAAAAwI/eQAAAAACAGudAAAAAAIAa50AAAAAAgBrnQAAAAACAGudAAAAAAIAa50AAAAAAUBvwQAAAAAAg8uFAAAAAAMAl7EAAAAAAgBrnQAAAAACAGudAAAAAAIAa50AAAAAAgBrnQAAAAACA/flAAAAAAIAa50AAAAAAQFnlQAAAAAAAbuZAAAAAAIAa50AAAAAAgPfkQAAAAACAGudAAAAAAIAa50AAAAAAgBrnQAAAAACAGudAAAAAAIAa50AAAAAAgBrnQAAAAACg1OBAAAAAAIAa50AAAAAAgBrnQAAAAACAGudAAAAAAIAa50AAAAAAINXkQAAAAAAQcwBBAAAAAKAE8kAAAAAAgBrnQAAAAACAGudAAAAAAIAa50AAAAAAQEznQAAAAACAGudAAAAAAIAa50AAAAAAgBrnQAAAAACAGudAAAAAAIAa50AAAAAAgBrnQAAAAACAGudAAAAAAIAa50AAAAAAgBrnQAAAAACAGudAAAAAAOAi70AAAAAAgBrnQAAAAACAquZAAAAAAIAa50AAAAAAgBrnQAAAAACAGudAAAAAABBW80AAAAAAgLXdQAAAAACAGudAAAAAAADw3kAAAAAAgBrnQAAAAACAGudAAAAAAIAa50AAAAAA4E/iQAAAAAAAhuFAAAAAAIAa50AAAAAAgBrnQAAAAAAQ1fZAAAAAAMBK4UAAAAAAIErgQAAAAADgMehAAAAAAIAa50AAAAAAgBrnQAAAAABgcPxAAAAAAEAe4EAAAAAAIE3lQAAAAACAGudAAAAAAIAa50AAAAAAwOjmQAAAAACAGudAAAAAAODo40AAAAAAgBrnQAAAAACAGudAAAAAAIAa50AAAAAAgPfsQAAAAADA4PJAAAAAAIAa50AAAAAAgBrnQAAAAACAGudAAAAAAIAa50AAAAAAgBrnQAAAAACAGudAAAAAAIAa50AAAAAAgBrnQAAAAAAAwt1AAAAAAIAa50AAAAAAgBrnQAAAAACAGudAAAAAAIAa50AAAAAAgBrnQAAAAABgQehAAAAAAIDq8EAAAAAAgBrnQAAAAACAGudAAAAAAIAa50AAAAAAgBrnQAAAAACAGudAAAAAAIAa50AAAAAAgBrnQA==",
          "dtype": "f8"
         },
         "xaxis": "x",
         "y": {
          "bdata": "OEjYCyph5UC8PPNV7BvnQJ4A0Cv8heZALKPvYx635UBfNvux+9/lQPz4W4sWrudAn0pbeMBx5kCkhjx2EbztQHzejLdJj+xAGDGjwdI05kAyErIFtPLmQGc6hVgBG+dAzzSyf8QV5kCIPNnQsV7pQJwLYEb49+ZAFp+r6pMB7UD9ZzRknbzmQGvfqzOqo+pAJuJe7UxR5kAaxlloemvmQFZA2kZkJedAMhKyBbTy5kCmYGd+RN3mQBpXp4tf5+VAvUtiTzHa5UAM0RE5/gjmQJ9tQu3YS+ZASDxzQS027UA2Nna0AuflQGAaDWy/6ulAaCsIgFE35kCxhyh6sPPlQCh4YcJCaudAnVUFMSPm6EAh6GV9DjHnQDdfWqfstuZA0DnwxT3M5UA2Nna0AuflQGo9atd4seVAFh/tito950C3deTn/p/mQDISsgW08uZAOtHV+aqW50DkSoCKbEnvQAst5ikqruVAzBUsF+/X5kDED/mPWoDnQIGmRZA1OOZAZAdE0QJD50CZ97VYtrflQJwy/KLHAeZAu4cHmCFI7EB7sWvoyQTmQP0V/XCfGOdA7UwFSUHh7kCeafCItOfnQDISsgW08uZAX6WtjhZk5kCdnp4JsEDtQB0khyekj+ZAGiSom5ol50ANwBY8aRHpQM4njm4WUuZANaMoFA8j50DOJ45uFlLmQJS+rynjK+ZAAi+CkYwc5kBnexmUbKDsQOkfISvGGOZAAxGsJkgV7kBRAVU7QCvnQFlZMX5vQudAMqOrScjx5kBJ/VCaN7XlQO0aFh3luu1Ap2Po11Qk50BBCiHOh5bsQDbpoZIZKOlA1zExnMG95kDGBsBWnjftQFNSHyLGa+ZAIcw/M5Kf5kCYn/FF8KzlQBoA6Be/auVAINvYFBa+5UDNj7v4gIPmQDISsgW08uZAaCsIgFE35kCuMqCLuKDmQGYZpigqveZAnkRe+u575UAyErIFtPLmQMdnAEDMdO5A7zDoThXY50A0JBRd22zmQNVPbAuDZuhAZhmmKCq95kAtos4PktfnQGsHf/s4aOVAAB0gOmWi5kDPT9JT4cLmQNp2ZMvOPOVAQl3CQhPF5kCMFW7Dj37mQL+vm0VYBudA31cSURff5kA0JBRd22zmQLWm7ASdduZANOnHw8ze7UCm6Nt0aoPpQCHDq0jSL+9AzoCynF5c5UD/pCcjJijnQJyIIc+aveVAEy1V5iU770AyErIFtPLmQNmd47LC5OVAMhKyBbTy5kAyErIFtPLmQPs93kb5f+ZAVG3CHWUg50CLghIuFbfpQPL4uqFXGutAoJ8q9uAY50D2dcRSz/TmQMOpgfEjbOtAAdOgY6NQ6ECxRrzZdT7mQMUxnuiC++hAbOVvV1Et50BkB0TRAkPnQKptUr7yiO1AMhKyBbTy5kAyErIFtPLmQAZTRkDbEOVAM+11mH/V5kB59jHV25nrQDpaOmNR2+RAWLJnc7O86kAPNO/vPfDmQNA58MU9zOVAkIad5/975kBxnZlA92zuQO16w2MhmO9ABlNGQNsQ5UAE2G72PgPnQB+Qrboyc+VAm9krVFB05kBvhz057DHnQDdfWqfstuZAzBUsF+/X5kAaj9CA/FjmQLD59BAGSuZAaj1q13ix5UC2rJkFK3npQJogmkugh+ZA8A/U+PVA5kDWTrFhoonrQNpY7SsS2+1A3umzQ5y16kAAHSA6ZaLmQGxPzC6gK+VA9+3AANJz50B0TZS/TcPmQDhI2AsqYeVAhlqzUluV5kACL4KRjBzmQA==",
          "dtype": "f8"
         },
         "yaxis": "y"
        },
        {
         "line": {
          "color": "red",
          "dash": "dash"
         },
         "mode": "lines",
         "name": "Perfect Prediction",
         "type": "scatter",
         "x": [
          30422,
          134754
         ],
         "y": [
          30422,
          134754
         ]
        }
       ],
       "layout": {
        "legend": {
         "tracegroupgap": 0
        },
        "template": {
         "data": {
          "bar": [
           {
            "error_x": {
             "color": "#2a3f5f"
            },
            "error_y": {
             "color": "#2a3f5f"
            },
            "marker": {
             "line": {
              "color": "#E5ECF6",
              "width": 0.5
             },
             "pattern": {
              "fillmode": "overlay",
              "size": 10,
              "solidity": 0.2
             }
            },
            "type": "bar"
           }
          ],
          "barpolar": [
           {
            "marker": {
             "line": {
              "color": "#E5ECF6",
              "width": 0.5
             },
             "pattern": {
              "fillmode": "overlay",
              "size": 10,
              "solidity": 0.2
             }
            },
            "type": "barpolar"
           }
          ],
          "carpet": [
           {
            "aaxis": {
             "endlinecolor": "#2a3f5f",
             "gridcolor": "white",
             "linecolor": "white",
             "minorgridcolor": "white",
             "startlinecolor": "#2a3f5f"
            },
            "baxis": {
             "endlinecolor": "#2a3f5f",
             "gridcolor": "white",
             "linecolor": "white",
             "minorgridcolor": "white",
             "startlinecolor": "#2a3f5f"
            },
            "type": "carpet"
           }
          ],
          "choropleth": [
           {
            "colorbar": {
             "outlinewidth": 0,
             "ticks": ""
            },
            "type": "choropleth"
           }
          ],
          "contour": [
           {
            "colorbar": {
             "outlinewidth": 0,
             "ticks": ""
            },
            "colorscale": [
             [
              0,
              "#0d0887"
             ],
             [
              0.1111111111111111,
              "#46039f"
             ],
             [
              0.2222222222222222,
              "#7201a8"
             ],
             [
              0.3333333333333333,
              "#9c179e"
             ],
             [
              0.4444444444444444,
              "#bd3786"
             ],
             [
              0.5555555555555556,
              "#d8576b"
             ],
             [
              0.6666666666666666,
              "#ed7953"
             ],
             [
              0.7777777777777778,
              "#fb9f3a"
             ],
             [
              0.8888888888888888,
              "#fdca26"
             ],
             [
              1,
              "#f0f921"
             ]
            ],
            "type": "contour"
           }
          ],
          "contourcarpet": [
           {
            "colorbar": {
             "outlinewidth": 0,
             "ticks": ""
            },
            "type": "contourcarpet"
           }
          ],
          "heatmap": [
           {
            "colorbar": {
             "outlinewidth": 0,
             "ticks": ""
            },
            "colorscale": [
             [
              0,
              "#0d0887"
             ],
             [
              0.1111111111111111,
              "#46039f"
             ],
             [
              0.2222222222222222,
              "#7201a8"
             ],
             [
              0.3333333333333333,
              "#9c179e"
             ],
             [
              0.4444444444444444,
              "#bd3786"
             ],
             [
              0.5555555555555556,
              "#d8576b"
             ],
             [
              0.6666666666666666,
              "#ed7953"
             ],
             [
              0.7777777777777778,
              "#fb9f3a"
             ],
             [
              0.8888888888888888,
              "#fdca26"
             ],
             [
              1,
              "#f0f921"
             ]
            ],
            "type": "heatmap"
           }
          ],
          "histogram": [
           {
            "marker": {
             "pattern": {
              "fillmode": "overlay",
              "size": 10,
              "solidity": 0.2
             }
            },
            "type": "histogram"
           }
          ],
          "histogram2d": [
           {
            "colorbar": {
             "outlinewidth": 0,
             "ticks": ""
            },
            "colorscale": [
             [
              0,
              "#0d0887"
             ],
             [
              0.1111111111111111,
              "#46039f"
             ],
             [
              0.2222222222222222,
              "#7201a8"
             ],
             [
              0.3333333333333333,
              "#9c179e"
             ],
             [
              0.4444444444444444,
              "#bd3786"
             ],
             [
              0.5555555555555556,
              "#d8576b"
             ],
             [
              0.6666666666666666,
              "#ed7953"
             ],
             [
              0.7777777777777778,
              "#fb9f3a"
             ],
             [
              0.8888888888888888,
              "#fdca26"
             ],
             [
              1,
              "#f0f921"
             ]
            ],
            "type": "histogram2d"
           }
          ],
          "histogram2dcontour": [
           {
            "colorbar": {
             "outlinewidth": 0,
             "ticks": ""
            },
            "colorscale": [
             [
              0,
              "#0d0887"
             ],
             [
              0.1111111111111111,
              "#46039f"
             ],
             [
              0.2222222222222222,
              "#7201a8"
             ],
             [
              0.3333333333333333,
              "#9c179e"
             ],
             [
              0.4444444444444444,
              "#bd3786"
             ],
             [
              0.5555555555555556,
              "#d8576b"
             ],
             [
              0.6666666666666666,
              "#ed7953"
             ],
             [
              0.7777777777777778,
              "#fb9f3a"
             ],
             [
              0.8888888888888888,
              "#fdca26"
             ],
             [
              1,
              "#f0f921"
             ]
            ],
            "type": "histogram2dcontour"
           }
          ],
          "mesh3d": [
           {
            "colorbar": {
             "outlinewidth": 0,
             "ticks": ""
            },
            "type": "mesh3d"
           }
          ],
          "parcoords": [
           {
            "line": {
             "colorbar": {
              "outlinewidth": 0,
              "ticks": ""
             }
            },
            "type": "parcoords"
           }
          ],
          "pie": [
           {
            "automargin": true,
            "type": "pie"
           }
          ],
          "scatter": [
           {
            "fillpattern": {
             "fillmode": "overlay",
             "size": 10,
             "solidity": 0.2
            },
            "type": "scatter"
           }
          ],
          "scatter3d": [
           {
            "line": {
             "colorbar": {
              "outlinewidth": 0,
              "ticks": ""
             }
            },
            "marker": {
             "colorbar": {
              "outlinewidth": 0,
              "ticks": ""
             }
            },
            "type": "scatter3d"
           }
          ],
          "scattercarpet": [
           {
            "marker": {
             "colorbar": {
              "outlinewidth": 0,
              "ticks": ""
             }
            },
            "type": "scattercarpet"
           }
          ],
          "scattergeo": [
           {
            "marker": {
             "colorbar": {
              "outlinewidth": 0,
              "ticks": ""
             }
            },
            "type": "scattergeo"
           }
          ],
          "scattergl": [
           {
            "marker": {
             "colorbar": {
              "outlinewidth": 0,
              "ticks": ""
             }
            },
            "type": "scattergl"
           }
          ],
          "scattermap": [
           {
            "marker": {
             "colorbar": {
              "outlinewidth": 0,
              "ticks": ""
             }
            },
            "type": "scattermap"
           }
          ],
          "scattermapbox": [
           {
            "marker": {
             "colorbar": {
              "outlinewidth": 0,
              "ticks": ""
             }
            },
            "type": "scattermapbox"
           }
          ],
          "scatterpolar": [
           {
            "marker": {
             "colorbar": {
              "outlinewidth": 0,
              "ticks": ""
             }
            },
            "type": "scatterpolar"
           }
          ],
          "scatterpolargl": [
           {
            "marker": {
             "colorbar": {
              "outlinewidth": 0,
              "ticks": ""
             }
            },
            "type": "scatterpolargl"
           }
          ],
          "scatterternary": [
           {
            "marker": {
             "colorbar": {
              "outlinewidth": 0,
              "ticks": ""
             }
            },
            "type": "scatterternary"
           }
          ],
          "surface": [
           {
            "colorbar": {
             "outlinewidth": 0,
             "ticks": ""
            },
            "colorscale": [
             [
              0,
              "#0d0887"
             ],
             [
              0.1111111111111111,
              "#46039f"
             ],
             [
              0.2222222222222222,
              "#7201a8"
             ],
             [
              0.3333333333333333,
              "#9c179e"
             ],
             [
              0.4444444444444444,
              "#bd3786"
             ],
             [
              0.5555555555555556,
              "#d8576b"
             ],
             [
              0.6666666666666666,
              "#ed7953"
             ],
             [
              0.7777777777777778,
              "#fb9f3a"
             ],
             [
              0.8888888888888888,
              "#fdca26"
             ],
             [
              1,
              "#f0f921"
             ]
            ],
            "type": "surface"
           }
          ],
          "table": [
           {
            "cells": {
             "fill": {
              "color": "#EBF0F8"
             },
             "line": {
              "color": "white"
             }
            },
            "header": {
             "fill": {
              "color": "#C8D4E3"
             },
             "line": {
              "color": "white"
             }
            },
            "type": "table"
           }
          ]
         },
         "layout": {
          "annotationdefaults": {
           "arrowcolor": "#2a3f5f",
           "arrowhead": 0,
           "arrowwidth": 1
          },
          "autotypenumbers": "strict",
          "coloraxis": {
           "colorbar": {
            "outlinewidth": 0,
            "ticks": ""
           }
          },
          "colorscale": {
           "diverging": [
            [
             0,
             "#8e0152"
            ],
            [
             0.1,
             "#c51b7d"
            ],
            [
             0.2,
             "#de77ae"
            ],
            [
             0.3,
             "#f1b6da"
            ],
            [
             0.4,
             "#fde0ef"
            ],
            [
             0.5,
             "#f7f7f7"
            ],
            [
             0.6,
             "#e6f5d0"
            ],
            [
             0.7,
             "#b8e186"
            ],
            [
             0.8,
             "#7fbc41"
            ],
            [
             0.9,
             "#4d9221"
            ],
            [
             1,
             "#276419"
            ]
           ],
           "sequential": [
            [
             0,
             "#0d0887"
            ],
            [
             0.1111111111111111,
             "#46039f"
            ],
            [
             0.2222222222222222,
             "#7201a8"
            ],
            [
             0.3333333333333333,
             "#9c179e"
            ],
            [
             0.4444444444444444,
             "#bd3786"
            ],
            [
             0.5555555555555556,
             "#d8576b"
            ],
            [
             0.6666666666666666,
             "#ed7953"
            ],
            [
             0.7777777777777778,
             "#fb9f3a"
            ],
            [
             0.8888888888888888,
             "#fdca26"
            ],
            [
             1,
             "#f0f921"
            ]
           ],
           "sequentialminus": [
            [
             0,
             "#0d0887"
            ],
            [
             0.1111111111111111,
             "#46039f"
            ],
            [
             0.2222222222222222,
             "#7201a8"
            ],
            [
             0.3333333333333333,
             "#9c179e"
            ],
            [
             0.4444444444444444,
             "#bd3786"
            ],
            [
             0.5555555555555556,
             "#d8576b"
            ],
            [
             0.6666666666666666,
             "#ed7953"
            ],
            [
             0.7777777777777778,
             "#fb9f3a"
            ],
            [
             0.8888888888888888,
             "#fdca26"
            ],
            [
             1,
             "#f0f921"
            ]
           ]
          },
          "colorway": [
           "#636efa",
           "#EF553B",
           "#00cc96",
           "#ab63fa",
           "#FFA15A",
           "#19d3f3",
           "#FF6692",
           "#B6E880",
           "#FF97FF",
           "#FECB52"
          ],
          "font": {
           "color": "#2a3f5f"
          },
          "geo": {
           "bgcolor": "white",
           "lakecolor": "white",
           "landcolor": "#E5ECF6",
           "showlakes": true,
           "showland": true,
           "subunitcolor": "white"
          },
          "hoverlabel": {
           "align": "left"
          },
          "hovermode": "closest",
          "mapbox": {
           "style": "light"
          },
          "paper_bgcolor": "white",
          "plot_bgcolor": "#E5ECF6",
          "polar": {
           "angularaxis": {
            "gridcolor": "white",
            "linecolor": "white",
            "ticks": ""
           },
           "bgcolor": "#E5ECF6",
           "radialaxis": {
            "gridcolor": "white",
            "linecolor": "white",
            "ticks": ""
           }
          },
          "scene": {
           "xaxis": {
            "backgroundcolor": "#E5ECF6",
            "gridcolor": "white",
            "gridwidth": 2,
            "linecolor": "white",
            "showbackground": true,
            "ticks": "",
            "zerolinecolor": "white"
           },
           "yaxis": {
            "backgroundcolor": "#E5ECF6",
            "gridcolor": "white",
            "gridwidth": 2,
            "linecolor": "white",
            "showbackground": true,
            "ticks": "",
            "zerolinecolor": "white"
           },
           "zaxis": {
            "backgroundcolor": "#E5ECF6",
            "gridcolor": "white",
            "gridwidth": 2,
            "linecolor": "white",
            "showbackground": true,
            "ticks": "",
            "zerolinecolor": "white"
           }
          },
          "shapedefaults": {
           "line": {
            "color": "#2a3f5f"
           }
          },
          "ternary": {
           "aaxis": {
            "gridcolor": "white",
            "linecolor": "white",
            "ticks": ""
           },
           "baxis": {
            "gridcolor": "white",
            "linecolor": "white",
            "ticks": ""
           },
           "bgcolor": "#E5ECF6",
           "caxis": {
            "gridcolor": "white",
            "linecolor": "white",
            "ticks": ""
           }
          },
          "title": {
           "x": 0.05
          },
          "xaxis": {
           "automargin": true,
           "gridcolor": "white",
           "linecolor": "white",
           "ticks": "",
           "title": {
            "standoff": 15
           },
           "zerolinecolor": "white",
           "zerolinewidth": 2
          },
          "yaxis": {
           "automargin": true,
           "gridcolor": "white",
           "linecolor": "white",
           "ticks": "",
           "title": {
            "standoff": 15
           },
           "zerolinecolor": "white",
           "zerolinewidth": 2
          }
         }
        },
        "title": {
         "text": "Interactive: All Countries (R² = 0.2590)"
        },
        "xaxis": {
         "anchor": "y",
         "domain": [
          0,
          1
         ],
         "title": {
          "text": "Actual GDP per Capita"
         }
        },
        "yaxis": {
         "anchor": "x",
         "domain": [
          0,
          1
         ],
         "title": {
          "text": "Predicted GDP per Capita"
         }
        }
       }
      }
     },
     "metadata": {},
     "output_type": "display_data"
    },
    {
     "data": {
      "application/vnd.plotly.v1+json": {
       "config": {
        "plotlyServerURL": "https://plot.ly"
       },
       "data": [
        {
         "hovertemplate": "Feature=%{x}<br>Abs_Coefficient=%{y}<extra></extra>",
         "legendgroup": "",
         "marker": {
          "color": "#636efa",
          "pattern": {
           "shape": ""
          }
         },
         "name": "",
         "orientation": "v",
         "showlegend": false,
         "textposition": "auto",
         "type": "bar",
         "x": [
          "corruption_index",
          "unemployment_rate",
          "tourism_millions",
          "cost_of_living"
         ],
         "xaxis": "x",
         "y": {
          "bdata": "A2b8he7EakAM9Aj7SnNZQJCp5bcCEVVA2ZAOGWQUUUA=",
          "dtype": "f8"
         },
         "yaxis": "y"
        }
       ],
       "layout": {
        "barmode": "relative",
        "legend": {
         "tracegroupgap": 0
        },
        "template": {
         "data": {
          "bar": [
           {
            "error_x": {
             "color": "#2a3f5f"
            },
            "error_y": {
             "color": "#2a3f5f"
            },
            "marker": {
             "line": {
              "color": "#E5ECF6",
              "width": 0.5
             },
             "pattern": {
              "fillmode": "overlay",
              "size": 10,
              "solidity": 0.2
             }
            },
            "type": "bar"
           }
          ],
          "barpolar": [
           {
            "marker": {
             "line": {
              "color": "#E5ECF6",
              "width": 0.5
             },
             "pattern": {
              "fillmode": "overlay",
              "size": 10,
              "solidity": 0.2
             }
            },
            "type": "barpolar"
           }
          ],
          "carpet": [
           {
            "aaxis": {
             "endlinecolor": "#2a3f5f",
             "gridcolor": "white",
             "linecolor": "white",
             "minorgridcolor": "white",
             "startlinecolor": "#2a3f5f"
            },
            "baxis": {
             "endlinecolor": "#2a3f5f",
             "gridcolor": "white",
             "linecolor": "white",
             "minorgridcolor": "white",
             "startlinecolor": "#2a3f5f"
            },
            "type": "carpet"
           }
          ],
          "choropleth": [
           {
            "colorbar": {
             "outlinewidth": 0,
             "ticks": ""
            },
            "type": "choropleth"
           }
          ],
          "contour": [
           {
            "colorbar": {
             "outlinewidth": 0,
             "ticks": ""
            },
            "colorscale": [
             [
              0,
              "#0d0887"
             ],
             [
              0.1111111111111111,
              "#46039f"
             ],
             [
              0.2222222222222222,
              "#7201a8"
             ],
             [
              0.3333333333333333,
              "#9c179e"
             ],
             [
              0.4444444444444444,
              "#bd3786"
             ],
             [
              0.5555555555555556,
              "#d8576b"
             ],
             [
              0.6666666666666666,
              "#ed7953"
             ],
             [
              0.7777777777777778,
              "#fb9f3a"
             ],
             [
              0.8888888888888888,
              "#fdca26"
             ],
             [
              1,
              "#f0f921"
             ]
            ],
            "type": "contour"
           }
          ],
          "contourcarpet": [
           {
            "colorbar": {
             "outlinewidth": 0,
             "ticks": ""
            },
            "type": "contourcarpet"
           }
          ],
          "heatmap": [
           {
            "colorbar": {
             "outlinewidth": 0,
             "ticks": ""
            },
            "colorscale": [
             [
              0,
              "#0d0887"
             ],
             [
              0.1111111111111111,
              "#46039f"
             ],
             [
              0.2222222222222222,
              "#7201a8"
             ],
             [
              0.3333333333333333,
              "#9c179e"
             ],
             [
              0.4444444444444444,
              "#bd3786"
             ],
             [
              0.5555555555555556,
              "#d8576b"
             ],
             [
              0.6666666666666666,
              "#ed7953"
             ],
             [
              0.7777777777777778,
              "#fb9f3a"
             ],
             [
              0.8888888888888888,
              "#fdca26"
             ],
             [
              1,
              "#f0f921"
             ]
            ],
            "type": "heatmap"
           }
          ],
          "histogram": [
           {
            "marker": {
             "pattern": {
              "fillmode": "overlay",
              "size": 10,
              "solidity": 0.2
             }
            },
            "type": "histogram"
           }
          ],
          "histogram2d": [
           {
            "colorbar": {
             "outlinewidth": 0,
             "ticks": ""
            },
            "colorscale": [
             [
              0,
              "#0d0887"
             ],
             [
              0.1111111111111111,
              "#46039f"
             ],
             [
              0.2222222222222222,
              "#7201a8"
             ],
             [
              0.3333333333333333,
              "#9c179e"
             ],
             [
              0.4444444444444444,
              "#bd3786"
             ],
             [
              0.5555555555555556,
              "#d8576b"
             ],
             [
              0.6666666666666666,
              "#ed7953"
             ],
             [
              0.7777777777777778,
              "#fb9f3a"
             ],
             [
              0.8888888888888888,
              "#fdca26"
             ],
             [
              1,
              "#f0f921"
             ]
            ],
            "type": "histogram2d"
           }
          ],
          "histogram2dcontour": [
           {
            "colorbar": {
             "outlinewidth": 0,
             "ticks": ""
            },
            "colorscale": [
             [
              0,
              "#0d0887"
             ],
             [
              0.1111111111111111,
              "#46039f"
             ],
             [
              0.2222222222222222,
              "#7201a8"
             ],
             [
              0.3333333333333333,
              "#9c179e"
             ],
             [
              0.4444444444444444,
              "#bd3786"
             ],
             [
              0.5555555555555556,
              "#d8576b"
             ],
             [
              0.6666666666666666,
              "#ed7953"
             ],
             [
              0.7777777777777778,
              "#fb9f3a"
             ],
             [
              0.8888888888888888,
              "#fdca26"
             ],
             [
              1,
              "#f0f921"
             ]
            ],
            "type": "histogram2dcontour"
           }
          ],
          "mesh3d": [
           {
            "colorbar": {
             "outlinewidth": 0,
             "ticks": ""
            },
            "type": "mesh3d"
           }
          ],
          "parcoords": [
           {
            "line": {
             "colorbar": {
              "outlinewidth": 0,
              "ticks": ""
             }
            },
            "type": "parcoords"
           }
          ],
          "pie": [
           {
            "automargin": true,
            "type": "pie"
           }
          ],
          "scatter": [
           {
            "fillpattern": {
             "fillmode": "overlay",
             "size": 10,
             "solidity": 0.2
            },
            "type": "scatter"
           }
          ],
          "scatter3d": [
           {
            "line": {
             "colorbar": {
              "outlinewidth": 0,
              "ticks": ""
             }
            },
            "marker": {
             "colorbar": {
              "outlinewidth": 0,
              "ticks": ""
             }
            },
            "type": "scatter3d"
           }
          ],
          "scattercarpet": [
           {
            "marker": {
             "colorbar": {
              "outlinewidth": 0,
              "ticks": ""
             }
            },
            "type": "scattercarpet"
           }
          ],
          "scattergeo": [
           {
            "marker": {
             "colorbar": {
              "outlinewidth": 0,
              "ticks": ""
             }
            },
            "type": "scattergeo"
           }
          ],
          "scattergl": [
           {
            "marker": {
             "colorbar": {
              "outlinewidth": 0,
              "ticks": ""
             }
            },
            "type": "scattergl"
           }
          ],
          "scattermap": [
           {
            "marker": {
             "colorbar": {
              "outlinewidth": 0,
              "ticks": ""
             }
            },
            "type": "scattermap"
           }
          ],
          "scattermapbox": [
           {
            "marker": {
             "colorbar": {
              "outlinewidth": 0,
              "ticks": ""
             }
            },
            "type": "scattermapbox"
           }
          ],
          "scatterpolar": [
           {
            "marker": {
             "colorbar": {
              "outlinewidth": 0,
              "ticks": ""
             }
            },
            "type": "scatterpolar"
           }
          ],
          "scatterpolargl": [
           {
            "marker": {
             "colorbar": {
              "outlinewidth": 0,
              "ticks": ""
             }
            },
            "type": "scatterpolargl"
           }
          ],
          "scatterternary": [
           {
            "marker": {
             "colorbar": {
              "outlinewidth": 0,
              "ticks": ""
             }
            },
            "type": "scatterternary"
           }
          ],
          "surface": [
           {
            "colorbar": {
             "outlinewidth": 0,
             "ticks": ""
            },
            "colorscale": [
             [
              0,
              "#0d0887"
             ],
             [
              0.1111111111111111,
              "#46039f"
             ],
             [
              0.2222222222222222,
              "#7201a8"
             ],
             [
              0.3333333333333333,
              "#9c179e"
             ],
             [
              0.4444444444444444,
              "#bd3786"
             ],
             [
              0.5555555555555556,
              "#d8576b"
             ],
             [
              0.6666666666666666,
              "#ed7953"
             ],
             [
              0.7777777777777778,
              "#fb9f3a"
             ],
             [
              0.8888888888888888,
              "#fdca26"
             ],
             [
              1,
              "#f0f921"
             ]
            ],
            "type": "surface"
           }
          ],
          "table": [
           {
            "cells": {
             "fill": {
              "color": "#EBF0F8"
             },
             "line": {
              "color": "white"
             }
            },
            "header": {
             "fill": {
              "color": "#C8D4E3"
             },
             "line": {
              "color": "white"
             }
            },
            "type": "table"
           }
          ]
         },
         "layout": {
          "annotationdefaults": {
           "arrowcolor": "#2a3f5f",
           "arrowhead": 0,
           "arrowwidth": 1
          },
          "autotypenumbers": "strict",
          "coloraxis": {
           "colorbar": {
            "outlinewidth": 0,
            "ticks": ""
           }
          },
          "colorscale": {
           "diverging": [
            [
             0,
             "#8e0152"
            ],
            [
             0.1,
             "#c51b7d"
            ],
            [
             0.2,
             "#de77ae"
            ],
            [
             0.3,
             "#f1b6da"
            ],
            [
             0.4,
             "#fde0ef"
            ],
            [
             0.5,
             "#f7f7f7"
            ],
            [
             0.6,
             "#e6f5d0"
            ],
            [
             0.7,
             "#b8e186"
            ],
            [
             0.8,
             "#7fbc41"
            ],
            [
             0.9,
             "#4d9221"
            ],
            [
             1,
             "#276419"
            ]
           ],
           "sequential": [
            [
             0,
             "#0d0887"
            ],
            [
             0.1111111111111111,
             "#46039f"
            ],
            [
             0.2222222222222222,
             "#7201a8"
            ],
            [
             0.3333333333333333,
             "#9c179e"
            ],
            [
             0.4444444444444444,
             "#bd3786"
            ],
            [
             0.5555555555555556,
             "#d8576b"
            ],
            [
             0.6666666666666666,
             "#ed7953"
            ],
            [
             0.7777777777777778,
             "#fb9f3a"
            ],
            [
             0.8888888888888888,
             "#fdca26"
            ],
            [
             1,
             "#f0f921"
            ]
           ],
           "sequentialminus": [
            [
             0,
             "#0d0887"
            ],
            [
             0.1111111111111111,
             "#46039f"
            ],
            [
             0.2222222222222222,
             "#7201a8"
            ],
            [
             0.3333333333333333,
             "#9c179e"
            ],
            [
             0.4444444444444444,
             "#bd3786"
            ],
            [
             0.5555555555555556,
             "#d8576b"
            ],
            [
             0.6666666666666666,
             "#ed7953"
            ],
            [
             0.7777777777777778,
             "#fb9f3a"
            ],
            [
             0.8888888888888888,
             "#fdca26"
            ],
            [
             1,
             "#f0f921"
            ]
           ]
          },
          "colorway": [
           "#636efa",
           "#EF553B",
           "#00cc96",
           "#ab63fa",
           "#FFA15A",
           "#19d3f3",
           "#FF6692",
           "#B6E880",
           "#FF97FF",
           "#FECB52"
          ],
          "font": {
           "color": "#2a3f5f"
          },
          "geo": {
           "bgcolor": "white",
           "lakecolor": "white",
           "landcolor": "#E5ECF6",
           "showlakes": true,
           "showland": true,
           "subunitcolor": "white"
          },
          "hoverlabel": {
           "align": "left"
          },
          "hovermode": "closest",
          "mapbox": {
           "style": "light"
          },
          "paper_bgcolor": "white",
          "plot_bgcolor": "#E5ECF6",
          "polar": {
           "angularaxis": {
            "gridcolor": "white",
            "linecolor": "white",
            "ticks": ""
           },
           "bgcolor": "#E5ECF6",
           "radialaxis": {
            "gridcolor": "white",
            "linecolor": "white",
            "ticks": ""
           }
          },
          "scene": {
           "xaxis": {
            "backgroundcolor": "#E5ECF6",
            "gridcolor": "white",
            "gridwidth": 2,
            "linecolor": "white",
            "showbackground": true,
            "ticks": "",
            "zerolinecolor": "white"
           },
           "yaxis": {
            "backgroundcolor": "#E5ECF6",
            "gridcolor": "white",
            "gridwidth": 2,
            "linecolor": "white",
            "showbackground": true,
            "ticks": "",
            "zerolinecolor": "white"
           },
           "zaxis": {
            "backgroundcolor": "#E5ECF6",
            "gridcolor": "white",
            "gridwidth": 2,
            "linecolor": "white",
            "showbackground": true,
            "ticks": "",
            "zerolinecolor": "white"
           }
          },
          "shapedefaults": {
           "line": {
            "color": "#2a3f5f"
           }
          },
          "ternary": {
           "aaxis": {
            "gridcolor": "white",
            "linecolor": "white",
            "ticks": ""
           },
           "baxis": {
            "gridcolor": "white",
            "linecolor": "white",
            "ticks": ""
           },
           "bgcolor": "#E5ECF6",
           "caxis": {
            "gridcolor": "white",
            "linecolor": "white",
            "ticks": ""
           }
          },
          "title": {
           "x": 0.05
          },
          "xaxis": {
           "automargin": true,
           "gridcolor": "white",
           "linecolor": "white",
           "ticks": "",
           "title": {
            "standoff": 15
           },
           "zerolinecolor": "white",
           "zerolinewidth": 2
          },
          "yaxis": {
           "automargin": true,
           "gridcolor": "white",
           "linecolor": "white",
           "ticks": "",
           "title": {
            "standoff": 15
           },
           "zerolinecolor": "white",
           "zerolinewidth": 2
          }
         }
        },
        "title": {
         "text": "Linear Regression - Feature Importance"
        },
        "xaxis": {
         "anchor": "y",
         "domain": [
          0,
          1
         ],
         "title": {
          "text": "Feature"
         }
        },
        "yaxis": {
         "anchor": "x",
         "domain": [
          0,
          1
         ],
         "title": {
          "text": "Abs_Coefficient"
         }
        }
       }
      }
     },
     "metadata": {},
     "output_type": "display_data"
    }
   ],
   "source": [
    "# Cell 9\n",
    "y_pred_all = predict_linear(X, theta)\n",
    "r2_all = calculate_r2(y, y_pred_all)\n",
    "\n",
    "fig_all = px.scatter(x=y, y=y_pred_all, \n",
    "                    title=f'Linear Regression: All Countries (R² = {r2_all:.4f})',\n",
    "                    labels={'x': 'Actual GDP per Capita', 'y': 'Predicted GDP per Capita'})\n",
    "fig_all.add_trace(go.Scatter(x=[y.min(), y.max()], \n",
    "                            y=[y.min(), y.max()], \n",
    "                            mode='lines', name='Perfect Prediction', \n",
    "                            line=dict(dash='dash', color='red')))\n",
    "fig_all.show()\n",
    "\n",
    "fig_combined = go.Figure()\n",
    "\n",
    "fig_combined.add_trace(go.Scatter(\n",
    "    x=y_train, y=y_pred_train,\n",
    "    mode='markers',\n",
    "    name=f'Training Set (n={len(y_train)})',\n",
    "    marker=dict(color='blue', size=6)\n",
    "))\n",
    "\n",
    "fig_combined.add_trace(go.Scatter(\n",
    "    x=y_test, y=y_pred_test,\n",
    "    mode='markers',\n",
    "    name=f'Test Set (n={len(y_test)})',\n",
    "    marker=dict(color='red', size=8)\n",
    "))\n",
    "\n",
    "fig_combined.add_trace(go.Scatter(\n",
    "    x=[y.min(), y.max()], \n",
    "    y=[y.min(), y.max()],\n",
    "    mode='lines',\n",
    "    name='Perfect Prediction',\n",
    "    line=dict(dash='dash', color='black')\n",
    "))\n",
    "\n",
    "fig_combined.update_layout(\n",
    "    title=f'Linear Regression: Training vs Test Performance (Test R² = {r2_test:.4f})',\n",
    "    xaxis_title='Actual GDP per Capita',\n",
    "    yaxis_title='Predicted GDP per Capita'\n",
    ")\n",
    "fig_combined.show()\n",
    "\n",
    "results_df = df_analysis.copy()\n",
    "results_df['Predicted_GDP'] = y_pred_all\n",
    "results_df['Prediction_Error'] = np.abs(y - y_pred_all)\n",
    "\n",
    "fig_interactive = px.scatter(results_df, \n",
    "                           x='gdp_per_capita', \n",
    "                           y='Predicted_GDP',\n",
    "                           hover_data=['country', 'cost_of_living', 'corruption_index'],\n",
    "                           title=f'Interactive: All Countries (R² = {r2_all:.4f})',\n",
    "                           labels={'gdp_per_capita': 'Actual GDP per Capita', \n",
    "                                  'Predicted_GDP': 'Predicted GDP per Capita'})\n",
    "fig_interactive.add_trace(go.Scatter(x=[y.min(), y.max()], \n",
    "                                   y=[y.min(), y.max()], \n",
    "                                   mode='lines', name='Perfect Prediction', \n",
    "                                   line=dict(dash='dash', color='red')))\n",
    "fig_interactive.show()\n",
    "\n",
    "fig_features = px.bar(feature_importance, x='Feature', y='Abs_Coefficient',\n",
    "                     title='Linear Regression - Feature Importance')\n",
    "fig_features.show()\n"
   ]
  },
  {
   "cell_type": "code",
   "execution_count": 10,
   "id": "f50d7b72",
   "metadata": {},
   "outputs": [
    {
     "name": "stdout",
     "output_type": "stream",
     "text": [
      "\n",
      "==================================================\n",
      "CLUSTERING ANALYSIS\n",
      "==================================================\n"
     ]
    }
   ],
   "source": [
    "# Cell 10\n",
    "print(\"\\n\" + \"=\"*50)\n",
    "print(\"CLUSTERING ANALYSIS\")\n",
    "print(\"=\"*50)\n",
    "\n",
    "def standardize_data(X):\n",
    "    return (X - np.mean(X, axis=0)) / np.std(X, axis=0)\n",
    "\n",
    "def kmeans_simple(X, k, max_iters=100):\n",
    "    n_samples, n_features = X.shape\n",
    "    \n",
    "    np.random.seed(42)\n",
    "    centroids = X[np.random.choice(n_samples, k, replace=False)]\n",
    "    \n",
    "    for _ in range(max_iters):\n",
    "        distances = cdist(X, centroids)\n",
    "        labels = np.argmin(distances, axis=1)\n",
    "        \n",
    "        new_centroids = np.array([X[labels == i].mean(axis=0) for i in range(k)])\n",
    "        \n",
    "        if np.allclose(centroids, new_centroids):\n",
    "            break\n",
    "        centroids = new_centroids\n",
    "    \n",
    "    return labels, centroids\n",
    "\n",
    "def calculate_inertia(X, labels, centroids):\n",
    "    inertia = 0\n",
    "    for i in range(len(centroids)):\n",
    "        cluster_points = X[labels == i]\n",
    "        if len(cluster_points) > 0:\n",
    "            inertia += np.sum((cluster_points - centroids[i]) ** 2)\n",
    "    return inertia"
   ]
  },
  {
   "cell_type": "code",
   "execution_count": 11,
   "id": "0c0d90cd",
   "metadata": {},
   "outputs": [
    {
     "data": {
      "application/vnd.plotly.v1+json": {
       "config": {
        "plotlyServerURL": "https://plot.ly"
       },
       "data": [
        {
         "hovertemplate": "Number of Clusters (k)=%{x}<br>Inertia=%{y}<extra></extra>",
         "legendgroup": "",
         "line": {
          "color": "#636efa",
          "dash": "solid"
         },
         "marker": {
          "symbol": "circle"
         },
         "mode": "lines",
         "name": "",
         "orientation": "v",
         "showlegend": false,
         "type": "scatter",
         "x": {
          "bdata": "AQIDBAUGBwgJCg==",
          "dtype": "i1"
         },
         "xaxis": "x",
         "y": {
          "bdata": "AAAAAAAYikDkRfDJ4ySGQOYScqoCBXtAsTlebqEockBZBzOUXlNxQIQH0l/FVW5AsohVgKNgbUBWxEYI7SltQJiekVWGv2lAzw7EvrkKY0A=",
          "dtype": "f8"
         },
         "yaxis": "y"
        },
        {
         "marker": {
          "size": 8
         },
         "mode": "markers",
         "type": "scatter",
         "x": [
          1,
          2,
          3,
          4,
          5,
          6,
          7,
          8,
          9,
          10
         ],
         "y": [
          835,
          708.6112250109986,
          432.3131508308419,
          290.5394118958166,
          277.21059055264556,
          242.6803435423027,
          235.01995865541318,
          233.31018461057346,
          205.98514822427092,
          152.33517397205875
         ]
        }
       ],
       "layout": {
        "legend": {
         "tracegroupgap": 0
        },
        "template": {
         "data": {
          "bar": [
           {
            "error_x": {
             "color": "#2a3f5f"
            },
            "error_y": {
             "color": "#2a3f5f"
            },
            "marker": {
             "line": {
              "color": "#E5ECF6",
              "width": 0.5
             },
             "pattern": {
              "fillmode": "overlay",
              "size": 10,
              "solidity": 0.2
             }
            },
            "type": "bar"
           }
          ],
          "barpolar": [
           {
            "marker": {
             "line": {
              "color": "#E5ECF6",
              "width": 0.5
             },
             "pattern": {
              "fillmode": "overlay",
              "size": 10,
              "solidity": 0.2
             }
            },
            "type": "barpolar"
           }
          ],
          "carpet": [
           {
            "aaxis": {
             "endlinecolor": "#2a3f5f",
             "gridcolor": "white",
             "linecolor": "white",
             "minorgridcolor": "white",
             "startlinecolor": "#2a3f5f"
            },
            "baxis": {
             "endlinecolor": "#2a3f5f",
             "gridcolor": "white",
             "linecolor": "white",
             "minorgridcolor": "white",
             "startlinecolor": "#2a3f5f"
            },
            "type": "carpet"
           }
          ],
          "choropleth": [
           {
            "colorbar": {
             "outlinewidth": 0,
             "ticks": ""
            },
            "type": "choropleth"
           }
          ],
          "contour": [
           {
            "colorbar": {
             "outlinewidth": 0,
             "ticks": ""
            },
            "colorscale": [
             [
              0,
              "#0d0887"
             ],
             [
              0.1111111111111111,
              "#46039f"
             ],
             [
              0.2222222222222222,
              "#7201a8"
             ],
             [
              0.3333333333333333,
              "#9c179e"
             ],
             [
              0.4444444444444444,
              "#bd3786"
             ],
             [
              0.5555555555555556,
              "#d8576b"
             ],
             [
              0.6666666666666666,
              "#ed7953"
             ],
             [
              0.7777777777777778,
              "#fb9f3a"
             ],
             [
              0.8888888888888888,
              "#fdca26"
             ],
             [
              1,
              "#f0f921"
             ]
            ],
            "type": "contour"
           }
          ],
          "contourcarpet": [
           {
            "colorbar": {
             "outlinewidth": 0,
             "ticks": ""
            },
            "type": "contourcarpet"
           }
          ],
          "heatmap": [
           {
            "colorbar": {
             "outlinewidth": 0,
             "ticks": ""
            },
            "colorscale": [
             [
              0,
              "#0d0887"
             ],
             [
              0.1111111111111111,
              "#46039f"
             ],
             [
              0.2222222222222222,
              "#7201a8"
             ],
             [
              0.3333333333333333,
              "#9c179e"
             ],
             [
              0.4444444444444444,
              "#bd3786"
             ],
             [
              0.5555555555555556,
              "#d8576b"
             ],
             [
              0.6666666666666666,
              "#ed7953"
             ],
             [
              0.7777777777777778,
              "#fb9f3a"
             ],
             [
              0.8888888888888888,
              "#fdca26"
             ],
             [
              1,
              "#f0f921"
             ]
            ],
            "type": "heatmap"
           }
          ],
          "histogram": [
           {
            "marker": {
             "pattern": {
              "fillmode": "overlay",
              "size": 10,
              "solidity": 0.2
             }
            },
            "type": "histogram"
           }
          ],
          "histogram2d": [
           {
            "colorbar": {
             "outlinewidth": 0,
             "ticks": ""
            },
            "colorscale": [
             [
              0,
              "#0d0887"
             ],
             [
              0.1111111111111111,
              "#46039f"
             ],
             [
              0.2222222222222222,
              "#7201a8"
             ],
             [
              0.3333333333333333,
              "#9c179e"
             ],
             [
              0.4444444444444444,
              "#bd3786"
             ],
             [
              0.5555555555555556,
              "#d8576b"
             ],
             [
              0.6666666666666666,
              "#ed7953"
             ],
             [
              0.7777777777777778,
              "#fb9f3a"
             ],
             [
              0.8888888888888888,
              "#fdca26"
             ],
             [
              1,
              "#f0f921"
             ]
            ],
            "type": "histogram2d"
           }
          ],
          "histogram2dcontour": [
           {
            "colorbar": {
             "outlinewidth": 0,
             "ticks": ""
            },
            "colorscale": [
             [
              0,
              "#0d0887"
             ],
             [
              0.1111111111111111,
              "#46039f"
             ],
             [
              0.2222222222222222,
              "#7201a8"
             ],
             [
              0.3333333333333333,
              "#9c179e"
             ],
             [
              0.4444444444444444,
              "#bd3786"
             ],
             [
              0.5555555555555556,
              "#d8576b"
             ],
             [
              0.6666666666666666,
              "#ed7953"
             ],
             [
              0.7777777777777778,
              "#fb9f3a"
             ],
             [
              0.8888888888888888,
              "#fdca26"
             ],
             [
              1,
              "#f0f921"
             ]
            ],
            "type": "histogram2dcontour"
           }
          ],
          "mesh3d": [
           {
            "colorbar": {
             "outlinewidth": 0,
             "ticks": ""
            },
            "type": "mesh3d"
           }
          ],
          "parcoords": [
           {
            "line": {
             "colorbar": {
              "outlinewidth": 0,
              "ticks": ""
             }
            },
            "type": "parcoords"
           }
          ],
          "pie": [
           {
            "automargin": true,
            "type": "pie"
           }
          ],
          "scatter": [
           {
            "fillpattern": {
             "fillmode": "overlay",
             "size": 10,
             "solidity": 0.2
            },
            "type": "scatter"
           }
          ],
          "scatter3d": [
           {
            "line": {
             "colorbar": {
              "outlinewidth": 0,
              "ticks": ""
             }
            },
            "marker": {
             "colorbar": {
              "outlinewidth": 0,
              "ticks": ""
             }
            },
            "type": "scatter3d"
           }
          ],
          "scattercarpet": [
           {
            "marker": {
             "colorbar": {
              "outlinewidth": 0,
              "ticks": ""
             }
            },
            "type": "scattercarpet"
           }
          ],
          "scattergeo": [
           {
            "marker": {
             "colorbar": {
              "outlinewidth": 0,
              "ticks": ""
             }
            },
            "type": "scattergeo"
           }
          ],
          "scattergl": [
           {
            "marker": {
             "colorbar": {
              "outlinewidth": 0,
              "ticks": ""
             }
            },
            "type": "scattergl"
           }
          ],
          "scattermap": [
           {
            "marker": {
             "colorbar": {
              "outlinewidth": 0,
              "ticks": ""
             }
            },
            "type": "scattermap"
           }
          ],
          "scattermapbox": [
           {
            "marker": {
             "colorbar": {
              "outlinewidth": 0,
              "ticks": ""
             }
            },
            "type": "scattermapbox"
           }
          ],
          "scatterpolar": [
           {
            "marker": {
             "colorbar": {
              "outlinewidth": 0,
              "ticks": ""
             }
            },
            "type": "scatterpolar"
           }
          ],
          "scatterpolargl": [
           {
            "marker": {
             "colorbar": {
              "outlinewidth": 0,
              "ticks": ""
             }
            },
            "type": "scatterpolargl"
           }
          ],
          "scatterternary": [
           {
            "marker": {
             "colorbar": {
              "outlinewidth": 0,
              "ticks": ""
             }
            },
            "type": "scatterternary"
           }
          ],
          "surface": [
           {
            "colorbar": {
             "outlinewidth": 0,
             "ticks": ""
            },
            "colorscale": [
             [
              0,
              "#0d0887"
             ],
             [
              0.1111111111111111,
              "#46039f"
             ],
             [
              0.2222222222222222,
              "#7201a8"
             ],
             [
              0.3333333333333333,
              "#9c179e"
             ],
             [
              0.4444444444444444,
              "#bd3786"
             ],
             [
              0.5555555555555556,
              "#d8576b"
             ],
             [
              0.6666666666666666,
              "#ed7953"
             ],
             [
              0.7777777777777778,
              "#fb9f3a"
             ],
             [
              0.8888888888888888,
              "#fdca26"
             ],
             [
              1,
              "#f0f921"
             ]
            ],
            "type": "surface"
           }
          ],
          "table": [
           {
            "cells": {
             "fill": {
              "color": "#EBF0F8"
             },
             "line": {
              "color": "white"
             }
            },
            "header": {
             "fill": {
              "color": "#C8D4E3"
             },
             "line": {
              "color": "white"
             }
            },
            "type": "table"
           }
          ]
         },
         "layout": {
          "annotationdefaults": {
           "arrowcolor": "#2a3f5f",
           "arrowhead": 0,
           "arrowwidth": 1
          },
          "autotypenumbers": "strict",
          "coloraxis": {
           "colorbar": {
            "outlinewidth": 0,
            "ticks": ""
           }
          },
          "colorscale": {
           "diverging": [
            [
             0,
             "#8e0152"
            ],
            [
             0.1,
             "#c51b7d"
            ],
            [
             0.2,
             "#de77ae"
            ],
            [
             0.3,
             "#f1b6da"
            ],
            [
             0.4,
             "#fde0ef"
            ],
            [
             0.5,
             "#f7f7f7"
            ],
            [
             0.6,
             "#e6f5d0"
            ],
            [
             0.7,
             "#b8e186"
            ],
            [
             0.8,
             "#7fbc41"
            ],
            [
             0.9,
             "#4d9221"
            ],
            [
             1,
             "#276419"
            ]
           ],
           "sequential": [
            [
             0,
             "#0d0887"
            ],
            [
             0.1111111111111111,
             "#46039f"
            ],
            [
             0.2222222222222222,
             "#7201a8"
            ],
            [
             0.3333333333333333,
             "#9c179e"
            ],
            [
             0.4444444444444444,
             "#bd3786"
            ],
            [
             0.5555555555555556,
             "#d8576b"
            ],
            [
             0.6666666666666666,
             "#ed7953"
            ],
            [
             0.7777777777777778,
             "#fb9f3a"
            ],
            [
             0.8888888888888888,
             "#fdca26"
            ],
            [
             1,
             "#f0f921"
            ]
           ],
           "sequentialminus": [
            [
             0,
             "#0d0887"
            ],
            [
             0.1111111111111111,
             "#46039f"
            ],
            [
             0.2222222222222222,
             "#7201a8"
            ],
            [
             0.3333333333333333,
             "#9c179e"
            ],
            [
             0.4444444444444444,
             "#bd3786"
            ],
            [
             0.5555555555555556,
             "#d8576b"
            ],
            [
             0.6666666666666666,
             "#ed7953"
            ],
            [
             0.7777777777777778,
             "#fb9f3a"
            ],
            [
             0.8888888888888888,
             "#fdca26"
            ],
            [
             1,
             "#f0f921"
            ]
           ]
          },
          "colorway": [
           "#636efa",
           "#EF553B",
           "#00cc96",
           "#ab63fa",
           "#FFA15A",
           "#19d3f3",
           "#FF6692",
           "#B6E880",
           "#FF97FF",
           "#FECB52"
          ],
          "font": {
           "color": "#2a3f5f"
          },
          "geo": {
           "bgcolor": "white",
           "lakecolor": "white",
           "landcolor": "#E5ECF6",
           "showlakes": true,
           "showland": true,
           "subunitcolor": "white"
          },
          "hoverlabel": {
           "align": "left"
          },
          "hovermode": "closest",
          "mapbox": {
           "style": "light"
          },
          "paper_bgcolor": "white",
          "plot_bgcolor": "#E5ECF6",
          "polar": {
           "angularaxis": {
            "gridcolor": "white",
            "linecolor": "white",
            "ticks": ""
           },
           "bgcolor": "#E5ECF6",
           "radialaxis": {
            "gridcolor": "white",
            "linecolor": "white",
            "ticks": ""
           }
          },
          "scene": {
           "xaxis": {
            "backgroundcolor": "#E5ECF6",
            "gridcolor": "white",
            "gridwidth": 2,
            "linecolor": "white",
            "showbackground": true,
            "ticks": "",
            "zerolinecolor": "white"
           },
           "yaxis": {
            "backgroundcolor": "#E5ECF6",
            "gridcolor": "white",
            "gridwidth": 2,
            "linecolor": "white",
            "showbackground": true,
            "ticks": "",
            "zerolinecolor": "white"
           },
           "zaxis": {
            "backgroundcolor": "#E5ECF6",
            "gridcolor": "white",
            "gridwidth": 2,
            "linecolor": "white",
            "showbackground": true,
            "ticks": "",
            "zerolinecolor": "white"
           }
          },
          "shapedefaults": {
           "line": {
            "color": "#2a3f5f"
           }
          },
          "ternary": {
           "aaxis": {
            "gridcolor": "white",
            "linecolor": "white",
            "ticks": ""
           },
           "baxis": {
            "gridcolor": "white",
            "linecolor": "white",
            "ticks": ""
           },
           "bgcolor": "#E5ECF6",
           "caxis": {
            "gridcolor": "white",
            "linecolor": "white",
            "ticks": ""
           }
          },
          "title": {
           "x": 0.05
          },
          "xaxis": {
           "automargin": true,
           "gridcolor": "white",
           "linecolor": "white",
           "ticks": "",
           "title": {
            "standoff": 15
           },
           "zerolinecolor": "white",
           "zerolinewidth": 2
          },
          "yaxis": {
           "automargin": true,
           "gridcolor": "white",
           "linecolor": "white",
           "ticks": "",
           "title": {
            "standoff": 15
           },
           "zerolinecolor": "white",
           "zerolinewidth": 2
          }
         }
        },
        "title": {
         "text": "Elbow Method for Optimal Number of Clusters"
        },
        "xaxis": {
         "anchor": "y",
         "domain": [
          0,
          1
         ],
         "title": {
          "text": "Number of Clusters (k)"
         }
        },
        "yaxis": {
         "anchor": "x",
         "domain": [
          0,
          1
         ],
         "title": {
          "text": "Inertia"
         }
        }
       }
      }
     },
     "metadata": {},
     "output_type": "display_data"
    }
   ],
   "source": [
    "# Cell 11\n",
    "X_cluster = df_analysis[numerical_cols].values\n",
    "X_scaled = standardize_data(X_cluster)\n",
    "\n",
    "inertias = []\n",
    "K_range = range(1, 11)\n",
    "\n",
    "for k in K_range:\n",
    "    if k == 1:\n",
    "        inertias.append(np.sum((X_scaled - np.mean(X_scaled, axis=0)) ** 2))\n",
    "    else:\n",
    "        labels, centroids = kmeans_simple(X_scaled, k)\n",
    "        inertia = calculate_inertia(X_scaled, labels, centroids)\n",
    "        inertias.append(inertia)\n",
    "\n",
    "fig_elbow = px.line(x=list(K_range), y=inertias, \n",
    "                    title='Elbow Method for Optimal Number of Clusters',\n",
    "                    labels={'x': 'Number of Clusters (k)', 'y': 'Inertia'})\n",
    "fig_elbow.add_scatter(x=list(K_range), y=inertias, mode='markers', marker=dict(size=8))\n",
    "fig_elbow.show()"
   ]
  },
  {
   "cell_type": "code",
   "execution_count": 12,
   "id": "ef5fccad",
   "metadata": {},
   "outputs": [
    {
     "name": "stdout",
     "output_type": "stream",
     "text": [
      "K-means clustering completed with 4 clusters\n",
      "Cluster distribution:\n",
      "0      4\n",
      "1     30\n",
      "2    126\n",
      "3      7\n",
      "Name: count, dtype: int64\n",
      "\n",
      "CLUSTER CHARACTERISTICS\n",
      "==============================\n",
      "         unemployment_rate  tourism_millions  gdp_per_capita  cost_of_living  \\\n",
      "Cluster                                                                        \n",
      "0                 6.950000         62.900000    53317.250000       84.275000   \n",
      "1                 5.246667          4.326667    63056.733333      107.933333   \n",
      "2                 4.887302          4.494444    46065.063492       45.394444   \n",
      "3                30.671429          4.071429    47316.000000       47.514286   \n",
      "\n",
      "         corruption_index  \n",
      "Cluster                    \n",
      "0               43.750000  \n",
      "1               31.400000  \n",
      "2               70.301587  \n",
      "3               67.142857  \n"
     ]
    }
   ],
   "source": [
    "# Cell 12\n",
    "optimal_k = 4\n",
    "cluster_labels, centroids = kmeans_simple(X_scaled, optimal_k)\n",
    "\n",
    "df_clustered = df_analysis.copy()\n",
    "df_clustered['Cluster'] = cluster_labels\n",
    "\n",
    "print(f\"K-means clustering completed with {optimal_k} clusters\")\n",
    "print(f\"Cluster distribution:\")\n",
    "print(pd.Series(cluster_labels).value_counts().sort_index())\n",
    "\n",
    "print(\"\\nCLUSTER CHARACTERISTICS\")\n",
    "print(\"=\"*30)\n",
    "\n",
    "cluster_summary = df_clustered.groupby('Cluster')[numerical_cols].mean()\n",
    "print(cluster_summary)"
   ]
  },
  {
   "cell_type": "code",
   "execution_count": 13,
   "id": "3a737b85",
   "metadata": {},
   "outputs": [
    {
     "data": {
      "application/vnd.plotly.v1+json": {
       "config": {
        "plotlyServerURL": "https://plot.ly"
       },
       "data": [
        {
         "customdata": [
          [
           "Afghanistan",
           48.9,
           5
          ],
          [
           "Albania",
           52,
           5
          ],
          [
           "Algeria",
           29.9,
           5
          ],
          [
           "American Samoa",
           48.9,
           29.8
          ],
          [
           "Angola",
           23,
           5
          ],
          [
           "Argentina",
           48.9,
           5
          ],
          [
           "Armenia",
           33.8,
           5
          ],
          [
           "Australia",
           118,
           5.1
          ],
          [
           "Austria",
           95.9,
           5
          ],
          [
           "Azerbaijan",
           29.8,
           5
          ],
          [
           "Bahamas",
           48.9,
           5
          ],
          [
           "Bahrain",
           49,
           1.9
          ],
          [
           "Bangladesh",
           39,
           5.2
          ],
          [
           "Barbados",
           121.5,
           5
          ],
          [
           "Belarus",
           48.9,
           5
          ],
          [
           "Belgium",
           97,
           5
          ],
          [
           "Benin",
           37.5,
           1.6
          ],
          [
           "Bermuda",
           157.6,
           7
          ],
          [
           "Bhutan",
           30,
           5
          ],
          [
           "Bolivia",
           36.2,
           5
          ],
          [
           "Brazil",
           46.9,
           14.4
          ],
          [
           "Brunei",
           48.9,
           5
          ],
          [
           "Bulgaria",
           47.5,
           5
          ],
          [
           "Burma",
           27,
           5
          ],
          [
           "Burundi",
           48.9,
           1.8
          ],
          [
           "Cambodia",
           36.6,
           0.6
          ],
          [
           "Cameroon",
           41.9,
           5
          ],
          [
           "Canada",
           105.6,
           7.5
          ],
          [
           "Cape Verde",
           48.9,
           5
          ],
          [
           "Cayman Islands",
           137.9,
           5
          ],
          [
           "Central Africa",
           48.9,
           5
          ],
          [
           "Chad",
           48.9,
           1.9
          ],
          [
           "Chile",
           62.9,
           5
          ],
          [
           "China",
           63.2,
           4.8
          ],
          [
           "Cocos (Keeling) Islands",
           48.9,
           0.1
          ],
          [
           "Colombia",
           41.9,
           5
          ],
          [
           "Comoros",
           48.9,
           5
          ],
          [
           "Congo",
           48.9,
           5
          ],
          [
           "Congo (Dem. Republic)",
           48.9,
           5
          ],
          [
           "Costa Rica",
           57.7,
           5
          ],
          [
           "Croatia",
           60.8,
           5
          ],
          [
           "Cyprus",
           48.9,
           5
          ],
          [
           "Czechia",
           68.1,
           5
          ],
          [
           "Denmark",
           119.9,
           4.8
          ],
          [
           "Djibouti",
           48.9,
           28.4
          ],
          [
           "Dominican Republic",
           48.9,
           5
          ],
          [
           "Ecuador",
           51.9,
           6.4
          ],
          [
           "Egypt",
           27.2,
           9.3
          ],
          [
           "El Salvador",
           48.9,
           5
          ],
          [
           "Equatorial Guinea",
           55.9,
           5
          ],
          [
           "Eritrea",
           48.9,
           5
          ],
          [
           "Estonia",
           74,
           5
          ],
          [
           "Eswatini",
           48.9,
           25.8
          ],
          [
           "Ethiopia",
           48.9,
           5
          ],
          [
           "Finland",
           108,
           5
          ],
          [
           "France",
           96.2,
           8.1
          ],
          [
           "Gabon",
           48.9,
           5
          ],
          [
           "Georgia",
           32.2,
           5
          ],
          [
           "Germany",
           92.3,
           3.5
          ],
          [
           "Ghana",
           37.3,
           5
          ],
          [
           "Gibraltar",
           48.9,
           1
          ],
          [
           "Greece",
           74.7,
           14.8
          ],
          [
           "Guatemala",
           48.9,
           5
          ],
          [
           "Guernsey",
           48.9,
           1.2
          ],
          [
           "Guinea",
           48.9,
           5
          ],
          [
           "Haiti",
           60.1,
           5
          ],
          [
           "Honduras",
           48.9,
           5
          ],
          [
           "Hong Kong",
           77.9,
           5.3
          ],
          [
           "Hungary",
           57.3,
           5
          ],
          [
           "Iceland",
           128,
           5
          ],
          [
           "India",
           28.8,
           6
          ],
          [
           "Indonesia",
           35.4,
           4.4
          ],
          [
           "Iran",
           67.6,
           5
          ],
          [
           "Iraq",
           36.8,
           5
          ],
          [
           "Ireland",
           119.8,
           6.6
          ],
          [
           "Isle of Man",
           48.9,
           1.1
          ],
          [
           "Israel",
           130.2,
           5
          ],
          [
           "Italy",
           86.2,
           9.8
          ],
          [
           "Ivory Coast",
           42.7,
           5
          ],
          [
           "Japan",
           101.9,
           2.8
          ],
          [
           "Kazakhstan",
           33.1,
           5
          ],
          [
           "Kenya",
           42.3,
           5
          ],
          [
           "Kiribati",
           48.9,
           30.6
          ],
          [
           "Kosovo",
           41,
           30.5
          ],
          [
           "Kyrgyzstan",
           25.3,
           5
          ],
          [
           "Laos",
           33.5,
           1.3
          ],
          [
           "Latvia",
           48.9,
           5
          ],
          [
           "Lebanon",
           48.9,
           5
          ],
          [
           "Lesotho",
           39.3,
           5
          ],
          [
           "Liberia",
           48.9,
           5
          ],
          [
           "Libya",
           48.9,
           5
          ],
          [
           "Lithuania",
           48.9,
           5
          ],
          [
           "Luxembourg",
           113.1,
           5.2
          ],
          [
           "Macao",
           75,
           3
          ],
          [
           "Madagascar",
           48.9,
           5
          ],
          [
           "Malaysia",
           38.8,
           4.6
          ],
          [
           "Mali",
           48.9,
           5
          ],
          [
           "Malta",
           75.7,
           5
          ],
          [
           "Marshall Islands",
           48.9,
           36
          ],
          [
           "Mauritania",
           48.9,
           5
          ],
          [
           "Mauritius",
           43.3,
           5
          ],
          [
           "Mexico",
           54.7,
           4.4
          ],
          [
           "Moldova",
           38.5,
           5
          ],
          [
           "Mongolia",
           35.3,
           5
          ],
          [
           "Montenegro",
           51.2,
           5
          ],
          [
           "Morocco",
           45,
           5
          ],
          [
           "Mozambique",
           48.9,
           5
          ],
          [
           "Nepal",
           28.1,
           5
          ],
          [
           "Netherlands",
           99,
           4
          ],
          [
           "New Caledonia",
           125.8,
           5
          ],
          [
           "New Zealand",
           117.2,
           5
          ],
          [
           "Nicaragua",
           35.8,
           5
          ],
          [
           "Niger",
           48.9,
           0.8
          ],
          [
           "Nigeria",
           41.8,
           9.8
          ],
          [
           "Norway",
           124.6,
           5
          ],
          [
           "Oman",
           48.9,
           5
          ],
          [
           "Pakistan",
           25.8,
           4.4
          ],
          [
           "Panama",
           48.9,
           5
          ],
          [
           "Papua New Guinea",
           48.9,
           5
          ],
          [
           "Paraguay",
           38.6,
           5
          ],
          [
           "Philippines",
           40.9,
           2.4
          ],
          [
           "Poland",
           51.1,
           3.4
          ],
          [
           "Portugal",
           76.4,
           5
          ],
          [
           "Principality of Monaco",
           48.9,
           2
          ],
          [
           "Puerto Rico",
           48.9,
           5
          ],
          [
           "Qatar",
           71.4,
           0.3
          ],
          [
           "Romania",
           47.4,
           5.2
          ],
          [
           "Russia",
           36.9,
           5
          ],
          [
           "Saudi Arabia",
           44.5,
           7.4
          ],
          [
           "Serbia",
           51.2,
           5
          ],
          [
           "Sierra Leone",
           48.9,
           5
          ],
          [
           "Singapore",
           75,
           3.6
          ],
          [
           "Slovakia",
           48.9,
           5
          ],
          [
           "Slovenia",
           48.9,
           5
          ],
          [
           "Somalia",
           48.9,
           5
          ],
          [
           "South Africa",
           47.1,
           33.6
          ],
          [
           "South Korea",
           87,
           3.5
          ],
          [
           "South Sudan",
           48.9,
           5
          ],
          [
           "Spain",
           82.9,
           14.7
          ],
          [
           "Sri Lanka",
           30.4,
           5.4
          ],
          [
           "Sudan",
           48.9,
           5
          ],
          [
           "Suriname",
           35,
           5
          ],
          [
           "Sweden",
           109.3,
           8.7
          ],
          [
           "Switzerland",
           142.4,
           5.3
          ],
          [
           "Syria",
           48.9,
           5
          ],
          [
           "Taiwan",
           48.9,
           3.7
          ],
          [
           "Tajikistan",
           22.8,
           5
          ],
          [
           "Tanzania",
           34.1,
           5
          ],
          [
           "Thailand",
           38.4,
           1.4
          ],
          [
           "Timor-Leste",
           41.9,
           5
          ],
          [
           "Togo",
           48.9,
           5
          ],
          [
           "Tunisia",
           30.9,
           5
          ],
          [
           "Turkey",
           34.4,
           13.4
          ],
          [
           "Turkmenistan",
           48.9,
           5
          ],
          [
           "Turks and Caicos Islands",
           124.6,
           5
          ],
          [
           "Uganda",
           48.9,
           5
          ],
          [
           "Ukraine",
           29.9,
           8.9
          ],
          [
           "United Arab Emirates",
           72.3,
           5
          ],
          [
           "United Kingdom",
           107.9,
           4.5
          ],
          [
           "United States",
           100,
           5.5
          ],
          [
           "Uzbekistan",
           48.9,
           5
          ],
          [
           "Venezuela",
           48.9,
           5
          ],
          [
           "Vietnam",
           34.4,
           2.2
          ],
          [
           "Virgin Islands",
           48.9,
           5
          ],
          [
           "Yemen",
           48.9,
           5
          ],
          [
           "Zambia",
           31.7,
           5
          ],
          [
           "Zimbabwe",
           48.9,
           5
          ]
         ],
         "hovertemplate": "GDP per Capita=%{x}<br>Corruption Index=%{y}<br>country=%{customdata[0]}<br>cost_of_living=%{customdata[1]}<br>unemployment_rate=%{customdata[2]}<br>Cluster=%{marker.color}<extra></extra>",
         "legendgroup": "",
         "marker": {
          "color": {
           "bdata": "AgICAwICAgEBAgICAgECAQIBAgICAgICAgICAQIBAgICAgICAgICAgICAgEDAgICAgICAQMCAQACAgECAgICAgICAgECAQICAgIBAgEAAgECAgMDAgICAgICAgIBAgICAgIDAgIAAgICAgICAQEBAgICAQICAgICAgICAgIBAgICAgIBAgICAwECAQICAgEBAgICAgICAgICAgECAgEBAAICAgICAgI=",
           "dtype": "i1"
          },
          "coloraxis": "coloraxis",
          "symbol": "circle"
         },
         "mode": "markers",
         "name": "",
         "orientation": "v",
         "showlegend": false,
         "type": "scatter",
         "x": {
          "bdata": "AAAAAIAa50AAAAAAgBrnQAAAAACAGudAAAAAAIAa50AAAAAAgBrnQAAAAACAGudAAAAAAIAa50AAAAAA4D/rQAAAAABgh+xAAAAAAIAa50AAAAAAgKfgQAAAAABgLOZAAAAAAIAa50AAAAAAgBrnQAAAAACAGudAAAAAAGDG7EAAAAAAgBrnQAAAAACAzPRAAAAAAIAa50AAAAAAgBrnQAAAAACAGudAAAAAAMBD8EAAAAAAgBrnQAAAAACAGudAAAAAAIAa50AAAAAAgBrnQAAAAACAGudAAAAAAKBu6UAAAAAAgBrnQAAAAACAGudAAAAAAIAa50AAAAAAgBrnQAAAAACAGudAAAAAAIAa50AAAAAAgBrnQAAAAACAGudAAAAAAIAa50AAAAAAgBrnQAAAAACAGudAAAAAAIAa50AAAAAAIIHgQAAAAABAxd5AAAAAAKCc5UAAAAAAYJHvQAAAAACAGudAAAAAAIAa50AAAAAAgBrnQAAAAACAGudAAAAAAIAa50AAAAAAgBrnQAAAAACAGudAAAAAAACa5EAAAAAAgBrnQAAAAACAGudAAAAAAODb6kAAAAAAIMXoQAAAAACAGudAAAAAAIAa50AAAAAAAEnsQAAAAACAGudAAAAAAIAa50AAAAAAwI/eQAAAAACAGudAAAAAAIAa50AAAAAAgBrnQAAAAACAGudAAAAAAIAa50AAAAAAUBvwQAAAAAAg8uFAAAAAAMAl7EAAAAAAgBrnQAAAAACAGudAAAAAAIAa50AAAAAAgBrnQAAAAACA/flAAAAAAIAa50AAAAAAQFnlQAAAAAAAbuZAAAAAAIAa50AAAAAAgPfkQAAAAACAGudAAAAAAIAa50AAAAAAgBrnQAAAAACAGudAAAAAAIAa50AAAAAAgBrnQAAAAACg1OBAAAAAAIAa50AAAAAAgBrnQAAAAACAGudAAAAAAIAa50AAAAAAINXkQAAAAAAQcwBBAAAAAKAE8kAAAAAAgBrnQAAAAACAGudAAAAAAIAa50AAAAAAQEznQAAAAACAGudAAAAAAIAa50AAAAAAgBrnQAAAAACAGudAAAAAAIAa50AAAAAAgBrnQAAAAACAGudAAAAAAIAa50AAAAAAgBrnQAAAAACAGudAAAAAAOAi70AAAAAAgBrnQAAAAACAquZAAAAAAIAa50AAAAAAgBrnQAAAAACAGudAAAAAABBW80AAAAAAgLXdQAAAAACAGudAAAAAAADw3kAAAAAAgBrnQAAAAACAGudAAAAAAIAa50AAAAAA4E/iQAAAAAAAhuFAAAAAAIAa50AAAAAAgBrnQAAAAAAQ1fZAAAAAAMBK4UAAAAAAIErgQAAAAADgMehAAAAAAIAa50AAAAAAgBrnQAAAAABgcPxAAAAAAEAe4EAAAAAAIE3lQAAAAACAGudAAAAAAIAa50AAAAAAwOjmQAAAAACAGudAAAAAAODo40AAAAAAgBrnQAAAAACAGudAAAAAAIAa50AAAAAAgPfsQAAAAADA4PJAAAAAAIAa50AAAAAAgBrnQAAAAACAGudAAAAAAIAa50AAAAAAgBrnQAAAAACAGudAAAAAAIAa50AAAAAAgBrnQAAAAAAAwt1AAAAAAIAa50AAAAAAgBrnQAAAAACAGudAAAAAAIAa50AAAAAAgBrnQAAAAABgQehAAAAAAIDq8EAAAAAAgBrnQAAAAACAGudAAAAAAIAa50AAAAAAgBrnQAAAAACAGudAAAAAAIAa50AAAAAAgBrnQA==",
          "dtype": "f8"
         },
         "xaxis": "x",
         "y": {
          "bdata": "AAAAAAAAVUAAAAAAAEBRQAAAAAAAwFBAAAAAAABAUUAAAAAAAMBRQAAAAAAAAE9AAAAAAABAUUAAAAAAAAA7QAAAAAAAADpAAAAAAACAUUAAAAAAAEBRQAAAAAAAQFFAAAAAAACAUkAAAAAAAEBRQAAAAAAAQFFAAAAAAAAAO0AAAAAAAEBRQAAAAAAAQFFAAAAAAABAUUAAAAAAAIBRQAAAAAAAAE9AAAAAAABAUUAAAAAAAEBRQAAAAAAAAFJAAAAAAABAVEAAAAAAAEBTQAAAAAAAQFJAAAAAAAAAOkAAAAAAAMBTQAAAAAAAQFFAAAAAAAAAU0AAAAAAAABUQAAAAAAAQFFAAAAAAACAS0AAAAAAAEBRQAAAAAAAQFFAAAAAAAAAVEAAAAAAAMBTQAAAAAAAQFRAAAAAAABAUUAAAAAAAEBRQAAAAAAAQFFAAAAAAABAUUAAAAAAAAAoQAAAAAAAgFFAAAAAAACAUUAAAAAAAABQQAAAAAAAwFBAAAAAAACAUEAAAAAAAMBUQAAAAAAAgFNAAAAAAAAAOkAAAAAAAABRQAAAAAAAQFFAAAAAAAAAKEAAAAAAAAA9QAAAAAAAQFFAAAAAAABAUUAAAAAAAAA0QAAAAAAAQFFAAAAAAABAUUAAAAAAAIBJQAAAAAAAwFJAAAAAAABAUUAAAAAAAMBSQAAAAAAAAFRAAAAAAABAU0AAAAAAAAA4QAAAAAAAQFFAAAAAAAAAOkAAAAAAAABOQAAAAAAAAE9AAAAAAADAUkAAAAAAAEBTQAAAAAAAADpAAAAAAABAUUAAAAAAAIBEQAAAAAAAAEZAAAAAAABAUUAAAAAAAAA7QAAAAAAAQFFAAAAAAACAUUAAAAAAAEBRQAAAAAAAQFFAAAAAAABAUkAAAAAAAIBRQAAAAAAAQFFAAAAAAAAAU0AAAAAAAEBRQAAAAAAAwFFAAAAAAADAVEAAAAAAAEBRQAAAAAAAADNAAAAAAABAUUAAAAAAAIBSQAAAAAAAAEpAAAAAAADAUUAAAAAAAEBRQAAAAAAAQFFAAAAAAAAAUkAAAAAAAEBRQAAAAAAAQFFAAAAAAABAUUAAAAAAAEBRQAAAAAAAQFFAAAAAAABAUUAAAAAAAIBSQAAAAAAAwFBAAAAAAAAAMkAAAAAAAEBRQAAAAAAAAChAAAAAAAAAVEAAAAAAAEBRQAAAAAAAAFNAAAAAAAAALkAAAAAAAEBRQAAAAAAAAFJAAAAAAABAUUAAAAAAAEBRQAAAAAAAgFFAAAAAAADAUEAAAAAAAABGQAAAAAAAAENAAAAAAABAUUAAAAAAAEBRQAAAAAAAgEJAAAAAAACAS0AAAAAAAMBRQAAAAAAAgEdAAAAAAABAUUAAAAAAAIBQQAAAAAAAAC5AAAAAAABAUUAAAAAAAEBRQAAAAAAAwFVAAAAAAAAATEAAAAAAAABDQAAAAAAAQFZAAAAAAACAQ0AAAAAAAIBPQAAAAAAAAFRAAAAAAABAUUAAAAAAAAAuQAAAAAAAADBAAAAAAADAVUAAAAAAAEBRQAAAAAAAwFJAAAAAAABAUUAAAAAAAEBQQAAAAAAAQFFAAAAAAACAUUAAAAAAAEBRQAAAAAAAAE9AAAAAAABAVEAAAAAAAEBRQAAAAAAAQFJAAAAAAAAAUUAAAAAAAAA/QAAAAAAAADZAAAAAAACAQEAAAAAAAABSQAAAAAAAgFVAAAAAAACATkAAAAAAAEBRQAAAAAAAAFVAAAAAAADAUEAAAAAAAEBTQA==",
          "dtype": "f8"
         },
         "yaxis": "y"
        }
       ],
       "layout": {
        "coloraxis": {
         "colorbar": {
          "title": {
           "text": "Cluster"
          }
         },
         "colorscale": [
          [
           0,
           "#0d0887"
          ],
          [
           0.1111111111111111,
           "#46039f"
          ],
          [
           0.2222222222222222,
           "#7201a8"
          ],
          [
           0.3333333333333333,
           "#9c179e"
          ],
          [
           0.4444444444444444,
           "#bd3786"
          ],
          [
           0.5555555555555556,
           "#d8576b"
          ],
          [
           0.6666666666666666,
           "#ed7953"
          ],
          [
           0.7777777777777778,
           "#fb9f3a"
          ],
          [
           0.8888888888888888,
           "#fdca26"
          ],
          [
           1,
           "#f0f921"
          ]
         ]
        },
        "legend": {
         "tracegroupgap": 0
        },
        "template": {
         "data": {
          "bar": [
           {
            "error_x": {
             "color": "#2a3f5f"
            },
            "error_y": {
             "color": "#2a3f5f"
            },
            "marker": {
             "line": {
              "color": "#E5ECF6",
              "width": 0.5
             },
             "pattern": {
              "fillmode": "overlay",
              "size": 10,
              "solidity": 0.2
             }
            },
            "type": "bar"
           }
          ],
          "barpolar": [
           {
            "marker": {
             "line": {
              "color": "#E5ECF6",
              "width": 0.5
             },
             "pattern": {
              "fillmode": "overlay",
              "size": 10,
              "solidity": 0.2
             }
            },
            "type": "barpolar"
           }
          ],
          "carpet": [
           {
            "aaxis": {
             "endlinecolor": "#2a3f5f",
             "gridcolor": "white",
             "linecolor": "white",
             "minorgridcolor": "white",
             "startlinecolor": "#2a3f5f"
            },
            "baxis": {
             "endlinecolor": "#2a3f5f",
             "gridcolor": "white",
             "linecolor": "white",
             "minorgridcolor": "white",
             "startlinecolor": "#2a3f5f"
            },
            "type": "carpet"
           }
          ],
          "choropleth": [
           {
            "colorbar": {
             "outlinewidth": 0,
             "ticks": ""
            },
            "type": "choropleth"
           }
          ],
          "contour": [
           {
            "colorbar": {
             "outlinewidth": 0,
             "ticks": ""
            },
            "colorscale": [
             [
              0,
              "#0d0887"
             ],
             [
              0.1111111111111111,
              "#46039f"
             ],
             [
              0.2222222222222222,
              "#7201a8"
             ],
             [
              0.3333333333333333,
              "#9c179e"
             ],
             [
              0.4444444444444444,
              "#bd3786"
             ],
             [
              0.5555555555555556,
              "#d8576b"
             ],
             [
              0.6666666666666666,
              "#ed7953"
             ],
             [
              0.7777777777777778,
              "#fb9f3a"
             ],
             [
              0.8888888888888888,
              "#fdca26"
             ],
             [
              1,
              "#f0f921"
             ]
            ],
            "type": "contour"
           }
          ],
          "contourcarpet": [
           {
            "colorbar": {
             "outlinewidth": 0,
             "ticks": ""
            },
            "type": "contourcarpet"
           }
          ],
          "heatmap": [
           {
            "colorbar": {
             "outlinewidth": 0,
             "ticks": ""
            },
            "colorscale": [
             [
              0,
              "#0d0887"
             ],
             [
              0.1111111111111111,
              "#46039f"
             ],
             [
              0.2222222222222222,
              "#7201a8"
             ],
             [
              0.3333333333333333,
              "#9c179e"
             ],
             [
              0.4444444444444444,
              "#bd3786"
             ],
             [
              0.5555555555555556,
              "#d8576b"
             ],
             [
              0.6666666666666666,
              "#ed7953"
             ],
             [
              0.7777777777777778,
              "#fb9f3a"
             ],
             [
              0.8888888888888888,
              "#fdca26"
             ],
             [
              1,
              "#f0f921"
             ]
            ],
            "type": "heatmap"
           }
          ],
          "histogram": [
           {
            "marker": {
             "pattern": {
              "fillmode": "overlay",
              "size": 10,
              "solidity": 0.2
             }
            },
            "type": "histogram"
           }
          ],
          "histogram2d": [
           {
            "colorbar": {
             "outlinewidth": 0,
             "ticks": ""
            },
            "colorscale": [
             [
              0,
              "#0d0887"
             ],
             [
              0.1111111111111111,
              "#46039f"
             ],
             [
              0.2222222222222222,
              "#7201a8"
             ],
             [
              0.3333333333333333,
              "#9c179e"
             ],
             [
              0.4444444444444444,
              "#bd3786"
             ],
             [
              0.5555555555555556,
              "#d8576b"
             ],
             [
              0.6666666666666666,
              "#ed7953"
             ],
             [
              0.7777777777777778,
              "#fb9f3a"
             ],
             [
              0.8888888888888888,
              "#fdca26"
             ],
             [
              1,
              "#f0f921"
             ]
            ],
            "type": "histogram2d"
           }
          ],
          "histogram2dcontour": [
           {
            "colorbar": {
             "outlinewidth": 0,
             "ticks": ""
            },
            "colorscale": [
             [
              0,
              "#0d0887"
             ],
             [
              0.1111111111111111,
              "#46039f"
             ],
             [
              0.2222222222222222,
              "#7201a8"
             ],
             [
              0.3333333333333333,
              "#9c179e"
             ],
             [
              0.4444444444444444,
              "#bd3786"
             ],
             [
              0.5555555555555556,
              "#d8576b"
             ],
             [
              0.6666666666666666,
              "#ed7953"
             ],
             [
              0.7777777777777778,
              "#fb9f3a"
             ],
             [
              0.8888888888888888,
              "#fdca26"
             ],
             [
              1,
              "#f0f921"
             ]
            ],
            "type": "histogram2dcontour"
           }
          ],
          "mesh3d": [
           {
            "colorbar": {
             "outlinewidth": 0,
             "ticks": ""
            },
            "type": "mesh3d"
           }
          ],
          "parcoords": [
           {
            "line": {
             "colorbar": {
              "outlinewidth": 0,
              "ticks": ""
             }
            },
            "type": "parcoords"
           }
          ],
          "pie": [
           {
            "automargin": true,
            "type": "pie"
           }
          ],
          "scatter": [
           {
            "fillpattern": {
             "fillmode": "overlay",
             "size": 10,
             "solidity": 0.2
            },
            "type": "scatter"
           }
          ],
          "scatter3d": [
           {
            "line": {
             "colorbar": {
              "outlinewidth": 0,
              "ticks": ""
             }
            },
            "marker": {
             "colorbar": {
              "outlinewidth": 0,
              "ticks": ""
             }
            },
            "type": "scatter3d"
           }
          ],
          "scattercarpet": [
           {
            "marker": {
             "colorbar": {
              "outlinewidth": 0,
              "ticks": ""
             }
            },
            "type": "scattercarpet"
           }
          ],
          "scattergeo": [
           {
            "marker": {
             "colorbar": {
              "outlinewidth": 0,
              "ticks": ""
             }
            },
            "type": "scattergeo"
           }
          ],
          "scattergl": [
           {
            "marker": {
             "colorbar": {
              "outlinewidth": 0,
              "ticks": ""
             }
            },
            "type": "scattergl"
           }
          ],
          "scattermap": [
           {
            "marker": {
             "colorbar": {
              "outlinewidth": 0,
              "ticks": ""
             }
            },
            "type": "scattermap"
           }
          ],
          "scattermapbox": [
           {
            "marker": {
             "colorbar": {
              "outlinewidth": 0,
              "ticks": ""
             }
            },
            "type": "scattermapbox"
           }
          ],
          "scatterpolar": [
           {
            "marker": {
             "colorbar": {
              "outlinewidth": 0,
              "ticks": ""
             }
            },
            "type": "scatterpolar"
           }
          ],
          "scatterpolargl": [
           {
            "marker": {
             "colorbar": {
              "outlinewidth": 0,
              "ticks": ""
             }
            },
            "type": "scatterpolargl"
           }
          ],
          "scatterternary": [
           {
            "marker": {
             "colorbar": {
              "outlinewidth": 0,
              "ticks": ""
             }
            },
            "type": "scatterternary"
           }
          ],
          "surface": [
           {
            "colorbar": {
             "outlinewidth": 0,
             "ticks": ""
            },
            "colorscale": [
             [
              0,
              "#0d0887"
             ],
             [
              0.1111111111111111,
              "#46039f"
             ],
             [
              0.2222222222222222,
              "#7201a8"
             ],
             [
              0.3333333333333333,
              "#9c179e"
             ],
             [
              0.4444444444444444,
              "#bd3786"
             ],
             [
              0.5555555555555556,
              "#d8576b"
             ],
             [
              0.6666666666666666,
              "#ed7953"
             ],
             [
              0.7777777777777778,
              "#fb9f3a"
             ],
             [
              0.8888888888888888,
              "#fdca26"
             ],
             [
              1,
              "#f0f921"
             ]
            ],
            "type": "surface"
           }
          ],
          "table": [
           {
            "cells": {
             "fill": {
              "color": "#EBF0F8"
             },
             "line": {
              "color": "white"
             }
            },
            "header": {
             "fill": {
              "color": "#C8D4E3"
             },
             "line": {
              "color": "white"
             }
            },
            "type": "table"
           }
          ]
         },
         "layout": {
          "annotationdefaults": {
           "arrowcolor": "#2a3f5f",
           "arrowhead": 0,
           "arrowwidth": 1
          },
          "autotypenumbers": "strict",
          "coloraxis": {
           "colorbar": {
            "outlinewidth": 0,
            "ticks": ""
           }
          },
          "colorscale": {
           "diverging": [
            [
             0,
             "#8e0152"
            ],
            [
             0.1,
             "#c51b7d"
            ],
            [
             0.2,
             "#de77ae"
            ],
            [
             0.3,
             "#f1b6da"
            ],
            [
             0.4,
             "#fde0ef"
            ],
            [
             0.5,
             "#f7f7f7"
            ],
            [
             0.6,
             "#e6f5d0"
            ],
            [
             0.7,
             "#b8e186"
            ],
            [
             0.8,
             "#7fbc41"
            ],
            [
             0.9,
             "#4d9221"
            ],
            [
             1,
             "#276419"
            ]
           ],
           "sequential": [
            [
             0,
             "#0d0887"
            ],
            [
             0.1111111111111111,
             "#46039f"
            ],
            [
             0.2222222222222222,
             "#7201a8"
            ],
            [
             0.3333333333333333,
             "#9c179e"
            ],
            [
             0.4444444444444444,
             "#bd3786"
            ],
            [
             0.5555555555555556,
             "#d8576b"
            ],
            [
             0.6666666666666666,
             "#ed7953"
            ],
            [
             0.7777777777777778,
             "#fb9f3a"
            ],
            [
             0.8888888888888888,
             "#fdca26"
            ],
            [
             1,
             "#f0f921"
            ]
           ],
           "sequentialminus": [
            [
             0,
             "#0d0887"
            ],
            [
             0.1111111111111111,
             "#46039f"
            ],
            [
             0.2222222222222222,
             "#7201a8"
            ],
            [
             0.3333333333333333,
             "#9c179e"
            ],
            [
             0.4444444444444444,
             "#bd3786"
            ],
            [
             0.5555555555555556,
             "#d8576b"
            ],
            [
             0.6666666666666666,
             "#ed7953"
            ],
            [
             0.7777777777777778,
             "#fb9f3a"
            ],
            [
             0.8888888888888888,
             "#fdca26"
            ],
            [
             1,
             "#f0f921"
            ]
           ]
          },
          "colorway": [
           "#636efa",
           "#EF553B",
           "#00cc96",
           "#ab63fa",
           "#FFA15A",
           "#19d3f3",
           "#FF6692",
           "#B6E880",
           "#FF97FF",
           "#FECB52"
          ],
          "font": {
           "color": "#2a3f5f"
          },
          "geo": {
           "bgcolor": "white",
           "lakecolor": "white",
           "landcolor": "#E5ECF6",
           "showlakes": true,
           "showland": true,
           "subunitcolor": "white"
          },
          "hoverlabel": {
           "align": "left"
          },
          "hovermode": "closest",
          "mapbox": {
           "style": "light"
          },
          "paper_bgcolor": "white",
          "plot_bgcolor": "#E5ECF6",
          "polar": {
           "angularaxis": {
            "gridcolor": "white",
            "linecolor": "white",
            "ticks": ""
           },
           "bgcolor": "#E5ECF6",
           "radialaxis": {
            "gridcolor": "white",
            "linecolor": "white",
            "ticks": ""
           }
          },
          "scene": {
           "xaxis": {
            "backgroundcolor": "#E5ECF6",
            "gridcolor": "white",
            "gridwidth": 2,
            "linecolor": "white",
            "showbackground": true,
            "ticks": "",
            "zerolinecolor": "white"
           },
           "yaxis": {
            "backgroundcolor": "#E5ECF6",
            "gridcolor": "white",
            "gridwidth": 2,
            "linecolor": "white",
            "showbackground": true,
            "ticks": "",
            "zerolinecolor": "white"
           },
           "zaxis": {
            "backgroundcolor": "#E5ECF6",
            "gridcolor": "white",
            "gridwidth": 2,
            "linecolor": "white",
            "showbackground": true,
            "ticks": "",
            "zerolinecolor": "white"
           }
          },
          "shapedefaults": {
           "line": {
            "color": "#2a3f5f"
           }
          },
          "ternary": {
           "aaxis": {
            "gridcolor": "white",
            "linecolor": "white",
            "ticks": ""
           },
           "baxis": {
            "gridcolor": "white",
            "linecolor": "white",
            "ticks": ""
           },
           "bgcolor": "#E5ECF6",
           "caxis": {
            "gridcolor": "white",
            "linecolor": "white",
            "ticks": ""
           }
          },
          "title": {
           "x": 0.05
          },
          "xaxis": {
           "automargin": true,
           "gridcolor": "white",
           "linecolor": "white",
           "ticks": "",
           "title": {
            "standoff": 15
           },
           "zerolinecolor": "white",
           "zerolinewidth": 2
          },
          "yaxis": {
           "automargin": true,
           "gridcolor": "white",
           "linecolor": "white",
           "ticks": "",
           "title": {
            "standoff": 15
           },
           "zerolinecolor": "white",
           "zerolinewidth": 2
          }
         }
        },
        "title": {
         "text": "Country Clusters: GDP per Capita vs Corruption Index"
        },
        "xaxis": {
         "anchor": "y",
         "domain": [
          0,
          1
         ],
         "title": {
          "text": "GDP per Capita"
         }
        },
        "yaxis": {
         "anchor": "x",
         "domain": [
          0,
          1
         ],
         "title": {
          "text": "Corruption Index"
         }
        }
       }
      }
     },
     "metadata": {},
     "output_type": "display_data"
    },
    {
     "data": {
      "application/vnd.plotly.v1+json": {
       "config": {
        "plotlyServerURL": "https://plot.ly"
       },
       "data": [
        {
         "customdata": [
          [
           "Afghanistan",
           47316,
           84
          ],
          [
           "Albania",
           47316,
           69
          ],
          [
           "Algeria",
           47316,
           67
          ],
          [
           "American Samoa",
           47316,
           69
          ],
          [
           "Angola",
           47316,
           71
          ],
          [
           "Argentina",
           47316,
           62
          ],
          [
           "Armenia",
           47316,
           69
          ],
          [
           "Australia",
           55807,
           27
          ],
          [
           "Austria",
           58427,
           26
          ],
          [
           "Azerbaijan",
           47316,
           70
          ],
          [
           "Bahamas",
           34108,
           69
          ],
          [
           "Bahrain",
           45411,
           69
          ],
          [
           "Bangladesh",
           47316,
           74
          ],
          [
           "Barbados",
           47316,
           69
          ],
          [
           "Belarus",
           47316,
           69
          ],
          [
           "Belgium",
           58931,
           27
          ],
          [
           "Benin",
           47316,
           69
          ],
          [
           "Bermuda",
           85192,
           69
          ],
          [
           "Bhutan",
           47316,
           69
          ],
          [
           "Bolivia",
           47316,
           70
          ],
          [
           "Brazil",
           47316,
           62
          ],
          [
           "Brunei",
           66620,
           69
          ],
          [
           "Bulgaria",
           47316,
           69
          ],
          [
           "Burma",
           47316,
           72
          ],
          [
           "Burundi",
           47316,
           81
          ],
          [
           "Cambodia",
           47316,
           77
          ],
          [
           "Cameroon",
           47316,
           73
          ],
          [
           "Canada",
           52085,
           26
          ],
          [
           "Cape Verde",
           47316,
           79
          ],
          [
           "Cayman Islands",
           47316,
           69
          ],
          [
           "Central Africa",
           47316,
           76
          ],
          [
           "Chad",
           47316,
           80
          ],
          [
           "Chile",
           47316,
           69
          ],
          [
           "China",
           47316,
           55
          ],
          [
           "Cocos (Keeling) Islands",
           47316,
           69
          ],
          [
           "Colombia",
           47316,
           69
          ],
          [
           "Comoros",
           47316,
           80
          ],
          [
           "Congo",
           47316,
           79
          ],
          [
           "Congo (Dem. Republic)",
           47316,
           81
          ],
          [
           "Costa Rica",
           47316,
           69
          ],
          [
           "Croatia",
           33801,
           69
          ],
          [
           "Cyprus",
           31509,
           69
          ],
          [
           "Czechia",
           44261,
           69
          ],
          [
           "Denmark",
           64651,
           12
          ],
          [
           "Djibouti",
           47316,
           70
          ],
          [
           "Dominican Republic",
           47316,
           70
          ],
          [
           "Ecuador",
           47316,
           64
          ],
          [
           "Egypt",
           47316,
           67
          ],
          [
           "El Salvador",
           47316,
           66
          ],
          [
           "Equatorial Guinea",
           47316,
           83
          ],
          [
           "Eritrea",
           47316,
           78
          ],
          [
           "Estonia",
           42192,
           26
          ],
          [
           "Eswatini",
           47316,
           68
          ],
          [
           "Ethiopia",
           47316,
           69
          ],
          [
           "Finland",
           55007,
           12
          ],
          [
           "France",
           50729,
           29
          ],
          [
           "Gabon",
           47316,
           69
          ],
          [
           "Georgia",
           47316,
           69
          ],
          [
           "Germany",
           57928,
           20
          ],
          [
           "Ghana",
           47316,
           69
          ],
          [
           "Gibraltar",
           47316,
           69
          ],
          [
           "Greece",
           31295,
           51
          ],
          [
           "Guatemala",
           47316,
           75
          ],
          [
           "Guernsey",
           47316,
           69
          ],
          [
           "Guinea",
           47316,
           75
          ],
          [
           "Haiti",
           47316,
           80
          ],
          [
           "Honduras",
           47316,
           77
          ],
          [
           "Hong Kong",
           65973,
           24
          ],
          [
           "Hungary",
           36753,
           69
          ],
          [
           "Iceland",
           57646,
           26
          ],
          [
           "India",
           47316,
           60
          ],
          [
           "Indonesia",
           47316,
           62
          ],
          [
           "Iran",
           47316,
           75
          ],
          [
           "Iraq",
           47316,
           77
          ],
          [
           "Ireland",
           106456,
           26
          ],
          [
           "Isle of Man",
           47316,
           69
          ],
          [
           "Israel",
           43722,
           41
          ],
          [
           "Italy",
           45936,
           44
          ],
          [
           "Ivory Coast",
           47316,
           69
          ],
          [
           "Japan",
           42940,
           27
          ],
          [
           "Kazakhstan",
           47316,
           69
          ],
          [
           "Kenya",
           47316,
           70
          ],
          [
           "Kiribati",
           47316,
           69
          ],
          [
           "Kosovo",
           47316,
           69
          ],
          [
           "Kyrgyzstan",
           47316,
           73
          ],
          [
           "Laos",
           47316,
           70
          ],
          [
           "Latvia",
           34469,
           69
          ],
          [
           "Lebanon",
           47316,
           76
          ],
          [
           "Lesotho",
           47316,
           69
          ],
          [
           "Liberia",
           47316,
           71
          ],
          [
           "Libya",
           47316,
           83
          ],
          [
           "Lithuania",
           42665,
           69
          ],
          [
           "Luxembourg",
           134754,
           19
          ],
          [
           "Macao",
           73802,
           69
          ],
          [
           "Madagascar",
           47316,
           74
          ],
          [
           "Malaysia",
           47316,
           52
          ],
          [
           "Mali",
           47316,
           71
          ],
          [
           "Malta",
           47714,
           69
          ],
          [
           "Marshall Islands",
           47316,
           69
          ],
          [
           "Mauritania",
           47316,
           72
          ],
          [
           "Mauritius",
           47316,
           69
          ],
          [
           "Mexico",
           47316,
           69
          ],
          [
           "Moldova",
           47316,
           69
          ],
          [
           "Mongolia",
           47316,
           69
          ],
          [
           "Montenegro",
           47316,
           69
          ],
          [
           "Morocco",
           47316,
           69
          ],
          [
           "Mozambique",
           47316,
           74
          ],
          [
           "Nepal",
           47316,
           67
          ],
          [
           "Netherlands",
           63767,
           18
          ],
          [
           "New Caledonia",
           47316,
           69
          ],
          [
           "New Zealand",
           46420,
           12
          ],
          [
           "Nicaragua",
           47316,
           80
          ],
          [
           "Niger",
           47316,
           69
          ],
          [
           "Nigeria",
           47316,
           76
          ],
          [
           "Norway",
           79201,
           15
          ],
          [
           "Oman",
           30422,
           69
          ],
          [
           "Pakistan",
           47316,
           72
          ],
          [
           "Panama",
           31680,
           69
          ],
          [
           "Papua New Guinea",
           47316,
           69
          ],
          [
           "Paraguay",
           47316,
           70
          ],
          [
           "Philippines",
           47316,
           67
          ],
          [
           "Poland",
           37503,
           44
          ],
          [
           "Portugal",
           35888,
           38
          ],
          [
           "Principality of Monaco",
           47316,
           69
          ],
          [
           "Puerto Rico",
           47316,
           69
          ],
          [
           "Qatar",
           93521,
           37
          ],
          [
           "Romania",
           35414,
           55
          ],
          [
           "Russia",
           33361,
           71
          ],
          [
           "Saudi Arabia",
           49551,
           47
          ],
          [
           "Serbia",
           47316,
           69
          ],
          [
           "Sierra Leone",
           47316,
           66
          ],
          [
           "Singapore",
           116486,
           15
          ],
          [
           "Slovakia",
           33010,
           69
          ],
          [
           "Slovenia",
           43625,
           69
          ],
          [
           "Somalia",
           47316,
           87
          ],
          [
           "South Africa",
           47316,
           56
          ],
          [
           "South Korea",
           46918,
           38
          ],
          [
           "South Sudan",
           47316,
           89
          ],
          [
           "Spain",
           40775,
           39
          ],
          [
           "Sri Lanka",
           47316,
           63
          ],
          [
           "Sudan",
           47316,
           80
          ],
          [
           "Suriname",
           47316,
           69
          ],
          [
           "Sweden",
           59324,
           15
          ],
          [
           "Switzerland",
           77324,
           16
          ],
          [
           "Syria",
           47316,
           87
          ],
          [
           "Taiwan",
           47316,
           69
          ],
          [
           "Tajikistan",
           47316,
           75
          ],
          [
           "Tanzania",
           47316,
           69
          ],
          [
           "Thailand",
           47316,
           65
          ],
          [
           "Timor-Leste",
           47316,
           69
          ],
          [
           "Togo",
           47316,
           70
          ],
          [
           "Tunisia",
           47316,
           69
          ],
          [
           "Turkey",
           30472,
           62
          ],
          [
           "Turkmenistan",
           47316,
           81
          ],
          [
           "Turks and Caicos Islands",
           47316,
           69
          ],
          [
           "Uganda",
           47316,
           73
          ],
          [
           "Ukraine",
           47316,
           68
          ],
          [
           "United Arab Emirates",
           47316,
           31
          ],
          [
           "United Kingdom",
           49675,
           22
          ],
          [
           "United States",
           69288,
           33
          ],
          [
           "Uzbekistan",
           47316,
           72
          ],
          [
           "Venezuela",
           47316,
           86
          ],
          [
           "Vietnam",
           47316,
           61
          ],
          [
           "Virgin Islands",
           47316,
           69
          ],
          [
           "Yemen",
           47316,
           84
          ],
          [
           "Zambia",
           47316,
           67
          ],
          [
           "Zimbabwe",
           47316,
           77
          ]
         ],
         "hovertemplate": "Tourism (Millions)=%{x}<br>Cost of Living Index=%{y}<br>country=%{customdata[0]}<br>gdp_per_capita=%{customdata[1]}<br>corruption_index=%{customdata[2]}<br>Cluster=%{marker.color}<extra></extra>",
         "legendgroup": "",
         "marker": {
          "color": {
           "bdata": "AgICAwICAgEBAgICAgECAQIBAgICAgICAgICAQIBAgICAgICAgICAgICAgEDAgICAgICAQMCAQACAgECAgICAgICAgECAQICAgIBAgEAAgECAgMDAgICAgICAgIBAgICAgIDAgIAAgICAgICAQEBAgICAQICAgICAgICAgIBAgICAgIBAgICAwECAQICAgEBAgICAgICAgICAgECAgEBAAICAgICAgI=",
           "dtype": "i1"
          },
          "coloraxis": "coloraxis",
          "symbol": "circle"
         },
         "mode": "markers",
         "name": "",
         "orientation": "v",
         "showlegend": false,
         "type": "scatter",
         "x": {
          "bdata": "ZmZmZmZmEECamZmZmZkFQGZmZmZmZhBAZmZmZmZmEEBmZmZmZmYQQGZmZmZmZhBAZmZmZmZmEEDNzMzMzMz8PzMzMzMzMy5AZmZmZmZmEEBmZmZmZmYQQGZmZmZmZhBAZmZmZmZmEEBmZmZmZmYQQM3MzMzMzAxAzczMzMzMBEBmZmZmZmYQQJqZmZmZmbk/ZmZmZmZmEEBmZmZmZmYQQGZmZmZmZhBAZmZmZmZmEEAAAAAAAAAUQGZmZmZmZhBAZmZmZmZmEEDNzMzMzMz0P2ZmZmZmZhBAZmZmZmZmEEBmZmZmZmYQQGZmZmZmZhBAZmZmZmZmEEBmZmZmZmYQQGZmZmZmZhBAZmZmZmZmEEBmZmZmZmYQQGZmZmZmZhBAZmZmZmZmEEBmZmZmZmYQQGZmZmZmZhBAZmZmZmZmEECamZmZmZk1QGZmZmZmZhBAZmZmZmZmEEBmZmZmZmYQQGZmZmZmZhBAZmZmZmZmEEBmZmZmZmYQQGZmZmZmZhBAZmZmZmZmEEBmZmZmZmYQQGZmZmZmZhBAZmZmZmZmEEBmZmZmZmYQQAAAAAAAAOA/ZmZmZmZmEEBmZmZmZkZdQGZmZmZmZhBAZmZmZmZmEEDNzMzMzMwoQGZmZmZmZhBAZmZmZmZmEECamZmZmZkdQGZmZmZmZhBAZmZmZmZmEEBmZmZmZmYQQGZmZmZmZhBAZmZmZmZmEEDNzMzMzMwMQJqZmZmZmT9AZmZmZmZmEEBmZmZmZmYQQGZmZmZmZhBAZmZmZmZmEEBmZmZmZmYQQGZmZmZmZhBAZmZmZmZmEEBmZmZmZmYQQDMzMzMzM0NAZmZmZmZmEEBmZmZmZmYQQGZmZmZmZhBAZmZmZmZmEEBmZmZmZmYQQGZmZmZmZhBAZmZmZmZmEEBmZmZmZmYQQGZmZmZmZhBAZmZmZmZmEEBmZmZmZmYQQGZmZmZmZhBAZmZmZmZmEEBmZmZmZmYQQAAAAAAAAOA/mpmZmZmZF0BmZmZmZmYQQDMzMzMzMxFAZmZmZmZmEEBmZmZmZmYQQGZmZmZmZhBAZmZmZmZmEEBmZmZmZmYQQM3MzMzMjElAAAAAAAAAAABmZmZmZmYQQGZmZmZmZhBAZmZmZmZmBkBmZmZmZmYQQGZmZmZmZhBAMzMzMzMzHUBmZmZmZmYQQGZmZmZmZhBAZmZmZmZmEEBmZmZmZmYQQGZmZmZmZhBAZmZmZmZm9j9mZmZmZmYQQGZmZmZmZhBAZmZmZmZmEEBmZmZmZmYQQGZmZmZmZhBAAAAAAAAA+D9mZmZmZmYQQM3MzMzMzBBAZmZmZmZmEEAzMzMzMzMPQDMzMzMzM+M/AAAAAAAAFECamZmZmZkZQGZmZmZmZhBAmpmZmZmZ2T9mZmZmZmYQQGZmZmZmZhBAZmZmZmZmEEBmZmZmZmYQQGZmZmZmZhBAMzMzMzMzD0AAAAAAAAAEQGZmZmZmZhBAZmZmZmZmEEBmZmZmZmYQQGZmZmZmZhBAZmZmZmZmEEBmZmZmZmYQQGZmZmZmZhBAZmZmZmZmEEBmZmZmZmYQQGZmZmZmZhBAZmZmZmZmEEBmZmZmZmYQQGZmZmZmZhBAZmZmZmZmEEBmZmZmZmYQQAAAAAAAADBAZmZmZmZmEEBmZmZmZmYQQGZmZmZmZhBAMzMzMzMzC0AzMzMzMzMgQGZmZmZmZhBAAAAAAACARkBmZmZmZmYQQGZmZmZmZhBAZmZmZmZmDkAzMzMzMzMhQGZmZmZmZhBAZmZmZmZmEEBmZmZmZmYQQA==",
          "dtype": "f8"
         },
         "xaxis": "x",
         "y": {
          "bdata": "MzMzMzNzSEAAAAAAAABKQGZmZmZm5j1AMzMzMzNzSEAAAAAAAAA3QDMzMzMzc0hAZmZmZmbmQEAAAAAAAIBdQJqZmZmZ+VdAzczMzMzMPUAzMzMzM3NIQAAAAAAAgEhAAAAAAACAQ0AAAAAAAGBeQDMzMzMzc0hAAAAAAABAWEAAAAAAAMBCQDMzMzMzs2NAAAAAAAAAPkCamZmZmRlCQDMzMzMzc0dAMzMzMzNzSEAAAAAAAMBHQAAAAAAAADtAMzMzMzNzSEDNzMzMzExCQDMzMzMz80RAZmZmZmZmWkAzMzMzM3NIQM3MzMzMPGFAMzMzMzNzSEAzMzMzM3NIQDMzMzMzc09AmpmZmZmZT0AzMzMzM3NIQDMzMzMz80RAMzMzMzNzSEAzMzMzM3NIQDMzMzMzc0hAmpmZmZnZTEBmZmZmZmZOQDMzMzMzc0hAZmZmZmYGUUCamZmZmfldQDMzMzMzc0hAMzMzMzNzSEAzMzMzM/NJQDMzMzMzMztAMzMzMzNzSEAzMzMzM/NLQDMzMzMzc0hAAAAAAACAUkAzMzMzM3NIQDMzMzMzc0hAAAAAAAAAW0DNzMzMzAxYQDMzMzMzc0hAmpmZmZkZQEAzMzMzMxNXQGZmZmZmpkJAMzMzMzNzSEDNzMzMzKxSQDMzMzMzc0hAMzMzMzNzSEAzMzMzM3NIQM3MzMzMDE5AMzMzMzNzSECamZmZmXlTQGZmZmZmpkxAAAAAAAAAYEDNzMzMzMw8QDMzMzMzs0FAZmZmZmbmUEBmZmZmZmZCQDMzMzMz811AMzMzMzNzSEBmZmZmZkZgQM3MzMzMjFVAmpmZmZlZRUCamZmZmXlZQM3MzMzMjEBAZmZmZmYmRUAzMzMzM3NIQAAAAAAAgERAzczMzMxMOUAAAAAAAMBAQDMzMzMzc0hAMzMzMzNzSEBmZmZmZqZDQDMzMzMzc0hAMzMzMzNzSEAzMzMzM3NIQGZmZmZmRlxAAAAAAADAUkAzMzMzM3NIQGZmZmZmZkNAMzMzMzNzSEDNzMzMzOxSQDMzMzMzc0hAMzMzMzNzSEBmZmZmZqZFQJqZmZmZWUtAAAAAAABAQ0BmZmZmZqZBQJqZmZmZmUlAAAAAAACARkAzMzMzM3NIQJqZmZmZGTxAAAAAAADAWEAzMzMzM3NfQM3MzMzMTF1AZmZmZmbmQUAzMzMzM3NIQGZmZmZm5kRAZmZmZmYmX0AzMzMzM3NIQM3MzMzMzDlAMzMzMzNzSEAzMzMzM3NIQM3MzMzMTENAMzMzMzNzREDNzMzMzIxJQJqZmZmZGVNAMzMzMzNzSEAzMzMzM3NIQJqZmZmZ2VFAMzMzMzOzR0AzMzMzM3NCQAAAAAAAQEZAmpmZmZmZSUAzMzMzM3NIQAAAAAAAwFJAMzMzMzNzSEAzMzMzM3NIQDMzMzMzc0hAzczMzMyMR0AAAAAAAMBVQDMzMzMzc0hAmpmZmZm5VEBmZmZmZmY+QDMzMzMzc0hAAAAAAACAQUAzMzMzM1NbQM3MzMzMzGFAMzMzMzNzSEAzMzMzM3NIQM3MzMzMzDZAzczMzMwMQUAzMzMzMzNDQDMzMzMz80RAMzMzMzNzSEBmZmZmZuY+QDMzMzMzM0FAMzMzMzNzSEBmZmZmZiZfQDMzMzMzc0hAZmZmZmbmPUAzMzMzMxNSQJqZmZmZ+VpAAAAAAAAAWUAzMzMzM3NIQDMzMzMzc0hAMzMzMzMzQUAzMzMzM3NIQDMzMzMzc0hAMzMzMzOzP0AzMzMzM3NIQA==",
          "dtype": "f8"
         },
         "yaxis": "y"
        }
       ],
       "layout": {
        "coloraxis": {
         "colorbar": {
          "title": {
           "text": "Cluster"
          }
         },
         "colorscale": [
          [
           0,
           "#0d0887"
          ],
          [
           0.1111111111111111,
           "#46039f"
          ],
          [
           0.2222222222222222,
           "#7201a8"
          ],
          [
           0.3333333333333333,
           "#9c179e"
          ],
          [
           0.4444444444444444,
           "#bd3786"
          ],
          [
           0.5555555555555556,
           "#d8576b"
          ],
          [
           0.6666666666666666,
           "#ed7953"
          ],
          [
           0.7777777777777778,
           "#fb9f3a"
          ],
          [
           0.8888888888888888,
           "#fdca26"
          ],
          [
           1,
           "#f0f921"
          ]
         ]
        },
        "legend": {
         "tracegroupgap": 0
        },
        "template": {
         "data": {
          "bar": [
           {
            "error_x": {
             "color": "#2a3f5f"
            },
            "error_y": {
             "color": "#2a3f5f"
            },
            "marker": {
             "line": {
              "color": "#E5ECF6",
              "width": 0.5
             },
             "pattern": {
              "fillmode": "overlay",
              "size": 10,
              "solidity": 0.2
             }
            },
            "type": "bar"
           }
          ],
          "barpolar": [
           {
            "marker": {
             "line": {
              "color": "#E5ECF6",
              "width": 0.5
             },
             "pattern": {
              "fillmode": "overlay",
              "size": 10,
              "solidity": 0.2
             }
            },
            "type": "barpolar"
           }
          ],
          "carpet": [
           {
            "aaxis": {
             "endlinecolor": "#2a3f5f",
             "gridcolor": "white",
             "linecolor": "white",
             "minorgridcolor": "white",
             "startlinecolor": "#2a3f5f"
            },
            "baxis": {
             "endlinecolor": "#2a3f5f",
             "gridcolor": "white",
             "linecolor": "white",
             "minorgridcolor": "white",
             "startlinecolor": "#2a3f5f"
            },
            "type": "carpet"
           }
          ],
          "choropleth": [
           {
            "colorbar": {
             "outlinewidth": 0,
             "ticks": ""
            },
            "type": "choropleth"
           }
          ],
          "contour": [
           {
            "colorbar": {
             "outlinewidth": 0,
             "ticks": ""
            },
            "colorscale": [
             [
              0,
              "#0d0887"
             ],
             [
              0.1111111111111111,
              "#46039f"
             ],
             [
              0.2222222222222222,
              "#7201a8"
             ],
             [
              0.3333333333333333,
              "#9c179e"
             ],
             [
              0.4444444444444444,
              "#bd3786"
             ],
             [
              0.5555555555555556,
              "#d8576b"
             ],
             [
              0.6666666666666666,
              "#ed7953"
             ],
             [
              0.7777777777777778,
              "#fb9f3a"
             ],
             [
              0.8888888888888888,
              "#fdca26"
             ],
             [
              1,
              "#f0f921"
             ]
            ],
            "type": "contour"
           }
          ],
          "contourcarpet": [
           {
            "colorbar": {
             "outlinewidth": 0,
             "ticks": ""
            },
            "type": "contourcarpet"
           }
          ],
          "heatmap": [
           {
            "colorbar": {
             "outlinewidth": 0,
             "ticks": ""
            },
            "colorscale": [
             [
              0,
              "#0d0887"
             ],
             [
              0.1111111111111111,
              "#46039f"
             ],
             [
              0.2222222222222222,
              "#7201a8"
             ],
             [
              0.3333333333333333,
              "#9c179e"
             ],
             [
              0.4444444444444444,
              "#bd3786"
             ],
             [
              0.5555555555555556,
              "#d8576b"
             ],
             [
              0.6666666666666666,
              "#ed7953"
             ],
             [
              0.7777777777777778,
              "#fb9f3a"
             ],
             [
              0.8888888888888888,
              "#fdca26"
             ],
             [
              1,
              "#f0f921"
             ]
            ],
            "type": "heatmap"
           }
          ],
          "histogram": [
           {
            "marker": {
             "pattern": {
              "fillmode": "overlay",
              "size": 10,
              "solidity": 0.2
             }
            },
            "type": "histogram"
           }
          ],
          "histogram2d": [
           {
            "colorbar": {
             "outlinewidth": 0,
             "ticks": ""
            },
            "colorscale": [
             [
              0,
              "#0d0887"
             ],
             [
              0.1111111111111111,
              "#46039f"
             ],
             [
              0.2222222222222222,
              "#7201a8"
             ],
             [
              0.3333333333333333,
              "#9c179e"
             ],
             [
              0.4444444444444444,
              "#bd3786"
             ],
             [
              0.5555555555555556,
              "#d8576b"
             ],
             [
              0.6666666666666666,
              "#ed7953"
             ],
             [
              0.7777777777777778,
              "#fb9f3a"
             ],
             [
              0.8888888888888888,
              "#fdca26"
             ],
             [
              1,
              "#f0f921"
             ]
            ],
            "type": "histogram2d"
           }
          ],
          "histogram2dcontour": [
           {
            "colorbar": {
             "outlinewidth": 0,
             "ticks": ""
            },
            "colorscale": [
             [
              0,
              "#0d0887"
             ],
             [
              0.1111111111111111,
              "#46039f"
             ],
             [
              0.2222222222222222,
              "#7201a8"
             ],
             [
              0.3333333333333333,
              "#9c179e"
             ],
             [
              0.4444444444444444,
              "#bd3786"
             ],
             [
              0.5555555555555556,
              "#d8576b"
             ],
             [
              0.6666666666666666,
              "#ed7953"
             ],
             [
              0.7777777777777778,
              "#fb9f3a"
             ],
             [
              0.8888888888888888,
              "#fdca26"
             ],
             [
              1,
              "#f0f921"
             ]
            ],
            "type": "histogram2dcontour"
           }
          ],
          "mesh3d": [
           {
            "colorbar": {
             "outlinewidth": 0,
             "ticks": ""
            },
            "type": "mesh3d"
           }
          ],
          "parcoords": [
           {
            "line": {
             "colorbar": {
              "outlinewidth": 0,
              "ticks": ""
             }
            },
            "type": "parcoords"
           }
          ],
          "pie": [
           {
            "automargin": true,
            "type": "pie"
           }
          ],
          "scatter": [
           {
            "fillpattern": {
             "fillmode": "overlay",
             "size": 10,
             "solidity": 0.2
            },
            "type": "scatter"
           }
          ],
          "scatter3d": [
           {
            "line": {
             "colorbar": {
              "outlinewidth": 0,
              "ticks": ""
             }
            },
            "marker": {
             "colorbar": {
              "outlinewidth": 0,
              "ticks": ""
             }
            },
            "type": "scatter3d"
           }
          ],
          "scattercarpet": [
           {
            "marker": {
             "colorbar": {
              "outlinewidth": 0,
              "ticks": ""
             }
            },
            "type": "scattercarpet"
           }
          ],
          "scattergeo": [
           {
            "marker": {
             "colorbar": {
              "outlinewidth": 0,
              "ticks": ""
             }
            },
            "type": "scattergeo"
           }
          ],
          "scattergl": [
           {
            "marker": {
             "colorbar": {
              "outlinewidth": 0,
              "ticks": ""
             }
            },
            "type": "scattergl"
           }
          ],
          "scattermap": [
           {
            "marker": {
             "colorbar": {
              "outlinewidth": 0,
              "ticks": ""
             }
            },
            "type": "scattermap"
           }
          ],
          "scattermapbox": [
           {
            "marker": {
             "colorbar": {
              "outlinewidth": 0,
              "ticks": ""
             }
            },
            "type": "scattermapbox"
           }
          ],
          "scatterpolar": [
           {
            "marker": {
             "colorbar": {
              "outlinewidth": 0,
              "ticks": ""
             }
            },
            "type": "scatterpolar"
           }
          ],
          "scatterpolargl": [
           {
            "marker": {
             "colorbar": {
              "outlinewidth": 0,
              "ticks": ""
             }
            },
            "type": "scatterpolargl"
           }
          ],
          "scatterternary": [
           {
            "marker": {
             "colorbar": {
              "outlinewidth": 0,
              "ticks": ""
             }
            },
            "type": "scatterternary"
           }
          ],
          "surface": [
           {
            "colorbar": {
             "outlinewidth": 0,
             "ticks": ""
            },
            "colorscale": [
             [
              0,
              "#0d0887"
             ],
             [
              0.1111111111111111,
              "#46039f"
             ],
             [
              0.2222222222222222,
              "#7201a8"
             ],
             [
              0.3333333333333333,
              "#9c179e"
             ],
             [
              0.4444444444444444,
              "#bd3786"
             ],
             [
              0.5555555555555556,
              "#d8576b"
             ],
             [
              0.6666666666666666,
              "#ed7953"
             ],
             [
              0.7777777777777778,
              "#fb9f3a"
             ],
             [
              0.8888888888888888,
              "#fdca26"
             ],
             [
              1,
              "#f0f921"
             ]
            ],
            "type": "surface"
           }
          ],
          "table": [
           {
            "cells": {
             "fill": {
              "color": "#EBF0F8"
             },
             "line": {
              "color": "white"
             }
            },
            "header": {
             "fill": {
              "color": "#C8D4E3"
             },
             "line": {
              "color": "white"
             }
            },
            "type": "table"
           }
          ]
         },
         "layout": {
          "annotationdefaults": {
           "arrowcolor": "#2a3f5f",
           "arrowhead": 0,
           "arrowwidth": 1
          },
          "autotypenumbers": "strict",
          "coloraxis": {
           "colorbar": {
            "outlinewidth": 0,
            "ticks": ""
           }
          },
          "colorscale": {
           "diverging": [
            [
             0,
             "#8e0152"
            ],
            [
             0.1,
             "#c51b7d"
            ],
            [
             0.2,
             "#de77ae"
            ],
            [
             0.3,
             "#f1b6da"
            ],
            [
             0.4,
             "#fde0ef"
            ],
            [
             0.5,
             "#f7f7f7"
            ],
            [
             0.6,
             "#e6f5d0"
            ],
            [
             0.7,
             "#b8e186"
            ],
            [
             0.8,
             "#7fbc41"
            ],
            [
             0.9,
             "#4d9221"
            ],
            [
             1,
             "#276419"
            ]
           ],
           "sequential": [
            [
             0,
             "#0d0887"
            ],
            [
             0.1111111111111111,
             "#46039f"
            ],
            [
             0.2222222222222222,
             "#7201a8"
            ],
            [
             0.3333333333333333,
             "#9c179e"
            ],
            [
             0.4444444444444444,
             "#bd3786"
            ],
            [
             0.5555555555555556,
             "#d8576b"
            ],
            [
             0.6666666666666666,
             "#ed7953"
            ],
            [
             0.7777777777777778,
             "#fb9f3a"
            ],
            [
             0.8888888888888888,
             "#fdca26"
            ],
            [
             1,
             "#f0f921"
            ]
           ],
           "sequentialminus": [
            [
             0,
             "#0d0887"
            ],
            [
             0.1111111111111111,
             "#46039f"
            ],
            [
             0.2222222222222222,
             "#7201a8"
            ],
            [
             0.3333333333333333,
             "#9c179e"
            ],
            [
             0.4444444444444444,
             "#bd3786"
            ],
            [
             0.5555555555555556,
             "#d8576b"
            ],
            [
             0.6666666666666666,
             "#ed7953"
            ],
            [
             0.7777777777777778,
             "#fb9f3a"
            ],
            [
             0.8888888888888888,
             "#fdca26"
            ],
            [
             1,
             "#f0f921"
            ]
           ]
          },
          "colorway": [
           "#636efa",
           "#EF553B",
           "#00cc96",
           "#ab63fa",
           "#FFA15A",
           "#19d3f3",
           "#FF6692",
           "#B6E880",
           "#FF97FF",
           "#FECB52"
          ],
          "font": {
           "color": "#2a3f5f"
          },
          "geo": {
           "bgcolor": "white",
           "lakecolor": "white",
           "landcolor": "#E5ECF6",
           "showlakes": true,
           "showland": true,
           "subunitcolor": "white"
          },
          "hoverlabel": {
           "align": "left"
          },
          "hovermode": "closest",
          "mapbox": {
           "style": "light"
          },
          "paper_bgcolor": "white",
          "plot_bgcolor": "#E5ECF6",
          "polar": {
           "angularaxis": {
            "gridcolor": "white",
            "linecolor": "white",
            "ticks": ""
           },
           "bgcolor": "#E5ECF6",
           "radialaxis": {
            "gridcolor": "white",
            "linecolor": "white",
            "ticks": ""
           }
          },
          "scene": {
           "xaxis": {
            "backgroundcolor": "#E5ECF6",
            "gridcolor": "white",
            "gridwidth": 2,
            "linecolor": "white",
            "showbackground": true,
            "ticks": "",
            "zerolinecolor": "white"
           },
           "yaxis": {
            "backgroundcolor": "#E5ECF6",
            "gridcolor": "white",
            "gridwidth": 2,
            "linecolor": "white",
            "showbackground": true,
            "ticks": "",
            "zerolinecolor": "white"
           },
           "zaxis": {
            "backgroundcolor": "#E5ECF6",
            "gridcolor": "white",
            "gridwidth": 2,
            "linecolor": "white",
            "showbackground": true,
            "ticks": "",
            "zerolinecolor": "white"
           }
          },
          "shapedefaults": {
           "line": {
            "color": "#2a3f5f"
           }
          },
          "ternary": {
           "aaxis": {
            "gridcolor": "white",
            "linecolor": "white",
            "ticks": ""
           },
           "baxis": {
            "gridcolor": "white",
            "linecolor": "white",
            "ticks": ""
           },
           "bgcolor": "#E5ECF6",
           "caxis": {
            "gridcolor": "white",
            "linecolor": "white",
            "ticks": ""
           }
          },
          "title": {
           "x": 0.05
          },
          "xaxis": {
           "automargin": true,
           "gridcolor": "white",
           "linecolor": "white",
           "ticks": "",
           "title": {
            "standoff": 15
           },
           "zerolinecolor": "white",
           "zerolinewidth": 2
          },
          "yaxis": {
           "automargin": true,
           "gridcolor": "white",
           "linecolor": "white",
           "ticks": "",
           "title": {
            "standoff": 15
           },
           "zerolinecolor": "white",
           "zerolinewidth": 2
          }
         }
        },
        "title": {
         "text": "Country Clusters: Tourism vs Cost of Living"
        },
        "xaxis": {
         "anchor": "y",
         "domain": [
          0,
          1
         ],
         "title": {
          "text": "Tourism (Millions)"
         }
        },
        "yaxis": {
         "anchor": "x",
         "domain": [
          0,
          1
         ],
         "title": {
          "text": "Cost of Living Index"
         }
        }
       }
      }
     },
     "metadata": {},
     "output_type": "display_data"
    }
   ],
   "source": [
    "# Cell 13\n",
    "fig_cluster = px.scatter(df_clustered, x='gdp_per_capita', y='corruption_index',\n",
    "                        color='Cluster', \n",
    "                        hover_data=['country', 'cost_of_living', 'unemployment_rate'],\n",
    "                        title='Country Clusters: GDP per Capita vs Corruption Index',\n",
    "                        labels={'gdp_per_capita': 'GDP per Capita', \n",
    "                               'corruption_index': 'Corruption Index'})\n",
    "fig_cluster.show()\n",
    "\n",
    "fig_cluster2 = px.scatter(df_clustered, x='tourism_millions', y='cost_of_living',\n",
    "                         color='Cluster', \n",
    "                         hover_data=['country', 'gdp_per_capita', 'corruption_index'],\n",
    "                         title='Country Clusters: Tourism vs Cost of Living',\n",
    "                         labels={'tourism_millions': 'Tourism (Millions)', \n",
    "                                'cost_of_living': 'Cost of Living Index'})\n",
    "fig_cluster2.show()\n"
   ]
  },
  {
   "cell_type": "code",
   "execution_count": 14,
   "id": "a35237b6",
   "metadata": {},
   "outputs": [
    {
     "name": "stdout",
     "output_type": "stream",
     "text": [
      "\n",
      "==================================================\n",
      "CLASSIFICATION ANALYSIS\n",
      "==================================================\n"
     ]
    }
   ],
   "source": [
    "# Cell 14\n",
    "print(\"\\n\" + \"=\"*50)\n",
    "print(\"CLASSIFICATION ANALYSIS\")\n",
    "print(\"=\"*50)\n",
    "\n",
    "def simple_decision_tree(X, y, test_size=0.2):\n",
    "    np.random.seed(42)\n",
    "    n_samples = len(X)\n",
    "    test_indices = np.random.choice(n_samples, size=int(test_size * n_samples), replace=False)\n",
    "    train_indices = np.setdiff1d(np.arange(n_samples), test_indices)\n",
    "    \n",
    "    X_train, X_test = X[train_indices], X[test_indices]\n",
    "    y_train, y_test = y[train_indices], y[test_indices]\n",
    "    \n",
    "    best_accuracy = 0\n",
    "    best_feature = 0\n",
    "    best_threshold = 0\n",
    "    \n",
    "    for feature_idx in range(X.shape[1]):\n",
    "        feature_values = X_train[:, feature_idx]\n",
    "        thresholds = np.unique(feature_values)\n",
    "        \n",
    "        for threshold in thresholds:\n",
    "            predictions = (feature_values > threshold).astype(int)\n",
    "            accuracy = np.mean(predictions == y_train)\n",
    "            \n",
    "            if accuracy > best_accuracy:\n",
    "                best_accuracy = accuracy\n",
    "                best_feature = feature_idx\n",
    "                best_threshold = threshold\n",
    "    \n",
    "    test_predictions = (X_test[:, best_feature] > best_threshold).astype(int)\n",
    "    test_accuracy = np.mean(test_predictions == y_test)\n",
    "    \n",
    "    return {\n",
    "        'best_feature': best_feature,\n",
    "        'best_threshold': best_threshold,\n",
    "        'train_accuracy': best_accuracy,\n",
    "        'test_accuracy': test_accuracy,\n",
    "        'y_test': y_test,\n",
    "        'y_pred': test_predictions\n",
    "    }"
   ]
  },
  {
   "cell_type": "code",
   "execution_count": 15,
   "id": "5c057e68",
   "metadata": {},
   "outputs": [
    {
     "name": "stdout",
     "output_type": "stream",
     "text": [
      "GDP per capita median: 47316.00\n",
      "High GDP countries: 25\n",
      "Low GDP countries: 142\n",
      "\n",
      "Simple Decision Tree Results:\n",
      "Best feature: cost_of_living\n",
      "Best threshold: 74.70\n",
      "Train accuracy: 0.9254\n",
      "Test accuracy: 0.8788\n"
     ]
    }
   ],
   "source": [
    "# Cell 15\n",
    "gdp_median = df_analysis['gdp_per_capita'].median()\n",
    "df_analysis['GDP_Category'] = (df_analysis['gdp_per_capita'] > gdp_median).astype(int)\n",
    "\n",
    "print(f\"GDP per capita median: {gdp_median:.2f}\")\n",
    "print(f\"High GDP countries: {df_analysis['GDP_Category'].sum()}\")\n",
    "print(f\"Low GDP countries: {len(df_analysis) - df_analysis['GDP_Category'].sum()}\")\n",
    "\n",
    "X_class_features = ['cost_of_living', 'corruption_index', 'unemployment_rate', 'tourism_millions']\n",
    "X_class = df_analysis[X_class_features].values\n",
    "y_class = df_analysis['GDP_Category'].values\n",
    "\n",
    "results = simple_decision_tree(X_class, y_class)\n",
    "\n",
    "print(f\"\\nSimple Decision Tree Results:\")\n",
    "print(f\"Best feature: {X_class_features[results['best_feature']]}\")\n",
    "print(f\"Best threshold: {results['best_threshold']:.2f}\")\n",
    "print(f\"Train accuracy: {results['train_accuracy']:.4f}\")\n",
    "print(f\"Test accuracy: {results['test_accuracy']:.4f}\")\n",
    "\n"
   ]
  },
  {
   "cell_type": "code",
   "execution_count": 16,
   "id": "957426e7",
   "metadata": {},
   "outputs": [
    {
     "name": "stdout",
     "output_type": "stream",
     "text": [
      "Feature Importance:\n",
      "             Feature  Importance\n",
      "1   corruption_index    0.721645\n",
      "0     cost_of_living    0.643951\n",
      "3   tourism_millions    0.183730\n",
      "2  unemployment_rate    0.065116\n",
      "\n",
      "Confusion Matrix:\n",
      "True Negatives: 25\n",
      "False Positives: 4\n",
      "False Negatives: 0\n",
      "True Positives: 4\n",
      "\n",
      "Classification Metrics:\n",
      "Precision: 0.5000\n",
      "Recall: 1.0000\n",
      "F1-Score: 0.6667\n"
     ]
    }
   ],
   "source": [
    "# Cell 16\n",
    "feature_importance_class = []\n",
    "for i, feature in enumerate(X_class_features):\n",
    "    correlation = np.corrcoef(X_class[:, i], y_class)[0, 1]\n",
    "    feature_importance_class.append(abs(correlation))\n",
    "\n",
    "feature_importance_df = pd.DataFrame({\n",
    "    'Feature': X_class_features,\n",
    "    'Importance': feature_importance_class\n",
    "}).sort_values('Importance', ascending=False)\n",
    "\n",
    "print(f\"Feature Importance:\")\n",
    "print(feature_importance_df)\n",
    "\n",
    "y_test, y_pred = results['y_test'], results['y_pred']\n",
    "tn = np.sum((y_test == 0) & (y_pred == 0))\n",
    "fp = np.sum((y_test == 0) & (y_pred == 1))\n",
    "fn = np.sum((y_test == 1) & (y_pred == 0))\n",
    "tp = np.sum((y_test == 1) & (y_pred == 1))\n",
    "\n",
    "print(f\"\\nConfusion Matrix:\")\n",
    "print(f\"True Negatives: {tn}\")\n",
    "print(f\"False Positives: {fp}\")\n",
    "print(f\"False Negatives: {fn}\")\n",
    "print(f\"True Positives: {tp}\")\n",
    "\n",
    "precision = tp / (tp + fp) if (tp + fp) > 0 else 0\n",
    "recall = tp / (tp + fn) if (tp + fn) > 0 else 0\n",
    "f1_score = 2 * (precision * recall) / (precision + recall) if (precision + recall) > 0 else 0\n",
    "\n",
    "print(f\"\\nClassification Metrics:\")\n",
    "print(f\"Precision: {precision:.4f}\")\n",
    "print(f\"Recall: {recall:.4f}\")\n",
    "print(f\"F1-Score: {f1_score:.4f}\")"
   ]
  },
  {
   "cell_type": "code",
   "execution_count": 17,
   "id": "3822ed79",
   "metadata": {},
   "outputs": [
    {
     "data": {
      "application/vnd.plotly.v1+json": {
       "config": {
        "plotlyServerURL": "https://plot.ly"
       },
       "data": [
        {
         "hovertemplate": "Feature=%{x}<br>Importance=%{y}<extra></extra>",
         "legendgroup": "",
         "marker": {
          "color": "#636efa",
          "pattern": {
           "shape": ""
          }
         },
         "name": "",
         "orientation": "v",
         "showlegend": false,
         "textposition": "auto",
         "type": "bar",
         "x": [
          "corruption_index",
          "cost_of_living",
          "tourism_millions",
          "unemployment_rate"
         ],
         "xaxis": "x",
         "y": {
          "bdata": "u2Vt+LcX5z9BwyKeP5vkPy6Ox4d5hMc/S+swemmrsD8=",
          "dtype": "f8"
         },
         "yaxis": "y"
        }
       ],
       "layout": {
        "barmode": "relative",
        "legend": {
         "tracegroupgap": 0
        },
        "template": {
         "data": {
          "bar": [
           {
            "error_x": {
             "color": "#2a3f5f"
            },
            "error_y": {
             "color": "#2a3f5f"
            },
            "marker": {
             "line": {
              "color": "#E5ECF6",
              "width": 0.5
             },
             "pattern": {
              "fillmode": "overlay",
              "size": 10,
              "solidity": 0.2
             }
            },
            "type": "bar"
           }
          ],
          "barpolar": [
           {
            "marker": {
             "line": {
              "color": "#E5ECF6",
              "width": 0.5
             },
             "pattern": {
              "fillmode": "overlay",
              "size": 10,
              "solidity": 0.2
             }
            },
            "type": "barpolar"
           }
          ],
          "carpet": [
           {
            "aaxis": {
             "endlinecolor": "#2a3f5f",
             "gridcolor": "white",
             "linecolor": "white",
             "minorgridcolor": "white",
             "startlinecolor": "#2a3f5f"
            },
            "baxis": {
             "endlinecolor": "#2a3f5f",
             "gridcolor": "white",
             "linecolor": "white",
             "minorgridcolor": "white",
             "startlinecolor": "#2a3f5f"
            },
            "type": "carpet"
           }
          ],
          "choropleth": [
           {
            "colorbar": {
             "outlinewidth": 0,
             "ticks": ""
            },
            "type": "choropleth"
           }
          ],
          "contour": [
           {
            "colorbar": {
             "outlinewidth": 0,
             "ticks": ""
            },
            "colorscale": [
             [
              0,
              "#0d0887"
             ],
             [
              0.1111111111111111,
              "#46039f"
             ],
             [
              0.2222222222222222,
              "#7201a8"
             ],
             [
              0.3333333333333333,
              "#9c179e"
             ],
             [
              0.4444444444444444,
              "#bd3786"
             ],
             [
              0.5555555555555556,
              "#d8576b"
             ],
             [
              0.6666666666666666,
              "#ed7953"
             ],
             [
              0.7777777777777778,
              "#fb9f3a"
             ],
             [
              0.8888888888888888,
              "#fdca26"
             ],
             [
              1,
              "#f0f921"
             ]
            ],
            "type": "contour"
           }
          ],
          "contourcarpet": [
           {
            "colorbar": {
             "outlinewidth": 0,
             "ticks": ""
            },
            "type": "contourcarpet"
           }
          ],
          "heatmap": [
           {
            "colorbar": {
             "outlinewidth": 0,
             "ticks": ""
            },
            "colorscale": [
             [
              0,
              "#0d0887"
             ],
             [
              0.1111111111111111,
              "#46039f"
             ],
             [
              0.2222222222222222,
              "#7201a8"
             ],
             [
              0.3333333333333333,
              "#9c179e"
             ],
             [
              0.4444444444444444,
              "#bd3786"
             ],
             [
              0.5555555555555556,
              "#d8576b"
             ],
             [
              0.6666666666666666,
              "#ed7953"
             ],
             [
              0.7777777777777778,
              "#fb9f3a"
             ],
             [
              0.8888888888888888,
              "#fdca26"
             ],
             [
              1,
              "#f0f921"
             ]
            ],
            "type": "heatmap"
           }
          ],
          "histogram": [
           {
            "marker": {
             "pattern": {
              "fillmode": "overlay",
              "size": 10,
              "solidity": 0.2
             }
            },
            "type": "histogram"
           }
          ],
          "histogram2d": [
           {
            "colorbar": {
             "outlinewidth": 0,
             "ticks": ""
            },
            "colorscale": [
             [
              0,
              "#0d0887"
             ],
             [
              0.1111111111111111,
              "#46039f"
             ],
             [
              0.2222222222222222,
              "#7201a8"
             ],
             [
              0.3333333333333333,
              "#9c179e"
             ],
             [
              0.4444444444444444,
              "#bd3786"
             ],
             [
              0.5555555555555556,
              "#d8576b"
             ],
             [
              0.6666666666666666,
              "#ed7953"
             ],
             [
              0.7777777777777778,
              "#fb9f3a"
             ],
             [
              0.8888888888888888,
              "#fdca26"
             ],
             [
              1,
              "#f0f921"
             ]
            ],
            "type": "histogram2d"
           }
          ],
          "histogram2dcontour": [
           {
            "colorbar": {
             "outlinewidth": 0,
             "ticks": ""
            },
            "colorscale": [
             [
              0,
              "#0d0887"
             ],
             [
              0.1111111111111111,
              "#46039f"
             ],
             [
              0.2222222222222222,
              "#7201a8"
             ],
             [
              0.3333333333333333,
              "#9c179e"
             ],
             [
              0.4444444444444444,
              "#bd3786"
             ],
             [
              0.5555555555555556,
              "#d8576b"
             ],
             [
              0.6666666666666666,
              "#ed7953"
             ],
             [
              0.7777777777777778,
              "#fb9f3a"
             ],
             [
              0.8888888888888888,
              "#fdca26"
             ],
             [
              1,
              "#f0f921"
             ]
            ],
            "type": "histogram2dcontour"
           }
          ],
          "mesh3d": [
           {
            "colorbar": {
             "outlinewidth": 0,
             "ticks": ""
            },
            "type": "mesh3d"
           }
          ],
          "parcoords": [
           {
            "line": {
             "colorbar": {
              "outlinewidth": 0,
              "ticks": ""
             }
            },
            "type": "parcoords"
           }
          ],
          "pie": [
           {
            "automargin": true,
            "type": "pie"
           }
          ],
          "scatter": [
           {
            "fillpattern": {
             "fillmode": "overlay",
             "size": 10,
             "solidity": 0.2
            },
            "type": "scatter"
           }
          ],
          "scatter3d": [
           {
            "line": {
             "colorbar": {
              "outlinewidth": 0,
              "ticks": ""
             }
            },
            "marker": {
             "colorbar": {
              "outlinewidth": 0,
              "ticks": ""
             }
            },
            "type": "scatter3d"
           }
          ],
          "scattercarpet": [
           {
            "marker": {
             "colorbar": {
              "outlinewidth": 0,
              "ticks": ""
             }
            },
            "type": "scattercarpet"
           }
          ],
          "scattergeo": [
           {
            "marker": {
             "colorbar": {
              "outlinewidth": 0,
              "ticks": ""
             }
            },
            "type": "scattergeo"
           }
          ],
          "scattergl": [
           {
            "marker": {
             "colorbar": {
              "outlinewidth": 0,
              "ticks": ""
             }
            },
            "type": "scattergl"
           }
          ],
          "scattermap": [
           {
            "marker": {
             "colorbar": {
              "outlinewidth": 0,
              "ticks": ""
             }
            },
            "type": "scattermap"
           }
          ],
          "scattermapbox": [
           {
            "marker": {
             "colorbar": {
              "outlinewidth": 0,
              "ticks": ""
             }
            },
            "type": "scattermapbox"
           }
          ],
          "scatterpolar": [
           {
            "marker": {
             "colorbar": {
              "outlinewidth": 0,
              "ticks": ""
             }
            },
            "type": "scatterpolar"
           }
          ],
          "scatterpolargl": [
           {
            "marker": {
             "colorbar": {
              "outlinewidth": 0,
              "ticks": ""
             }
            },
            "type": "scatterpolargl"
           }
          ],
          "scatterternary": [
           {
            "marker": {
             "colorbar": {
              "outlinewidth": 0,
              "ticks": ""
             }
            },
            "type": "scatterternary"
           }
          ],
          "surface": [
           {
            "colorbar": {
             "outlinewidth": 0,
             "ticks": ""
            },
            "colorscale": [
             [
              0,
              "#0d0887"
             ],
             [
              0.1111111111111111,
              "#46039f"
             ],
             [
              0.2222222222222222,
              "#7201a8"
             ],
             [
              0.3333333333333333,
              "#9c179e"
             ],
             [
              0.4444444444444444,
              "#bd3786"
             ],
             [
              0.5555555555555556,
              "#d8576b"
             ],
             [
              0.6666666666666666,
              "#ed7953"
             ],
             [
              0.7777777777777778,
              "#fb9f3a"
             ],
             [
              0.8888888888888888,
              "#fdca26"
             ],
             [
              1,
              "#f0f921"
             ]
            ],
            "type": "surface"
           }
          ],
          "table": [
           {
            "cells": {
             "fill": {
              "color": "#EBF0F8"
             },
             "line": {
              "color": "white"
             }
            },
            "header": {
             "fill": {
              "color": "#C8D4E3"
             },
             "line": {
              "color": "white"
             }
            },
            "type": "table"
           }
          ]
         },
         "layout": {
          "annotationdefaults": {
           "arrowcolor": "#2a3f5f",
           "arrowhead": 0,
           "arrowwidth": 1
          },
          "autotypenumbers": "strict",
          "coloraxis": {
           "colorbar": {
            "outlinewidth": 0,
            "ticks": ""
           }
          },
          "colorscale": {
           "diverging": [
            [
             0,
             "#8e0152"
            ],
            [
             0.1,
             "#c51b7d"
            ],
            [
             0.2,
             "#de77ae"
            ],
            [
             0.3,
             "#f1b6da"
            ],
            [
             0.4,
             "#fde0ef"
            ],
            [
             0.5,
             "#f7f7f7"
            ],
            [
             0.6,
             "#e6f5d0"
            ],
            [
             0.7,
             "#b8e186"
            ],
            [
             0.8,
             "#7fbc41"
            ],
            [
             0.9,
             "#4d9221"
            ],
            [
             1,
             "#276419"
            ]
           ],
           "sequential": [
            [
             0,
             "#0d0887"
            ],
            [
             0.1111111111111111,
             "#46039f"
            ],
            [
             0.2222222222222222,
             "#7201a8"
            ],
            [
             0.3333333333333333,
             "#9c179e"
            ],
            [
             0.4444444444444444,
             "#bd3786"
            ],
            [
             0.5555555555555556,
             "#d8576b"
            ],
            [
             0.6666666666666666,
             "#ed7953"
            ],
            [
             0.7777777777777778,
             "#fb9f3a"
            ],
            [
             0.8888888888888888,
             "#fdca26"
            ],
            [
             1,
             "#f0f921"
            ]
           ],
           "sequentialminus": [
            [
             0,
             "#0d0887"
            ],
            [
             0.1111111111111111,
             "#46039f"
            ],
            [
             0.2222222222222222,
             "#7201a8"
            ],
            [
             0.3333333333333333,
             "#9c179e"
            ],
            [
             0.4444444444444444,
             "#bd3786"
            ],
            [
             0.5555555555555556,
             "#d8576b"
            ],
            [
             0.6666666666666666,
             "#ed7953"
            ],
            [
             0.7777777777777778,
             "#fb9f3a"
            ],
            [
             0.8888888888888888,
             "#fdca26"
            ],
            [
             1,
             "#f0f921"
            ]
           ]
          },
          "colorway": [
           "#636efa",
           "#EF553B",
           "#00cc96",
           "#ab63fa",
           "#FFA15A",
           "#19d3f3",
           "#FF6692",
           "#B6E880",
           "#FF97FF",
           "#FECB52"
          ],
          "font": {
           "color": "#2a3f5f"
          },
          "geo": {
           "bgcolor": "white",
           "lakecolor": "white",
           "landcolor": "#E5ECF6",
           "showlakes": true,
           "showland": true,
           "subunitcolor": "white"
          },
          "hoverlabel": {
           "align": "left"
          },
          "hovermode": "closest",
          "mapbox": {
           "style": "light"
          },
          "paper_bgcolor": "white",
          "plot_bgcolor": "#E5ECF6",
          "polar": {
           "angularaxis": {
            "gridcolor": "white",
            "linecolor": "white",
            "ticks": ""
           },
           "bgcolor": "#E5ECF6",
           "radialaxis": {
            "gridcolor": "white",
            "linecolor": "white",
            "ticks": ""
           }
          },
          "scene": {
           "xaxis": {
            "backgroundcolor": "#E5ECF6",
            "gridcolor": "white",
            "gridwidth": 2,
            "linecolor": "white",
            "showbackground": true,
            "ticks": "",
            "zerolinecolor": "white"
           },
           "yaxis": {
            "backgroundcolor": "#E5ECF6",
            "gridcolor": "white",
            "gridwidth": 2,
            "linecolor": "white",
            "showbackground": true,
            "ticks": "",
            "zerolinecolor": "white"
           },
           "zaxis": {
            "backgroundcolor": "#E5ECF6",
            "gridcolor": "white",
            "gridwidth": 2,
            "linecolor": "white",
            "showbackground": true,
            "ticks": "",
            "zerolinecolor": "white"
           }
          },
          "shapedefaults": {
           "line": {
            "color": "#2a3f5f"
           }
          },
          "ternary": {
           "aaxis": {
            "gridcolor": "white",
            "linecolor": "white",
            "ticks": ""
           },
           "baxis": {
            "gridcolor": "white",
            "linecolor": "white",
            "ticks": ""
           },
           "bgcolor": "#E5ECF6",
           "caxis": {
            "gridcolor": "white",
            "linecolor": "white",
            "ticks": ""
           }
          },
          "title": {
           "x": 0.05
          },
          "xaxis": {
           "automargin": true,
           "gridcolor": "white",
           "linecolor": "white",
           "ticks": "",
           "title": {
            "standoff": 15
           },
           "zerolinecolor": "white",
           "zerolinewidth": 2
          },
          "yaxis": {
           "automargin": true,
           "gridcolor": "white",
           "linecolor": "white",
           "ticks": "",
           "title": {
            "standoff": 15
           },
           "zerolinecolor": "white",
           "zerolinewidth": 2
          }
         }
        },
        "title": {
         "text": "Classification - Feature Importance"
        },
        "xaxis": {
         "anchor": "y",
         "domain": [
          0,
          1
         ],
         "title": {
          "text": "Feature"
         }
        },
        "yaxis": {
         "anchor": "x",
         "domain": [
          0,
          1
         ],
         "title": {
          "text": "Importance"
         }
        }
       }
      }
     },
     "metadata": {},
     "output_type": "display_data"
    },
    {
     "data": {
      "application/vnd.plotly.v1+json": {
       "config": {
        "plotlyServerURL": "https://plot.ly"
       },
       "data": [
        {
         "hovertemplate": "gdp_per_capita=%{x}<br>cost_of_living=%{y}<br>GDP Category (0=Low, 1=High)=%{marker.color}<extra></extra>",
         "legendgroup": "",
         "marker": {
          "color": {
           "bdata": "AAAAAAAAAAEBAAAAAAAAAQABAAAAAQAAAAAAAQAAAAAAAAAAAAAAAAAAAAEAAAAAAAAAAAAAAQEAAAEAAAAAAAAAAAEAAQAAAAABAAAAAAAAAAAAAAAAAAAAAAABAQAAAAEAAAAAAAAAAAAAAQAAAAAAAQAAAAAAAAAAAAABAAABAAABAAAAAAAAAAAAAAEBAAAAAAAAAAAAAAAAAAABAQAAAAAAAAA=",
           "dtype": "i1"
          },
          "coloraxis": "coloraxis",
          "symbol": "circle"
         },
         "mode": "markers",
         "name": "",
         "orientation": "v",
         "showlegend": false,
         "type": "scatter",
         "x": {
          "bdata": "AAAAAIAa50AAAAAAgBrnQAAAAACAGudAAAAAAIAa50AAAAAAgBrnQAAAAACAGudAAAAAAIAa50AAAAAA4D/rQAAAAABgh+xAAAAAAIAa50AAAAAAgKfgQAAAAABgLOZAAAAAAIAa50AAAAAAgBrnQAAAAACAGudAAAAAAGDG7EAAAAAAgBrnQAAAAACAzPRAAAAAAIAa50AAAAAAgBrnQAAAAACAGudAAAAAAMBD8EAAAAAAgBrnQAAAAACAGudAAAAAAIAa50AAAAAAgBrnQAAAAACAGudAAAAAAKBu6UAAAAAAgBrnQAAAAACAGudAAAAAAIAa50AAAAAAgBrnQAAAAACAGudAAAAAAIAa50AAAAAAgBrnQAAAAACAGudAAAAAAIAa50AAAAAAgBrnQAAAAACAGudAAAAAAIAa50AAAAAAIIHgQAAAAABAxd5AAAAAAKCc5UAAAAAAYJHvQAAAAACAGudAAAAAAIAa50AAAAAAgBrnQAAAAACAGudAAAAAAIAa50AAAAAAgBrnQAAAAACAGudAAAAAAACa5EAAAAAAgBrnQAAAAACAGudAAAAAAODb6kAAAAAAIMXoQAAAAACAGudAAAAAAIAa50AAAAAAAEnsQAAAAACAGudAAAAAAIAa50AAAAAAwI/eQAAAAACAGudAAAAAAIAa50AAAAAAgBrnQAAAAACAGudAAAAAAIAa50AAAAAAUBvwQAAAAAAg8uFAAAAAAMAl7EAAAAAAgBrnQAAAAACAGudAAAAAAIAa50AAAAAAgBrnQAAAAACA/flAAAAAAIAa50AAAAAAQFnlQAAAAAAAbuZAAAAAAIAa50AAAAAAgPfkQAAAAACAGudAAAAAAIAa50AAAAAAgBrnQAAAAACAGudAAAAAAIAa50AAAAAAgBrnQAAAAACg1OBAAAAAAIAa50AAAAAAgBrnQAAAAACAGudAAAAAAIAa50AAAAAAINXkQAAAAAAQcwBBAAAAAKAE8kAAAAAAgBrnQAAAAACAGudAAAAAAIAa50AAAAAAQEznQAAAAACAGudAAAAAAIAa50AAAAAAgBrnQAAAAACAGudAAAAAAIAa50AAAAAAgBrnQAAAAACAGudAAAAAAIAa50AAAAAAgBrnQAAAAACAGudAAAAAAOAi70AAAAAAgBrnQAAAAACAquZAAAAAAIAa50AAAAAAgBrnQAAAAACAGudAAAAAABBW80AAAAAAgLXdQAAAAACAGudAAAAAAADw3kAAAAAAgBrnQAAAAACAGudAAAAAAIAa50AAAAAA4E/iQAAAAAAAhuFAAAAAAIAa50AAAAAAgBrnQAAAAAAQ1fZAAAAAAMBK4UAAAAAAIErgQAAAAADgMehAAAAAAIAa50AAAAAAgBrnQAAAAABgcPxAAAAAAEAe4EAAAAAAIE3lQAAAAACAGudAAAAAAIAa50AAAAAAwOjmQAAAAACAGudAAAAAAODo40AAAAAAgBrnQAAAAACAGudAAAAAAIAa50AAAAAAgPfsQAAAAADA4PJAAAAAAIAa50AAAAAAgBrnQAAAAACAGudAAAAAAIAa50AAAAAAgBrnQAAAAACAGudAAAAAAIAa50AAAAAAgBrnQAAAAAAAwt1AAAAAAIAa50AAAAAAgBrnQAAAAACAGudAAAAAAIAa50AAAAAAgBrnQAAAAABgQehAAAAAAIDq8EAAAAAAgBrnQAAAAACAGudAAAAAAIAa50AAAAAAgBrnQAAAAACAGudAAAAAAIAa50AAAAAAgBrnQA==",
          "dtype": "f8"
         },
         "xaxis": "x",
         "y": {
          "bdata": "MzMzMzNzSEAAAAAAAABKQGZmZmZm5j1AMzMzMzNzSEAAAAAAAAA3QDMzMzMzc0hAZmZmZmbmQEAAAAAAAIBdQJqZmZmZ+VdAzczMzMzMPUAzMzMzM3NIQAAAAAAAgEhAAAAAAACAQ0AAAAAAAGBeQDMzMzMzc0hAAAAAAABAWEAAAAAAAMBCQDMzMzMzs2NAAAAAAAAAPkCamZmZmRlCQDMzMzMzc0dAMzMzMzNzSEAAAAAAAMBHQAAAAAAAADtAMzMzMzNzSEDNzMzMzExCQDMzMzMz80RAZmZmZmZmWkAzMzMzM3NIQM3MzMzMPGFAMzMzMzNzSEAzMzMzM3NIQDMzMzMzc09AmpmZmZmZT0AzMzMzM3NIQDMzMzMz80RAMzMzMzNzSEAzMzMzM3NIQDMzMzMzc0hAmpmZmZnZTEBmZmZmZmZOQDMzMzMzc0hAZmZmZmYGUUCamZmZmfldQDMzMzMzc0hAMzMzMzNzSEAzMzMzM/NJQDMzMzMzMztAMzMzMzNzSEAzMzMzM/NLQDMzMzMzc0hAAAAAAACAUkAzMzMzM3NIQDMzMzMzc0hAAAAAAAAAW0DNzMzMzAxYQDMzMzMzc0hAmpmZmZkZQEAzMzMzMxNXQGZmZmZmpkJAMzMzMzNzSEDNzMzMzKxSQDMzMzMzc0hAMzMzMzNzSEAzMzMzM3NIQM3MzMzMDE5AMzMzMzNzSECamZmZmXlTQGZmZmZmpkxAAAAAAAAAYEDNzMzMzMw8QDMzMzMzs0FAZmZmZmbmUEBmZmZmZmZCQDMzMzMz811AMzMzMzNzSEBmZmZmZkZgQM3MzMzMjFVAmpmZmZlZRUCamZmZmXlZQM3MzMzMjEBAZmZmZmYmRUAzMzMzM3NIQAAAAAAAgERAzczMzMxMOUAAAAAAAMBAQDMzMzMzc0hAMzMzMzNzSEBmZmZmZqZDQDMzMzMzc0hAMzMzMzNzSEAzMzMzM3NIQGZmZmZmRlxAAAAAAADAUkAzMzMzM3NIQGZmZmZmZkNAMzMzMzNzSEDNzMzMzOxSQDMzMzMzc0hAMzMzMzNzSEBmZmZmZqZFQJqZmZmZWUtAAAAAAABAQ0BmZmZmZqZBQJqZmZmZmUlAAAAAAACARkAzMzMzM3NIQJqZmZmZGTxAAAAAAADAWEAzMzMzM3NfQM3MzMzMTF1AZmZmZmbmQUAzMzMzM3NIQGZmZmZm5kRAZmZmZmYmX0AzMzMzM3NIQM3MzMzMzDlAMzMzMzNzSEAzMzMzM3NIQM3MzMzMTENAMzMzMzNzREDNzMzMzIxJQJqZmZmZGVNAMzMzMzNzSEAzMzMzM3NIQJqZmZmZ2VFAMzMzMzOzR0AzMzMzM3NCQAAAAAAAQEZAmpmZmZmZSUAzMzMzM3NIQAAAAAAAwFJAMzMzMzNzSEAzMzMzM3NIQDMzMzMzc0hAzczMzMyMR0AAAAAAAMBVQDMzMzMzc0hAmpmZmZm5VEBmZmZmZmY+QDMzMzMzc0hAAAAAAACAQUAzMzMzM1NbQM3MzMzMzGFAMzMzMzNzSEAzMzMzM3NIQM3MzMzMzDZAzczMzMwMQUAzMzMzMzNDQDMzMzMz80RAMzMzMzNzSEBmZmZmZuY+QDMzMzMzM0FAMzMzMzNzSEBmZmZmZiZfQDMzMzMzc0hAZmZmZmbmPUAzMzMzMxNSQJqZmZmZ+VpAAAAAAAAAWUAzMzMzM3NIQDMzMzMzc0hAMzMzMzMzQUAzMzMzM3NIQDMzMzMzc0hAMzMzMzOzP0AzMzMzM3NIQA==",
          "dtype": "f8"
         },
         "yaxis": "y"
        }
       ],
       "layout": {
        "annotations": [
         {
          "showarrow": false,
          "text": "Decision Threshold: 74.70",
          "x": 1,
          "xanchor": "right",
          "xref": "x domain",
          "y": 74.7,
          "yanchor": "bottom",
          "yref": "y"
         }
        ],
        "coloraxis": {
         "colorbar": {
          "title": {
           "text": "GDP Category (0=Low, 1=High)"
          }
         },
         "colorscale": [
          [
           0,
           "#0d0887"
          ],
          [
           0.1111111111111111,
           "#46039f"
          ],
          [
           0.2222222222222222,
           "#7201a8"
          ],
          [
           0.3333333333333333,
           "#9c179e"
          ],
          [
           0.4444444444444444,
           "#bd3786"
          ],
          [
           0.5555555555555556,
           "#d8576b"
          ],
          [
           0.6666666666666666,
           "#ed7953"
          ],
          [
           0.7777777777777778,
           "#fb9f3a"
          ],
          [
           0.8888888888888888,
           "#fdca26"
          ],
          [
           1,
           "#f0f921"
          ]
         ]
        },
        "legend": {
         "tracegroupgap": 0
        },
        "shapes": [
         {
          "line": {
           "dash": "dash"
          },
          "type": "line",
          "x0": 0,
          "x1": 1,
          "xref": "x domain",
          "y0": 74.7,
          "y1": 74.7,
          "yref": "y"
         }
        ],
        "template": {
         "data": {
          "bar": [
           {
            "error_x": {
             "color": "#2a3f5f"
            },
            "error_y": {
             "color": "#2a3f5f"
            },
            "marker": {
             "line": {
              "color": "#E5ECF6",
              "width": 0.5
             },
             "pattern": {
              "fillmode": "overlay",
              "size": 10,
              "solidity": 0.2
             }
            },
            "type": "bar"
           }
          ],
          "barpolar": [
           {
            "marker": {
             "line": {
              "color": "#E5ECF6",
              "width": 0.5
             },
             "pattern": {
              "fillmode": "overlay",
              "size": 10,
              "solidity": 0.2
             }
            },
            "type": "barpolar"
           }
          ],
          "carpet": [
           {
            "aaxis": {
             "endlinecolor": "#2a3f5f",
             "gridcolor": "white",
             "linecolor": "white",
             "minorgridcolor": "white",
             "startlinecolor": "#2a3f5f"
            },
            "baxis": {
             "endlinecolor": "#2a3f5f",
             "gridcolor": "white",
             "linecolor": "white",
             "minorgridcolor": "white",
             "startlinecolor": "#2a3f5f"
            },
            "type": "carpet"
           }
          ],
          "choropleth": [
           {
            "colorbar": {
             "outlinewidth": 0,
             "ticks": ""
            },
            "type": "choropleth"
           }
          ],
          "contour": [
           {
            "colorbar": {
             "outlinewidth": 0,
             "ticks": ""
            },
            "colorscale": [
             [
              0,
              "#0d0887"
             ],
             [
              0.1111111111111111,
              "#46039f"
             ],
             [
              0.2222222222222222,
              "#7201a8"
             ],
             [
              0.3333333333333333,
              "#9c179e"
             ],
             [
              0.4444444444444444,
              "#bd3786"
             ],
             [
              0.5555555555555556,
              "#d8576b"
             ],
             [
              0.6666666666666666,
              "#ed7953"
             ],
             [
              0.7777777777777778,
              "#fb9f3a"
             ],
             [
              0.8888888888888888,
              "#fdca26"
             ],
             [
              1,
              "#f0f921"
             ]
            ],
            "type": "contour"
           }
          ],
          "contourcarpet": [
           {
            "colorbar": {
             "outlinewidth": 0,
             "ticks": ""
            },
            "type": "contourcarpet"
           }
          ],
          "heatmap": [
           {
            "colorbar": {
             "outlinewidth": 0,
             "ticks": ""
            },
            "colorscale": [
             [
              0,
              "#0d0887"
             ],
             [
              0.1111111111111111,
              "#46039f"
             ],
             [
              0.2222222222222222,
              "#7201a8"
             ],
             [
              0.3333333333333333,
              "#9c179e"
             ],
             [
              0.4444444444444444,
              "#bd3786"
             ],
             [
              0.5555555555555556,
              "#d8576b"
             ],
             [
              0.6666666666666666,
              "#ed7953"
             ],
             [
              0.7777777777777778,
              "#fb9f3a"
             ],
             [
              0.8888888888888888,
              "#fdca26"
             ],
             [
              1,
              "#f0f921"
             ]
            ],
            "type": "heatmap"
           }
          ],
          "histogram": [
           {
            "marker": {
             "pattern": {
              "fillmode": "overlay",
              "size": 10,
              "solidity": 0.2
             }
            },
            "type": "histogram"
           }
          ],
          "histogram2d": [
           {
            "colorbar": {
             "outlinewidth": 0,
             "ticks": ""
            },
            "colorscale": [
             [
              0,
              "#0d0887"
             ],
             [
              0.1111111111111111,
              "#46039f"
             ],
             [
              0.2222222222222222,
              "#7201a8"
             ],
             [
              0.3333333333333333,
              "#9c179e"
             ],
             [
              0.4444444444444444,
              "#bd3786"
             ],
             [
              0.5555555555555556,
              "#d8576b"
             ],
             [
              0.6666666666666666,
              "#ed7953"
             ],
             [
              0.7777777777777778,
              "#fb9f3a"
             ],
             [
              0.8888888888888888,
              "#fdca26"
             ],
             [
              1,
              "#f0f921"
             ]
            ],
            "type": "histogram2d"
           }
          ],
          "histogram2dcontour": [
           {
            "colorbar": {
             "outlinewidth": 0,
             "ticks": ""
            },
            "colorscale": [
             [
              0,
              "#0d0887"
             ],
             [
              0.1111111111111111,
              "#46039f"
             ],
             [
              0.2222222222222222,
              "#7201a8"
             ],
             [
              0.3333333333333333,
              "#9c179e"
             ],
             [
              0.4444444444444444,
              "#bd3786"
             ],
             [
              0.5555555555555556,
              "#d8576b"
             ],
             [
              0.6666666666666666,
              "#ed7953"
             ],
             [
              0.7777777777777778,
              "#fb9f3a"
             ],
             [
              0.8888888888888888,
              "#fdca26"
             ],
             [
              1,
              "#f0f921"
             ]
            ],
            "type": "histogram2dcontour"
           }
          ],
          "mesh3d": [
           {
            "colorbar": {
             "outlinewidth": 0,
             "ticks": ""
            },
            "type": "mesh3d"
           }
          ],
          "parcoords": [
           {
            "line": {
             "colorbar": {
              "outlinewidth": 0,
              "ticks": ""
             }
            },
            "type": "parcoords"
           }
          ],
          "pie": [
           {
            "automargin": true,
            "type": "pie"
           }
          ],
          "scatter": [
           {
            "fillpattern": {
             "fillmode": "overlay",
             "size": 10,
             "solidity": 0.2
            },
            "type": "scatter"
           }
          ],
          "scatter3d": [
           {
            "line": {
             "colorbar": {
              "outlinewidth": 0,
              "ticks": ""
             }
            },
            "marker": {
             "colorbar": {
              "outlinewidth": 0,
              "ticks": ""
             }
            },
            "type": "scatter3d"
           }
          ],
          "scattercarpet": [
           {
            "marker": {
             "colorbar": {
              "outlinewidth": 0,
              "ticks": ""
             }
            },
            "type": "scattercarpet"
           }
          ],
          "scattergeo": [
           {
            "marker": {
             "colorbar": {
              "outlinewidth": 0,
              "ticks": ""
             }
            },
            "type": "scattergeo"
           }
          ],
          "scattergl": [
           {
            "marker": {
             "colorbar": {
              "outlinewidth": 0,
              "ticks": ""
             }
            },
            "type": "scattergl"
           }
          ],
          "scattermap": [
           {
            "marker": {
             "colorbar": {
              "outlinewidth": 0,
              "ticks": ""
             }
            },
            "type": "scattermap"
           }
          ],
          "scattermapbox": [
           {
            "marker": {
             "colorbar": {
              "outlinewidth": 0,
              "ticks": ""
             }
            },
            "type": "scattermapbox"
           }
          ],
          "scatterpolar": [
           {
            "marker": {
             "colorbar": {
              "outlinewidth": 0,
              "ticks": ""
             }
            },
            "type": "scatterpolar"
           }
          ],
          "scatterpolargl": [
           {
            "marker": {
             "colorbar": {
              "outlinewidth": 0,
              "ticks": ""
             }
            },
            "type": "scatterpolargl"
           }
          ],
          "scatterternary": [
           {
            "marker": {
             "colorbar": {
              "outlinewidth": 0,
              "ticks": ""
             }
            },
            "type": "scatterternary"
           }
          ],
          "surface": [
           {
            "colorbar": {
             "outlinewidth": 0,
             "ticks": ""
            },
            "colorscale": [
             [
              0,
              "#0d0887"
             ],
             [
              0.1111111111111111,
              "#46039f"
             ],
             [
              0.2222222222222222,
              "#7201a8"
             ],
             [
              0.3333333333333333,
              "#9c179e"
             ],
             [
              0.4444444444444444,
              "#bd3786"
             ],
             [
              0.5555555555555556,
              "#d8576b"
             ],
             [
              0.6666666666666666,
              "#ed7953"
             ],
             [
              0.7777777777777778,
              "#fb9f3a"
             ],
             [
              0.8888888888888888,
              "#fdca26"
             ],
             [
              1,
              "#f0f921"
             ]
            ],
            "type": "surface"
           }
          ],
          "table": [
           {
            "cells": {
             "fill": {
              "color": "#EBF0F8"
             },
             "line": {
              "color": "white"
             }
            },
            "header": {
             "fill": {
              "color": "#C8D4E3"
             },
             "line": {
              "color": "white"
             }
            },
            "type": "table"
           }
          ]
         },
         "layout": {
          "annotationdefaults": {
           "arrowcolor": "#2a3f5f",
           "arrowhead": 0,
           "arrowwidth": 1
          },
          "autotypenumbers": "strict",
          "coloraxis": {
           "colorbar": {
            "outlinewidth": 0,
            "ticks": ""
           }
          },
          "colorscale": {
           "diverging": [
            [
             0,
             "#8e0152"
            ],
            [
             0.1,
             "#c51b7d"
            ],
            [
             0.2,
             "#de77ae"
            ],
            [
             0.3,
             "#f1b6da"
            ],
            [
             0.4,
             "#fde0ef"
            ],
            [
             0.5,
             "#f7f7f7"
            ],
            [
             0.6,
             "#e6f5d0"
            ],
            [
             0.7,
             "#b8e186"
            ],
            [
             0.8,
             "#7fbc41"
            ],
            [
             0.9,
             "#4d9221"
            ],
            [
             1,
             "#276419"
            ]
           ],
           "sequential": [
            [
             0,
             "#0d0887"
            ],
            [
             0.1111111111111111,
             "#46039f"
            ],
            [
             0.2222222222222222,
             "#7201a8"
            ],
            [
             0.3333333333333333,
             "#9c179e"
            ],
            [
             0.4444444444444444,
             "#bd3786"
            ],
            [
             0.5555555555555556,
             "#d8576b"
            ],
            [
             0.6666666666666666,
             "#ed7953"
            ],
            [
             0.7777777777777778,
             "#fb9f3a"
            ],
            [
             0.8888888888888888,
             "#fdca26"
            ],
            [
             1,
             "#f0f921"
            ]
           ],
           "sequentialminus": [
            [
             0,
             "#0d0887"
            ],
            [
             0.1111111111111111,
             "#46039f"
            ],
            [
             0.2222222222222222,
             "#7201a8"
            ],
            [
             0.3333333333333333,
             "#9c179e"
            ],
            [
             0.4444444444444444,
             "#bd3786"
            ],
            [
             0.5555555555555556,
             "#d8576b"
            ],
            [
             0.6666666666666666,
             "#ed7953"
            ],
            [
             0.7777777777777778,
             "#fb9f3a"
            ],
            [
             0.8888888888888888,
             "#fdca26"
            ],
            [
             1,
             "#f0f921"
            ]
           ]
          },
          "colorway": [
           "#636efa",
           "#EF553B",
           "#00cc96",
           "#ab63fa",
           "#FFA15A",
           "#19d3f3",
           "#FF6692",
           "#B6E880",
           "#FF97FF",
           "#FECB52"
          ],
          "font": {
           "color": "#2a3f5f"
          },
          "geo": {
           "bgcolor": "white",
           "lakecolor": "white",
           "landcolor": "#E5ECF6",
           "showlakes": true,
           "showland": true,
           "subunitcolor": "white"
          },
          "hoverlabel": {
           "align": "left"
          },
          "hovermode": "closest",
          "mapbox": {
           "style": "light"
          },
          "paper_bgcolor": "white",
          "plot_bgcolor": "#E5ECF6",
          "polar": {
           "angularaxis": {
            "gridcolor": "white",
            "linecolor": "white",
            "ticks": ""
           },
           "bgcolor": "#E5ECF6",
           "radialaxis": {
            "gridcolor": "white",
            "linecolor": "white",
            "ticks": ""
           }
          },
          "scene": {
           "xaxis": {
            "backgroundcolor": "#E5ECF6",
            "gridcolor": "white",
            "gridwidth": 2,
            "linecolor": "white",
            "showbackground": true,
            "ticks": "",
            "zerolinecolor": "white"
           },
           "yaxis": {
            "backgroundcolor": "#E5ECF6",
            "gridcolor": "white",
            "gridwidth": 2,
            "linecolor": "white",
            "showbackground": true,
            "ticks": "",
            "zerolinecolor": "white"
           },
           "zaxis": {
            "backgroundcolor": "#E5ECF6",
            "gridcolor": "white",
            "gridwidth": 2,
            "linecolor": "white",
            "showbackground": true,
            "ticks": "",
            "zerolinecolor": "white"
           }
          },
          "shapedefaults": {
           "line": {
            "color": "#2a3f5f"
           }
          },
          "ternary": {
           "aaxis": {
            "gridcolor": "white",
            "linecolor": "white",
            "ticks": ""
           },
           "baxis": {
            "gridcolor": "white",
            "linecolor": "white",
            "ticks": ""
           },
           "bgcolor": "#E5ECF6",
           "caxis": {
            "gridcolor": "white",
            "linecolor": "white",
            "ticks": ""
           }
          },
          "title": {
           "x": 0.05
          },
          "xaxis": {
           "automargin": true,
           "gridcolor": "white",
           "linecolor": "white",
           "ticks": "",
           "title": {
            "standoff": 15
           },
           "zerolinecolor": "white",
           "zerolinewidth": 2
          },
          "yaxis": {
           "automargin": true,
           "gridcolor": "white",
           "linecolor": "white",
           "ticks": "",
           "title": {
            "standoff": 15
           },
           "zerolinecolor": "white",
           "zerolinewidth": 2
          }
         }
        },
        "title": {
         "text": "Classification: GDP Category vs Cost_Of_Living"
        },
        "xaxis": {
         "anchor": "y",
         "domain": [
          0,
          1
         ],
         "title": {
          "text": "gdp_per_capita"
         }
        },
        "yaxis": {
         "anchor": "x",
         "domain": [
          0,
          1
         ],
         "title": {
          "text": "cost_of_living"
         }
        }
       }
      }
     },
     "metadata": {},
     "output_type": "display_data"
    },
    {
     "name": "stdout",
     "output_type": "stream",
     "text": [
      "\n",
      "==================================================\n",
      "KEY INSIGHTS AND RECOMMENDATIONS\n",
      "==================================================\n",
      "LINEAR REGRESSION INSIGHTS:\n",
      "The model explains 25.0% of the variance in GDP per capita\n",
      "Most important factors for GDP prediction:\n",
      "  - corruption_index: -214.15\n",
      "  - unemployment_rate: -101.80\n",
      "  - tourism_millions: -84.27\n",
      "\n",
      "CLUSTERING INSIGHTS:\n",
      "Countries naturally group into 4 distinct economic clusters\n",
      "Cluster characteristics suggest different economic development stages\n",
      "\n",
      "CLASSIFICATION INSIGHTS:\n",
      "Can predict high vs low GDP countries with 87.9% accuracy\n",
      "Best predictor: cost_of_living\n",
      "Most important factors for GDP classification:\n",
      "  - corruption_index: 0.722\n",
      "  - cost_of_living: 0.644\n",
      "  - tourism_millions: 0.184\n",
      "\n",
      "RECOMMENDATIONS:\n",
      "Focus on reducing corruption index to improve economic outcomes\n",
      "Consider tourism development as a GDP growth strategy\n",
      "Monitor cost of living relative to income levels\n",
      "Address unemployment through targeted economic policies\n",
      "\n",
      "NEXT STEPS:\n",
      "Collect more recent data for time series analysis\n",
      "Include additional economic indicators\n",
      "Develop predictive models for future economic trends\n",
      "Create country-specific policy recommendations\n",
      "\n",
      "==================================================\n",
      "ANALYSIS COMPLETE!\n",
      "==================================================\n"
     ]
    }
   ],
   "source": [
    "# Cell 17\n",
    "fig_class_importance = px.bar(feature_importance_df, x='Feature', y='Importance',\n",
    "                             title='Classification - Feature Importance')\n",
    "fig_class_importance.show()\n",
    "\n",
    "fig_classification = px.scatter(df_analysis, x='gdp_per_capita', y=X_class_features[results['best_feature']],\n",
    "                               color='GDP_Category',\n",
    "                               title=f'Classification: GDP Category vs {X_class_features[results[\"best_feature\"]].title()}',\n",
    "                               labels={'GDP_Category': 'GDP Category (0=Low, 1=High)'})\n",
    "fig_classification.add_hline(y=results['best_threshold'], line_dash=\"dash\", \n",
    "                           annotation_text=f\"Decision Threshold: {results['best_threshold']:.2f}\")\n",
    "fig_classification.show()\n",
    "\n",
    "# Cell 18\n",
    "print(\"\\n\" + \"=\"*50)\n",
    "print(\"KEY INSIGHTS AND RECOMMENDATIONS\")\n",
    "print(\"=\"*50)\n",
    "\n",
    "print(\"LINEAR REGRESSION INSIGHTS:\")\n",
    "print(f\"The model explains {r2_test:.1%} of the variance in GDP per capita\")\n",
    "print(f\"Most important factors for GDP prediction:\")\n",
    "for i, row in feature_importance.head(3).iterrows():\n",
    "    print(f\"  - {row['Feature']}: {row['Coefficient']:.2f}\")\n",
    "\n",
    "print(f\"\\nCLUSTERING INSIGHTS:\")\n",
    "print(f\"Countries naturally group into {optimal_k} distinct economic clusters\")\n",
    "print(f\"Cluster characteristics suggest different economic development stages\")\n",
    "\n",
    "print(f\"\\nCLASSIFICATION INSIGHTS:\")\n",
    "print(f\"Can predict high vs low GDP countries with {results['test_accuracy']:.1%} accuracy\")\n",
    "print(f\"Best predictor: {X_class_features[results['best_feature']]}\")\n",
    "print(f\"Most important factors for GDP classification:\")\n",
    "for i, row in feature_importance_df.head(3).iterrows():\n",
    "    print(f\"  - {row['Feature']}: {row['Importance']:.3f}\")\n",
    "\n",
    "print(f\"\\nRECOMMENDATIONS:\")\n",
    "print(\"Focus on reducing corruption index to improve economic outcomes\")\n",
    "print(\"Consider tourism development as a GDP growth strategy\")\n",
    "print(\"Monitor cost of living relative to income levels\")\n",
    "print(\"Address unemployment through targeted economic policies\")\n",
    "\n",
    "print(f\"\\nNEXT STEPS:\")\n",
    "print(\"Collect more recent data for time series analysis\")\n",
    "print(\"Include additional economic indicators\")\n",
    "print(\"Develop predictive models for future economic trends\")\n",
    "print(\"Create country-specific policy recommendations\")\n",
    "\n",
    "print(\"\\n\" + \"=\"*50)\n",
    "print(\"ANALYSIS COMPLETE!\")\n",
    "print(\"=\"*50)"
   ]
  },
  {
   "cell_type": "code",
   "execution_count": 18,
   "id": "e2ebb365",
   "metadata": {},
   "outputs": [
    {
     "data": {
      "application/vnd.plotly.v1+json": {
       "config": {
        "plotlyServerURL": "https://plot.ly"
       },
       "data": [
        {
         "hovertemplate": "Feature=%{x}<br>Importance=%{y}<extra></extra>",
         "legendgroup": "",
         "marker": {
          "color": "#636efa",
          "pattern": {
           "shape": ""
          }
         },
         "name": "",
         "orientation": "v",
         "showlegend": false,
         "textposition": "auto",
         "type": "bar",
         "x": [
          "corruption_index",
          "cost_of_living",
          "tourism_millions",
          "unemployment_rate"
         ],
         "xaxis": "x",
         "y": {
          "bdata": "u2Vt+LcX5z9BwyKeP5vkPy6Ox4d5hMc/S+swemmrsD8=",
          "dtype": "f8"
         },
         "yaxis": "y"
        }
       ],
       "layout": {
        "barmode": "relative",
        "legend": {
         "tracegroupgap": 0
        },
        "template": {
         "data": {
          "bar": [
           {
            "error_x": {
             "color": "#2a3f5f"
            },
            "error_y": {
             "color": "#2a3f5f"
            },
            "marker": {
             "line": {
              "color": "#E5ECF6",
              "width": 0.5
             },
             "pattern": {
              "fillmode": "overlay",
              "size": 10,
              "solidity": 0.2
             }
            },
            "type": "bar"
           }
          ],
          "barpolar": [
           {
            "marker": {
             "line": {
              "color": "#E5ECF6",
              "width": 0.5
             },
             "pattern": {
              "fillmode": "overlay",
              "size": 10,
              "solidity": 0.2
             }
            },
            "type": "barpolar"
           }
          ],
          "carpet": [
           {
            "aaxis": {
             "endlinecolor": "#2a3f5f",
             "gridcolor": "white",
             "linecolor": "white",
             "minorgridcolor": "white",
             "startlinecolor": "#2a3f5f"
            },
            "baxis": {
             "endlinecolor": "#2a3f5f",
             "gridcolor": "white",
             "linecolor": "white",
             "minorgridcolor": "white",
             "startlinecolor": "#2a3f5f"
            },
            "type": "carpet"
           }
          ],
          "choropleth": [
           {
            "colorbar": {
             "outlinewidth": 0,
             "ticks": ""
            },
            "type": "choropleth"
           }
          ],
          "contour": [
           {
            "colorbar": {
             "outlinewidth": 0,
             "ticks": ""
            },
            "colorscale": [
             [
              0,
              "#0d0887"
             ],
             [
              0.1111111111111111,
              "#46039f"
             ],
             [
              0.2222222222222222,
              "#7201a8"
             ],
             [
              0.3333333333333333,
              "#9c179e"
             ],
             [
              0.4444444444444444,
              "#bd3786"
             ],
             [
              0.5555555555555556,
              "#d8576b"
             ],
             [
              0.6666666666666666,
              "#ed7953"
             ],
             [
              0.7777777777777778,
              "#fb9f3a"
             ],
             [
              0.8888888888888888,
              "#fdca26"
             ],
             [
              1,
              "#f0f921"
             ]
            ],
            "type": "contour"
           }
          ],
          "contourcarpet": [
           {
            "colorbar": {
             "outlinewidth": 0,
             "ticks": ""
            },
            "type": "contourcarpet"
           }
          ],
          "heatmap": [
           {
            "colorbar": {
             "outlinewidth": 0,
             "ticks": ""
            },
            "colorscale": [
             [
              0,
              "#0d0887"
             ],
             [
              0.1111111111111111,
              "#46039f"
             ],
             [
              0.2222222222222222,
              "#7201a8"
             ],
             [
              0.3333333333333333,
              "#9c179e"
             ],
             [
              0.4444444444444444,
              "#bd3786"
             ],
             [
              0.5555555555555556,
              "#d8576b"
             ],
             [
              0.6666666666666666,
              "#ed7953"
             ],
             [
              0.7777777777777778,
              "#fb9f3a"
             ],
             [
              0.8888888888888888,
              "#fdca26"
             ],
             [
              1,
              "#f0f921"
             ]
            ],
            "type": "heatmap"
           }
          ],
          "histogram": [
           {
            "marker": {
             "pattern": {
              "fillmode": "overlay",
              "size": 10,
              "solidity": 0.2
             }
            },
            "type": "histogram"
           }
          ],
          "histogram2d": [
           {
            "colorbar": {
             "outlinewidth": 0,
             "ticks": ""
            },
            "colorscale": [
             [
              0,
              "#0d0887"
             ],
             [
              0.1111111111111111,
              "#46039f"
             ],
             [
              0.2222222222222222,
              "#7201a8"
             ],
             [
              0.3333333333333333,
              "#9c179e"
             ],
             [
              0.4444444444444444,
              "#bd3786"
             ],
             [
              0.5555555555555556,
              "#d8576b"
             ],
             [
              0.6666666666666666,
              "#ed7953"
             ],
             [
              0.7777777777777778,
              "#fb9f3a"
             ],
             [
              0.8888888888888888,
              "#fdca26"
             ],
             [
              1,
              "#f0f921"
             ]
            ],
            "type": "histogram2d"
           }
          ],
          "histogram2dcontour": [
           {
            "colorbar": {
             "outlinewidth": 0,
             "ticks": ""
            },
            "colorscale": [
             [
              0,
              "#0d0887"
             ],
             [
              0.1111111111111111,
              "#46039f"
             ],
             [
              0.2222222222222222,
              "#7201a8"
             ],
             [
              0.3333333333333333,
              "#9c179e"
             ],
             [
              0.4444444444444444,
              "#bd3786"
             ],
             [
              0.5555555555555556,
              "#d8576b"
             ],
             [
              0.6666666666666666,
              "#ed7953"
             ],
             [
              0.7777777777777778,
              "#fb9f3a"
             ],
             [
              0.8888888888888888,
              "#fdca26"
             ],
             [
              1,
              "#f0f921"
             ]
            ],
            "type": "histogram2dcontour"
           }
          ],
          "mesh3d": [
           {
            "colorbar": {
             "outlinewidth": 0,
             "ticks": ""
            },
            "type": "mesh3d"
           }
          ],
          "parcoords": [
           {
            "line": {
             "colorbar": {
              "outlinewidth": 0,
              "ticks": ""
             }
            },
            "type": "parcoords"
           }
          ],
          "pie": [
           {
            "automargin": true,
            "type": "pie"
           }
          ],
          "scatter": [
           {
            "fillpattern": {
             "fillmode": "overlay",
             "size": 10,
             "solidity": 0.2
            },
            "type": "scatter"
           }
          ],
          "scatter3d": [
           {
            "line": {
             "colorbar": {
              "outlinewidth": 0,
              "ticks": ""
             }
            },
            "marker": {
             "colorbar": {
              "outlinewidth": 0,
              "ticks": ""
             }
            },
            "type": "scatter3d"
           }
          ],
          "scattercarpet": [
           {
            "marker": {
             "colorbar": {
              "outlinewidth": 0,
              "ticks": ""
             }
            },
            "type": "scattercarpet"
           }
          ],
          "scattergeo": [
           {
            "marker": {
             "colorbar": {
              "outlinewidth": 0,
              "ticks": ""
             }
            },
            "type": "scattergeo"
           }
          ],
          "scattergl": [
           {
            "marker": {
             "colorbar": {
              "outlinewidth": 0,
              "ticks": ""
             }
            },
            "type": "scattergl"
           }
          ],
          "scattermap": [
           {
            "marker": {
             "colorbar": {
              "outlinewidth": 0,
              "ticks": ""
             }
            },
            "type": "scattermap"
           }
          ],
          "scattermapbox": [
           {
            "marker": {
             "colorbar": {
              "outlinewidth": 0,
              "ticks": ""
             }
            },
            "type": "scattermapbox"
           }
          ],
          "scatterpolar": [
           {
            "marker": {
             "colorbar": {
              "outlinewidth": 0,
              "ticks": ""
             }
            },
            "type": "scatterpolar"
           }
          ],
          "scatterpolargl": [
           {
            "marker": {
             "colorbar": {
              "outlinewidth": 0,
              "ticks": ""
             }
            },
            "type": "scatterpolargl"
           }
          ],
          "scatterternary": [
           {
            "marker": {
             "colorbar": {
              "outlinewidth": 0,
              "ticks": ""
             }
            },
            "type": "scatterternary"
           }
          ],
          "surface": [
           {
            "colorbar": {
             "outlinewidth": 0,
             "ticks": ""
            },
            "colorscale": [
             [
              0,
              "#0d0887"
             ],
             [
              0.1111111111111111,
              "#46039f"
             ],
             [
              0.2222222222222222,
              "#7201a8"
             ],
             [
              0.3333333333333333,
              "#9c179e"
             ],
             [
              0.4444444444444444,
              "#bd3786"
             ],
             [
              0.5555555555555556,
              "#d8576b"
             ],
             [
              0.6666666666666666,
              "#ed7953"
             ],
             [
              0.7777777777777778,
              "#fb9f3a"
             ],
             [
              0.8888888888888888,
              "#fdca26"
             ],
             [
              1,
              "#f0f921"
             ]
            ],
            "type": "surface"
           }
          ],
          "table": [
           {
            "cells": {
             "fill": {
              "color": "#EBF0F8"
             },
             "line": {
              "color": "white"
             }
            },
            "header": {
             "fill": {
              "color": "#C8D4E3"
             },
             "line": {
              "color": "white"
             }
            },
            "type": "table"
           }
          ]
         },
         "layout": {
          "annotationdefaults": {
           "arrowcolor": "#2a3f5f",
           "arrowhead": 0,
           "arrowwidth": 1
          },
          "autotypenumbers": "strict",
          "coloraxis": {
           "colorbar": {
            "outlinewidth": 0,
            "ticks": ""
           }
          },
          "colorscale": {
           "diverging": [
            [
             0,
             "#8e0152"
            ],
            [
             0.1,
             "#c51b7d"
            ],
            [
             0.2,
             "#de77ae"
            ],
            [
             0.3,
             "#f1b6da"
            ],
            [
             0.4,
             "#fde0ef"
            ],
            [
             0.5,
             "#f7f7f7"
            ],
            [
             0.6,
             "#e6f5d0"
            ],
            [
             0.7,
             "#b8e186"
            ],
            [
             0.8,
             "#7fbc41"
            ],
            [
             0.9,
             "#4d9221"
            ],
            [
             1,
             "#276419"
            ]
           ],
           "sequential": [
            [
             0,
             "#0d0887"
            ],
            [
             0.1111111111111111,
             "#46039f"
            ],
            [
             0.2222222222222222,
             "#7201a8"
            ],
            [
             0.3333333333333333,
             "#9c179e"
            ],
            [
             0.4444444444444444,
             "#bd3786"
            ],
            [
             0.5555555555555556,
             "#d8576b"
            ],
            [
             0.6666666666666666,
             "#ed7953"
            ],
            [
             0.7777777777777778,
             "#fb9f3a"
            ],
            [
             0.8888888888888888,
             "#fdca26"
            ],
            [
             1,
             "#f0f921"
            ]
           ],
           "sequentialminus": [
            [
             0,
             "#0d0887"
            ],
            [
             0.1111111111111111,
             "#46039f"
            ],
            [
             0.2222222222222222,
             "#7201a8"
            ],
            [
             0.3333333333333333,
             "#9c179e"
            ],
            [
             0.4444444444444444,
             "#bd3786"
            ],
            [
             0.5555555555555556,
             "#d8576b"
            ],
            [
             0.6666666666666666,
             "#ed7953"
            ],
            [
             0.7777777777777778,
             "#fb9f3a"
            ],
            [
             0.8888888888888888,
             "#fdca26"
            ],
            [
             1,
             "#f0f921"
            ]
           ]
          },
          "colorway": [
           "#636efa",
           "#EF553B",
           "#00cc96",
           "#ab63fa",
           "#FFA15A",
           "#19d3f3",
           "#FF6692",
           "#B6E880",
           "#FF97FF",
           "#FECB52"
          ],
          "font": {
           "color": "#2a3f5f"
          },
          "geo": {
           "bgcolor": "white",
           "lakecolor": "white",
           "landcolor": "#E5ECF6",
           "showlakes": true,
           "showland": true,
           "subunitcolor": "white"
          },
          "hoverlabel": {
           "align": "left"
          },
          "hovermode": "closest",
          "mapbox": {
           "style": "light"
          },
          "paper_bgcolor": "white",
          "plot_bgcolor": "#E5ECF6",
          "polar": {
           "angularaxis": {
            "gridcolor": "white",
            "linecolor": "white",
            "ticks": ""
           },
           "bgcolor": "#E5ECF6",
           "radialaxis": {
            "gridcolor": "white",
            "linecolor": "white",
            "ticks": ""
           }
          },
          "scene": {
           "xaxis": {
            "backgroundcolor": "#E5ECF6",
            "gridcolor": "white",
            "gridwidth": 2,
            "linecolor": "white",
            "showbackground": true,
            "ticks": "",
            "zerolinecolor": "white"
           },
           "yaxis": {
            "backgroundcolor": "#E5ECF6",
            "gridcolor": "white",
            "gridwidth": 2,
            "linecolor": "white",
            "showbackground": true,
            "ticks": "",
            "zerolinecolor": "white"
           },
           "zaxis": {
            "backgroundcolor": "#E5ECF6",
            "gridcolor": "white",
            "gridwidth": 2,
            "linecolor": "white",
            "showbackground": true,
            "ticks": "",
            "zerolinecolor": "white"
           }
          },
          "shapedefaults": {
           "line": {
            "color": "#2a3f5f"
           }
          },
          "ternary": {
           "aaxis": {
            "gridcolor": "white",
            "linecolor": "white",
            "ticks": ""
           },
           "baxis": {
            "gridcolor": "white",
            "linecolor": "white",
            "ticks": ""
           },
           "bgcolor": "#E5ECF6",
           "caxis": {
            "gridcolor": "white",
            "linecolor": "white",
            "ticks": ""
           }
          },
          "title": {
           "x": 0.05
          },
          "xaxis": {
           "automargin": true,
           "gridcolor": "white",
           "linecolor": "white",
           "ticks": "",
           "title": {
            "standoff": 15
           },
           "zerolinecolor": "white",
           "zerolinewidth": 2
          },
          "yaxis": {
           "automargin": true,
           "gridcolor": "white",
           "linecolor": "white",
           "ticks": "",
           "title": {
            "standoff": 15
           },
           "zerolinecolor": "white",
           "zerolinewidth": 2
          }
         }
        },
        "title": {
         "text": "Classification - Feature Importance (Correlation)"
        },
        "xaxis": {
         "anchor": "y",
         "domain": [
          0,
          1
         ],
         "title": {
          "text": "Feature"
         }
        },
        "yaxis": {
         "anchor": "x",
         "domain": [
          0,
          1
         ],
         "title": {
          "text": "Importance"
         }
        }
       }
      }
     },
     "metadata": {},
     "output_type": "display_data"
    },
    {
     "data": {
      "application/vnd.plotly.v1+json": {
       "config": {
        "plotlyServerURL": "https://plot.ly"
       },
       "data": [
        {
         "hovertemplate": "gdp_per_capita=%{x}<br>cost_of_living=%{y}<br>GDP Category (0=Low, 1=High)=%{marker.color}<extra></extra>",
         "legendgroup": "",
         "marker": {
          "color": {
           "bdata": "AAAAAAAAAAEBAAAAAAAAAQABAAAAAQAAAAAAAQAAAAAAAAAAAAAAAAAAAAEAAAAAAAAAAAAAAQEAAAEAAAAAAAAAAAEAAQAAAAABAAAAAAAAAAAAAAAAAAAAAAABAQAAAAEAAAAAAAAAAAAAAQAAAAAAAQAAAAAAAAAAAAABAAABAAABAAAAAAAAAAAAAAEBAAAAAAAAAAAAAAAAAAABAQAAAAAAAAA=",
           "dtype": "i1"
          },
          "coloraxis": "coloraxis",
          "symbol": "circle"
         },
         "mode": "markers",
         "name": "",
         "orientation": "v",
         "showlegend": false,
         "type": "scatter",
         "x": {
          "bdata": "AAAAAIAa50AAAAAAgBrnQAAAAACAGudAAAAAAIAa50AAAAAAgBrnQAAAAACAGudAAAAAAIAa50AAAAAA4D/rQAAAAABgh+xAAAAAAIAa50AAAAAAgKfgQAAAAABgLOZAAAAAAIAa50AAAAAAgBrnQAAAAACAGudAAAAAAGDG7EAAAAAAgBrnQAAAAACAzPRAAAAAAIAa50AAAAAAgBrnQAAAAACAGudAAAAAAMBD8EAAAAAAgBrnQAAAAACAGudAAAAAAIAa50AAAAAAgBrnQAAAAACAGudAAAAAAKBu6UAAAAAAgBrnQAAAAACAGudAAAAAAIAa50AAAAAAgBrnQAAAAACAGudAAAAAAIAa50AAAAAAgBrnQAAAAACAGudAAAAAAIAa50AAAAAAgBrnQAAAAACAGudAAAAAAIAa50AAAAAAIIHgQAAAAABAxd5AAAAAAKCc5UAAAAAAYJHvQAAAAACAGudAAAAAAIAa50AAAAAAgBrnQAAAAACAGudAAAAAAIAa50AAAAAAgBrnQAAAAACAGudAAAAAAACa5EAAAAAAgBrnQAAAAACAGudAAAAAAODb6kAAAAAAIMXoQAAAAACAGudAAAAAAIAa50AAAAAAAEnsQAAAAACAGudAAAAAAIAa50AAAAAAwI/eQAAAAACAGudAAAAAAIAa50AAAAAAgBrnQAAAAACAGudAAAAAAIAa50AAAAAAUBvwQAAAAAAg8uFAAAAAAMAl7EAAAAAAgBrnQAAAAACAGudAAAAAAIAa50AAAAAAgBrnQAAAAACA/flAAAAAAIAa50AAAAAAQFnlQAAAAAAAbuZAAAAAAIAa50AAAAAAgPfkQAAAAACAGudAAAAAAIAa50AAAAAAgBrnQAAAAACAGudAAAAAAIAa50AAAAAAgBrnQAAAAACg1OBAAAAAAIAa50AAAAAAgBrnQAAAAACAGudAAAAAAIAa50AAAAAAINXkQAAAAAAQcwBBAAAAAKAE8kAAAAAAgBrnQAAAAACAGudAAAAAAIAa50AAAAAAQEznQAAAAACAGudAAAAAAIAa50AAAAAAgBrnQAAAAACAGudAAAAAAIAa50AAAAAAgBrnQAAAAACAGudAAAAAAIAa50AAAAAAgBrnQAAAAACAGudAAAAAAOAi70AAAAAAgBrnQAAAAACAquZAAAAAAIAa50AAAAAAgBrnQAAAAACAGudAAAAAABBW80AAAAAAgLXdQAAAAACAGudAAAAAAADw3kAAAAAAgBrnQAAAAACAGudAAAAAAIAa50AAAAAA4E/iQAAAAAAAhuFAAAAAAIAa50AAAAAAgBrnQAAAAAAQ1fZAAAAAAMBK4UAAAAAAIErgQAAAAADgMehAAAAAAIAa50AAAAAAgBrnQAAAAABgcPxAAAAAAEAe4EAAAAAAIE3lQAAAAACAGudAAAAAAIAa50AAAAAAwOjmQAAAAACAGudAAAAAAODo40AAAAAAgBrnQAAAAACAGudAAAAAAIAa50AAAAAAgPfsQAAAAADA4PJAAAAAAIAa50AAAAAAgBrnQAAAAACAGudAAAAAAIAa50AAAAAAgBrnQAAAAACAGudAAAAAAIAa50AAAAAAgBrnQAAAAAAAwt1AAAAAAIAa50AAAAAAgBrnQAAAAACAGudAAAAAAIAa50AAAAAAgBrnQAAAAABgQehAAAAAAIDq8EAAAAAAgBrnQAAAAACAGudAAAAAAIAa50AAAAAAgBrnQAAAAACAGudAAAAAAIAa50AAAAAAgBrnQA==",
          "dtype": "f8"
         },
         "xaxis": "x",
         "y": {
          "bdata": "MzMzMzNzSEAAAAAAAABKQGZmZmZm5j1AMzMzMzNzSEAAAAAAAAA3QDMzMzMzc0hAZmZmZmbmQEAAAAAAAIBdQJqZmZmZ+VdAzczMzMzMPUAzMzMzM3NIQAAAAAAAgEhAAAAAAACAQ0AAAAAAAGBeQDMzMzMzc0hAAAAAAABAWEAAAAAAAMBCQDMzMzMzs2NAAAAAAAAAPkCamZmZmRlCQDMzMzMzc0dAMzMzMzNzSEAAAAAAAMBHQAAAAAAAADtAMzMzMzNzSEDNzMzMzExCQDMzMzMz80RAZmZmZmZmWkAzMzMzM3NIQM3MzMzMPGFAMzMzMzNzSEAzMzMzM3NIQDMzMzMzc09AmpmZmZmZT0AzMzMzM3NIQDMzMzMz80RAMzMzMzNzSEAzMzMzM3NIQDMzMzMzc0hAmpmZmZnZTEBmZmZmZmZOQDMzMzMzc0hAZmZmZmYGUUCamZmZmfldQDMzMzMzc0hAMzMzMzNzSEAzMzMzM/NJQDMzMzMzMztAMzMzMzNzSEAzMzMzM/NLQDMzMzMzc0hAAAAAAACAUkAzMzMzM3NIQDMzMzMzc0hAAAAAAAAAW0DNzMzMzAxYQDMzMzMzc0hAmpmZmZkZQEAzMzMzMxNXQGZmZmZmpkJAMzMzMzNzSEDNzMzMzKxSQDMzMzMzc0hAMzMzMzNzSEAzMzMzM3NIQM3MzMzMDE5AMzMzMzNzSECamZmZmXlTQGZmZmZmpkxAAAAAAAAAYEDNzMzMzMw8QDMzMzMzs0FAZmZmZmbmUEBmZmZmZmZCQDMzMzMz811AMzMzMzNzSEBmZmZmZkZgQM3MzMzMjFVAmpmZmZlZRUCamZmZmXlZQM3MzMzMjEBAZmZmZmYmRUAzMzMzM3NIQAAAAAAAgERAzczMzMxMOUAAAAAAAMBAQDMzMzMzc0hAMzMzMzNzSEBmZmZmZqZDQDMzMzMzc0hAMzMzMzNzSEAzMzMzM3NIQGZmZmZmRlxAAAAAAADAUkAzMzMzM3NIQGZmZmZmZkNAMzMzMzNzSEDNzMzMzOxSQDMzMzMzc0hAMzMzMzNzSEBmZmZmZqZFQJqZmZmZWUtAAAAAAABAQ0BmZmZmZqZBQJqZmZmZmUlAAAAAAACARkAzMzMzM3NIQJqZmZmZGTxAAAAAAADAWEAzMzMzM3NfQM3MzMzMTF1AZmZmZmbmQUAzMzMzM3NIQGZmZmZm5kRAZmZmZmYmX0AzMzMzM3NIQM3MzMzMzDlAMzMzMzNzSEAzMzMzM3NIQM3MzMzMTENAMzMzMzNzREDNzMzMzIxJQJqZmZmZGVNAMzMzMzNzSEAzMzMzM3NIQJqZmZmZ2VFAMzMzMzOzR0AzMzMzM3NCQAAAAAAAQEZAmpmZmZmZSUAzMzMzM3NIQAAAAAAAwFJAMzMzMzNzSEAzMzMzM3NIQDMzMzMzc0hAzczMzMyMR0AAAAAAAMBVQDMzMzMzc0hAmpmZmZm5VEBmZmZmZmY+QDMzMzMzc0hAAAAAAACAQUAzMzMzM1NbQM3MzMzMzGFAMzMzMzNzSEAzMzMzM3NIQM3MzMzMzDZAzczMzMwMQUAzMzMzMzNDQDMzMzMz80RAMzMzMzNzSEBmZmZmZuY+QDMzMzMzM0FAMzMzMzNzSEBmZmZmZiZfQDMzMzMzc0hAZmZmZmbmPUAzMzMzMxNSQJqZmZmZ+VpAAAAAAAAAWUAzMzMzM3NIQDMzMzMzc0hAMzMzMzMzQUAzMzMzM3NIQDMzMzMzc0hAMzMzMzOzP0AzMzMzM3NIQA==",
          "dtype": "f8"
         },
         "yaxis": "y"
        }
       ],
       "layout": {
        "annotations": [
         {
          "showarrow": false,
          "text": "Decision Threshold: 74.70",
          "x": 1,
          "xanchor": "right",
          "xref": "x domain",
          "y": 74.7,
          "yanchor": "bottom",
          "yref": "y"
         }
        ],
        "coloraxis": {
         "colorbar": {
          "title": {
           "text": "GDP Category (0=Low, 1=High)"
          }
         },
         "colorscale": [
          [
           0,
           "#0d0887"
          ],
          [
           0.1111111111111111,
           "#46039f"
          ],
          [
           0.2222222222222222,
           "#7201a8"
          ],
          [
           0.3333333333333333,
           "#9c179e"
          ],
          [
           0.4444444444444444,
           "#bd3786"
          ],
          [
           0.5555555555555556,
           "#d8576b"
          ],
          [
           0.6666666666666666,
           "#ed7953"
          ],
          [
           0.7777777777777778,
           "#fb9f3a"
          ],
          [
           0.8888888888888888,
           "#fdca26"
          ],
          [
           1,
           "#f0f921"
          ]
         ]
        },
        "legend": {
         "tracegroupgap": 0
        },
        "shapes": [
         {
          "line": {
           "dash": "dash"
          },
          "type": "line",
          "x0": 0,
          "x1": 1,
          "xref": "x domain",
          "y0": 74.7,
          "y1": 74.7,
          "yref": "y"
         }
        ],
        "template": {
         "data": {
          "bar": [
           {
            "error_x": {
             "color": "#2a3f5f"
            },
            "error_y": {
             "color": "#2a3f5f"
            },
            "marker": {
             "line": {
              "color": "#E5ECF6",
              "width": 0.5
             },
             "pattern": {
              "fillmode": "overlay",
              "size": 10,
              "solidity": 0.2
             }
            },
            "type": "bar"
           }
          ],
          "barpolar": [
           {
            "marker": {
             "line": {
              "color": "#E5ECF6",
              "width": 0.5
             },
             "pattern": {
              "fillmode": "overlay",
              "size": 10,
              "solidity": 0.2
             }
            },
            "type": "barpolar"
           }
          ],
          "carpet": [
           {
            "aaxis": {
             "endlinecolor": "#2a3f5f",
             "gridcolor": "white",
             "linecolor": "white",
             "minorgridcolor": "white",
             "startlinecolor": "#2a3f5f"
            },
            "baxis": {
             "endlinecolor": "#2a3f5f",
             "gridcolor": "white",
             "linecolor": "white",
             "minorgridcolor": "white",
             "startlinecolor": "#2a3f5f"
            },
            "type": "carpet"
           }
          ],
          "choropleth": [
           {
            "colorbar": {
             "outlinewidth": 0,
             "ticks": ""
            },
            "type": "choropleth"
           }
          ],
          "contour": [
           {
            "colorbar": {
             "outlinewidth": 0,
             "ticks": ""
            },
            "colorscale": [
             [
              0,
              "#0d0887"
             ],
             [
              0.1111111111111111,
              "#46039f"
             ],
             [
              0.2222222222222222,
              "#7201a8"
             ],
             [
              0.3333333333333333,
              "#9c179e"
             ],
             [
              0.4444444444444444,
              "#bd3786"
             ],
             [
              0.5555555555555556,
              "#d8576b"
             ],
             [
              0.6666666666666666,
              "#ed7953"
             ],
             [
              0.7777777777777778,
              "#fb9f3a"
             ],
             [
              0.8888888888888888,
              "#fdca26"
             ],
             [
              1,
              "#f0f921"
             ]
            ],
            "type": "contour"
           }
          ],
          "contourcarpet": [
           {
            "colorbar": {
             "outlinewidth": 0,
             "ticks": ""
            },
            "type": "contourcarpet"
           }
          ],
          "heatmap": [
           {
            "colorbar": {
             "outlinewidth": 0,
             "ticks": ""
            },
            "colorscale": [
             [
              0,
              "#0d0887"
             ],
             [
              0.1111111111111111,
              "#46039f"
             ],
             [
              0.2222222222222222,
              "#7201a8"
             ],
             [
              0.3333333333333333,
              "#9c179e"
             ],
             [
              0.4444444444444444,
              "#bd3786"
             ],
             [
              0.5555555555555556,
              "#d8576b"
             ],
             [
              0.6666666666666666,
              "#ed7953"
             ],
             [
              0.7777777777777778,
              "#fb9f3a"
             ],
             [
              0.8888888888888888,
              "#fdca26"
             ],
             [
              1,
              "#f0f921"
             ]
            ],
            "type": "heatmap"
           }
          ],
          "histogram": [
           {
            "marker": {
             "pattern": {
              "fillmode": "overlay",
              "size": 10,
              "solidity": 0.2
             }
            },
            "type": "histogram"
           }
          ],
          "histogram2d": [
           {
            "colorbar": {
             "outlinewidth": 0,
             "ticks": ""
            },
            "colorscale": [
             [
              0,
              "#0d0887"
             ],
             [
              0.1111111111111111,
              "#46039f"
             ],
             [
              0.2222222222222222,
              "#7201a8"
             ],
             [
              0.3333333333333333,
              "#9c179e"
             ],
             [
              0.4444444444444444,
              "#bd3786"
             ],
             [
              0.5555555555555556,
              "#d8576b"
             ],
             [
              0.6666666666666666,
              "#ed7953"
             ],
             [
              0.7777777777777778,
              "#fb9f3a"
             ],
             [
              0.8888888888888888,
              "#fdca26"
             ],
             [
              1,
              "#f0f921"
             ]
            ],
            "type": "histogram2d"
           }
          ],
          "histogram2dcontour": [
           {
            "colorbar": {
             "outlinewidth": 0,
             "ticks": ""
            },
            "colorscale": [
             [
              0,
              "#0d0887"
             ],
             [
              0.1111111111111111,
              "#46039f"
             ],
             [
              0.2222222222222222,
              "#7201a8"
             ],
             [
              0.3333333333333333,
              "#9c179e"
             ],
             [
              0.4444444444444444,
              "#bd3786"
             ],
             [
              0.5555555555555556,
              "#d8576b"
             ],
             [
              0.6666666666666666,
              "#ed7953"
             ],
             [
              0.7777777777777778,
              "#fb9f3a"
             ],
             [
              0.8888888888888888,
              "#fdca26"
             ],
             [
              1,
              "#f0f921"
             ]
            ],
            "type": "histogram2dcontour"
           }
          ],
          "mesh3d": [
           {
            "colorbar": {
             "outlinewidth": 0,
             "ticks": ""
            },
            "type": "mesh3d"
           }
          ],
          "parcoords": [
           {
            "line": {
             "colorbar": {
              "outlinewidth": 0,
              "ticks": ""
             }
            },
            "type": "parcoords"
           }
          ],
          "pie": [
           {
            "automargin": true,
            "type": "pie"
           }
          ],
          "scatter": [
           {
            "fillpattern": {
             "fillmode": "overlay",
             "size": 10,
             "solidity": 0.2
            },
            "type": "scatter"
           }
          ],
          "scatter3d": [
           {
            "line": {
             "colorbar": {
              "outlinewidth": 0,
              "ticks": ""
             }
            },
            "marker": {
             "colorbar": {
              "outlinewidth": 0,
              "ticks": ""
             }
            },
            "type": "scatter3d"
           }
          ],
          "scattercarpet": [
           {
            "marker": {
             "colorbar": {
              "outlinewidth": 0,
              "ticks": ""
             }
            },
            "type": "scattercarpet"
           }
          ],
          "scattergeo": [
           {
            "marker": {
             "colorbar": {
              "outlinewidth": 0,
              "ticks": ""
             }
            },
            "type": "scattergeo"
           }
          ],
          "scattergl": [
           {
            "marker": {
             "colorbar": {
              "outlinewidth": 0,
              "ticks": ""
             }
            },
            "type": "scattergl"
           }
          ],
          "scattermap": [
           {
            "marker": {
             "colorbar": {
              "outlinewidth": 0,
              "ticks": ""
             }
            },
            "type": "scattermap"
           }
          ],
          "scattermapbox": [
           {
            "marker": {
             "colorbar": {
              "outlinewidth": 0,
              "ticks": ""
             }
            },
            "type": "scattermapbox"
           }
          ],
          "scatterpolar": [
           {
            "marker": {
             "colorbar": {
              "outlinewidth": 0,
              "ticks": ""
             }
            },
            "type": "scatterpolar"
           }
          ],
          "scatterpolargl": [
           {
            "marker": {
             "colorbar": {
              "outlinewidth": 0,
              "ticks": ""
             }
            },
            "type": "scatterpolargl"
           }
          ],
          "scatterternary": [
           {
            "marker": {
             "colorbar": {
              "outlinewidth": 0,
              "ticks": ""
             }
            },
            "type": "scatterternary"
           }
          ],
          "surface": [
           {
            "colorbar": {
             "outlinewidth": 0,
             "ticks": ""
            },
            "colorscale": [
             [
              0,
              "#0d0887"
             ],
             [
              0.1111111111111111,
              "#46039f"
             ],
             [
              0.2222222222222222,
              "#7201a8"
             ],
             [
              0.3333333333333333,
              "#9c179e"
             ],
             [
              0.4444444444444444,
              "#bd3786"
             ],
             [
              0.5555555555555556,
              "#d8576b"
             ],
             [
              0.6666666666666666,
              "#ed7953"
             ],
             [
              0.7777777777777778,
              "#fb9f3a"
             ],
             [
              0.8888888888888888,
              "#fdca26"
             ],
             [
              1,
              "#f0f921"
             ]
            ],
            "type": "surface"
           }
          ],
          "table": [
           {
            "cells": {
             "fill": {
              "color": "#EBF0F8"
             },
             "line": {
              "color": "white"
             }
            },
            "header": {
             "fill": {
              "color": "#C8D4E3"
             },
             "line": {
              "color": "white"
             }
            },
            "type": "table"
           }
          ]
         },
         "layout": {
          "annotationdefaults": {
           "arrowcolor": "#2a3f5f",
           "arrowhead": 0,
           "arrowwidth": 1
          },
          "autotypenumbers": "strict",
          "coloraxis": {
           "colorbar": {
            "outlinewidth": 0,
            "ticks": ""
           }
          },
          "colorscale": {
           "diverging": [
            [
             0,
             "#8e0152"
            ],
            [
             0.1,
             "#c51b7d"
            ],
            [
             0.2,
             "#de77ae"
            ],
            [
             0.3,
             "#f1b6da"
            ],
            [
             0.4,
             "#fde0ef"
            ],
            [
             0.5,
             "#f7f7f7"
            ],
            [
             0.6,
             "#e6f5d0"
            ],
            [
             0.7,
             "#b8e186"
            ],
            [
             0.8,
             "#7fbc41"
            ],
            [
             0.9,
             "#4d9221"
            ],
            [
             1,
             "#276419"
            ]
           ],
           "sequential": [
            [
             0,
             "#0d0887"
            ],
            [
             0.1111111111111111,
             "#46039f"
            ],
            [
             0.2222222222222222,
             "#7201a8"
            ],
            [
             0.3333333333333333,
             "#9c179e"
            ],
            [
             0.4444444444444444,
             "#bd3786"
            ],
            [
             0.5555555555555556,
             "#d8576b"
            ],
            [
             0.6666666666666666,
             "#ed7953"
            ],
            [
             0.7777777777777778,
             "#fb9f3a"
            ],
            [
             0.8888888888888888,
             "#fdca26"
            ],
            [
             1,
             "#f0f921"
            ]
           ],
           "sequentialminus": [
            [
             0,
             "#0d0887"
            ],
            [
             0.1111111111111111,
             "#46039f"
            ],
            [
             0.2222222222222222,
             "#7201a8"
            ],
            [
             0.3333333333333333,
             "#9c179e"
            ],
            [
             0.4444444444444444,
             "#bd3786"
            ],
            [
             0.5555555555555556,
             "#d8576b"
            ],
            [
             0.6666666666666666,
             "#ed7953"
            ],
            [
             0.7777777777777778,
             "#fb9f3a"
            ],
            [
             0.8888888888888888,
             "#fdca26"
            ],
            [
             1,
             "#f0f921"
            ]
           ]
          },
          "colorway": [
           "#636efa",
           "#EF553B",
           "#00cc96",
           "#ab63fa",
           "#FFA15A",
           "#19d3f3",
           "#FF6692",
           "#B6E880",
           "#FF97FF",
           "#FECB52"
          ],
          "font": {
           "color": "#2a3f5f"
          },
          "geo": {
           "bgcolor": "white",
           "lakecolor": "white",
           "landcolor": "#E5ECF6",
           "showlakes": true,
           "showland": true,
           "subunitcolor": "white"
          },
          "hoverlabel": {
           "align": "left"
          },
          "hovermode": "closest",
          "mapbox": {
           "style": "light"
          },
          "paper_bgcolor": "white",
          "plot_bgcolor": "#E5ECF6",
          "polar": {
           "angularaxis": {
            "gridcolor": "white",
            "linecolor": "white",
            "ticks": ""
           },
           "bgcolor": "#E5ECF6",
           "radialaxis": {
            "gridcolor": "white",
            "linecolor": "white",
            "ticks": ""
           }
          },
          "scene": {
           "xaxis": {
            "backgroundcolor": "#E5ECF6",
            "gridcolor": "white",
            "gridwidth": 2,
            "linecolor": "white",
            "showbackground": true,
            "ticks": "",
            "zerolinecolor": "white"
           },
           "yaxis": {
            "backgroundcolor": "#E5ECF6",
            "gridcolor": "white",
            "gridwidth": 2,
            "linecolor": "white",
            "showbackground": true,
            "ticks": "",
            "zerolinecolor": "white"
           },
           "zaxis": {
            "backgroundcolor": "#E5ECF6",
            "gridcolor": "white",
            "gridwidth": 2,
            "linecolor": "white",
            "showbackground": true,
            "ticks": "",
            "zerolinecolor": "white"
           }
          },
          "shapedefaults": {
           "line": {
            "color": "#2a3f5f"
           }
          },
          "ternary": {
           "aaxis": {
            "gridcolor": "white",
            "linecolor": "white",
            "ticks": ""
           },
           "baxis": {
            "gridcolor": "white",
            "linecolor": "white",
            "ticks": ""
           },
           "bgcolor": "#E5ECF6",
           "caxis": {
            "gridcolor": "white",
            "linecolor": "white",
            "ticks": ""
           }
          },
          "title": {
           "x": 0.05
          },
          "xaxis": {
           "automargin": true,
           "gridcolor": "white",
           "linecolor": "white",
           "ticks": "",
           "title": {
            "standoff": 15
           },
           "zerolinecolor": "white",
           "zerolinewidth": 2
          },
          "yaxis": {
           "automargin": true,
           "gridcolor": "white",
           "linecolor": "white",
           "ticks": "",
           "title": {
            "standoff": 15
           },
           "zerolinecolor": "white",
           "zerolinewidth": 2
          }
         }
        },
        "title": {
         "text": "Classification: GDP Category vs Cost_Of_Living"
        },
        "xaxis": {
         "anchor": "y",
         "domain": [
          0,
          1
         ],
         "title": {
          "text": "gdp_per_capita"
         }
        },
        "yaxis": {
         "anchor": "x",
         "domain": [
          0,
          1
         ],
         "title": {
          "text": "cost_of_living"
         }
        }
       }
      }
     },
     "metadata": {},
     "output_type": "display_data"
    }
   ],
   "source": [
    "# Visualize feature importance\n",
    "fig_class_importance = px.bar(feature_importance_df, x='Feature', y='Importance',\n",
    "                             title='Classification - Feature Importance (Correlation)')\n",
    "fig_class_importance.show()\n",
    "\n",
    "# Visualize classification results\n",
    "fig_classification = px.scatter(df_analysis, x='gdp_per_capita', y=X_class_features[results['best_feature']],\n",
    "                               color='GDP_Category',\n",
    "                               title=f'Classification: GDP Category vs {X_class_features[results[\"best_feature\"]].title()}',\n",
    "                               labels={'GDP_Category': 'GDP Category (0=Low, 1=High)'})\n",
    "fig_classification.add_hline(y=results['best_threshold'], line_dash=\"dash\", \n",
    "                           annotation_text=f\"Decision Threshold: {results['best_threshold']:.2f}\")\n",
    "fig_classification.show()"
   ]
  },
  {
   "cell_type": "code",
   "execution_count": null,
   "id": "3cb2548d",
   "metadata": {},
   "outputs": [],
   "source": []
  }
 ],
 "metadata": {
  "kernelspec": {
   "display_name": ".venv",
   "language": "python",
   "name": "python3"
  },
  "language_info": {
   "codemirror_mode": {
    "name": "ipython",
    "version": 3
   },
   "file_extension": ".py",
   "mimetype": "text/x-python",
   "name": "python",
   "nbconvert_exporter": "python",
   "pygments_lexer": "ipython3",
   "version": "3.13.5"
  }
 },
 "nbformat": 4,
 "nbformat_minor": 5
}
